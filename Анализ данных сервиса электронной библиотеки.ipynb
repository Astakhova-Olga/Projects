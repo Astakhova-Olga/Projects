{
 "cells": [
  {
   "cell_type": "markdown",
   "id": "4149134c",
   "metadata": {
    "id": "4149134c"
   },
   "source": [
    "## Цели и задачи проекта\n",
    "\n",
    "**Целью** проекта является проведение статистического теста для проверки гипотезы, выдвинутой командой сервиса электронной библиотеки, заключающуюся в том, что пользователи из Санкт-Петербурга проводят в среднем больше времени за чтением и прослушиванием книг в приложении по сравнению с пользователями из Москвы. \n",
    "\n",
    "       \n",
    "Для достижения цели поставлены следующие **задачи**:\n",
    "* сформулировать нулевую и альтернативную гипотезы,\n",
    "* определить целевую метрику, тип теста и его параметры, \n",
    "* провести тест и оценить корректность его проведения,\n",
    "* проанализировать результаты теста,\n",
    "* сделать выводы и предположения о причинах полученных результатов."
   ]
  },
  {
   "cell_type": "markdown",
   "id": "728986ea",
   "metadata": {
    "id": "728986ea"
   },
   "source": [
    "## Описание данных\n",
    "\n",
    "Для работы имеется в распоряжении файл */datasets/yandex_knigi_data.csv*, содержащий информацию о пользователях сервиса из Москвы и Санкт-Петербурга.\n",
    "Файл содержит следующие поля:\n",
    "\n",
    "- *city* — город пользователя;\n",
    "- *puid* — идентификатор пользователя;\n",
    "- *hours* — общее количество часов активности.\n"
   ]
  },
  {
   "cell_type": "markdown",
   "id": "4fecaf95",
   "metadata": {
    "id": "4fecaf95"
   },
   "source": [
    "## Содержимое проекта\n",
    "\n",
    "Для достижения цели и выполнения задач необходимо выполнить следующие основные шаги:\n",
    "- Загрузка данных и знакомство с ними,\n",
    "- Проверка гипотезы,\n",
    "- Подготовка аналитической таблицы.\n"
   ]
  },
  {
   "cell_type": "markdown",
   "id": "6f7d21d6",
   "metadata": {
    "id": "6f7d21d6"
   },
   "source": [
    "## 1. Загрузка данных и знакомство с ними\n",
    "\n",
    "Загрузим данные пользователей из Москвы и Санкт-Петербурга c их активностью (суммой часов чтения и прослушивания) из файла `/datasets/yandex_knigi_data.csv`."
   ]
  },
  {
   "cell_type": "code",
   "execution_count": 116,
   "id": "6945e548",
   "metadata": {},
   "outputs": [],
   "source": [
    "# Импортируем библиотеку\n",
    "import pandas as pd\n",
    "\n",
    "# Импортируем библиотеку\n",
    "import matplotlib.pyplot as plt\n",
    "\n",
    "# Импортируем библиотеку\n",
    "!pip install matplotlib-venn -q\n",
    "from matplotlib_venn import venn2, venn2_circles\n",
    "# Импортируем библиотеки для проведения стат.тестов\n",
    "import scipy\n",
    "from scipy.stats import mannwhitneyu\n",
    "\n",
    "from math import *"
   ]
  },
  {
   "cell_type": "code",
   "execution_count": 117,
   "id": "05faf34b",
   "metadata": {
    "id": "05faf34b"
   },
   "outputs": [],
   "source": [
    "# Выгружаем данные\n",
    "\n",
    "yandex_knigi_data = pd.read_csv(PATH + 'yandex_knigi_data.csv') "
   ]
  },
  {
   "cell_type": "code",
   "execution_count": 118,
   "id": "ce87c1db",
   "metadata": {
    "id": "ce87c1db",
    "scrolled": true
   },
   "outputs": [
    {
     "data": {
      "text/html": [
       "<div>\n",
       "<style scoped>\n",
       "    .dataframe tbody tr th:only-of-type {\n",
       "        vertical-align: middle;\n",
       "    }\n",
       "\n",
       "    .dataframe tbody tr th {\n",
       "        vertical-align: top;\n",
       "    }\n",
       "\n",
       "    .dataframe thead th {\n",
       "        text-align: right;\n",
       "    }\n",
       "</style>\n",
       "<table border=\"1\" class=\"dataframe\">\n",
       "  <thead>\n",
       "    <tr style=\"text-align: right;\">\n",
       "      <th></th>\n",
       "      <th>Unnamed: 0</th>\n",
       "      <th>city</th>\n",
       "      <th>puid</th>\n",
       "      <th>hours</th>\n",
       "    </tr>\n",
       "  </thead>\n",
       "  <tbody>\n",
       "    <tr>\n",
       "      <th>0</th>\n",
       "      <td>0</td>\n",
       "      <td>Москва</td>\n",
       "      <td>9668</td>\n",
       "      <td>26.167776</td>\n",
       "    </tr>\n",
       "    <tr>\n",
       "      <th>1</th>\n",
       "      <td>1</td>\n",
       "      <td>Москва</td>\n",
       "      <td>16598</td>\n",
       "      <td>82.111217</td>\n",
       "    </tr>\n",
       "    <tr>\n",
       "      <th>2</th>\n",
       "      <td>2</td>\n",
       "      <td>Москва</td>\n",
       "      <td>80401</td>\n",
       "      <td>4.656906</td>\n",
       "    </tr>\n",
       "    <tr>\n",
       "      <th>3</th>\n",
       "      <td>3</td>\n",
       "      <td>Москва</td>\n",
       "      <td>140205</td>\n",
       "      <td>1.840556</td>\n",
       "    </tr>\n",
       "    <tr>\n",
       "      <th>4</th>\n",
       "      <td>4</td>\n",
       "      <td>Москва</td>\n",
       "      <td>248755</td>\n",
       "      <td>151.326434</td>\n",
       "    </tr>\n",
       "  </tbody>\n",
       "</table>\n",
       "</div>"
      ],
      "text/plain": [
       "   Unnamed: 0    city    puid       hours\n",
       "0           0  Москва    9668   26.167776\n",
       "1           1  Москва   16598   82.111217\n",
       "2           2  Москва   80401    4.656906\n",
       "3           3  Москва  140205    1.840556\n",
       "4           4  Москва  248755  151.326434"
      ]
     },
     "execution_count": 118,
     "metadata": {},
     "output_type": "execute_result"
    }
   ],
   "source": [
    "# Выводим на экран первые пять строк полученного датафрейма\n",
    "yandex_knigi_data.head()"
   ]
  },
  {
   "cell_type": "code",
   "execution_count": 119,
   "id": "f68a7419",
   "metadata": {
    "id": "f68a7419",
    "scrolled": false
   },
   "outputs": [
    {
     "name": "stdout",
     "output_type": "stream",
     "text": [
      "<class 'pandas.core.frame.DataFrame'>\n",
      "RangeIndex: 8784 entries, 0 to 8783\n",
      "Data columns (total 4 columns):\n",
      " #   Column      Non-Null Count  Dtype  \n",
      "---  ------      --------------  -----  \n",
      " 0   Unnamed: 0  8784 non-null   int64  \n",
      " 1   city        8784 non-null   object \n",
      " 2   puid        8784 non-null   int64  \n",
      " 3   hours       8784 non-null   float64\n",
      "dtypes: float64(1), int64(2), object(1)\n",
      "memory usage: 274.6+ KB\n"
     ]
    }
   ],
   "source": [
    "# Выводим информацию о датафрейме\n",
    "yandex_knigi_data.info()"
   ]
  },
  {
   "cell_type": "markdown",
   "id": "6852aae7",
   "metadata": {},
   "source": [
    "Датасет yandex_knigi_data содержит 8784 строки и 4 колонки. Пропуски в полях отсутсвуют. Типы данных выбраны корректно."
   ]
  },
  {
   "cell_type": "code",
   "execution_count": 120,
   "id": "821cc715",
   "metadata": {},
   "outputs": [
    {
     "data": {
      "text/plain": [
       "0"
      ]
     },
     "execution_count": 120,
     "metadata": {},
     "output_type": "execute_result"
    }
   ],
   "source": [
    "# Проверяем дубликаты пользователей в Москве\n",
    "yandex_knigi_data[yandex_knigi_data['city']=='Москва'].duplicated(subset='puid').sum()"
   ]
  },
  {
   "cell_type": "code",
   "execution_count": 121,
   "id": "d529c59a",
   "metadata": {},
   "outputs": [
    {
     "data": {
      "text/plain": [
       "0"
      ]
     },
     "execution_count": 121,
     "metadata": {},
     "output_type": "execute_result"
    }
   ],
   "source": [
    "# Проверяем дубликаты пользователей в Санкт-Петербурге\n",
    "yandex_knigi_data[yandex_knigi_data['city']=='Санкт-Петербург'].duplicated(subset='puid').sum()"
   ]
  },
  {
   "cell_type": "markdown",
   "id": "8b92a0c7",
   "metadata": {},
   "source": [
    "Дубликаты пользователей внутри групп отсутствуют."
   ]
  },
  {
   "cell_type": "code",
   "execution_count": 122,
   "id": "a7e778b8",
   "metadata": {
    "scrolled": true
   },
   "outputs": [
    {
     "data": {
      "image/png": "[encoded data removed]",
      "text/plain": [
       "<Figure size 432x288 with 1 Axes>"
      ]
     },
     "metadata": {},
     "output_type": "display_data"
    }
   ],
   "source": [
    "# Строим диаграмму Венна для проверки и визуализации пересечений пользователей \n",
    "# из Москвы и Санкт-Петербурга\n",
    "A1=set(yandex_knigi_data[yandex_knigi_data['city']=='Москва']['puid'])\n",
    "B1=set(yandex_knigi_data[yandex_knigi_data['city']=='Санкт-Петербург']['puid'])\n",
    "venn2([A1, B1], set_labels=('Москва', 'Санкт-Петербург'))\n",
    "# Отображаем график\n",
    "plt.title(\"Пересечение пользователей из Москвы и Санкт-Петербурга\")\n",
    "plt.show()"
   ]
  },
  {
   "cell_type": "code",
   "execution_count": 123,
   "id": "47db2ccf",
   "metadata": {},
   "outputs": [
    {
     "data": {
      "text/plain": [
       "244"
      ]
     },
     "execution_count": 123,
     "metadata": {},
     "output_type": "execute_result"
    }
   ],
   "source": [
    "# Применяем метод intersection для выявления количества пересечений\n",
    "len(A1.intersection(B1))"
   ]
  },
  {
   "cell_type": "markdown",
   "id": "6c60805d",
   "metadata": {},
   "source": [
    "График показывает, что 244 пользователя присутсвуют в обоих группах. Исключим их из обоих групп."
   ]
  },
  {
   "cell_type": "code",
   "execution_count": 124,
   "id": "e177fa59",
   "metadata": {},
   "outputs": [],
   "source": [
    "#Сохраним список идентификаторов пользователей из пересечения данных\n",
    "users_del=A1.intersection(B1)"
   ]
  },
  {
   "cell_type": "code",
   "execution_count": 125,
   "id": "c89cc2b7",
   "metadata": {},
   "outputs": [],
   "source": [
    "# Пересохраним датасет без пересекающихся данных\n",
    "yandex_knigi_data=yandex_knigi_data[~yandex_knigi_data['puid'].isin(users_del)].reset_index(drop=True)"
   ]
  },
  {
   "cell_type": "markdown",
   "id": "b1d5c098",
   "metadata": {},
   "source": [
    "Для оценки распределения построим диаграмму размаха и гистограмму для количества часов активности пользователей."
   ]
  },
  {
   "cell_type": "code",
   "execution_count": 126,
   "id": "a4892e24",
   "metadata": {},
   "outputs": [
    {
     "data": {
      "image/png": "[encoded data removed]",
      "text/plain": [
       "<Figure size 720x360 with 1 Axes>"
      ]
     },
     "metadata": {
      "needs_background": "light"
     },
     "output_type": "display_data"
    }
   ],
   "source": [
    "# Строим диаграмму размаха значений\n",
    "plt.figure(figsize=(10, 5))\n",
    "yandex_knigi_data.boxplot(column='hours', vert=False)\n",
    "plt.title('Распределение количества часов активности в приложении пользователей')\n",
    "plt.xlabel('Количество часов')\n",
    "plt.show()"
   ]
  },
  {
   "cell_type": "code",
   "execution_count": 127,
   "id": "d2e4eef3",
   "metadata": {
    "scrolled": true
   },
   "outputs": [
    {
     "data": {
      "image/png": "[encoded data removed]",
      "text/plain": [
       "<Figure size 864x432 with 1 Axes>"
      ]
     },
     "metadata": {
      "needs_background": "light"
     },
     "output_type": "display_data"
    }
   ],
   "source": [
    "# Строим гистограмму распределения количества активности пользователей приожения\n",
    "\n",
    "# Создаём фигуру графика\n",
    "plt.figure(figsize=(12, 6))\n",
    "\n",
    "# Строим гистограмму\n",
    "yandex_knigi_data['hours'].plot(\n",
    "        kind='hist',\n",
    "        bins=100,\n",
    "        alpha=0.5,\n",
    "        legend=True\n",
    ")\n",
    "\n",
    "# Настраиваем внешний вид графика и выводим его на экран\n",
    "plt.title(f'Распределение количества часов авктивности пользователей в приложении')\n",
    "plt.xlabel('Количество часов')\n",
    "plt.ylabel('Частота')\n",
    "plt.legend()\n",
    "plt.show()"
   ]
  },
  {
   "cell_type": "markdown",
   "id": "c5c15b4f",
   "metadata": {},
   "source": [
    "На диаграммах размаха видно, что распределение количества часов активности пользователей приложения имеет правостороннюю асимметрию и значительные выбросы в правой части графика. Это может быть обусловлено техническими неполадками. Поэтому избавимся от них, оставив значения не более 95%-го перцентиля."
   ]
  },
  {
   "cell_type": "code",
   "execution_count": 128,
   "id": "b127aaf5",
   "metadata": {},
   "outputs": [],
   "source": [
    "#Сохраним данные о часах активности пользователей, ограниченные 95% перцентилем\n",
    "yandex_knigi_data1 = yandex_knigi_data[(yandex_knigi_data['hours'] <= yandex_knigi_data['hours'].quantile(0.95))]"
   ]
  },
  {
   "cell_type": "code",
   "execution_count": 129,
   "id": "8a49568e",
   "metadata": {},
   "outputs": [
    {
     "data": {
      "image/png": "[encoded data removed]",
      "text/plain": [
       "<Figure size 864x432 with 1 Axes>"
      ]
     },
     "metadata": {
      "needs_background": "light"
     },
     "output_type": "display_data"
    }
   ],
   "source": [
    "# Строим гистограмму распределения количества активности пользователей приожения \n",
    "# после очистки данных\n",
    "\n",
    "# Создаём фигуру графика\n",
    "plt.figure(figsize=(12, 6))\n",
    "\n",
    "# Строим гистограмму\n",
    "yandex_knigi_data1['hours'].plot(\n",
    "        kind='hist',\n",
    "        bins=100,\n",
    "        alpha=0.5,\n",
    "        legend=True\n",
    ")\n",
    "\n",
    "# Настраиваем внешний вид графика и выводим его на экран\n",
    "plt.title(f'Распределение количества часов авктивности пользователей в приложении')\n",
    "plt.xlabel('Количество часов')\n",
    "plt.ylabel('Частота')\n",
    "plt.legend()\n",
    "plt.show()"
   ]
  },
  {
   "cell_type": "markdown",
   "id": "1f93d5e2",
   "metadata": {},
   "source": [
    "После фильтрации распределение часов активности пользователей в приложении стало более аккуратным, избавлено от аномально больших выбросов. "
   ]
  },
  {
   "cell_type": "markdown",
   "id": "c0ed1d3a",
   "metadata": {},
   "source": [
    "Сравним группы из Москвы и Санкт-Петербурга по количеству пользователей."
   ]
  },
  {
   "cell_type": "code",
   "execution_count": 130,
   "id": "54d3dbf6",
   "metadata": {},
   "outputs": [],
   "source": [
    "# Рассчитываем и сохраняем количество уникальных пользователей в городах\n",
    "A=yandex_knigi_data1[yandex_knigi_data1['city']=='Москва']['puid'].count()\n",
    "B=yandex_knigi_data1[yandex_knigi_data1['city']=='Санкт-Петербург']['puid'].count()"
   ]
  },
  {
   "cell_type": "code",
   "execution_count": 131,
   "id": "20ae3cc3",
   "metadata": {},
   "outputs": [
    {
     "data": {
      "text/plain": [
       "61.542515811665496"
      ]
     },
     "execution_count": 131,
     "metadata": {},
     "output_type": "execute_result"
    }
   ],
   "source": [
    "# Рассчитываем и сохраняем процентную разницу в \n",
    "# количестве пользователей в группах A и B\n",
    "P=fabs(A-B)*100/A\n",
    "P"
   ]
  },
  {
   "cell_type": "raw",
   "id": "8a0ae4f0",
   "metadata": {},
   "source": [
    "Группы по количеству пользователей различаются на 61,5%."
   ]
  },
  {
   "cell_type": "markdown",
   "id": "a62a4376",
   "metadata": {},
   "source": [
    "Проверим, как распределены часы активности пользователей между городами. Построим графики плотности вероятности для каждого города."
   ]
  },
  {
   "cell_type": "code",
   "execution_count": 132,
   "id": "b21f8432",
   "metadata": {},
   "outputs": [
    {
     "data": {
      "image/png": "[encoded data removed]",
      "text/plain": [
       "<Figure size 864x432 with 1 Axes>"
      ]
     },
     "metadata": {
      "needs_background": "light"
     },
     "output_type": "display_data"
    }
   ],
   "source": [
    "# Строим гистограмму распределения часов активности пользователей в Москве и Санкт-Петербурге\n",
    "column = 'hours'\n",
    "\n",
    "# Создаём фигуру графика\n",
    "plt.figure(figsize=(12, 6))\n",
    "\n",
    "# Строим гистограммы для каждого значения city\n",
    "for i in yandex_knigi_data1['city'].unique():\n",
    "    # Фильтруем данные по значению столбца city\n",
    "    yandex_knigi_data1.loc[yandex_knigi_data1['city'] == i, column].plot(\n",
    "        kind='kde',\n",
    "        alpha=0.5,\n",
    "        label=f'Город: {i}',\n",
    "        legend=True, \n",
    "        grid=True\n",
    "    )\n",
    "\n",
    "# Настраиваем внешний вид графика и выводим его на экран\n",
    "plt.title(f'Сравнение плотности распределения часов активности пользователей приложения')\n",
    "plt.xlabel('Часы')\n",
    "plt.ylabel('Плотность')\n",
    "plt.legend()\n",
    "plt.show()"
   ]
  },
  {
   "cell_type": "markdown",
   "id": "1a5463ec",
   "metadata": {},
   "source": [
    "На графике видно, что несмотря на различие в количестве пользователей в каждой из групп, плотность вероятности часов активности пользователей распределено одинаково. В пиковой зоне есть небольшой перевес в сторону пользователей из Москвы, но различие незначительное, им можно пренебречь. \n",
    "\n",
    "И в соответсвии с проведенными проверками, дополнительную выборку из пользователей города Москвы для обеспечения равенства групп по количеству пользователей проводить не требуется."
   ]
  },
  {
   "cell_type": "markdown",
   "id": "956e82e2",
   "metadata": {
    "id": "956e82e2"
   },
   "source": [
    "## 2. Проверка гипотезы в Python\n",
    "\n",
    "Гипотеза звучит так: пользователи из Санкт-Петербурга проводят в среднем больше времени за чтением и прослушиванием книг в приложении, чем пользователи из Москвы. Необходимо статистически это доказать, используя одностороннюю проверку гипотезы с двумя выборками:\n",
    "\n",
    "- Нулевая гипотеза H₀: Средняя активность пользователей в часах в двух группах (Москва и Санкт-Петербург) не различается.\n",
    "\n",
    "- Альтернативная гипотеза H₁: Средняя активность пользователей в Санкт-Петербурге больше, и это различие статистически значимо."
   ]
  },
  {
   "cell_type": "markdown",
   "id": "198147f1",
   "metadata": {},
   "source": [
    "Целевой метрикой является среднее количество времени, проведенное пользователями за чтением и прослушиванием книг в приложении. Рассчитаем целевую метрику, количество пользователей  и дисперсию по показателям для каждого города."
   ]
  },
  {
   "cell_type": "code",
   "execution_count": 133,
   "id": "59965fa2",
   "metadata": {
    "scrolled": true
   },
   "outputs": [
    {
     "data": {
      "text/html": [
       "<div>\n",
       "<style scoped>\n",
       "    .dataframe tbody tr th:only-of-type {\n",
       "        vertical-align: middle;\n",
       "    }\n",
       "\n",
       "    .dataframe tbody tr th {\n",
       "        vertical-align: top;\n",
       "    }\n",
       "\n",
       "    .dataframe thead th {\n",
       "        text-align: right;\n",
       "    }\n",
       "</style>\n",
       "<table border=\"1\" class=\"dataframe\">\n",
       "  <thead>\n",
       "    <tr style=\"text-align: right;\">\n",
       "      <th></th>\n",
       "      <th>mean_hours</th>\n",
       "      <th>users_count</th>\n",
       "      <th>var_hours</th>\n",
       "    </tr>\n",
       "    <tr>\n",
       "      <th>city</th>\n",
       "      <th></th>\n",
       "      <th></th>\n",
       "      <th></th>\n",
       "    </tr>\n",
       "  </thead>\n",
       "  <tbody>\n",
       "    <tr>\n",
       "      <th>Москва</th>\n",
       "      <td>4.641440</td>\n",
       "      <td>5692</td>\n",
       "      <td>82.177375</td>\n",
       "    </tr>\n",
       "    <tr>\n",
       "      <th>Санкт-Петербург</th>\n",
       "      <td>4.971759</td>\n",
       "      <td>2189</td>\n",
       "      <td>96.687386</td>\n",
       "    </tr>\n",
       "  </tbody>\n",
       "</table>\n",
       "</div>"
      ],
      "text/plain": [
       "                 mean_hours  users_count  var_hours\n",
       "city                                               \n",
       "Москва             4.641440         5692  82.177375\n",
       "Санкт-Петербург    4.971759         2189  96.687386"
      ]
     },
     "execution_count": 133,
     "metadata": {},
     "output_type": "execute_result"
    }
   ],
   "source": [
    "# Рассчитаем статистики данных по городам\n",
    "yandex_knigi_data1.groupby('city').agg(\n",
    "   mean_hours=('hours', 'mean'),  \n",
    "    users_count=('puid','count'), \n",
    "    var_hours=('hours','var'))"
   ]
  },
  {
   "cell_type": "code",
   "execution_count": 134,
   "id": "67956690",
   "metadata": {
    "id": "67956690",
    "scrolled": true
   },
   "outputs": [
    {
     "data": {
      "text/plain": [
       "-7.116738666209188"
      ]
     },
     "execution_count": 134,
     "metadata": {},
     "output_type": "execute_result"
    }
   ],
   "source": [
    "# Рассчитываем разницу в средних значениях часов активности \n",
    "# пользователей приложения из Москвы и Санкт-Петербурга\n",
    "avg_msc=yandex_knigi_data1[yandex_knigi_data1['city']=='Москва']['hours'].mean()\n",
    "avg_spb=yandex_knigi_data1[yandex_knigi_data1['city']=='Санкт-Петербург']['hours'].mean()\n",
    "\n",
    "(1-avg_spb/avg_msc)*100"
   ]
  },
  {
   "cell_type": "markdown",
   "id": "76b9f637",
   "metadata": {},
   "source": [
    "Сравнение показвает, что среднее значениях часов активности пользователей приложения из Санкт-Петербурга на 7% больше, чем у пользователей из Москвы. Чтобы проверить, является ли это изменение статистически значимым, необходимо провести статистический тест. "
   ]
  },
  {
   "cell_type": "code",
   "execution_count": 135,
   "id": "f6ba8501",
   "metadata": {},
   "outputs": [],
   "source": [
    "# Задаём уровень значимости\n",
    "alpha = 0.05  "
   ]
  },
  {
   "cell_type": "code",
   "execution_count": 136,
   "id": "e56a646b",
   "metadata": {},
   "outputs": [],
   "source": [
    "# Сохраняем выборки количества часов активности пользователей приложения \n",
    "# в Москве и Санкт-Петербурге \n",
    "msc=yandex_knigi_data[yandex_knigi_data['city']=='Москва']['hours']\n",
    "spb=yandex_knigi_data[yandex_knigi_data['city']=='Санкт-Петербург']['hours']"
   ]
  },
  {
   "cell_type": "code",
   "execution_count": 137,
   "id": "71ba8497",
   "metadata": {},
   "outputs": [],
   "source": [
    "# Сохраняем выборки количества часов активности пользователей приложения \n",
    "# в Москве и Санкт-Петербурге у фильтрованных очищенных данных\n",
    "msc1=yandex_knigi_data1[yandex_knigi_data1['city']=='Москва']['hours']\n",
    "spb1=yandex_knigi_data1[yandex_knigi_data1['city']=='Санкт-Петербург']['hours']"
   ]
  },
  {
   "cell_type": "markdown",
   "id": "0d5c5202",
   "metadata": {},
   "source": [
    "Проведем тест Шапиро-Уилка для проверки нормальности распределения часов активности пользователей."
   ]
  },
  {
   "cell_type": "markdown",
   "id": "67ea1cea",
   "metadata": {},
   "source": [
    "Сформулируем нулевую и альтернативную гипотезу для теста Шапиро-Уилка для пользователей приложения из Москвы:\n",
    "\n",
    "*Нулевая гипотеза H₀*: Распределение часов активности пользователей приложения из Москвы является нормальным.\n",
    "\n",
    "*Альтернативная гипотеза H₁*: Распределение часов активности пользователей приложения из Москвы не является нормальным."
   ]
  },
  {
   "cell_type": "code",
   "execution_count": 138,
   "id": "066ceff5",
   "metadata": {
    "scrolled": true
   },
   "outputs": [
    {
     "name": "stdout",
     "output_type": "stream",
     "text": [
      "Statistics=0.566, p-value=0.000\n",
      "Распределение часов активности пользователей приложения из Москвы не является нормальным.\n"
     ]
    },
    {
     "name": "stderr",
     "output_type": "stream",
     "text": [
      "/opt/conda/lib/python3.9/site-packages/scipy/stats/_morestats.py:1800: UserWarning: p-value may not be accurate for N > 5000.\n",
      "  warnings.warn(\"p-value may not be accurate for N > 5000.\")\n"
     ]
    }
   ],
   "source": [
    "# тест Шапиро-Уилка для Москвы\n",
    "stat1_shapiro, p1_shapiro = scipy.stats.shapiro(msc1) \n",
    "print('Statistics=%.3f, p-value=%.3f' % (stat1_shapiro, p1_shapiro))\n",
    "\n",
    "if p1_shapiro > alpha:\n",
    "    print('Распределение часов активности пользователей приложения из Москвы является нормальным.')\n",
    "else:\n",
    "    print('Распределение часов активности пользователей приложения из Москвы не является нормальным.')"
   ]
  },
  {
   "cell_type": "markdown",
   "id": "1408a9c2",
   "metadata": {},
   "source": [
    "Сформулируем нулевую и альтернативную гипотезу для теста Шапиро-Уилка для пользователей приложения из Санкт-Петербурга:\n",
    "\n",
    "*Нулевая гипотеза H₀*: Распределение часов активности пользователей приложения из Санкт-Петербурга является нормальным.\n",
    "\n",
    "*Альтернативная гипотеза H₁*: Распределение часов активности пользователей приложения из Санкт-Петербурга не является нормальным."
   ]
  },
  {
   "cell_type": "code",
   "execution_count": 139,
   "id": "440d90ee",
   "metadata": {},
   "outputs": [
    {
     "name": "stdout",
     "output_type": "stream",
     "text": [
      "Statistics=0.562, p-value=0.000\n",
      "Распределение часов активности пользователей приложения из Санкт-Петербурга не является нормальным.\n"
     ]
    }
   ],
   "source": [
    "# тест Шапиро-Уилка для Санкт-Петербурга\n",
    "stat2_shapiro, p2_shapiro = scipy.stats.shapiro(spb1) \n",
    "print('Statistics=%.3f, p-value=%.3f' % (stat2_shapiro, p2_shapiro))\n",
    "\n",
    "if p2_shapiro > alpha:\n",
    "    print('Распределение часов активности пользователей приложения из Санкт-Петербурга является нормальным.')\n",
    "else:\n",
    "    print('Распределение часов активности пользователей приложения из Санкт-Петербурга не является нормальным.')"
   ]
  },
  {
   "cell_type": "markdown",
   "id": "b0bee6e0",
   "metadata": {},
   "source": [
    "Тест показал, что распределение не является нормальным, но предпосылкой для использования т-теста является нормальность распределения выборочного среднего. Нужно проверить нормальность распределения средних в выборке. Для этого мы можем использовать тест Шапиро — Уилка. Однако нам нужно много выборок, чтобы убедиться в том, что среднее значение в них действительно распределено нормально. Выделим из наших данных 1000 выборок и посчитаем для каждой среднее значение.\n",
    "Для этого мы напишем цикл while, который запустим 1000 раз. Для этого будем считать с помощью переменной n количество итераций цикла. Когда она станет равна 1000 — остановимся.\n",
    "Внутри цикла мы каждый раз будем случайным образом брать 100 случайных значений и вычислять их среднюю оценку. Получившийся результат запишем в список. Проведем тест отдельно для пользователей Москвы и Санкт-Петербурга.\n"
   ]
  },
  {
   "cell_type": "markdown",
   "id": "e90be9a4",
   "metadata": {},
   "source": [
    "Сформулируем нулевую и альтернативную гипотезу для теста Шапиро-Уилка для пользователей приложения из Москвы:\n",
    "\n",
    "Нулевая гипотеза H₀: Выборочное среднее часов активности пользователей приложения из Москвы имеет нормальное распределение.\n",
    "\n",
    "Альтернативная гипотеза H₁: Распределение выборочного среднего часов активности пользователей приложения из Москвы не является нормальным."
   ]
  },
  {
   "cell_type": "code",
   "execution_count": 140,
   "id": "b0e43f87",
   "metadata": {
    "scrolled": true
   },
   "outputs": [
    {
     "name": "stdout",
     "output_type": "stream",
     "text": [
      "Statistics=0.995, p-value=0.001\n",
      "Распределение выборочного среднего часов активности пользователей приложения из Москвы не является нормальным.\n"
     ]
    }
   ],
   "source": [
    "# тест Шапиро-Уилка для выборочных средних часов активности пользователей Москвы\n",
    "means_fic1 = []\n",
    "n1 = 0\n",
    "\n",
    "while n1 < 1000:\n",
    "    n1 += 1\n",
    "    sample1 = msc1.sample(100).mean()\n",
    "    means_fic1.append(sample1)\n",
    "    \n",
    "stat_shapiro1, p_shapiro1 = scipy.stats.shapiro(means_fic1) \n",
    "print('Statistics=%.3f, p-value=%.3f' % (stat_shapiro1, p_shapiro1))\n",
    "\n",
    "if p_shapiro1 > alpha:\n",
    "    print('Выборочное среднее часов активности пользователей приложения из Москвы имеет нормальное распределение.')\n",
    "else:\n",
    "    print('Распределение выборочного среднего часов активности пользователей приложения из Москвы не является нормальным.')"
   ]
  },
  {
   "cell_type": "markdown",
   "id": "9bd8a351",
   "metadata": {},
   "source": [
    "Сформулируем нулевую и альтернативную гипотезу для теста Шапиро-Уилка для пользователей приложения из Санкт-Петербурга:\n",
    "\n",
    "Нулевая гипотеза H₀: Выборочное среднее часов активности пользователей приложения из Санкт-Петербурга имеет нормальное распределение.\n",
    "\n",
    "Альтернативная гипотеза H₁: Распределение выборочного среднего часов активности пользователей приложения из Санкт-Петербурга не является нормальным."
   ]
  },
  {
   "cell_type": "code",
   "execution_count": 141,
   "id": "4620d379",
   "metadata": {
    "scrolled": true
   },
   "outputs": [
    {
     "name": "stdout",
     "output_type": "stream",
     "text": [
      "Statistics=0.995, p-value=0.001\n",
      "Распределение выборочного среднего часов активности пользователей приложения из Санкт-Петербурга не является нормальным.\n"
     ]
    }
   ],
   "source": [
    "# тест Шапиро-Уилка для выборочных средних часов активности пользователей Санкт-Петербурга\n",
    "means_fic2 = []\n",
    "n2 = 0\n",
    "\n",
    "while n2 < 1000:\n",
    "    n2 += 1\n",
    "    sample2 = spb1.sample(100).mean()\n",
    "    means_fic2.append(sample2)\n",
    "    \n",
    "stat_shapiro2, p_shapiro2 = scipy.stats.shapiro(means_fic2) \n",
    "print('Statistics=%.3f, p-value=%.3f' % (stat_shapiro2, p_shapiro2))\n",
    "\n",
    "if p_shapiro2 > alpha:\n",
    "    print('Выборочное среднее часов активности пользователей приложения из Санкт-Петербурга имеет нормальное распределение.')\n",
    "else:\n",
    "    print('Распределение выборочного среднего часов активности пользователей приложения из Санкт-Петербурга не является нормальным.')\n"
   ]
  },
  {
   "cell_type": "markdown",
   "id": "41ee8f42",
   "metadata": {},
   "source": [
    "Сформулируем нулевую и альтернативную гипотезу для теста Левена:\n",
    "\n",
    "Нулевая гипотеза H₀: Дисперсии количества часов активности пользователей приложения в Москве и Санкт-Петербурге равны.\n",
    "\n",
    "Альтернативная гипотеза H₁: Дисперсии количества часов активности пользователей приложения в Москве и Санкт-Петербурге различаются, и это различие статистически значимо."
   ]
  },
  {
   "cell_type": "code",
   "execution_count": 142,
   "id": "a565ca13",
   "metadata": {},
   "outputs": [
    {
     "name": "stdout",
     "output_type": "stream",
     "text": [
      "Statistics=2.087, p-value=0.149\n",
      "Дисперсии количества часов активности пользователей приложения в Москве и Санкт-Петербурге равны.\n"
     ]
    }
   ],
   "source": [
    "#тест Левена для проверки равенства дисперсий\n",
    "test_leven, p_leven = scipy.stats.levene(msc1, spb1)\n",
    "print('Statistics=%.3f, p-value=%.3f' % (test_leven, p_leven))\n",
    "if p_leven < alpha:\n",
    "    print('Дисперсии количества часов активности пользователей приложения в Москве и Санкт-Петербурге различаются, и это различие статистически значимо.')\n",
    "else:\n",
    "    print('Дисперсии количества часов активности пользователей приложения в Москве и Санкт-Петербурге равны.')"
   ]
  },
  {
   "cell_type": "markdown",
   "id": "b3628420",
   "metadata": {},
   "source": [
    "Еще раз пропишем гипотезы для теста:\n",
    "\n",
    "Нулевая гипотеза H₀: Средняя активность пользователей в часах в двух группах (Москва и Санкт-Петербург) не различается.\n",
    "\n",
    "Альтернативная гипотеза H₁: Средняя активность пользователей в Санкт-Петербурге больше, и это различие статистически значимо."
   ]
  },
  {
   "cell_type": "code",
   "execution_count": 143,
   "id": "bb09f25e",
   "metadata": {},
   "outputs": [],
   "source": [
    "# Проводим тест Манна — Уитни\n",
    "mw_test = mannwhitneyu(\n",
    "    msc,\n",
    "    spb,\n",
    "    alternative='less'\n",
    ")"
   ]
  },
  {
   "cell_type": "code",
   "execution_count": 144,
   "id": "627a1894",
   "metadata": {},
   "outputs": [
    {
     "name": "stdout",
     "output_type": "stream",
     "text": [
      "pvalue=0.4532273739367588 > 0.05\n",
      "Нулевая гипотеза находит подтверждение! Средняя активность пользователей в часах в двух группах (Москва и Санкт-Петербург) не различается.\n"
     ]
    }
   ],
   "source": [
    "# Интерпретируем результаты\n",
    "if  mw_test.pvalue>alpha: \n",
    "    print(f'pvalue={mw_test.pvalue} > {alpha}')\n",
    "    print('Нулевая гипотеза находит подтверждение! Средняя активность пользователей в часах в двух группах (Москва и Санкт-Петербург) не различается.')\n",
    "else:\n",
    "    print(f'pvalue={mw_test.pvalue} < {alpha}')\n",
    "    print('Нулевая гипотеза не находит подтверждения! Средняя активность пользователей в Санкт-Петербурге больше, и это различие статистически значимо.')"
   ]
  },
  {
   "cell_type": "markdown",
   "id": "9c433cd1",
   "metadata": {},
   "source": [
    "В ходе исследования проведены проверки на выполнение условий для применения t-теста. С помощью теста Шапиро проведены проверки на нормальность выборочных средних, в результате которых выявлено, что назвать распределение нормальным нельзя. Таким образом, для проверки гипотезы выбран тест Манна-Уитни, который показал, что нулевую гипотезу отвергнуть не получается. То есть средняя активность пользователей в часах в двух группах (Москва и Санкт-Петербург) не различается."
   ]
  },
  {
   "cell_type": "markdown",
   "id": "6953e84c",
   "metadata": {
    "id": "6953e84c"
   },
   "source": [
    "## 3. Аналитическая записка\n"
   ]
  },
  {
   "cell_type": "markdown",
   "id": "a5dd156f",
   "metadata": {},
   "source": [
    "Для проверки гипотезы, выдвинутой командой сервиса электронной библиотеки, заключающуюся в том, что пользователи из Санкт-Петербурга проводят в среднем больше времени за чтением и прослушиванием книг в приложении по сравнению с пользователями из Москвы, был проведен статистический А/В тест.\n",
    "\n",
    "В качестве целевой метрики используется среднее количество времени, проведенное пользователями за чтением и прослушиванием книг в приложении.\n",
    "\n",
    "Ввиду того, что не соблюдается условие нормальности выборочного распределения, для проверки использован не t-тест Уэлча, а непараметрический тест Маннта-Уитни.\n",
    "\n",
    "Для проведения теста выбран уровень значимости — 0.05.\n",
    "\n",
    "Тест показал значение pvalue=0.45, что больше установленного уровня значимости. \n",
    "\n",
    "Следовательно, альтернативная гипотеза не находит подтверждение, и средняя активность пользователей в часах в двух группах (Москва и Санкт-Петербург) не различается.\n",
    "\n",
    "\n",
    "То есть несмотря на то, что среднее значение часов активности пользователей приложения из Санкт-Петербурга выше, чем в Москве, статистический тест это не подтвердил. Такой результат может быть обусловлен тем, что существуют отдельные пользователи из Санкт-Петербурга с более высоким показателем количества активных часов, что завышает среднее, но не является правилом."
   ]
  },
  {
   "cell_type": "markdown",
   "id": "hc1d6jVISegz",
   "metadata": {
    "id": "hc1d6jVISegz"
   },
   "source": [
    "----"
   ]
  }
 ],
 "metadata": {
  "ExecuteTimeLog": [
   {
    "duration": 53,
    "start_time": "2025-06-23T12:21:33.375Z"
   },
   {
    "duration": 10539,
    "start_time": "2025-06-23T12:21:57.011Z"
   },
   {
    "duration": 996,
    "start_time": "2025-06-23T12:22:07.553Z"
   },
   {
    "duration": 134,
    "start_time": "2025-06-23T12:22:36.341Z"
   },
   {
    "duration": 14,
    "start_time": "2025-06-23T12:22:40.091Z"
   },
   {
    "duration": 75,
    "start_time": "2025-06-23T12:23:01.356Z"
   },
   {
    "duration": 15,
    "start_time": "2025-06-23T12:23:06.820Z"
   },
   {
    "duration": 12,
    "start_time": "2025-06-23T12:23:53.740Z"
   },
   {
    "duration": 6,
    "start_time": "2025-06-23T13:26:02.975Z"
   },
   {
    "duration": 7,
    "start_time": "2025-06-23T13:27:10.756Z"
   },
   {
    "duration": 7,
    "start_time": "2025-06-23T13:29:49.864Z"
   },
   {
    "duration": 4,
    "start_time": "2025-06-23T13:30:17.023Z"
   },
   {
    "duration": 6,
    "start_time": "2025-06-23T13:30:21.400Z"
   },
   {
    "duration": 6,
    "start_time": "2025-06-23T13:30:46.932Z"
   },
   {
    "duration": 108,
    "start_time": "2025-06-23T13:34:22.424Z"
   },
   {
    "duration": 59,
    "start_time": "2025-06-23T13:35:49.818Z"
   },
   {
    "duration": 93,
    "start_time": "2025-06-23T13:36:19.078Z"
   },
   {
    "duration": 7,
    "start_time": "2025-06-23T13:36:51.724Z"
   },
   {
    "duration": 5,
    "start_time": "2025-06-23T13:37:11.778Z"
   },
   {
    "duration": 4,
    "start_time": "2025-06-23T13:42:46.544Z"
   },
   {
    "duration": 7,
    "start_time": "2025-06-23T13:45:26.872Z"
   },
   {
    "duration": 26,
    "start_time": "2025-06-23T13:46:14.433Z"
   },
   {
    "duration": 6,
    "start_time": "2025-06-23T13:46:29.612Z"
   },
   {
    "duration": 6,
    "start_time": "2025-06-23T13:46:42.034Z"
   },
   {
    "duration": 76,
    "start_time": "2025-06-23T13:46:56.295Z"
   },
   {
    "duration": 2558,
    "start_time": "2025-06-23T13:47:01.064Z"
   },
   {
    "duration": 118,
    "start_time": "2025-06-23T13:47:03.625Z"
   },
   {
    "duration": 10,
    "start_time": "2025-06-23T13:47:03.744Z"
   },
   {
    "duration": 16,
    "start_time": "2025-06-23T13:47:03.755Z"
   },
   {
    "duration": 6,
    "start_time": "2025-06-23T13:47:03.774Z"
   },
   {
    "duration": 8,
    "start_time": "2025-06-23T13:47:03.781Z"
   },
   {
    "duration": 5,
    "start_time": "2025-06-23T13:47:03.791Z"
   },
   {
    "duration": 112,
    "start_time": "2025-06-23T13:47:03.798Z"
   },
   {
    "duration": 4,
    "start_time": "2025-06-23T13:47:03.912Z"
   },
   {
    "duration": 43,
    "start_time": "2025-06-23T13:47:03.918Z"
   },
   {
    "duration": 12,
    "start_time": "2025-06-23T13:47:03.963Z"
   },
   {
    "duration": 1777,
    "start_time": "2025-06-23T13:47:03.977Z"
   },
   {
    "duration": 5,
    "start_time": "2025-06-23T13:48:21.344Z"
   },
   {
    "duration": 4,
    "start_time": "2025-06-23T13:49:07.204Z"
   },
   {
    "duration": 4,
    "start_time": "2025-06-23T13:49:35.273Z"
   },
   {
    "duration": 4,
    "start_time": "2025-06-23T13:55:02.599Z"
   },
   {
    "duration": 8,
    "start_time": "2025-06-23T13:58:35.837Z"
   },
   {
    "duration": 8,
    "start_time": "2025-06-23T13:58:52.386Z"
   },
   {
    "duration": 91,
    "start_time": "2025-06-23T13:59:40.747Z"
   },
   {
    "duration": 6,
    "start_time": "2025-06-23T14:01:20.708Z"
   },
   {
    "duration": 17,
    "start_time": "2025-06-23T14:01:29.748Z"
   },
   {
    "duration": 5,
    "start_time": "2025-06-23T14:01:39.750Z"
   },
   {
    "duration": 6,
    "start_time": "2025-06-23T14:01:40.889Z"
   },
   {
    "duration": 8,
    "start_time": "2025-06-23T14:01:58.471Z"
   },
   {
    "duration": 6,
    "start_time": "2025-06-23T14:02:40.191Z"
   },
   {
    "duration": 7,
    "start_time": "2025-06-23T14:03:07.004Z"
   },
   {
    "duration": 11,
    "start_time": "2025-06-23T14:03:24.872Z"
   },
   {
    "duration": 2832,
    "start_time": "2025-06-23T14:03:28.153Z"
   },
   {
    "duration": 72,
    "start_time": "2025-06-23T14:03:30.987Z"
   },
   {
    "duration": 14,
    "start_time": "2025-06-23T14:03:31.061Z"
   },
   {
    "duration": 22,
    "start_time": "2025-06-23T14:03:31.078Z"
   },
   {
    "duration": 20,
    "start_time": "2025-06-23T14:03:31.103Z"
   },
   {
    "duration": 11,
    "start_time": "2025-06-23T14:03:31.125Z"
   },
   {
    "duration": 119,
    "start_time": "2025-06-23T14:03:31.138Z"
   },
   {
    "duration": 6,
    "start_time": "2025-06-23T14:03:31.259Z"
   },
   {
    "duration": 22,
    "start_time": "2025-06-23T14:03:31.268Z"
   },
   {
    "duration": 14,
    "start_time": "2025-06-23T14:03:31.292Z"
   },
   {
    "duration": 11,
    "start_time": "2025-06-23T14:03:31.308Z"
   },
   {
    "duration": 16,
    "start_time": "2025-06-23T14:03:31.321Z"
   },
   {
    "duration": 19,
    "start_time": "2025-06-23T14:03:31.339Z"
   },
   {
    "duration": 1749,
    "start_time": "2025-06-23T14:03:31.362Z"
   },
   {
    "duration": 11,
    "start_time": "2025-06-23T14:05:58.239Z"
   },
   {
    "duration": 11,
    "start_time": "2025-06-23T14:06:51.579Z"
   },
   {
    "duration": 11,
    "start_time": "2025-06-23T14:20:44.637Z"
   },
   {
    "duration": 2534,
    "start_time": "2025-06-23T14:20:52.648Z"
   },
   {
    "duration": 47,
    "start_time": "2025-06-23T14:20:55.185Z"
   },
   {
    "duration": 10,
    "start_time": "2025-06-23T14:20:55.234Z"
   },
   {
    "duration": 41,
    "start_time": "2025-06-23T14:20:55.246Z"
   },
   {
    "duration": 29,
    "start_time": "2025-06-23T14:20:55.291Z"
   },
   {
    "duration": 9,
    "start_time": "2025-06-23T14:20:55.322Z"
   },
   {
    "duration": 94,
    "start_time": "2025-06-23T14:20:55.333Z"
   },
   {
    "duration": 4,
    "start_time": "2025-06-23T14:20:55.429Z"
   },
   {
    "duration": 85,
    "start_time": "2025-06-23T14:20:55.434Z"
   },
   {
    "duration": 68,
    "start_time": "2025-06-23T14:20:55.521Z"
   },
   {
    "duration": 12,
    "start_time": "2025-06-23T14:20:55.591Z"
   },
   {
    "duration": 1686,
    "start_time": "2025-06-23T14:20:55.605Z"
   },
   {
    "duration": 7,
    "start_time": "2025-06-23T14:21:51.691Z"
   },
   {
    "duration": 11,
    "start_time": "2025-06-23T14:22:08.711Z"
   },
   {
    "duration": 11,
    "start_time": "2025-06-23T14:22:28.271Z"
   },
   {
    "duration": 11,
    "start_time": "2025-06-23T14:22:35.632Z"
   },
   {
    "duration": 11,
    "start_time": "2025-06-23T14:22:47.290Z"
   },
   {
    "duration": 18,
    "start_time": "2025-06-23T14:26:53.647Z"
   },
   {
    "duration": 18,
    "start_time": "2025-06-23T14:27:11.307Z"
   },
   {
    "duration": 63,
    "start_time": "2025-06-24T09:28:27.483Z"
   },
   {
    "duration": 11571,
    "start_time": "2025-06-24T09:28:30.727Z"
   },
   {
    "duration": 201,
    "start_time": "2025-06-24T09:28:42.302Z"
   },
   {
    "duration": 16,
    "start_time": "2025-06-24T09:28:42.505Z"
   },
   {
    "duration": 25,
    "start_time": "2025-06-24T09:28:42.523Z"
   },
   {
    "duration": 11,
    "start_time": "2025-06-24T09:28:42.553Z"
   },
   {
    "duration": 9,
    "start_time": "2025-06-24T09:28:42.565Z"
   },
   {
    "duration": 130,
    "start_time": "2025-06-24T09:28:42.576Z"
   },
   {
    "duration": 5,
    "start_time": "2025-06-24T09:28:42.708Z"
   },
   {
    "duration": 22,
    "start_time": "2025-06-24T09:28:42.715Z"
   },
   {
    "duration": 9,
    "start_time": "2025-06-24T09:28:42.749Z"
   },
   {
    "duration": 20,
    "start_time": "2025-06-24T09:28:42.760Z"
   },
   {
    "duration": 1973,
    "start_time": "2025-06-24T09:28:42.782Z"
   },
   {
    "duration": 77,
    "start_time": "2025-06-24T09:29:23.951Z"
   },
   {
    "duration": 2720,
    "start_time": "2025-06-24T09:29:27.952Z"
   },
   {
    "duration": 70,
    "start_time": "2025-06-24T09:29:30.674Z"
   },
   {
    "duration": 12,
    "start_time": "2025-06-24T09:29:30.747Z"
   },
   {
    "duration": 42,
    "start_time": "2025-06-24T09:29:30.761Z"
   },
   {
    "duration": 7,
    "start_time": "2025-06-24T09:29:30.805Z"
   },
   {
    "duration": 12,
    "start_time": "2025-06-24T09:29:30.814Z"
   },
   {
    "duration": 105,
    "start_time": "2025-06-24T09:29:30.828Z"
   },
   {
    "duration": 20,
    "start_time": "2025-06-24T09:29:30.935Z"
   },
   {
    "duration": 9,
    "start_time": "2025-06-24T09:29:30.956Z"
   },
   {
    "duration": 7,
    "start_time": "2025-06-24T09:29:30.966Z"
   },
   {
    "duration": 17,
    "start_time": "2025-06-24T09:29:30.975Z"
   },
   {
    "duration": 1753,
    "start_time": "2025-06-24T09:29:30.993Z"
   },
   {
    "duration": 365,
    "start_time": "2025-06-24T12:51:37.268Z"
   },
   {
    "duration": 94,
    "start_time": "2025-06-24T12:51:46.105Z"
   },
   {
    "duration": 224,
    "start_time": "2025-06-24T12:51:52.600Z"
   },
   {
    "duration": 128,
    "start_time": "2025-06-24T12:56:49.265Z"
   },
   {
    "duration": 223,
    "start_time": "2025-06-24T12:57:34.425Z"
   },
   {
    "duration": 12,
    "start_time": "2025-06-24T13:05:55.546Z"
   },
   {
    "duration": 10,
    "start_time": "2025-06-24T13:05:59.905Z"
   },
   {
    "duration": 8,
    "start_time": "2025-06-24T13:06:24.448Z"
   },
   {
    "duration": 10,
    "start_time": "2025-06-24T13:06:57.385Z"
   },
   {
    "duration": 9,
    "start_time": "2025-06-24T13:08:02.953Z"
   },
   {
    "duration": 225,
    "start_time": "2025-06-24T13:12:27.748Z"
   },
   {
    "duration": 196,
    "start_time": "2025-06-24T13:12:49.480Z"
   },
   {
    "duration": 11,
    "start_time": "2025-06-24T13:13:00.385Z"
   },
   {
    "duration": 192,
    "start_time": "2025-06-24T13:13:01.305Z"
   },
   {
    "duration": 226,
    "start_time": "2025-06-24T13:13:05.847Z"
   },
   {
    "duration": 9,
    "start_time": "2025-06-24T13:14:20.225Z"
   },
   {
    "duration": 9,
    "start_time": "2025-06-24T13:14:26.933Z"
   },
   {
    "duration": 15,
    "start_time": "2025-06-24T13:15:38.350Z"
   },
   {
    "duration": 6,
    "start_time": "2025-06-24T13:16:12.705Z"
   },
   {
    "duration": 243,
    "start_time": "2025-06-24T13:16:15.881Z"
   },
   {
    "duration": 183,
    "start_time": "2025-06-24T13:16:27.373Z"
   },
   {
    "duration": 155,
    "start_time": "2025-06-24T13:16:30.873Z"
   },
   {
    "duration": 7,
    "start_time": "2025-06-24T13:16:56.065Z"
   },
   {
    "duration": 128,
    "start_time": "2025-06-24T13:16:59.755Z"
   },
   {
    "duration": 136,
    "start_time": "2025-06-24T13:17:04.242Z"
   },
   {
    "duration": 8,
    "start_time": "2025-06-24T13:17:17.749Z"
   },
   {
    "duration": 139,
    "start_time": "2025-06-24T13:17:20.641Z"
   },
   {
    "duration": 229,
    "start_time": "2025-06-24T13:17:25.866Z"
   },
   {
    "duration": 7,
    "start_time": "2025-06-24T13:18:00.652Z"
   },
   {
    "duration": 224,
    "start_time": "2025-06-24T13:19:21.409Z"
   },
   {
    "duration": 2825,
    "start_time": "2025-06-24T13:19:29.829Z"
   },
   {
    "duration": 76,
    "start_time": "2025-06-24T13:19:32.657Z"
   },
   {
    "duration": 17,
    "start_time": "2025-06-24T13:19:32.735Z"
   },
   {
    "duration": 54,
    "start_time": "2025-06-24T13:19:32.754Z"
   },
   {
    "duration": 43,
    "start_time": "2025-06-24T13:19:32.810Z"
   },
   {
    "duration": 7,
    "start_time": "2025-06-24T13:19:32.855Z"
   },
   {
    "duration": 98,
    "start_time": "2025-06-24T13:19:32.864Z"
   },
   {
    "duration": 5,
    "start_time": "2025-06-24T13:19:32.964Z"
   },
   {
    "duration": 44,
    "start_time": "2025-06-24T13:19:32.971Z"
   },
   {
    "duration": 20,
    "start_time": "2025-06-24T13:19:33.017Z"
   },
   {
    "duration": 26,
    "start_time": "2025-06-24T13:19:33.039Z"
   },
   {
    "duration": 135,
    "start_time": "2025-06-24T13:19:33.067Z"
   },
   {
    "duration": 145,
    "start_time": "2025-06-24T13:19:33.204Z"
   },
   {
    "duration": 6,
    "start_time": "2025-06-24T13:19:33.352Z"
   },
   {
    "duration": 247,
    "start_time": "2025-06-24T13:19:33.360Z"
   },
   {
    "duration": 1890,
    "start_time": "2025-06-24T13:19:33.609Z"
   },
   {
    "duration": 348,
    "start_time": "2025-06-24T13:21:05.505Z"
   },
   {
    "duration": 376,
    "start_time": "2025-06-24T13:23:11.714Z"
   },
   {
    "duration": 357,
    "start_time": "2025-06-24T13:23:34.520Z"
   },
   {
    "duration": 2760,
    "start_time": "2025-06-24T13:23:38.587Z"
   },
   {
    "duration": 161,
    "start_time": "2025-06-24T13:23:41.350Z"
   },
   {
    "duration": 12,
    "start_time": "2025-06-24T13:23:41.514Z"
   },
   {
    "duration": 159,
    "start_time": "2025-06-24T13:23:41.528Z"
   },
   {
    "duration": 15,
    "start_time": "2025-06-24T13:23:41.690Z"
   },
   {
    "duration": 7,
    "start_time": "2025-06-24T13:23:41.707Z"
   },
   {
    "duration": 105,
    "start_time": "2025-06-24T13:23:41.716Z"
   },
   {
    "duration": 16,
    "start_time": "2025-06-24T13:23:41.823Z"
   },
   {
    "duration": 4,
    "start_time": "2025-06-24T13:23:41.849Z"
   },
   {
    "duration": 43,
    "start_time": "2025-06-24T13:23:41.855Z"
   },
   {
    "duration": 29,
    "start_time": "2025-06-24T13:23:41.900Z"
   },
   {
    "duration": 138,
    "start_time": "2025-06-24T13:23:41.931Z"
   },
   {
    "duration": 244,
    "start_time": "2025-06-24T13:23:42.071Z"
   },
   {
    "duration": 6,
    "start_time": "2025-06-24T13:23:42.317Z"
   },
   {
    "duration": 404,
    "start_time": "2025-06-24T13:23:42.337Z"
   },
   {
    "duration": 1963,
    "start_time": "2025-06-24T13:23:42.745Z"
   },
   {
    "duration": 335,
    "start_time": "2025-06-24T13:24:13.443Z"
   },
   {
    "duration": 242,
    "start_time": "2025-06-24T13:24:23.761Z"
   },
   {
    "duration": 420,
    "start_time": "2025-06-24T13:24:33.570Z"
   },
   {
    "duration": 574,
    "start_time": "2025-06-24T13:24:53.625Z"
   },
   {
    "duration": 194,
    "start_time": "2025-06-24T13:26:01.929Z"
   },
   {
    "duration": 178,
    "start_time": "2025-06-24T13:26:03.313Z"
   },
   {
    "duration": 658,
    "start_time": "2025-06-24T13:27:11.105Z"
   },
   {
    "duration": 331,
    "start_time": "2025-06-24T13:27:28.480Z"
   },
   {
    "duration": 2893,
    "start_time": "2025-06-24T13:30:18.482Z"
   },
   {
    "duration": 227,
    "start_time": "2025-06-24T13:30:21.378Z"
   },
   {
    "duration": 11,
    "start_time": "2025-06-24T13:30:21.607Z"
   },
   {
    "duration": 93,
    "start_time": "2025-06-24T13:30:21.620Z"
   },
   {
    "duration": 9,
    "start_time": "2025-06-24T13:30:21.716Z"
   },
   {
    "duration": 14,
    "start_time": "2025-06-24T13:30:21.727Z"
   },
   {
    "duration": 124,
    "start_time": "2025-06-24T13:30:21.749Z"
   },
   {
    "duration": 4,
    "start_time": "2025-06-24T13:30:21.875Z"
   },
   {
    "duration": 27,
    "start_time": "2025-06-24T13:30:21.881Z"
   },
   {
    "duration": 11,
    "start_time": "2025-06-24T13:30:21.910Z"
   },
   {
    "duration": 43,
    "start_time": "2025-06-24T13:30:21.923Z"
   },
   {
    "duration": 136,
    "start_time": "2025-06-24T13:30:21.969Z"
   },
   {
    "duration": 189,
    "start_time": "2025-06-24T13:30:22.106Z"
   },
   {
    "duration": 7,
    "start_time": "2025-06-24T13:30:22.298Z"
   },
   {
    "duration": 603,
    "start_time": "2025-06-24T13:30:22.307Z"
   },
   {
    "duration": 381,
    "start_time": "2025-06-24T13:30:22.912Z"
   },
   {
    "duration": 2029,
    "start_time": "2025-06-24T13:30:23.295Z"
   },
   {
    "duration": 6,
    "start_time": "2025-06-24T13:37:28.768Z"
   },
   {
    "duration": 266,
    "start_time": "2025-06-24T13:37:31.825Z"
   },
   {
    "duration": 159,
    "start_time": "2025-06-24T13:37:34.072Z"
   },
   {
    "duration": 555,
    "start_time": "2025-06-24T13:37:44.272Z"
   },
   {
    "duration": 6,
    "start_time": "2025-06-24T13:37:52.887Z"
   },
   {
    "duration": 148,
    "start_time": "2025-06-24T13:37:55.840Z"
   },
   {
    "duration": 151,
    "start_time": "2025-06-24T13:37:58.201Z"
   },
   {
    "duration": 536,
    "start_time": "2025-06-24T13:38:02.552Z"
   },
   {
    "duration": 655,
    "start_time": "2025-06-24T13:38:07.594Z"
   },
   {
    "duration": 16,
    "start_time": "2025-06-24T13:38:51.572Z"
   },
   {
    "duration": 2771,
    "start_time": "2025-06-24T13:39:35.001Z"
   },
   {
    "duration": 51,
    "start_time": "2025-06-24T13:39:37.775Z"
   },
   {
    "duration": 21,
    "start_time": "2025-06-24T13:39:37.828Z"
   },
   {
    "duration": 13,
    "start_time": "2025-06-24T13:39:37.851Z"
   },
   {
    "duration": 7,
    "start_time": "2025-06-24T13:39:37.867Z"
   },
   {
    "duration": 22,
    "start_time": "2025-06-24T13:39:37.875Z"
   },
   {
    "duration": 115,
    "start_time": "2025-06-24T13:39:37.899Z"
   },
   {
    "duration": 4,
    "start_time": "2025-06-24T13:39:38.016Z"
   },
   {
    "duration": 29,
    "start_time": "2025-06-24T13:39:38.021Z"
   },
   {
    "duration": 6,
    "start_time": "2025-06-24T13:39:38.053Z"
   },
   {
    "duration": 150,
    "start_time": "2025-06-24T13:39:38.062Z"
   },
   {
    "duration": 140,
    "start_time": "2025-06-24T13:39:38.214Z"
   },
   {
    "duration": 32,
    "start_time": "2025-06-24T13:39:38.355Z"
   },
   {
    "duration": 565,
    "start_time": "2025-06-24T13:39:38.390Z"
   },
   {
    "duration": 372,
    "start_time": "2025-06-24T13:39:38.958Z"
   },
   {
    "duration": 26,
    "start_time": "2025-06-24T13:39:39.334Z"
   },
   {
    "duration": 1618,
    "start_time": "2025-06-24T13:39:39.362Z"
   },
   {
    "duration": 155,
    "start_time": "2025-06-24T13:43:43.203Z"
   },
   {
    "duration": 8,
    "start_time": "2025-06-24T13:44:02.193Z"
   },
   {
    "duration": 479,
    "start_time": "2025-06-24T13:46:16.771Z"
   },
   {
    "duration": 377,
    "start_time": "2025-06-24T13:47:33.291Z"
   },
   {
    "duration": 2736,
    "start_time": "2025-06-24T13:47:37.052Z"
   },
   {
    "duration": 69,
    "start_time": "2025-06-24T13:47:39.791Z"
   },
   {
    "duration": 9,
    "start_time": "2025-06-24T13:47:39.862Z"
   },
   {
    "duration": 24,
    "start_time": "2025-06-24T13:47:39.873Z"
   },
   {
    "duration": 29,
    "start_time": "2025-06-24T13:47:39.899Z"
   },
   {
    "duration": 21,
    "start_time": "2025-06-24T13:47:39.930Z"
   },
   {
    "duration": 108,
    "start_time": "2025-06-24T13:47:39.954Z"
   },
   {
    "duration": 4,
    "start_time": "2025-06-24T13:47:40.064Z"
   },
   {
    "duration": 13,
    "start_time": "2025-06-24T13:47:40.069Z"
   },
   {
    "duration": 10,
    "start_time": "2025-06-24T13:47:40.083Z"
   },
   {
    "duration": 158,
    "start_time": "2025-06-24T13:47:40.095Z"
   },
   {
    "duration": 350,
    "start_time": "2025-06-24T13:47:40.255Z"
   },
   {
    "duration": 7,
    "start_time": "2025-06-24T13:47:40.607Z"
   },
   {
    "duration": 365,
    "start_time": "2025-06-24T13:47:40.617Z"
   },
   {
    "duration": 17,
    "start_time": "2025-06-24T13:47:40.984Z"
   },
   {
    "duration": 1941,
    "start_time": "2025-06-24T13:47:41.003Z"
   },
   {
    "duration": 18,
    "start_time": "2025-06-24T13:49:09.271Z"
   },
   {
    "duration": 5,
    "start_time": "2025-06-24T13:57:43.271Z"
   },
   {
    "duration": 5,
    "start_time": "2025-06-24T13:57:48.071Z"
   },
   {
    "duration": 10,
    "start_time": "2025-06-24T13:58:10.031Z"
   },
   {
    "duration": 14,
    "start_time": "2025-06-24T13:58:22.751Z"
   },
   {
    "duration": 2874,
    "start_time": "2025-06-24T13:58:42.390Z"
   },
   {
    "duration": 7,
    "start_time": "2025-06-24T13:58:47.120Z"
   },
   {
    "duration": 13,
    "start_time": "2025-06-24T14:07:33.199Z"
   },
   {
    "duration": 9,
    "start_time": "2025-06-24T14:07:37.304Z"
   },
   {
    "duration": 2797,
    "start_time": "2025-06-24T14:09:14.905Z"
   },
   {
    "duration": 392,
    "start_time": "2025-06-24T14:09:17.704Z"
   },
   {
    "duration": 17,
    "start_time": "2025-06-24T14:09:18.098Z"
   },
   {
    "duration": 23,
    "start_time": "2025-06-24T14:09:18.119Z"
   },
   {
    "duration": 32,
    "start_time": "2025-06-24T14:09:18.146Z"
   },
   {
    "duration": 19,
    "start_time": "2025-06-24T14:09:18.181Z"
   },
   {
    "duration": 128,
    "start_time": "2025-06-24T14:09:18.202Z"
   },
   {
    "duration": 5,
    "start_time": "2025-06-24T14:09:18.336Z"
   },
   {
    "duration": 106,
    "start_time": "2025-06-24T14:09:18.343Z"
   },
   {
    "duration": 72,
    "start_time": "2025-06-24T14:09:18.461Z"
   },
   {
    "duration": 75,
    "start_time": "2025-06-24T14:09:18.535Z"
   },
   {
    "duration": 22,
    "start_time": "2025-06-24T14:09:18.612Z"
   },
   {
    "duration": 150,
    "start_time": "2025-06-24T14:09:18.636Z"
   },
   {
    "duration": 527,
    "start_time": "2025-06-24T14:09:18.788Z"
   },
   {
    "duration": 17,
    "start_time": "2025-06-24T14:09:19.319Z"
   },
   {
    "duration": 380,
    "start_time": "2025-06-24T14:09:19.338Z"
   },
   {
    "duration": 34,
    "start_time": "2025-06-24T14:09:19.720Z"
   },
   {
    "duration": 2063,
    "start_time": "2025-06-24T14:09:19.756Z"
   },
   {
    "duration": 11,
    "start_time": "2025-06-24T14:09:51.711Z"
   },
   {
    "duration": 5,
    "start_time": "2025-06-24T14:09:56.391Z"
   },
   {
    "duration": 19,
    "start_time": "2025-06-24T14:10:46.631Z"
   },
   {
    "duration": 21,
    "start_time": "2025-06-24T14:11:53.711Z"
   },
   {
    "duration": 22,
    "start_time": "2025-06-24T14:11:56.544Z"
   },
   {
    "duration": 11,
    "start_time": "2025-06-24T14:12:01.839Z"
   },
   {
    "duration": 13,
    "start_time": "2025-06-24T14:12:04.184Z"
   },
   {
    "duration": 12,
    "start_time": "2025-06-24T14:13:00.149Z"
   },
   {
    "duration": 9,
    "start_time": "2025-06-24T14:13:01.584Z"
   },
   {
    "duration": 6,
    "start_time": "2025-06-24T14:14:31.518Z"
   },
   {
    "duration": 13,
    "start_time": "2025-06-24T14:14:35.748Z"
   },
   {
    "duration": 18,
    "start_time": "2025-06-24T14:14:40.444Z"
   },
   {
    "duration": 2664,
    "start_time": "2025-06-24T14:14:49.961Z"
   },
   {
    "duration": 93,
    "start_time": "2025-06-24T14:14:52.627Z"
   },
   {
    "duration": 9,
    "start_time": "2025-06-24T14:14:52.721Z"
   },
   {
    "duration": 22,
    "start_time": "2025-06-24T14:14:52.734Z"
   },
   {
    "duration": 26,
    "start_time": "2025-06-24T14:14:52.757Z"
   },
   {
    "duration": 24,
    "start_time": "2025-06-24T14:14:52.785Z"
   },
   {
    "duration": 103,
    "start_time": "2025-06-24T14:14:52.811Z"
   },
   {
    "duration": 4,
    "start_time": "2025-06-24T14:14:52.916Z"
   },
   {
    "duration": 8,
    "start_time": "2025-06-24T14:14:52.921Z"
   },
   {
    "duration": 16,
    "start_time": "2025-06-24T14:14:52.930Z"
   },
   {
    "duration": 11,
    "start_time": "2025-06-24T14:14:52.952Z"
   },
   {
    "duration": 13,
    "start_time": "2025-06-24T14:14:52.965Z"
   },
   {
    "duration": 16,
    "start_time": "2025-06-24T14:14:52.980Z"
   },
   {
    "duration": 173,
    "start_time": "2025-06-24T14:14:52.998Z"
   },
   {
    "duration": 356,
    "start_time": "2025-06-24T14:14:53.172Z"
   },
   {
    "duration": 17,
    "start_time": "2025-06-24T14:14:53.529Z"
   },
   {
    "duration": 349,
    "start_time": "2025-06-24T14:14:53.550Z"
   },
   {
    "duration": 17,
    "start_time": "2025-06-24T14:14:53.900Z"
   },
   {
    "duration": 1698,
    "start_time": "2025-06-24T14:14:53.939Z"
   },
   {
    "duration": 6,
    "start_time": "2025-06-24T14:15:59.183Z"
   },
   {
    "duration": 14,
    "start_time": "2025-06-24T14:16:02.959Z"
   },
   {
    "duration": 2635,
    "start_time": "2025-06-24T14:16:08.158Z"
   },
   {
    "duration": 89,
    "start_time": "2025-06-24T14:16:10.796Z"
   },
   {
    "duration": 10,
    "start_time": "2025-06-24T14:16:10.887Z"
   },
   {
    "duration": 113,
    "start_time": "2025-06-24T14:16:10.898Z"
   },
   {
    "duration": 30,
    "start_time": "2025-06-24T14:16:11.014Z"
   },
   {
    "duration": 43,
    "start_time": "2025-06-24T14:16:11.046Z"
   },
   {
    "duration": 330,
    "start_time": "2025-06-24T14:16:11.091Z"
   },
   {
    "duration": 4,
    "start_time": "2025-06-24T14:16:11.423Z"
   },
   {
    "duration": 13,
    "start_time": "2025-06-24T14:16:11.429Z"
   },
   {
    "duration": 11,
    "start_time": "2025-06-24T14:16:11.445Z"
   },
   {
    "duration": 11,
    "start_time": "2025-06-24T14:16:11.459Z"
   },
   {
    "duration": 17,
    "start_time": "2025-06-24T14:16:11.473Z"
   },
   {
    "duration": 23,
    "start_time": "2025-06-24T14:16:11.493Z"
   },
   {
    "duration": 161,
    "start_time": "2025-06-24T14:16:11.521Z"
   },
   {
    "duration": 370,
    "start_time": "2025-06-24T14:16:11.684Z"
   },
   {
    "duration": 6,
    "start_time": "2025-06-24T14:16:12.056Z"
   },
   {
    "duration": 365,
    "start_time": "2025-06-24T14:16:12.064Z"
   },
   {
    "duration": 36,
    "start_time": "2025-06-24T14:16:12.431Z"
   },
   {
    "duration": 1605,
    "start_time": "2025-06-24T14:16:12.469Z"
   },
   {
    "duration": 4,
    "start_time": "2025-06-24T14:17:28.759Z"
   },
   {
    "duration": 12,
    "start_time": "2025-06-24T14:17:31.519Z"
   },
   {
    "duration": 2678,
    "start_time": "2025-06-24T14:17:49.104Z"
   },
   {
    "duration": 48,
    "start_time": "2025-06-24T14:17:51.785Z"
   },
   {
    "duration": 16,
    "start_time": "2025-06-24T14:17:51.835Z"
   },
   {
    "duration": 107,
    "start_time": "2025-06-24T14:17:51.853Z"
   },
   {
    "duration": 8,
    "start_time": "2025-06-24T14:17:51.963Z"
   },
   {
    "duration": 16,
    "start_time": "2025-06-24T14:17:51.972Z"
   },
   {
    "duration": 128,
    "start_time": "2025-06-24T14:17:51.990Z"
   },
   {
    "duration": 4,
    "start_time": "2025-06-24T14:17:52.120Z"
   },
   {
    "duration": 28,
    "start_time": "2025-06-24T14:17:52.125Z"
   },
   {
    "duration": 11,
    "start_time": "2025-06-24T14:17:52.155Z"
   },
   {
    "duration": 18,
    "start_time": "2025-06-24T14:17:52.168Z"
   },
   {
    "duration": 12,
    "start_time": "2025-06-24T14:17:52.187Z"
   },
   {
    "duration": 44,
    "start_time": "2025-06-24T14:17:52.200Z"
   },
   {
    "duration": 12,
    "start_time": "2025-06-24T14:17:52.248Z"
   },
   {
    "duration": 164,
    "start_time": "2025-06-24T14:17:52.262Z"
   },
   {
    "duration": 362,
    "start_time": "2025-06-24T14:17:52.428Z"
   },
   {
    "duration": 5,
    "start_time": "2025-06-24T14:17:52.793Z"
   },
   {
    "duration": 488,
    "start_time": "2025-06-24T14:17:52.800Z"
   },
   {
    "duration": 17,
    "start_time": "2025-06-24T14:17:53.290Z"
   },
   {
    "duration": 1732,
    "start_time": "2025-06-24T14:17:53.309Z"
   },
   {
    "duration": 8,
    "start_time": "2025-06-24T14:19:03.559Z"
   },
   {
    "duration": 2694,
    "start_time": "2025-06-24T14:19:32.319Z"
   },
   {
    "duration": 209,
    "start_time": "2025-06-24T14:19:35.015Z"
   },
   {
    "duration": 16,
    "start_time": "2025-06-24T14:19:35.226Z"
   },
   {
    "duration": 46,
    "start_time": "2025-06-24T14:19:35.252Z"
   },
   {
    "duration": 10,
    "start_time": "2025-06-24T14:19:35.300Z"
   },
   {
    "duration": 103,
    "start_time": "2025-06-24T14:19:35.311Z"
   },
   {
    "duration": 113,
    "start_time": "2025-06-24T14:19:35.416Z"
   },
   {
    "duration": 11,
    "start_time": "2025-06-24T14:19:35.531Z"
   },
   {
    "duration": 14,
    "start_time": "2025-06-24T14:19:35.544Z"
   },
   {
    "duration": 16,
    "start_time": "2025-06-24T14:19:35.560Z"
   },
   {
    "duration": 26,
    "start_time": "2025-06-24T14:19:35.579Z"
   },
   {
    "duration": 16,
    "start_time": "2025-06-24T14:19:35.607Z"
   },
   {
    "duration": 21,
    "start_time": "2025-06-24T14:19:35.625Z"
   },
   {
    "duration": 3,
    "start_time": "2025-06-24T14:19:38.864Z"
   },
   {
    "duration": 9,
    "start_time": "2025-06-24T14:19:40.319Z"
   },
   {
    "duration": 14,
    "start_time": "2025-06-24T14:22:34.311Z"
   },
   {
    "duration": 19,
    "start_time": "2025-06-24T14:25:00.783Z"
   },
   {
    "duration": 1005,
    "start_time": "2025-06-24T14:25:09.170Z"
   },
   {
    "duration": 18,
    "start_time": "2025-06-24T14:25:37.383Z"
   },
   {
    "duration": 9,
    "start_time": "2025-06-24T14:26:15.598Z"
   },
   {
    "duration": 4,
    "start_time": "2025-06-24T14:26:30.919Z"
   },
   {
    "duration": 19,
    "start_time": "2025-06-24T14:27:03.145Z"
   },
   {
    "duration": 15,
    "start_time": "2025-06-24T14:27:50.903Z"
   },
   {
    "duration": 30,
    "start_time": "2025-06-24T14:28:09.231Z"
   },
   {
    "duration": 6,
    "start_time": "2025-06-24T14:28:56.690Z"
   },
   {
    "duration": 9,
    "start_time": "2025-06-24T14:29:05.503Z"
   },
   {
    "duration": 6,
    "start_time": "2025-06-24T14:29:18.278Z"
   },
   {
    "duration": 9,
    "start_time": "2025-06-24T14:29:20.263Z"
   },
   {
    "duration": 20,
    "start_time": "2025-06-24T14:29:35.702Z"
   },
   {
    "duration": 9,
    "start_time": "2025-06-24T14:29:48.318Z"
   },
   {
    "duration": 5,
    "start_time": "2025-06-24T14:30:04.223Z"
   },
   {
    "duration": 17,
    "start_time": "2025-06-24T14:30:05.641Z"
   },
   {
    "duration": 25,
    "start_time": "2025-06-24T14:30:05.661Z"
   },
   {
    "duration": 5,
    "start_time": "2025-06-24T14:30:15.623Z"
   },
   {
    "duration": 9,
    "start_time": "2025-06-24T14:30:18.318Z"
   },
   {
    "duration": 6,
    "start_time": "2025-06-24T14:30:39.664Z"
   },
   {
    "duration": 9,
    "start_time": "2025-06-24T14:30:42.920Z"
   },
   {
    "duration": 6,
    "start_time": "2025-06-24T14:30:44.423Z"
   },
   {
    "duration": 20,
    "start_time": "2025-06-24T14:30:54.278Z"
   },
   {
    "duration": 6,
    "start_time": "2025-06-24T14:30:58.547Z"
   },
   {
    "duration": 9,
    "start_time": "2025-06-24T14:47:47.163Z"
   },
   {
    "duration": 939,
    "start_time": "2025-06-24T14:48:00.394Z"
   },
   {
    "duration": 5,
    "start_time": "2025-06-24T14:48:14.515Z"
   },
   {
    "duration": 21,
    "start_time": "2025-06-24T14:48:37.754Z"
   },
   {
    "duration": 5,
    "start_time": "2025-06-24T14:49:45.764Z"
   },
   {
    "duration": 9,
    "start_time": "2025-06-24T14:49:47.603Z"
   },
   {
    "duration": 9,
    "start_time": "2025-06-24T14:50:16.525Z"
   },
   {
    "duration": 10,
    "start_time": "2025-06-24T14:50:20.394Z"
   },
   {
    "duration": 6,
    "start_time": "2025-06-24T14:51:00.355Z"
   },
   {
    "duration": 10,
    "start_time": "2025-06-24T14:51:02.923Z"
   },
   {
    "duration": 10,
    "start_time": "2025-06-24T14:51:20.635Z"
   },
   {
    "duration": 9,
    "start_time": "2025-06-24T14:51:22.754Z"
   },
   {
    "duration": 10,
    "start_time": "2025-06-24T14:52:14.074Z"
   },
   {
    "duration": 10,
    "start_time": "2025-06-24T14:52:14.634Z"
   },
   {
    "duration": 2686,
    "start_time": "2025-06-24T14:52:50.198Z"
   },
   {
    "duration": 112,
    "start_time": "2025-06-24T14:52:52.887Z"
   },
   {
    "duration": 10,
    "start_time": "2025-06-24T14:52:53.001Z"
   },
   {
    "duration": 19,
    "start_time": "2025-06-24T14:52:53.013Z"
   },
   {
    "duration": 24,
    "start_time": "2025-06-24T14:52:53.034Z"
   },
   {
    "duration": 8,
    "start_time": "2025-06-24T14:52:53.060Z"
   },
   {
    "duration": 97,
    "start_time": "2025-06-24T14:52:53.069Z"
   },
   {
    "duration": 5,
    "start_time": "2025-06-24T14:52:53.169Z"
   },
   {
    "duration": 31,
    "start_time": "2025-06-24T14:52:53.176Z"
   },
   {
    "duration": 7,
    "start_time": "2025-06-24T14:52:53.209Z"
   },
   {
    "duration": 9,
    "start_time": "2025-06-24T14:52:53.218Z"
   },
   {
    "duration": 25,
    "start_time": "2025-06-24T14:52:53.229Z"
   },
   {
    "duration": 88,
    "start_time": "2025-06-24T14:52:53.257Z"
   },
   {
    "duration": 17,
    "start_time": "2025-06-24T14:52:53.349Z"
   },
   {
    "duration": 11,
    "start_time": "2025-06-24T14:52:53.368Z"
   },
   {
    "duration": 174,
    "start_time": "2025-06-24T14:52:53.381Z"
   },
   {
    "duration": 339,
    "start_time": "2025-06-24T14:52:53.557Z"
   },
   {
    "duration": 6,
    "start_time": "2025-06-24T14:52:53.897Z"
   },
   {
    "duration": 409,
    "start_time": "2025-06-24T14:52:53.904Z"
   },
   {
    "duration": 37,
    "start_time": "2025-06-24T14:52:54.315Z"
   },
   {
    "duration": 1637,
    "start_time": "2025-06-24T14:52:54.354Z"
   },
   {
    "duration": 6,
    "start_time": "2025-06-24T14:53:40.153Z"
   },
   {
    "duration": 7,
    "start_time": "2025-06-24T14:53:40.645Z"
   },
   {
    "duration": 10,
    "start_time": "2025-06-24T14:54:24.048Z"
   },
   {
    "duration": 2750,
    "start_time": "2025-06-24T14:54:47.652Z"
   },
   {
    "duration": 141,
    "start_time": "2025-06-24T14:54:50.406Z"
   },
   {
    "duration": 12,
    "start_time": "2025-06-24T14:54:50.549Z"
   },
   {
    "duration": 28,
    "start_time": "2025-06-24T14:54:50.563Z"
   },
   {
    "duration": 9,
    "start_time": "2025-06-24T14:54:50.594Z"
   },
   {
    "duration": 100,
    "start_time": "2025-06-24T14:54:50.604Z"
   },
   {
    "duration": 126,
    "start_time": "2025-06-24T14:54:50.706Z"
   },
   {
    "duration": 9,
    "start_time": "2025-06-24T14:54:50.836Z"
   },
   {
    "duration": 4,
    "start_time": "2025-06-24T14:54:50.846Z"
   },
   {
    "duration": 17,
    "start_time": "2025-06-24T14:54:50.852Z"
   },
   {
    "duration": 30,
    "start_time": "2025-06-24T14:54:50.870Z"
   },
   {
    "duration": 16,
    "start_time": "2025-06-24T14:54:50.902Z"
   },
   {
    "duration": 33,
    "start_time": "2025-06-24T14:54:50.920Z"
   },
   {
    "duration": 17,
    "start_time": "2025-06-24T14:54:50.956Z"
   },
   {
    "duration": 88,
    "start_time": "2025-06-24T14:54:50.975Z"
   },
   {
    "duration": 53,
    "start_time": "2025-06-24T14:54:51.065Z"
   },
   {
    "duration": 32,
    "start_time": "2025-06-24T14:54:51.120Z"
   },
   {
    "duration": 6,
    "start_time": "2025-06-24T14:54:51.160Z"
   },
   {
    "duration": 209,
    "start_time": "2025-06-24T14:54:51.168Z"
   },
   {
    "duration": 475,
    "start_time": "2025-06-24T14:54:51.379Z"
   },
   {
    "duration": 11,
    "start_time": "2025-06-24T14:54:51.856Z"
   },
   {
    "duration": 376,
    "start_time": "2025-06-24T14:54:51.868Z"
   },
   {
    "duration": 26,
    "start_time": "2025-06-24T14:54:52.247Z"
   },
   {
    "duration": 1780,
    "start_time": "2025-06-24T14:54:52.275Z"
   },
   {
    "duration": 2707,
    "start_time": "2025-06-24T14:55:12.917Z"
   },
   {
    "duration": 67,
    "start_time": "2025-06-24T14:55:15.627Z"
   },
   {
    "duration": 9,
    "start_time": "2025-06-24T14:55:15.696Z"
   },
   {
    "duration": 24,
    "start_time": "2025-06-24T14:55:15.707Z"
   },
   {
    "duration": 19,
    "start_time": "2025-06-24T14:55:15.734Z"
   },
   {
    "duration": 8,
    "start_time": "2025-06-24T14:55:15.754Z"
   },
   {
    "duration": 111,
    "start_time": "2025-06-24T14:55:15.765Z"
   },
   {
    "duration": 4,
    "start_time": "2025-06-24T14:55:15.879Z"
   },
   {
    "duration": 3,
    "start_time": "2025-06-24T14:55:15.885Z"
   },
   {
    "duration": 10,
    "start_time": "2025-06-24T14:55:15.890Z"
   },
   {
    "duration": 8,
    "start_time": "2025-06-24T14:55:15.902Z"
   },
   {
    "duration": 34,
    "start_time": "2025-06-24T14:55:15.912Z"
   },
   {
    "duration": 10,
    "start_time": "2025-06-24T14:55:15.949Z"
   },
   {
    "duration": 13,
    "start_time": "2025-06-24T14:55:15.961Z"
   },
   {
    "duration": 14,
    "start_time": "2025-06-24T14:55:15.976Z"
   },
   {
    "duration": 9,
    "start_time": "2025-06-24T14:55:15.992Z"
   },
   {
    "duration": 11,
    "start_time": "2025-06-24T14:55:16.002Z"
   },
   {
    "duration": 25,
    "start_time": "2025-06-24T14:55:16.014Z"
   },
   {
    "duration": 134,
    "start_time": "2025-06-24T14:55:16.041Z"
   },
   {
    "duration": 366,
    "start_time": "2025-06-24T14:55:16.176Z"
   },
   {
    "duration": 15,
    "start_time": "2025-06-24T14:55:16.548Z"
   },
   {
    "duration": 376,
    "start_time": "2025-06-24T14:55:16.566Z"
   },
   {
    "duration": 18,
    "start_time": "2025-06-24T14:55:16.953Z"
   },
   {
    "duration": 1682,
    "start_time": "2025-06-24T14:55:16.973Z"
   },
   {
    "duration": 4,
    "start_time": "2025-06-24T14:55:41.364Z"
   },
   {
    "duration": 5,
    "start_time": "2025-06-24T14:55:43.849Z"
   },
   {
    "duration": 29,
    "start_time": "2025-06-24T14:56:40.994Z"
   },
   {
    "duration": 6,
    "start_time": "2025-06-24T14:57:00.324Z"
   },
   {
    "duration": 8,
    "start_time": "2025-06-24T14:57:03.324Z"
   },
   {
    "duration": 4,
    "start_time": "2025-06-24T14:57:04.474Z"
   },
   {
    "duration": 2730,
    "start_time": "2025-06-24T14:57:06.606Z"
   },
   {
    "duration": 130,
    "start_time": "2025-06-24T14:57:09.340Z"
   },
   {
    "duration": 9,
    "start_time": "2025-06-24T14:57:09.472Z"
   },
   {
    "duration": 28,
    "start_time": "2025-06-24T14:57:09.483Z"
   },
   {
    "duration": 7,
    "start_time": "2025-06-24T14:57:09.513Z"
   },
   {
    "duration": 7,
    "start_time": "2025-06-24T14:57:09.522Z"
   },
   {
    "duration": 127,
    "start_time": "2025-06-24T14:57:09.530Z"
   },
   {
    "duration": 6,
    "start_time": "2025-06-24T14:57:09.661Z"
   },
   {
    "duration": 4,
    "start_time": "2025-06-24T14:57:09.668Z"
   },
   {
    "duration": 7,
    "start_time": "2025-06-24T14:57:09.675Z"
   },
   {
    "duration": 6,
    "start_time": "2025-06-24T14:57:09.684Z"
   },
   {
    "duration": 14,
    "start_time": "2025-06-24T14:57:09.692Z"
   },
   {
    "duration": 10,
    "start_time": "2025-06-24T14:57:09.708Z"
   },
   {
    "duration": 30,
    "start_time": "2025-06-24T14:57:09.720Z"
   },
   {
    "duration": 7,
    "start_time": "2025-06-24T14:57:09.753Z"
   },
   {
    "duration": 14,
    "start_time": "2025-06-24T14:57:09.762Z"
   },
   {
    "duration": 6,
    "start_time": "2025-06-24T14:57:09.778Z"
   },
   {
    "duration": 9,
    "start_time": "2025-06-24T14:57:09.786Z"
   },
   {
    "duration": 5,
    "start_time": "2025-06-24T14:57:09.797Z"
   },
   {
    "duration": 3,
    "start_time": "2025-06-24T14:57:09.804Z"
   },
   {
    "duration": 176,
    "start_time": "2025-06-24T14:57:09.809Z"
   },
   {
    "duration": 488,
    "start_time": "2025-06-24T14:57:09.987Z"
   },
   {
    "duration": 5,
    "start_time": "2025-06-24T14:57:10.477Z"
   },
   {
    "duration": 371,
    "start_time": "2025-06-24T14:57:10.484Z"
   },
   {
    "duration": 19,
    "start_time": "2025-06-24T14:57:10.857Z"
   },
   {
    "duration": 1729,
    "start_time": "2025-06-24T14:57:10.878Z"
   },
   {
    "duration": 11,
    "start_time": "2025-06-24T14:57:40.514Z"
   },
   {
    "duration": 14,
    "start_time": "2025-06-24T14:57:48.714Z"
   },
   {
    "duration": 13,
    "start_time": "2025-06-24T14:57:52.555Z"
   },
   {
    "duration": 9,
    "start_time": "2025-06-24T14:58:05.474Z"
   },
   {
    "duration": 23,
    "start_time": "2025-06-24T14:58:09.226Z"
   },
   {
    "duration": 11,
    "start_time": "2025-06-24T14:58:28.804Z"
   },
   {
    "duration": 2771,
    "start_time": "2025-06-24T14:58:38.840Z"
   },
   {
    "duration": 536,
    "start_time": "2025-06-24T14:58:41.615Z"
   },
   {
    "duration": 10,
    "start_time": "2025-06-24T14:58:42.153Z"
   },
   {
    "duration": 55,
    "start_time": "2025-06-24T14:58:42.164Z"
   },
   {
    "duration": 16,
    "start_time": "2025-06-24T14:58:42.221Z"
   },
   {
    "duration": 12,
    "start_time": "2025-06-24T14:58:42.244Z"
   },
   {
    "duration": 105,
    "start_time": "2025-06-24T14:58:42.258Z"
   },
   {
    "duration": 4,
    "start_time": "2025-06-24T14:58:42.365Z"
   },
   {
    "duration": 16,
    "start_time": "2025-06-24T14:58:42.370Z"
   },
   {
    "duration": 13,
    "start_time": "2025-06-24T14:58:42.388Z"
   },
   {
    "duration": 12,
    "start_time": "2025-06-24T14:58:42.403Z"
   },
   {
    "duration": 34,
    "start_time": "2025-06-24T14:58:42.417Z"
   },
   {
    "duration": 8,
    "start_time": "2025-06-24T14:58:42.454Z"
   },
   {
    "duration": 16,
    "start_time": "2025-06-24T14:58:42.464Z"
   },
   {
    "duration": 12,
    "start_time": "2025-06-24T14:58:42.481Z"
   },
   {
    "duration": 18,
    "start_time": "2025-06-24T14:58:42.494Z"
   },
   {
    "duration": 55,
    "start_time": "2025-06-24T14:58:42.514Z"
   },
   {
    "duration": 15,
    "start_time": "2025-06-24T14:58:42.570Z"
   },
   {
    "duration": 7,
    "start_time": "2025-06-24T14:58:42.587Z"
   },
   {
    "duration": 5,
    "start_time": "2025-06-24T14:58:42.596Z"
   },
   {
    "duration": 151,
    "start_time": "2025-06-24T14:58:42.603Z"
   },
   {
    "duration": 377,
    "start_time": "2025-06-24T14:58:42.756Z"
   },
   {
    "duration": 17,
    "start_time": "2025-06-24T14:58:43.135Z"
   },
   {
    "duration": 347,
    "start_time": "2025-06-24T14:58:43.155Z"
   },
   {
    "duration": 18,
    "start_time": "2025-06-24T14:58:43.503Z"
   },
   {
    "duration": 2152,
    "start_time": "2025-06-24T14:58:43.523Z"
   },
   {
    "duration": 4,
    "start_time": "2025-06-24T14:59:09.714Z"
   },
   {
    "duration": 5,
    "start_time": "2025-06-24T14:59:10.950Z"
   },
   {
    "duration": 2679,
    "start_time": "2025-06-24T15:00:08.848Z"
   },
   {
    "duration": 56,
    "start_time": "2025-06-24T15:00:11.530Z"
   },
   {
    "duration": 10,
    "start_time": "2025-06-24T15:00:11.588Z"
   },
   {
    "duration": 22,
    "start_time": "2025-06-24T15:00:11.600Z"
   },
   {
    "duration": 9,
    "start_time": "2025-06-24T15:00:11.624Z"
   },
   {
    "duration": 20,
    "start_time": "2025-06-24T15:00:11.635Z"
   },
   {
    "duration": 101,
    "start_time": "2025-06-24T15:00:11.657Z"
   },
   {
    "duration": 4,
    "start_time": "2025-06-24T15:00:11.760Z"
   },
   {
    "duration": 21,
    "start_time": "2025-06-24T15:00:11.766Z"
   },
   {
    "duration": 20,
    "start_time": "2025-06-24T15:00:11.789Z"
   },
   {
    "duration": 18,
    "start_time": "2025-06-24T15:00:11.811Z"
   },
   {
    "duration": 19,
    "start_time": "2025-06-24T15:00:11.831Z"
   },
   {
    "duration": 7,
    "start_time": "2025-06-24T15:00:11.852Z"
   },
   {
    "duration": 11,
    "start_time": "2025-06-24T15:00:11.863Z"
   },
   {
    "duration": 17,
    "start_time": "2025-06-24T15:00:11.876Z"
   },
   {
    "duration": 16,
    "start_time": "2025-06-24T15:00:11.895Z"
   },
   {
    "duration": 16,
    "start_time": "2025-06-24T15:00:11.912Z"
   },
   {
    "duration": 4,
    "start_time": "2025-06-24T15:00:11.930Z"
   },
   {
    "duration": 13,
    "start_time": "2025-06-24T15:00:11.939Z"
   },
   {
    "duration": 10,
    "start_time": "2025-06-24T15:00:11.954Z"
   },
   {
    "duration": 12,
    "start_time": "2025-06-24T15:00:11.965Z"
   },
   {
    "duration": 24,
    "start_time": "2025-06-24T15:00:11.979Z"
   },
   {
    "duration": 259,
    "start_time": "2025-06-24T15:00:12.005Z"
   },
   {
    "duration": 358,
    "start_time": "2025-06-24T15:00:12.266Z"
   },
   {
    "duration": 24,
    "start_time": "2025-06-24T15:00:12.625Z"
   },
   {
    "duration": 420,
    "start_time": "2025-06-24T15:00:12.652Z"
   },
   {
    "duration": 17,
    "start_time": "2025-06-24T15:00:13.073Z"
   },
   {
    "duration": 1833,
    "start_time": "2025-06-24T15:00:13.092Z"
   },
   {
    "duration": 12,
    "start_time": "2025-06-24T17:00:35.833Z"
   },
   {
    "duration": 12,
    "start_time": "2025-06-24T17:00:38.004Z"
   },
   {
    "duration": 12,
    "start_time": "2025-06-24T17:00:54.605Z"
   },
   {
    "duration": 2669,
    "start_time": "2025-06-24T17:01:07.853Z"
   },
   {
    "duration": 133,
    "start_time": "2025-06-24T17:01:10.526Z"
   },
   {
    "duration": 10,
    "start_time": "2025-06-24T17:01:10.661Z"
   },
   {
    "duration": 32,
    "start_time": "2025-06-24T17:01:10.672Z"
   },
   {
    "duration": 9,
    "start_time": "2025-06-24T17:01:10.707Z"
   },
   {
    "duration": 9,
    "start_time": "2025-06-24T17:01:10.717Z"
   },
   {
    "duration": 103,
    "start_time": "2025-06-24T17:01:10.728Z"
   },
   {
    "duration": 11,
    "start_time": "2025-06-24T17:01:10.836Z"
   },
   {
    "duration": 7,
    "start_time": "2025-06-24T17:01:10.850Z"
   },
   {
    "duration": 8,
    "start_time": "2025-06-24T17:01:10.859Z"
   },
   {
    "duration": 28,
    "start_time": "2025-06-24T17:01:10.869Z"
   },
   {
    "duration": 186,
    "start_time": "2025-06-24T17:01:10.900Z"
   },
   {
    "duration": 144,
    "start_time": "2025-06-24T17:01:11.089Z"
   },
   {
    "duration": 16,
    "start_time": "2025-06-24T17:01:11.237Z"
   },
   {
    "duration": 10,
    "start_time": "2025-06-24T17:01:11.256Z"
   },
   {
    "duration": 9,
    "start_time": "2025-06-24T17:01:11.268Z"
   },
   {
    "duration": 7,
    "start_time": "2025-06-24T17:01:11.279Z"
   },
   {
    "duration": 12,
    "start_time": "2025-06-24T17:01:11.288Z"
   },
   {
    "duration": 12,
    "start_time": "2025-06-24T17:01:11.302Z"
   },
   {
    "duration": 9,
    "start_time": "2025-06-24T17:01:11.340Z"
   },
   {
    "duration": 8,
    "start_time": "2025-06-24T17:01:11.351Z"
   },
   {
    "duration": 5,
    "start_time": "2025-06-24T17:01:11.361Z"
   },
   {
    "duration": 145,
    "start_time": "2025-06-24T17:01:11.368Z"
   },
   {
    "duration": 347,
    "start_time": "2025-06-24T17:01:11.515Z"
   },
   {
    "duration": 4,
    "start_time": "2025-06-24T17:01:11.864Z"
   },
   {
    "duration": 356,
    "start_time": "2025-06-24T17:01:11.870Z"
   },
   {
    "duration": 23,
    "start_time": "2025-06-24T17:01:12.238Z"
   },
   {
    "duration": 1713,
    "start_time": "2025-06-24T17:01:12.263Z"
   },
   {
    "duration": 6,
    "start_time": "2025-06-24T17:01:47.164Z"
   },
   {
    "duration": 7,
    "start_time": "2025-06-24T17:01:49.197Z"
   },
   {
    "duration": 2669,
    "start_time": "2025-06-24T17:02:10.486Z"
   },
   {
    "duration": 48,
    "start_time": "2025-06-24T17:02:13.158Z"
   },
   {
    "duration": 9,
    "start_time": "2025-06-24T17:02:13.208Z"
   },
   {
    "duration": 31,
    "start_time": "2025-06-24T17:02:13.219Z"
   },
   {
    "duration": 8,
    "start_time": "2025-06-24T17:02:13.253Z"
   },
   {
    "duration": 8,
    "start_time": "2025-06-24T17:02:13.263Z"
   },
   {
    "duration": 226,
    "start_time": "2025-06-24T17:02:13.273Z"
   },
   {
    "duration": 4,
    "start_time": "2025-06-24T17:02:13.501Z"
   },
   {
    "duration": 9,
    "start_time": "2025-06-24T17:02:13.507Z"
   },
   {
    "duration": 31,
    "start_time": "2025-06-24T17:02:13.517Z"
   },
   {
    "duration": 174,
    "start_time": "2025-06-24T17:02:13.550Z"
   },
   {
    "duration": 5,
    "start_time": "2025-06-24T17:02:13.725Z"
   },
   {
    "duration": 12,
    "start_time": "2025-06-24T17:02:13.731Z"
   },
   {
    "duration": 13,
    "start_time": "2025-06-24T17:02:13.750Z"
   },
   {
    "duration": 5,
    "start_time": "2025-06-24T17:02:13.765Z"
   },
   {
    "duration": 14,
    "start_time": "2025-06-24T17:02:13.772Z"
   },
   {
    "duration": 6,
    "start_time": "2025-06-24T17:02:13.789Z"
   },
   {
    "duration": 6,
    "start_time": "2025-06-24T17:02:13.797Z"
   },
   {
    "duration": 36,
    "start_time": "2025-06-24T17:02:13.804Z"
   },
   {
    "duration": 11,
    "start_time": "2025-06-24T17:02:13.842Z"
   },
   {
    "duration": 6,
    "start_time": "2025-06-24T17:02:13.855Z"
   },
   {
    "duration": 10,
    "start_time": "2025-06-24T17:02:13.863Z"
   },
   {
    "duration": 158,
    "start_time": "2025-06-24T17:02:13.875Z"
   },
   {
    "duration": 383,
    "start_time": "2025-06-24T17:02:14.037Z"
   },
   {
    "duration": 19,
    "start_time": "2025-06-24T17:02:14.422Z"
   },
   {
    "duration": 342,
    "start_time": "2025-06-24T17:02:14.443Z"
   },
   {
    "duration": 18,
    "start_time": "2025-06-24T17:02:14.787Z"
   },
   {
    "duration": 1600,
    "start_time": "2025-06-24T17:02:14.807Z"
   },
   {
    "duration": 5,
    "start_time": "2025-06-24T17:02:30.724Z"
   },
   {
    "duration": 7,
    "start_time": "2025-06-24T17:02:31.564Z"
   },
   {
    "duration": 2641,
    "start_time": "2025-06-24T17:02:38.675Z"
   },
   {
    "duration": 54,
    "start_time": "2025-06-24T17:02:41.318Z"
   },
   {
    "duration": 12,
    "start_time": "2025-06-24T17:02:41.374Z"
   },
   {
    "duration": 13,
    "start_time": "2025-06-24T17:02:41.389Z"
   },
   {
    "duration": 29,
    "start_time": "2025-06-24T17:02:41.403Z"
   },
   {
    "duration": 23,
    "start_time": "2025-06-24T17:02:41.434Z"
   },
   {
    "duration": 114,
    "start_time": "2025-06-24T17:02:41.459Z"
   },
   {
    "duration": 5,
    "start_time": "2025-06-24T17:02:41.576Z"
   },
   {
    "duration": 138,
    "start_time": "2025-06-24T17:02:41.583Z"
   },
   {
    "duration": 8,
    "start_time": "2025-06-24T17:02:41.726Z"
   },
   {
    "duration": 15,
    "start_time": "2025-06-24T17:02:41.736Z"
   },
   {
    "duration": 5,
    "start_time": "2025-06-24T17:02:41.754Z"
   },
   {
    "duration": 11,
    "start_time": "2025-06-24T17:02:41.761Z"
   },
   {
    "duration": 22,
    "start_time": "2025-06-24T17:02:41.773Z"
   },
   {
    "duration": 15,
    "start_time": "2025-06-24T17:02:41.797Z"
   },
   {
    "duration": 36,
    "start_time": "2025-06-24T17:02:41.814Z"
   },
   {
    "duration": 8,
    "start_time": "2025-06-24T17:02:41.852Z"
   },
   {
    "duration": 5,
    "start_time": "2025-06-24T17:02:41.862Z"
   },
   {
    "duration": 41,
    "start_time": "2025-06-24T17:02:41.869Z"
   },
   {
    "duration": 13,
    "start_time": "2025-06-24T17:02:41.912Z"
   },
   {
    "duration": 32,
    "start_time": "2025-06-24T17:02:41.927Z"
   },
   {
    "duration": 19,
    "start_time": "2025-06-24T17:02:41.961Z"
   },
   {
    "duration": 145,
    "start_time": "2025-06-24T17:02:41.981Z"
   },
   {
    "duration": 353,
    "start_time": "2025-06-24T17:02:42.128Z"
   },
   {
    "duration": 7,
    "start_time": "2025-06-24T17:02:42.482Z"
   },
   {
    "duration": 486,
    "start_time": "2025-06-24T17:02:42.490Z"
   },
   {
    "duration": 16,
    "start_time": "2025-06-24T17:02:42.978Z"
   },
   {
    "duration": 2123,
    "start_time": "2025-06-24T17:02:42.997Z"
   },
   {
    "duration": 7,
    "start_time": "2025-06-24T17:03:43.787Z"
   },
   {
    "duration": 12,
    "start_time": "2025-06-24T17:03:45.965Z"
   },
   {
    "duration": 2682,
    "start_time": "2025-06-24T17:03:50.580Z"
   },
   {
    "duration": 121,
    "start_time": "2025-06-24T17:03:53.265Z"
   },
   {
    "duration": 10,
    "start_time": "2025-06-24T17:03:53.388Z"
   },
   {
    "duration": 22,
    "start_time": "2025-06-24T17:03:53.401Z"
   },
   {
    "duration": 19,
    "start_time": "2025-06-24T17:03:53.427Z"
   },
   {
    "duration": 8,
    "start_time": "2025-06-24T17:03:53.452Z"
   },
   {
    "duration": 105,
    "start_time": "2025-06-24T17:03:53.462Z"
   },
   {
    "duration": 5,
    "start_time": "2025-06-24T17:03:53.568Z"
   },
   {
    "duration": 147,
    "start_time": "2025-06-24T17:03:53.574Z"
   },
   {
    "duration": 11,
    "start_time": "2025-06-24T17:03:53.722Z"
   },
   {
    "duration": 17,
    "start_time": "2025-06-24T17:03:53.734Z"
   },
   {
    "duration": 6,
    "start_time": "2025-06-24T17:03:53.753Z"
   },
   {
    "duration": 13,
    "start_time": "2025-06-24T17:03:53.761Z"
   },
   {
    "duration": 10,
    "start_time": "2025-06-24T17:03:53.777Z"
   },
   {
    "duration": 21,
    "start_time": "2025-06-24T17:03:53.789Z"
   },
   {
    "duration": 26,
    "start_time": "2025-06-24T17:03:53.812Z"
   },
   {
    "duration": 10,
    "start_time": "2025-06-24T17:03:53.850Z"
   },
   {
    "duration": 15,
    "start_time": "2025-06-24T17:03:53.862Z"
   },
   {
    "duration": 12,
    "start_time": "2025-06-24T17:03:53.879Z"
   },
   {
    "duration": 8,
    "start_time": "2025-06-24T17:03:53.892Z"
   },
   {
    "duration": 13,
    "start_time": "2025-06-24T17:03:53.902Z"
   },
   {
    "duration": 17,
    "start_time": "2025-06-24T17:03:53.917Z"
   },
   {
    "duration": 146,
    "start_time": "2025-06-24T17:03:53.937Z"
   },
   {
    "duration": 396,
    "start_time": "2025-06-24T17:03:54.085Z"
   },
   {
    "duration": 6,
    "start_time": "2025-06-24T17:03:54.483Z"
   },
   {
    "duration": 379,
    "start_time": "2025-06-24T17:03:54.491Z"
   },
   {
    "duration": 17,
    "start_time": "2025-06-24T17:03:54.872Z"
   },
   {
    "duration": 1569,
    "start_time": "2025-06-24T17:03:54.891Z"
   },
   {
    "duration": 9576,
    "start_time": "2025-06-25T07:26:07.330Z"
   },
   {
    "duration": 51,
    "start_time": "2025-06-25T07:26:16.908Z"
   },
   {
    "duration": 13,
    "start_time": "2025-06-25T07:26:16.960Z"
   },
   {
    "duration": 12,
    "start_time": "2025-06-25T07:26:16.975Z"
   },
   {
    "duration": 7,
    "start_time": "2025-06-25T07:26:16.989Z"
   },
   {
    "duration": 41,
    "start_time": "2025-06-25T07:26:16.997Z"
   },
   {
    "duration": 97,
    "start_time": "2025-06-25T07:26:17.039Z"
   },
   {
    "duration": 4,
    "start_time": "2025-06-25T07:26:17.138Z"
   },
   {
    "duration": 28,
    "start_time": "2025-06-25T07:26:17.144Z"
   },
   {
    "duration": 11,
    "start_time": "2025-06-25T07:26:17.174Z"
   },
   {
    "duration": 6,
    "start_time": "2025-06-25T07:26:17.187Z"
   },
   {
    "duration": 4,
    "start_time": "2025-06-25T07:26:17.195Z"
   },
   {
    "duration": 17,
    "start_time": "2025-06-25T07:26:17.200Z"
   },
   {
    "duration": 12,
    "start_time": "2025-06-25T07:26:17.220Z"
   },
   {
    "duration": 6,
    "start_time": "2025-06-25T07:26:17.234Z"
   },
   {
    "duration": 10,
    "start_time": "2025-06-25T07:26:17.241Z"
   },
   {
    "duration": 29,
    "start_time": "2025-06-25T07:26:17.253Z"
   },
   {
    "duration": 5,
    "start_time": "2025-06-25T07:26:17.283Z"
   },
   {
    "duration": 3,
    "start_time": "2025-06-25T07:26:17.290Z"
   },
   {
    "duration": 3,
    "start_time": "2025-06-25T07:26:17.295Z"
   },
   {
    "duration": 4,
    "start_time": "2025-06-25T07:26:17.299Z"
   },
   {
    "duration": 7,
    "start_time": "2025-06-25T07:26:17.304Z"
   },
   {
    "duration": 158,
    "start_time": "2025-06-25T07:26:17.312Z"
   },
   {
    "duration": 319,
    "start_time": "2025-06-25T07:26:17.471Z"
   },
   {
    "duration": 5,
    "start_time": "2025-06-25T07:26:17.792Z"
   },
   {
    "duration": 324,
    "start_time": "2025-06-25T07:26:17.799Z"
   },
   {
    "duration": 15,
    "start_time": "2025-06-25T07:26:18.125Z"
   },
   {
    "duration": 1687,
    "start_time": "2025-06-25T07:26:18.142Z"
   },
   {
    "duration": 2416,
    "start_time": "2025-06-25T08:52:57.905Z"
   },
   {
    "duration": 54,
    "start_time": "2025-06-25T08:53:00.324Z"
   },
   {
    "duration": 90,
    "start_time": "2025-06-25T08:53:00.380Z"
   },
   {
    "duration": 51,
    "start_time": "2025-06-25T08:53:00.472Z"
   },
   {
    "duration": 61,
    "start_time": "2025-06-25T08:53:00.525Z"
   },
   {
    "duration": 109,
    "start_time": "2025-06-25T08:53:00.588Z"
   },
   {
    "duration": 97,
    "start_time": "2025-06-25T08:53:00.699Z"
   },
   {
    "duration": 5,
    "start_time": "2025-06-25T08:53:00.798Z"
   },
   {
    "duration": 6,
    "start_time": "2025-06-25T08:53:00.804Z"
   },
   {
    "duration": 35,
    "start_time": "2025-06-25T08:53:00.813Z"
   },
   {
    "duration": 138,
    "start_time": "2025-06-25T08:53:00.849Z"
   },
   {
    "duration": 436,
    "start_time": "2025-06-25T08:53:00.989Z"
   },
   {
    "duration": 5,
    "start_time": "2025-06-25T08:53:01.427Z"
   },
   {
    "duration": 355,
    "start_time": "2025-06-25T08:53:01.434Z"
   },
   {
    "duration": 7,
    "start_time": "2025-06-25T08:53:01.791Z"
   },
   {
    "duration": 23,
    "start_time": "2025-06-25T08:53:01.799Z"
   },
   {
    "duration": 31,
    "start_time": "2025-06-25T08:53:01.823Z"
   },
   {
    "duration": 25,
    "start_time": "2025-06-25T08:53:01.856Z"
   },
   {
    "duration": 6,
    "start_time": "2025-06-25T08:53:01.883Z"
   },
   {
    "duration": 11,
    "start_time": "2025-06-25T08:53:01.890Z"
   },
   {
    "duration": 39,
    "start_time": "2025-06-25T08:53:01.903Z"
   },
   {
    "duration": 30,
    "start_time": "2025-06-25T08:53:01.944Z"
   },
   {
    "duration": 9,
    "start_time": "2025-06-25T08:53:01.976Z"
   },
   {
    "duration": 22,
    "start_time": "2025-06-25T08:53:01.986Z"
   },
   {
    "duration": 9,
    "start_time": "2025-06-25T08:53:02.010Z"
   },
   {
    "duration": 46,
    "start_time": "2025-06-25T08:53:02.021Z"
   },
   {
    "duration": 34,
    "start_time": "2025-06-25T08:53:02.069Z"
   },
   {
    "duration": 1775,
    "start_time": "2025-06-25T08:53:02.106Z"
   },
   {
    "duration": 2525,
    "start_time": "2025-06-25T08:56:28.126Z"
   },
   {
    "duration": 43,
    "start_time": "2025-06-25T08:56:30.654Z"
   },
   {
    "duration": 23,
    "start_time": "2025-06-25T08:56:30.698Z"
   },
   {
    "duration": 66,
    "start_time": "2025-06-25T08:56:30.723Z"
   },
   {
    "duration": 13,
    "start_time": "2025-06-25T08:56:30.793Z"
   },
   {
    "duration": 29,
    "start_time": "2025-06-25T08:56:30.808Z"
   },
   {
    "duration": 151,
    "start_time": "2025-06-25T08:56:30.839Z"
   },
   {
    "duration": 4,
    "start_time": "2025-06-25T08:56:30.992Z"
   },
   {
    "duration": 95,
    "start_time": "2025-06-25T08:56:30.997Z"
   },
   {
    "duration": 133,
    "start_time": "2025-06-25T08:56:31.094Z"
   },
   {
    "duration": 194,
    "start_time": "2025-06-25T08:56:31.228Z"
   },
   {
    "duration": 332,
    "start_time": "2025-06-25T08:56:31.424Z"
   },
   {
    "duration": 6,
    "start_time": "2025-06-25T08:56:31.758Z"
   },
   {
    "duration": 365,
    "start_time": "2025-06-25T08:56:31.775Z"
   },
   {
    "duration": 7,
    "start_time": "2025-06-25T08:56:32.141Z"
   },
   {
    "duration": 39,
    "start_time": "2025-06-25T08:56:32.150Z"
   },
   {
    "duration": 11,
    "start_time": "2025-06-25T08:56:32.191Z"
   },
   {
    "duration": 13,
    "start_time": "2025-06-25T08:56:32.204Z"
   },
   {
    "duration": 5,
    "start_time": "2025-06-25T08:56:32.219Z"
   },
   {
    "duration": 53,
    "start_time": "2025-06-25T08:56:32.226Z"
   },
   {
    "duration": 21,
    "start_time": "2025-06-25T08:56:32.281Z"
   },
   {
    "duration": 13,
    "start_time": "2025-06-25T08:56:32.305Z"
   },
   {
    "duration": 46,
    "start_time": "2025-06-25T08:56:32.320Z"
   },
   {
    "duration": 174,
    "start_time": "2025-06-25T08:56:32.368Z"
   },
   {
    "duration": 119,
    "start_time": "2025-06-25T08:56:32.544Z"
   },
   {
    "duration": 111,
    "start_time": "2025-06-25T08:56:32.666Z"
   },
   {
    "duration": 48,
    "start_time": "2025-06-25T08:56:32.779Z"
   },
   {
    "duration": 1529,
    "start_time": "2025-06-25T08:56:32.829Z"
   },
   {
    "duration": 258,
    "start_time": "2025-06-25T08:59:28.588Z"
   },
   {
    "duration": 372,
    "start_time": "2025-06-25T08:59:48.634Z"
   },
   {
    "duration": 68,
    "start_time": "2025-06-25T09:01:58.027Z"
   },
   {
    "duration": 276,
    "start_time": "2025-06-25T09:02:04.931Z"
   },
   {
    "duration": 2575,
    "start_time": "2025-06-25T09:05:37.624Z"
   },
   {
    "duration": 407,
    "start_time": "2025-06-25T09:05:40.201Z"
   },
   {
    "duration": 9,
    "start_time": "2025-06-25T09:05:40.609Z"
   },
   {
    "duration": 131,
    "start_time": "2025-06-25T09:05:40.619Z"
   },
   {
    "duration": 11,
    "start_time": "2025-06-25T09:05:40.752Z"
   },
   {
    "duration": 8,
    "start_time": "2025-06-25T09:05:40.765Z"
   },
   {
    "duration": 98,
    "start_time": "2025-06-25T09:05:40.775Z"
   },
   {
    "duration": 9,
    "start_time": "2025-06-25T09:05:40.875Z"
   },
   {
    "duration": 19,
    "start_time": "2025-06-25T09:05:40.887Z"
   },
   {
    "duration": 11,
    "start_time": "2025-06-25T09:05:40.908Z"
   },
   {
    "duration": 132,
    "start_time": "2025-06-25T09:05:40.921Z"
   },
   {
    "duration": 342,
    "start_time": "2025-06-25T09:05:41.054Z"
   },
   {
    "duration": 5,
    "start_time": "2025-06-25T09:05:41.398Z"
   },
   {
    "duration": 389,
    "start_time": "2025-06-25T09:05:41.406Z"
   },
   {
    "duration": 6,
    "start_time": "2025-06-25T09:05:41.797Z"
   },
   {
    "duration": 22,
    "start_time": "2025-06-25T09:05:41.804Z"
   },
   {
    "duration": 372,
    "start_time": "2025-06-25T09:05:41.827Z"
   },
   {
    "duration": 17,
    "start_time": "2025-06-25T09:05:42.200Z"
   },
   {
    "duration": 1655,
    "start_time": "2025-06-25T09:05:42.218Z"
   },
   {
    "duration": 5,
    "start_time": "2025-06-25T09:07:58.221Z"
   },
   {
    "duration": 329,
    "start_time": "2025-06-25T09:07:59.749Z"
   },
   {
    "duration": 7,
    "start_time": "2025-06-25T09:08:08.119Z"
   },
   {
    "duration": 5,
    "start_time": "2025-06-25T09:08:08.974Z"
   },
   {
    "duration": 412,
    "start_time": "2025-06-25T09:08:11.320Z"
   },
   {
    "duration": 7,
    "start_time": "2025-06-25T09:08:32.022Z"
   },
   {
    "duration": 2491,
    "start_time": "2025-06-25T09:08:34.704Z"
   },
   {
    "duration": 45,
    "start_time": "2025-06-25T09:08:37.198Z"
   },
   {
    "duration": 77,
    "start_time": "2025-06-25T09:08:37.245Z"
   },
   {
    "duration": 15,
    "start_time": "2025-06-25T09:08:37.324Z"
   },
   {
    "duration": 31,
    "start_time": "2025-06-25T09:08:37.341Z"
   },
   {
    "duration": 116,
    "start_time": "2025-06-25T09:08:37.373Z"
   },
   {
    "duration": 97,
    "start_time": "2025-06-25T09:08:37.491Z"
   },
   {
    "duration": 4,
    "start_time": "2025-06-25T09:08:37.590Z"
   },
   {
    "duration": 10,
    "start_time": "2025-06-25T09:08:37.596Z"
   },
   {
    "duration": 9,
    "start_time": "2025-06-25T09:08:37.608Z"
   },
   {
    "duration": 177,
    "start_time": "2025-06-25T09:08:37.618Z"
   },
   {
    "duration": 332,
    "start_time": "2025-06-25T09:08:37.797Z"
   },
   {
    "duration": 6,
    "start_time": "2025-06-25T09:08:38.130Z"
   },
   {
    "duration": 343,
    "start_time": "2025-06-25T09:08:38.139Z"
   },
   {
    "duration": 7,
    "start_time": "2025-06-25T09:08:38.488Z"
   },
   {
    "duration": 50,
    "start_time": "2025-06-25T09:08:38.496Z"
   },
   {
    "duration": 522,
    "start_time": "2025-06-25T09:08:38.548Z"
   },
   {
    "duration": 20,
    "start_time": "2025-06-25T09:08:39.071Z"
   },
   {
    "duration": 1575,
    "start_time": "2025-06-25T09:08:39.093Z"
   },
   {
    "duration": 2430,
    "start_time": "2025-06-25T09:15:58.687Z"
   },
   {
    "duration": 213,
    "start_time": "2025-06-25T09:16:01.120Z"
   },
   {
    "duration": 9,
    "start_time": "2025-06-25T09:16:01.335Z"
   },
   {
    "duration": 40,
    "start_time": "2025-06-25T09:16:01.345Z"
   },
   {
    "duration": 8,
    "start_time": "2025-06-25T09:16:01.388Z"
   },
   {
    "duration": 53,
    "start_time": "2025-06-25T09:16:01.398Z"
   },
   {
    "duration": 110,
    "start_time": "2025-06-25T09:16:01.452Z"
   },
   {
    "duration": 4,
    "start_time": "2025-06-25T09:16:01.564Z"
   },
   {
    "duration": 5,
    "start_time": "2025-06-25T09:16:01.577Z"
   },
   {
    "duration": 20,
    "start_time": "2025-06-25T09:16:01.584Z"
   },
   {
    "duration": 148,
    "start_time": "2025-06-25T09:16:01.606Z"
   },
   {
    "duration": 446,
    "start_time": "2025-06-25T09:16:01.756Z"
   },
   {
    "duration": 5,
    "start_time": "2025-06-25T09:16:02.204Z"
   },
   {
    "duration": 337,
    "start_time": "2025-06-25T09:16:02.212Z"
   },
   {
    "duration": 6,
    "start_time": "2025-06-25T09:16:02.551Z"
   },
   {
    "duration": 126,
    "start_time": "2025-06-25T09:16:02.558Z"
   },
   {
    "duration": 468,
    "start_time": "2025-06-25T09:16:02.685Z"
   },
   {
    "duration": 31,
    "start_time": "2025-06-25T09:16:03.154Z"
   },
   {
    "duration": 1568,
    "start_time": "2025-06-25T09:16:03.186Z"
   },
   {
    "duration": 15,
    "start_time": "2025-06-25T09:24:56.485Z"
   },
   {
    "duration": 8,
    "start_time": "2025-06-25T09:26:49.454Z"
   },
   {
    "duration": 11,
    "start_time": "2025-06-25T09:27:03.376Z"
   },
   {
    "duration": 10,
    "start_time": "2025-06-25T09:27:10.612Z"
   },
   {
    "duration": 3,
    "start_time": "2025-06-25T09:31:49.851Z"
   },
   {
    "duration": 6,
    "start_time": "2025-06-25T09:46:53.891Z"
   },
   {
    "duration": 4,
    "start_time": "2025-06-25T09:49:18.809Z"
   },
   {
    "duration": 4,
    "start_time": "2025-06-25T09:49:21.234Z"
   },
   {
    "duration": 3,
    "start_time": "2025-06-25T09:49:23.794Z"
   },
   {
    "duration": 4,
    "start_time": "2025-06-25T09:50:45.010Z"
   },
   {
    "duration": 4,
    "start_time": "2025-06-25T09:50:45.450Z"
   },
   {
    "duration": 5,
    "start_time": "2025-06-25T09:55:15.292Z"
   },
   {
    "duration": 4,
    "start_time": "2025-06-25T09:55:16.754Z"
   },
   {
    "duration": 4,
    "start_time": "2025-06-25T09:55:17.810Z"
   },
   {
    "duration": 2586,
    "start_time": "2025-06-25T09:55:23.915Z"
   },
   {
    "duration": 100,
    "start_time": "2025-06-25T09:55:26.503Z"
   },
   {
    "duration": 12,
    "start_time": "2025-06-25T09:55:26.605Z"
   },
   {
    "duration": 45,
    "start_time": "2025-06-25T09:55:26.618Z"
   },
   {
    "duration": 9,
    "start_time": "2025-06-25T09:55:26.666Z"
   },
   {
    "duration": 57,
    "start_time": "2025-06-25T09:55:26.678Z"
   },
   {
    "duration": 97,
    "start_time": "2025-06-25T09:55:26.737Z"
   },
   {
    "duration": 5,
    "start_time": "2025-06-25T09:55:26.836Z"
   },
   {
    "duration": 17,
    "start_time": "2025-06-25T09:55:26.843Z"
   },
   {
    "duration": 7,
    "start_time": "2025-06-25T09:55:26.863Z"
   },
   {
    "duration": 158,
    "start_time": "2025-06-25T09:55:26.876Z"
   },
   {
    "duration": 349,
    "start_time": "2025-06-25T09:55:27.036Z"
   },
   {
    "duration": 7,
    "start_time": "2025-06-25T09:55:27.390Z"
   },
   {
    "duration": 414,
    "start_time": "2025-06-25T09:55:27.400Z"
   },
   {
    "duration": 8,
    "start_time": "2025-06-25T09:55:27.816Z"
   },
   {
    "duration": 67,
    "start_time": "2025-06-25T09:55:27.825Z"
   },
   {
    "duration": 416,
    "start_time": "2025-06-25T09:55:27.893Z"
   },
   {
    "duration": 17,
    "start_time": "2025-06-25T09:55:28.311Z"
   },
   {
    "duration": 15,
    "start_time": "2025-06-25T09:55:28.330Z"
   },
   {
    "duration": 9,
    "start_time": "2025-06-25T09:55:28.347Z"
   },
   {
    "duration": 25,
    "start_time": "2025-06-25T09:55:28.358Z"
   },
   {
    "duration": 15,
    "start_time": "2025-06-25T09:55:28.385Z"
   },
   {
    "duration": 11,
    "start_time": "2025-06-25T09:55:28.401Z"
   },
   {
    "duration": 5,
    "start_time": "2025-06-25T09:55:28.414Z"
   },
   {
    "duration": 1721,
    "start_time": "2025-06-25T09:55:28.421Z"
   },
   {
    "duration": 2608,
    "start_time": "2025-06-25T09:56:09.596Z"
   },
   {
    "duration": 86,
    "start_time": "2025-06-25T09:56:12.206Z"
   },
   {
    "duration": 9,
    "start_time": "2025-06-25T09:56:12.293Z"
   },
   {
    "duration": 17,
    "start_time": "2025-06-25T09:56:12.304Z"
   },
   {
    "duration": 8,
    "start_time": "2025-06-25T09:56:12.323Z"
   },
   {
    "duration": 13,
    "start_time": "2025-06-25T09:56:12.332Z"
   },
   {
    "duration": 220,
    "start_time": "2025-06-25T09:56:12.347Z"
   },
   {
    "duration": 22,
    "start_time": "2025-06-25T09:56:12.569Z"
   },
   {
    "duration": 3,
    "start_time": "2025-06-25T09:56:12.592Z"
   },
   {
    "duration": 8,
    "start_time": "2025-06-25T09:56:12.597Z"
   },
   {
    "duration": 146,
    "start_time": "2025-06-25T09:56:12.606Z"
   },
   {
    "duration": 358,
    "start_time": "2025-06-25T09:56:12.754Z"
   },
   {
    "duration": 5,
    "start_time": "2025-06-25T09:56:13.114Z"
   },
   {
    "duration": 345,
    "start_time": "2025-06-25T09:56:13.121Z"
   },
   {
    "duration": 17,
    "start_time": "2025-06-25T09:56:13.468Z"
   },
   {
    "duration": 4,
    "start_time": "2025-06-25T09:56:13.491Z"
   },
   {
    "duration": 345,
    "start_time": "2025-06-25T09:56:13.497Z"
   },
   {
    "duration": 17,
    "start_time": "2025-06-25T09:56:13.844Z"
   },
   {
    "duration": 14,
    "start_time": "2025-06-25T09:56:13.877Z"
   },
   {
    "duration": 3,
    "start_time": "2025-06-25T09:56:13.893Z"
   },
   {
    "duration": 8,
    "start_time": "2025-06-25T09:56:13.898Z"
   },
   {
    "duration": 6,
    "start_time": "2025-06-25T09:56:13.909Z"
   },
   {
    "duration": 10,
    "start_time": "2025-06-25T09:56:13.916Z"
   },
   {
    "duration": 10,
    "start_time": "2025-06-25T09:56:13.928Z"
   },
   {
    "duration": 1552,
    "start_time": "2025-06-25T09:56:13.940Z"
   },
   {
    "duration": 5,
    "start_time": "2025-06-25T09:59:12.010Z"
   },
   {
    "duration": 4,
    "start_time": "2025-06-25T09:59:19.189Z"
   },
   {
    "duration": 4,
    "start_time": "2025-06-25T09:59:24.433Z"
   },
   {
    "duration": 4,
    "start_time": "2025-06-25T09:59:26.809Z"
   },
   {
    "duration": 56,
    "start_time": "2025-06-25T10:00:37.991Z"
   },
   {
    "duration": 92,
    "start_time": "2025-06-25T10:01:01.930Z"
   },
   {
    "duration": 63,
    "start_time": "2025-06-25T10:01:40.089Z"
   },
   {
    "duration": 1771,
    "start_time": "2025-06-25T10:17:17.370Z"
   },
   {
    "duration": 13,
    "start_time": "2025-06-25T10:17:42.809Z"
   },
   {
    "duration": 136,
    "start_time": "2025-06-25T10:17:55.513Z"
   },
   {
    "duration": 11,
    "start_time": "2025-06-25T10:18:36.410Z"
   },
   {
    "duration": 9,
    "start_time": "2025-06-25T10:18:49.714Z"
   },
   {
    "duration": 13,
    "start_time": "2025-06-25T10:20:21.753Z"
   },
   {
    "duration": 13,
    "start_time": "2025-06-25T10:20:26.449Z"
   },
   {
    "duration": 8,
    "start_time": "2025-06-25T10:20:28.714Z"
   },
   {
    "duration": 134,
    "start_time": "2025-06-25T10:20:33.330Z"
   },
   {
    "duration": 24,
    "start_time": "2025-06-25T10:20:36.073Z"
   },
   {
    "duration": 124,
    "start_time": "2025-06-25T10:27:10.440Z"
   },
   {
    "duration": 14,
    "start_time": "2025-06-25T10:27:31.169Z"
   },
   {
    "duration": 27,
    "start_time": "2025-06-25T10:28:14.473Z"
   },
   {
    "duration": 14,
    "start_time": "2025-06-25T10:29:03.010Z"
   },
   {
    "duration": 132,
    "start_time": "2025-06-25T10:29:09.706Z"
   },
   {
    "duration": 9,
    "start_time": "2025-06-25T10:29:22.649Z"
   },
   {
    "duration": 5,
    "start_time": "2025-06-25T10:43:07.755Z"
   },
   {
    "duration": 5,
    "start_time": "2025-06-25T10:46:35.947Z"
   },
   {
    "duration": 8,
    "start_time": "2025-06-25T10:47:25.096Z"
   },
   {
    "duration": 2727,
    "start_time": "2025-06-25T10:48:20.069Z"
   },
   {
    "duration": 80,
    "start_time": "2025-06-25T10:48:22.801Z"
   },
   {
    "duration": 12,
    "start_time": "2025-06-25T10:48:22.884Z"
   },
   {
    "duration": 16,
    "start_time": "2025-06-25T10:48:22.899Z"
   },
   {
    "duration": 7,
    "start_time": "2025-06-25T10:48:22.918Z"
   },
   {
    "duration": 13,
    "start_time": "2025-06-25T10:48:22.926Z"
   },
   {
    "duration": 110,
    "start_time": "2025-06-25T10:48:22.940Z"
   },
   {
    "duration": 4,
    "start_time": "2025-06-25T10:48:23.052Z"
   },
   {
    "duration": 19,
    "start_time": "2025-06-25T10:48:23.058Z"
   },
   {
    "duration": 12,
    "start_time": "2025-06-25T10:48:23.080Z"
   },
   {
    "duration": 140,
    "start_time": "2025-06-25T10:48:23.094Z"
   },
   {
    "duration": 467,
    "start_time": "2025-06-25T10:48:23.237Z"
   },
   {
    "duration": 6,
    "start_time": "2025-06-25T10:48:23.707Z"
   },
   {
    "duration": 365,
    "start_time": "2025-06-25T10:48:23.715Z"
   },
   {
    "duration": 8,
    "start_time": "2025-06-25T10:48:24.089Z"
   },
   {
    "duration": 11,
    "start_time": "2025-06-25T10:48:24.098Z"
   },
   {
    "duration": 337,
    "start_time": "2025-06-25T10:48:24.111Z"
   },
   {
    "duration": 35,
    "start_time": "2025-06-25T10:48:24.450Z"
   },
   {
    "duration": 17,
    "start_time": "2025-06-25T10:48:24.488Z"
   },
   {
    "duration": 7,
    "start_time": "2025-06-25T10:48:24.506Z"
   },
   {
    "duration": 6,
    "start_time": "2025-06-25T10:48:24.514Z"
   },
   {
    "duration": 15,
    "start_time": "2025-06-25T10:48:24.521Z"
   },
   {
    "duration": 7,
    "start_time": "2025-06-25T10:48:24.537Z"
   },
   {
    "duration": 6,
    "start_time": "2025-06-25T10:48:24.546Z"
   },
   {
    "duration": 1677,
    "start_time": "2025-06-25T10:48:24.554Z"
   },
   {
    "duration": 13,
    "start_time": "2025-06-25T10:48:26.233Z"
   },
   {
    "duration": 9,
    "start_time": "2025-06-25T10:48:26.248Z"
   },
   {
    "duration": 164,
    "start_time": "2025-06-25T10:48:26.258Z"
   },
   {
    "duration": 8,
    "start_time": "2025-06-25T10:48:26.424Z"
   },
   {
    "duration": 5,
    "start_time": "2025-06-25T10:48:26.434Z"
   },
   {
    "duration": 4,
    "start_time": "2025-06-25T10:48:26.441Z"
   },
   {
    "duration": 9875,
    "start_time": "2025-06-25T13:08:21.115Z"
   },
   {
    "duration": 62,
    "start_time": "2025-06-25T13:08:30.993Z"
   },
   {
    "duration": 12,
    "start_time": "2025-06-25T13:08:31.057Z"
   },
   {
    "duration": 37,
    "start_time": "2025-06-25T13:08:31.071Z"
   },
   {
    "duration": 17,
    "start_time": "2025-06-25T13:08:31.110Z"
   },
   {
    "duration": 33,
    "start_time": "2025-06-25T13:08:31.128Z"
   },
   {
    "duration": 131,
    "start_time": "2025-06-25T13:08:31.163Z"
   },
   {
    "duration": 5,
    "start_time": "2025-06-25T13:08:31.296Z"
   },
   {
    "duration": 28,
    "start_time": "2025-06-25T13:08:31.303Z"
   },
   {
    "duration": 12,
    "start_time": "2025-06-25T13:08:31.333Z"
   },
   {
    "duration": 138,
    "start_time": "2025-06-25T13:08:31.347Z"
   },
   {
    "duration": 353,
    "start_time": "2025-06-25T13:08:31.487Z"
   },
   {
    "duration": 8,
    "start_time": "2025-06-25T13:08:31.843Z"
   },
   {
    "duration": 486,
    "start_time": "2025-06-25T13:08:31.855Z"
   },
   {
    "duration": 8,
    "start_time": "2025-06-25T13:08:32.344Z"
   },
   {
    "duration": 11,
    "start_time": "2025-06-25T13:08:32.354Z"
   },
   {
    "duration": 351,
    "start_time": "2025-06-25T13:08:32.367Z"
   },
   {
    "duration": 22,
    "start_time": "2025-06-25T13:08:32.721Z"
   },
   {
    "duration": 17,
    "start_time": "2025-06-25T13:08:32.745Z"
   },
   {
    "duration": 19,
    "start_time": "2025-06-25T13:08:32.764Z"
   },
   {
    "duration": 89,
    "start_time": "2025-06-25T13:08:32.785Z"
   },
   {
    "duration": 36,
    "start_time": "2025-06-25T13:08:32.876Z"
   },
   {
    "duration": 120,
    "start_time": "2025-06-25T13:08:32.914Z"
   },
   {
    "duration": 45,
    "start_time": "2025-06-25T13:08:33.036Z"
   },
   {
    "duration": 1594,
    "start_time": "2025-06-25T13:08:33.083Z"
   },
   {
    "duration": 13,
    "start_time": "2025-06-25T13:08:34.679Z"
   },
   {
    "duration": 21,
    "start_time": "2025-06-25T13:08:34.693Z"
   },
   {
    "duration": 131,
    "start_time": "2025-06-25T13:08:34.716Z"
   },
   {
    "duration": 8,
    "start_time": "2025-06-25T13:08:34.849Z"
   },
   {
    "duration": 32,
    "start_time": "2025-06-25T13:08:34.858Z"
   },
   {
    "duration": 6,
    "start_time": "2025-06-25T13:08:34.891Z"
   },
   {
    "duration": 92,
    "start_time": "2025-06-25T13:08:34.898Z"
   },
   {
    "duration": 88,
    "start_time": "2025-06-25T13:11:05.354Z"
   },
   {
    "duration": 159,
    "start_time": "2025-06-25T13:11:15.035Z"
   },
   {
    "duration": 6,
    "start_time": "2025-06-25T13:12:02.075Z"
   },
   {
    "duration": 78,
    "start_time": "2025-06-25T13:12:38.358Z"
   },
   {
    "duration": 12,
    "start_time": "2025-06-25T13:14:02.013Z"
   },
   {
    "duration": 7,
    "start_time": "2025-06-25T13:14:18.893Z"
   },
   {
    "duration": 67,
    "start_time": "2025-06-25T13:14:19.554Z"
   },
   {
    "duration": 10,
    "start_time": "2025-06-25T13:14:21.573Z"
   },
   {
    "duration": 9,
    "start_time": "2025-06-25T13:15:08.715Z"
   },
   {
    "duration": 7,
    "start_time": "2025-06-25T13:16:22.813Z"
   },
   {
    "duration": 7,
    "start_time": "2025-06-25T13:17:53.733Z"
   },
   {
    "duration": 8,
    "start_time": "2025-06-25T13:22:54.081Z"
   },
   {
    "duration": 17,
    "start_time": "2025-06-25T13:25:46.644Z"
   },
   {
    "duration": 109,
    "start_time": "2025-06-25T13:26:11.444Z"
   },
   {
    "duration": 10,
    "start_time": "2025-06-25T13:26:21.391Z"
   },
   {
    "duration": 11,
    "start_time": "2025-06-25T13:35:48.942Z"
   },
   {
    "duration": 4,
    "start_time": "2025-06-25T13:35:55.642Z"
   },
   {
    "duration": 81,
    "start_time": "2025-06-25T13:35:56.222Z"
   },
   {
    "duration": 81,
    "start_time": "2025-06-25T13:36:21.322Z"
   },
   {
    "duration": 22,
    "start_time": "2025-06-25T13:36:32.702Z"
   },
   {
    "duration": 13,
    "start_time": "2025-06-25T13:37:32.462Z"
   },
   {
    "duration": 15,
    "start_time": "2025-06-25T13:39:53.014Z"
   },
   {
    "duration": 9,
    "start_time": "2025-06-25T13:39:59.382Z"
   },
   {
    "duration": 12,
    "start_time": "2025-06-25T13:40:42.282Z"
   },
   {
    "duration": 9,
    "start_time": "2025-06-25T13:40:43.002Z"
   },
   {
    "duration": 9,
    "start_time": "2025-06-25T13:41:03.182Z"
   },
   {
    "duration": 13,
    "start_time": "2025-06-25T13:41:19.303Z"
   },
   {
    "duration": 9,
    "start_time": "2025-06-25T13:41:19.730Z"
   },
   {
    "duration": 16,
    "start_time": "2025-06-25T13:41:23.922Z"
   },
   {
    "duration": 9,
    "start_time": "2025-06-25T13:41:24.562Z"
   },
   {
    "duration": 1522,
    "start_time": "2025-06-25T13:42:53.642Z"
   },
   {
    "duration": 13,
    "start_time": "2025-06-25T13:42:59.134Z"
   },
   {
    "duration": 8,
    "start_time": "2025-06-25T13:42:59.634Z"
   },
   {
    "duration": 4,
    "start_time": "2025-06-25T13:48:41.571Z"
   },
   {
    "duration": 8,
    "start_time": "2025-06-25T13:48:41.996Z"
   },
   {
    "duration": 13,
    "start_time": "2025-06-25T13:48:46.556Z"
   },
   {
    "duration": 9,
    "start_time": "2025-06-25T13:48:47.171Z"
   },
   {
    "duration": 82,
    "start_time": "2025-06-25T13:49:03.356Z"
   },
   {
    "duration": 9,
    "start_time": "2025-06-25T13:49:04.155Z"
   },
   {
    "duration": 9,
    "start_time": "2025-06-25T13:49:09.170Z"
   },
   {
    "duration": 14,
    "start_time": "2025-06-25T13:50:27.051Z"
   },
   {
    "duration": 12,
    "start_time": "2025-06-25T13:50:27.671Z"
   },
   {
    "duration": 2514,
    "start_time": "2025-06-25T13:51:32.325Z"
   },
   {
    "duration": 145,
    "start_time": "2025-06-25T13:51:34.842Z"
   },
   {
    "duration": 9,
    "start_time": "2025-06-25T13:51:34.989Z"
   },
   {
    "duration": 28,
    "start_time": "2025-06-25T13:51:35.000Z"
   },
   {
    "duration": 10,
    "start_time": "2025-06-25T13:51:35.031Z"
   },
   {
    "duration": 10,
    "start_time": "2025-06-25T13:51:35.043Z"
   },
   {
    "duration": 94,
    "start_time": "2025-06-25T13:51:35.054Z"
   },
   {
    "duration": 4,
    "start_time": "2025-06-25T13:51:35.149Z"
   },
   {
    "duration": 68,
    "start_time": "2025-06-25T13:51:35.155Z"
   },
   {
    "duration": 18,
    "start_time": "2025-06-25T13:51:35.225Z"
   },
   {
    "duration": 177,
    "start_time": "2025-06-25T13:51:35.245Z"
   },
   {
    "duration": 327,
    "start_time": "2025-06-25T13:51:35.424Z"
   },
   {
    "duration": 5,
    "start_time": "2025-06-25T13:51:35.752Z"
   },
   {
    "duration": 366,
    "start_time": "2025-06-25T13:51:35.760Z"
   },
   {
    "duration": 10,
    "start_time": "2025-06-25T13:51:36.127Z"
   },
   {
    "duration": 14,
    "start_time": "2025-06-25T13:51:36.138Z"
   },
   {
    "duration": 385,
    "start_time": "2025-06-25T13:51:36.154Z"
   },
   {
    "duration": 17,
    "start_time": "2025-06-25T13:51:36.540Z"
   },
   {
    "duration": 68,
    "start_time": "2025-06-25T13:51:36.558Z"
   },
   {
    "duration": 57,
    "start_time": "2025-06-25T13:51:36.627Z"
   },
   {
    "duration": 15,
    "start_time": "2025-06-25T13:51:36.686Z"
   },
   {
    "duration": 7,
    "start_time": "2025-06-25T13:51:36.703Z"
   },
   {
    "duration": 12,
    "start_time": "2025-06-25T13:51:36.711Z"
   },
   {
    "duration": 17,
    "start_time": "2025-06-25T13:51:36.725Z"
   },
   {
    "duration": 2263,
    "start_time": "2025-06-25T13:51:36.744Z"
   },
   {
    "duration": 14,
    "start_time": "2025-06-25T13:51:39.009Z"
   },
   {
    "duration": 10,
    "start_time": "2025-06-25T13:51:39.035Z"
   },
   {
    "duration": 126,
    "start_time": "2025-06-25T13:51:39.047Z"
   },
   {
    "duration": 8,
    "start_time": "2025-06-25T13:51:39.175Z"
   },
   {
    "duration": 22,
    "start_time": "2025-06-25T13:51:39.185Z"
   },
   {
    "duration": 26,
    "start_time": "2025-06-25T13:51:39.209Z"
   },
   {
    "duration": 8,
    "start_time": "2025-06-25T13:51:39.237Z"
   },
   {
    "duration": 7,
    "start_time": "2025-06-25T13:51:39.246Z"
   },
   {
    "duration": 66,
    "start_time": "2025-06-25T13:51:39.254Z"
   },
   {
    "duration": 22,
    "start_time": "2025-06-25T13:51:39.321Z"
   },
   {
    "duration": 6,
    "start_time": "2025-06-25T13:51:39.345Z"
   },
   {
    "duration": 9,
    "start_time": "2025-06-25T13:51:39.352Z"
   },
   {
    "duration": 6,
    "start_time": "2025-06-25T13:51:39.363Z"
   },
   {
    "duration": 109,
    "start_time": "2025-06-25T13:51:39.370Z"
   },
   {
    "duration": 13,
    "start_time": "2025-06-25T13:51:39.480Z"
   },
   {
    "duration": 8,
    "start_time": "2025-06-25T13:53:47.912Z"
   },
   {
    "duration": 11,
    "start_time": "2025-06-25T13:53:48.387Z"
   },
   {
    "duration": 7,
    "start_time": "2025-06-25T13:53:52.964Z"
   },
   {
    "duration": 10,
    "start_time": "2025-06-25T13:53:53.492Z"
   },
   {
    "duration": 10904,
    "start_time": "2025-06-26T07:29:20.814Z"
   },
   {
    "duration": 145,
    "start_time": "2025-06-26T07:29:31.721Z"
   },
   {
    "duration": 13,
    "start_time": "2025-06-26T07:29:31.867Z"
   },
   {
    "duration": 34,
    "start_time": "2025-06-26T07:29:31.882Z"
   },
   {
    "duration": 82,
    "start_time": "2025-06-26T07:29:31.918Z"
   },
   {
    "duration": 49,
    "start_time": "2025-06-26T07:29:32.002Z"
   },
   {
    "duration": 105,
    "start_time": "2025-06-26T07:29:32.054Z"
   },
   {
    "duration": 4,
    "start_time": "2025-06-26T07:29:32.160Z"
   },
   {
    "duration": 17,
    "start_time": "2025-06-26T07:29:32.166Z"
   },
   {
    "duration": 30,
    "start_time": "2025-06-26T07:29:32.185Z"
   },
   {
    "duration": 153,
    "start_time": "2025-06-26T07:29:32.217Z"
   },
   {
    "duration": 356,
    "start_time": "2025-06-26T07:29:32.372Z"
   },
   {
    "duration": 15,
    "start_time": "2025-06-26T07:29:32.730Z"
   },
   {
    "duration": 357,
    "start_time": "2025-06-26T07:29:32.750Z"
   },
   {
    "duration": 8,
    "start_time": "2025-06-26T07:29:33.109Z"
   },
   {
    "duration": 28,
    "start_time": "2025-06-26T07:29:33.119Z"
   },
   {
    "duration": 349,
    "start_time": "2025-06-26T07:29:33.149Z"
   },
   {
    "duration": 17,
    "start_time": "2025-06-26T07:29:33.500Z"
   },
   {
    "duration": 29,
    "start_time": "2025-06-26T07:29:33.519Z"
   },
   {
    "duration": 2,
    "start_time": "2025-06-26T07:29:33.550Z"
   },
   {
    "duration": 36,
    "start_time": "2025-06-26T07:29:33.554Z"
   },
   {
    "duration": 31,
    "start_time": "2025-06-26T07:29:33.591Z"
   },
   {
    "duration": 21,
    "start_time": "2025-06-26T07:29:33.624Z"
   },
   {
    "duration": 11,
    "start_time": "2025-06-26T07:29:33.650Z"
   },
   {
    "duration": 1732,
    "start_time": "2025-06-26T07:29:33.663Z"
   },
   {
    "duration": 13,
    "start_time": "2025-06-26T07:29:35.396Z"
   },
   {
    "duration": 89,
    "start_time": "2025-06-26T07:29:35.411Z"
   },
   {
    "duration": 131,
    "start_time": "2025-06-26T07:29:35.502Z"
   },
   {
    "duration": 18,
    "start_time": "2025-06-26T07:29:35.634Z"
   },
   {
    "duration": 118,
    "start_time": "2025-06-26T07:29:35.654Z"
   },
   {
    "duration": 62,
    "start_time": "2025-06-26T07:29:35.774Z"
   },
   {
    "duration": 17,
    "start_time": "2025-06-26T07:29:35.839Z"
   },
   {
    "duration": 25,
    "start_time": "2025-06-26T07:29:35.858Z"
   },
   {
    "duration": 27,
    "start_time": "2025-06-26T07:29:35.884Z"
   },
   {
    "duration": 174,
    "start_time": "2025-06-26T07:29:35.913Z"
   },
   {
    "duration": 8,
    "start_time": "2025-06-26T07:29:36.088Z"
   },
   {
    "duration": 25,
    "start_time": "2025-06-26T07:29:36.098Z"
   },
   {
    "duration": 9,
    "start_time": "2025-06-26T07:29:36.124Z"
   },
   {
    "duration": 9,
    "start_time": "2025-06-26T07:29:36.137Z"
   },
   {
    "duration": 98,
    "start_time": "2025-06-26T07:29:36.149Z"
   },
   {
    "duration": 12,
    "start_time": "2025-06-26T07:29:36.251Z"
   },
   {
    "duration": 3235,
    "start_time": "2025-06-26T07:34:56.532Z"
   },
   {
    "duration": 8,
    "start_time": "2025-06-26T07:34:59.769Z"
   },
   {
    "duration": 154,
    "start_time": "2025-06-26T07:35:32.660Z"
   },
   {
    "duration": 172,
    "start_time": "2025-06-26T07:36:49.076Z"
   },
   {
    "duration": 8,
    "start_time": "2025-06-26T07:36:49.716Z"
   },
   {
    "duration": 127,
    "start_time": "2025-06-26T07:36:50.678Z"
   },
   {
    "duration": 3527,
    "start_time": "2025-06-26T07:37:02.042Z"
   },
   {
    "duration": 10,
    "start_time": "2025-06-26T07:37:11.173Z"
   },
   {
    "duration": 123,
    "start_time": "2025-06-26T07:37:11.972Z"
   },
   {
    "duration": 3430,
    "start_time": "2025-06-26T07:38:03.812Z"
   },
   {
    "duration": 13,
    "start_time": "2025-06-26T07:38:10.253Z"
   },
   {
    "duration": 2648,
    "start_time": "2025-06-26T07:38:15.755Z"
   },
   {
    "duration": 86,
    "start_time": "2025-06-26T07:38:18.407Z"
   },
   {
    "duration": 24,
    "start_time": "2025-06-26T07:38:18.495Z"
   },
   {
    "duration": 40,
    "start_time": "2025-06-26T07:38:18.521Z"
   },
   {
    "duration": 8,
    "start_time": "2025-06-26T07:38:18.563Z"
   },
   {
    "duration": 7,
    "start_time": "2025-06-26T07:38:18.572Z"
   },
   {
    "duration": 97,
    "start_time": "2025-06-26T07:38:18.581Z"
   },
   {
    "duration": 5,
    "start_time": "2025-06-26T07:38:18.679Z"
   },
   {
    "duration": 12,
    "start_time": "2025-06-26T07:38:18.685Z"
   },
   {
    "duration": 24,
    "start_time": "2025-06-26T07:38:18.699Z"
   },
   {
    "duration": 143,
    "start_time": "2025-06-26T07:38:18.724Z"
   },
   {
    "duration": 358,
    "start_time": "2025-06-26T07:38:18.869Z"
   },
   {
    "duration": 13,
    "start_time": "2025-06-26T07:38:19.229Z"
   },
   {
    "duration": 361,
    "start_time": "2025-06-26T07:38:19.251Z"
   },
   {
    "duration": 8,
    "start_time": "2025-06-26T07:38:19.614Z"
   },
   {
    "duration": 14,
    "start_time": "2025-06-26T07:38:19.624Z"
   },
   {
    "duration": 341,
    "start_time": "2025-06-26T07:38:19.641Z"
   },
   {
    "duration": 18,
    "start_time": "2025-06-26T07:38:19.983Z"
   },
   {
    "duration": 55,
    "start_time": "2025-06-26T07:38:20.002Z"
   },
   {
    "duration": 29,
    "start_time": "2025-06-26T07:38:20.059Z"
   },
   {
    "duration": 25,
    "start_time": "2025-06-26T07:38:20.090Z"
   },
   {
    "duration": 10,
    "start_time": "2025-06-26T07:38:20.117Z"
   },
   {
    "duration": 21,
    "start_time": "2025-06-26T07:38:20.129Z"
   },
   {
    "duration": 16,
    "start_time": "2025-06-26T07:38:20.152Z"
   },
   {
    "duration": 1619,
    "start_time": "2025-06-26T07:38:20.170Z"
   },
   {
    "duration": 13,
    "start_time": "2025-06-26T07:38:21.790Z"
   },
   {
    "duration": 63,
    "start_time": "2025-06-26T07:38:21.805Z"
   },
   {
    "duration": 126,
    "start_time": "2025-06-26T07:38:21.870Z"
   },
   {
    "duration": 9,
    "start_time": "2025-06-26T07:38:21.998Z"
   },
   {
    "duration": 3419,
    "start_time": "2025-06-26T07:38:22.008Z"
   },
   {
    "duration": 22,
    "start_time": "2025-06-26T07:38:25.428Z"
   },
   {
    "duration": 71,
    "start_time": "2025-06-26T07:38:25.452Z"
   },
   {
    "duration": 76,
    "start_time": "2025-06-26T07:38:25.525Z"
   },
   {
    "duration": 9,
    "start_time": "2025-06-26T07:38:25.603Z"
   },
   {
    "duration": 25,
    "start_time": "2025-06-26T07:38:25.614Z"
   },
   {
    "duration": 15,
    "start_time": "2025-06-26T07:38:25.641Z"
   },
   {
    "duration": 19,
    "start_time": "2025-06-26T07:38:25.657Z"
   },
   {
    "duration": 89,
    "start_time": "2025-06-26T07:38:25.677Z"
   },
   {
    "duration": 95,
    "start_time": "2025-06-26T07:38:25.767Z"
   },
   {
    "duration": 55,
    "start_time": "2025-06-26T07:39:32.508Z"
   },
   {
    "duration": 19,
    "start_time": "2025-06-26T07:39:37.285Z"
   },
   {
    "duration": 83,
    "start_time": "2025-06-26T07:40:32.516Z"
   },
   {
    "duration": 13,
    "start_time": "2025-06-26T07:40:35.293Z"
   },
   {
    "duration": 10,
    "start_time": "2025-06-26T07:41:01.203Z"
   },
   {
    "duration": 10,
    "start_time": "2025-06-26T07:41:11.173Z"
   },
   {
    "duration": 8,
    "start_time": "2025-06-26T07:41:19.188Z"
   },
   {
    "duration": 26,
    "start_time": "2025-06-26T07:42:49.229Z"
   },
   {
    "duration": 12,
    "start_time": "2025-06-26T07:42:54.797Z"
   },
   {
    "duration": 11,
    "start_time": "2025-06-26T07:45:03.173Z"
   },
   {
    "duration": 8,
    "start_time": "2025-06-26T07:45:04.815Z"
   },
   {
    "duration": 5,
    "start_time": "2025-06-26T07:45:28.237Z"
   },
   {
    "duration": 40,
    "start_time": "2025-06-26T07:46:30.573Z"
   },
   {
    "duration": 25,
    "start_time": "2025-06-26T07:47:54.978Z"
   },
   {
    "duration": 41,
    "start_time": "2025-06-26T07:48:00.756Z"
   },
   {
    "duration": 34,
    "start_time": "2025-06-26T07:49:10.013Z"
   },
   {
    "duration": 33,
    "start_time": "2025-06-26T07:49:50.037Z"
   },
   {
    "duration": 1012,
    "start_time": "2025-06-26T07:50:08.076Z"
   },
   {
    "duration": 6,
    "start_time": "2025-06-26T07:50:38.725Z"
   },
   {
    "duration": 24,
    "start_time": "2025-06-26T07:50:48.733Z"
   },
   {
    "duration": 6,
    "start_time": "2025-06-26T07:51:57.271Z"
   },
   {
    "duration": 12,
    "start_time": "2025-06-26T07:52:55.279Z"
   },
   {
    "duration": 17,
    "start_time": "2025-06-26T07:53:11.412Z"
   },
   {
    "duration": 8,
    "start_time": "2025-06-26T07:53:27.852Z"
   },
   {
    "duration": 18,
    "start_time": "2025-06-26T07:53:28.372Z"
   },
   {
    "duration": 9,
    "start_time": "2025-06-26T07:53:43.124Z"
   },
   {
    "duration": 5,
    "start_time": "2025-06-26T07:53:47.692Z"
   },
   {
    "duration": 6,
    "start_time": "2025-06-26T07:54:09.265Z"
   },
   {
    "duration": 6,
    "start_time": "2025-06-26T07:54:21.064Z"
   },
   {
    "duration": 2593,
    "start_time": "2025-06-26T07:54:24.414Z"
   },
   {
    "duration": 80,
    "start_time": "2025-06-26T07:54:27.010Z"
   },
   {
    "duration": 10,
    "start_time": "2025-06-26T07:54:27.092Z"
   },
   {
    "duration": 57,
    "start_time": "2025-06-26T07:54:27.103Z"
   },
   {
    "duration": 8,
    "start_time": "2025-06-26T07:54:27.162Z"
   },
   {
    "duration": 6,
    "start_time": "2025-06-26T07:54:27.172Z"
   },
   {
    "duration": 128,
    "start_time": "2025-06-26T07:54:27.179Z"
   },
   {
    "duration": 3,
    "start_time": "2025-06-26T07:54:27.309Z"
   },
   {
    "duration": 5,
    "start_time": "2025-06-26T07:54:27.314Z"
   },
   {
    "duration": 11,
    "start_time": "2025-06-26T07:54:27.340Z"
   },
   {
    "duration": 225,
    "start_time": "2025-06-26T07:54:27.352Z"
   },
   {
    "duration": 445,
    "start_time": "2025-06-26T07:54:27.578Z"
   },
   {
    "duration": 20,
    "start_time": "2025-06-26T07:54:28.024Z"
   },
   {
    "duration": 370,
    "start_time": "2025-06-26T07:54:28.050Z"
   },
   {
    "duration": 8,
    "start_time": "2025-06-26T07:54:28.422Z"
   },
   {
    "duration": 53,
    "start_time": "2025-06-26T07:54:28.435Z"
   },
   {
    "duration": 404,
    "start_time": "2025-06-26T07:54:28.490Z"
   },
   {
    "duration": 17,
    "start_time": "2025-06-26T07:54:28.896Z"
   },
   {
    "duration": 35,
    "start_time": "2025-06-26T07:54:28.915Z"
   },
   {
    "duration": 2,
    "start_time": "2025-06-26T07:54:28.952Z"
   },
   {
    "duration": 8,
    "start_time": "2025-06-26T07:54:28.956Z"
   },
   {
    "duration": 5,
    "start_time": "2025-06-26T07:54:28.966Z"
   },
   {
    "duration": 5,
    "start_time": "2025-06-26T07:54:28.973Z"
   },
   {
    "duration": 3,
    "start_time": "2025-06-26T07:54:28.979Z"
   },
   {
    "duration": 1570,
    "start_time": "2025-06-26T07:54:28.984Z"
   },
   {
    "duration": 12,
    "start_time": "2025-06-26T07:54:30.556Z"
   },
   {
    "duration": 46,
    "start_time": "2025-06-26T07:54:30.570Z"
   },
   {
    "duration": 143,
    "start_time": "2025-06-26T07:54:30.617Z"
   },
   {
    "duration": 9,
    "start_time": "2025-06-26T07:54:30.762Z"
   },
   {
    "duration": 3485,
    "start_time": "2025-06-26T07:54:30.773Z"
   },
   {
    "duration": 5,
    "start_time": "2025-06-26T07:54:34.260Z"
   },
   {
    "duration": 22,
    "start_time": "2025-06-26T07:54:34.267Z"
   },
   {
    "duration": 81,
    "start_time": "2025-06-26T07:54:34.291Z"
   },
   {
    "duration": 10,
    "start_time": "2025-06-26T07:54:34.374Z"
   },
   {
    "duration": 7,
    "start_time": "2025-06-26T07:54:34.386Z"
   },
   {
    "duration": 65,
    "start_time": "2025-06-26T07:54:34.394Z"
   },
   {
    "duration": 162,
    "start_time": "2025-06-26T07:54:34.460Z"
   },
   {
    "duration": 94,
    "start_time": "2025-06-26T07:54:34.624Z"
   },
   {
    "duration": 26,
    "start_time": "2025-06-26T07:54:34.720Z"
   },
   {
    "duration": 22,
    "start_time": "2025-06-26T07:54:34.748Z"
   },
   {
    "duration": 10,
    "start_time": "2025-06-26T07:54:34.774Z"
   },
   {
    "duration": 7,
    "start_time": "2025-06-26T07:54:34.785Z"
   },
   {
    "duration": 74,
    "start_time": "2025-06-26T07:54:34.793Z"
   },
   {
    "duration": 25,
    "start_time": "2025-06-26T07:54:34.869Z"
   },
   {
    "duration": 7,
    "start_time": "2025-06-26T07:54:34.896Z"
   },
   {
    "duration": 19,
    "start_time": "2025-06-26T07:54:34.904Z"
   },
   {
    "duration": 37,
    "start_time": "2025-06-26T07:54:34.924Z"
   },
   {
    "duration": 31,
    "start_time": "2025-06-26T07:54:34.963Z"
   },
   {
    "duration": 38,
    "start_time": "2025-06-26T07:54:34.996Z"
   },
   {
    "duration": 8,
    "start_time": "2025-06-26T07:57:35.773Z"
   },
   {
    "duration": 5,
    "start_time": "2025-06-26T07:57:54.053Z"
   },
   {
    "duration": 11,
    "start_time": "2025-06-26T07:58:12.653Z"
   },
   {
    "duration": 12,
    "start_time": "2025-06-26T07:58:28.952Z"
   },
   {
    "duration": 12,
    "start_time": "2025-06-26T07:59:13.284Z"
   },
   {
    "duration": 16,
    "start_time": "2025-06-26T08:01:07.477Z"
   },
   {
    "duration": 57,
    "start_time": "2025-06-26T08:45:28.313Z"
   },
   {
    "duration": 17,
    "start_time": "2025-06-26T08:49:34.432Z"
   },
   {
    "duration": 9,
    "start_time": "2025-06-26T08:50:07.931Z"
   },
   {
    "duration": 28,
    "start_time": "2025-06-26T09:00:22.975Z"
   },
   {
    "duration": 24,
    "start_time": "2025-06-26T09:00:23.830Z"
   },
   {
    "duration": 35,
    "start_time": "2025-06-26T09:01:05.591Z"
   },
   {
    "duration": 30,
    "start_time": "2025-06-26T09:01:22.174Z"
   },
   {
    "duration": 7,
    "start_time": "2025-06-26T09:01:41.990Z"
   },
   {
    "duration": 38,
    "start_time": "2025-06-26T09:02:24.735Z"
   },
   {
    "duration": 2683,
    "start_time": "2025-06-26T09:02:27.215Z"
   },
   {
    "duration": 90,
    "start_time": "2025-06-26T09:02:29.901Z"
   },
   {
    "duration": 9,
    "start_time": "2025-06-26T09:02:29.993Z"
   },
   {
    "duration": 63,
    "start_time": "2025-06-26T09:02:30.005Z"
   },
   {
    "duration": 22,
    "start_time": "2025-06-26T09:02:30.071Z"
   },
   {
    "duration": 21,
    "start_time": "2025-06-26T09:02:30.095Z"
   },
   {
    "duration": 204,
    "start_time": "2025-06-26T09:02:30.118Z"
   },
   {
    "duration": 23,
    "start_time": "2025-06-26T09:02:30.325Z"
   },
   {
    "duration": 51,
    "start_time": "2025-06-26T09:02:30.350Z"
   },
   {
    "duration": 7,
    "start_time": "2025-06-26T09:02:30.403Z"
   },
   {
    "duration": 140,
    "start_time": "2025-06-26T09:02:30.411Z"
   },
   {
    "duration": 355,
    "start_time": "2025-06-26T09:02:30.553Z"
   },
   {
    "duration": 6,
    "start_time": "2025-06-26T09:02:30.909Z"
   },
   {
    "duration": 479,
    "start_time": "2025-06-26T09:02:30.918Z"
   },
   {
    "duration": 8,
    "start_time": "2025-06-26T09:02:31.399Z"
   },
   {
    "duration": 5,
    "start_time": "2025-06-26T09:02:31.409Z"
   },
   {
    "duration": 375,
    "start_time": "2025-06-26T09:02:31.416Z"
   },
   {
    "duration": 17,
    "start_time": "2025-06-26T09:02:31.793Z"
   },
   {
    "duration": 38,
    "start_time": "2025-06-26T09:02:31.811Z"
   },
   {
    "duration": 25,
    "start_time": "2025-06-26T09:02:31.852Z"
   },
   {
    "duration": 22,
    "start_time": "2025-06-26T09:02:31.879Z"
   },
   {
    "duration": 24,
    "start_time": "2025-06-26T09:02:31.903Z"
   },
   {
    "duration": 12,
    "start_time": "2025-06-26T09:02:31.929Z"
   },
   {
    "duration": 6,
    "start_time": "2025-06-26T09:02:31.948Z"
   },
   {
    "duration": 1665,
    "start_time": "2025-06-26T09:02:31.956Z"
   },
   {
    "duration": 20,
    "start_time": "2025-06-26T09:02:33.622Z"
   },
   {
    "duration": 126,
    "start_time": "2025-06-26T09:02:33.645Z"
   },
   {
    "duration": 124,
    "start_time": "2025-06-26T09:02:33.773Z"
   },
   {
    "duration": 9,
    "start_time": "2025-06-26T09:02:33.899Z"
   },
   {
    "duration": 3456,
    "start_time": "2025-06-26T09:02:33.909Z"
   },
   {
    "duration": 48,
    "start_time": "2025-06-26T09:02:37.366Z"
   },
   {
    "duration": 31,
    "start_time": "2025-06-26T09:02:37.416Z"
   },
   {
    "duration": 7,
    "start_time": "2025-06-26T09:02:37.449Z"
   },
   {
    "duration": 93,
    "start_time": "2025-06-26T09:02:37.457Z"
   },
   {
    "duration": 9,
    "start_time": "2025-06-26T09:02:37.552Z"
   },
   {
    "duration": 120,
    "start_time": "2025-06-26T09:02:37.563Z"
   },
   {
    "duration": 102,
    "start_time": "2025-06-26T09:02:37.684Z"
   },
   {
    "duration": 14,
    "start_time": "2025-06-26T09:02:37.788Z"
   },
   {
    "duration": 109,
    "start_time": "2025-06-26T09:02:37.804Z"
   },
   {
    "duration": 35,
    "start_time": "2025-06-26T09:02:37.915Z"
   },
   {
    "duration": 10,
    "start_time": "2025-06-26T09:02:37.955Z"
   },
   {
    "duration": 8,
    "start_time": "2025-06-26T09:02:37.966Z"
   },
   {
    "duration": 46,
    "start_time": "2025-06-26T09:02:37.976Z"
   },
   {
    "duration": 40,
    "start_time": "2025-06-26T09:02:38.024Z"
   },
   {
    "duration": 11,
    "start_time": "2025-06-26T09:02:38.066Z"
   },
   {
    "duration": 13,
    "start_time": "2025-06-26T09:02:38.078Z"
   },
   {
    "duration": 21,
    "start_time": "2025-06-26T09:02:38.093Z"
   },
   {
    "duration": 23,
    "start_time": "2025-06-26T09:02:38.116Z"
   },
   {
    "duration": 99,
    "start_time": "2025-06-26T09:02:38.142Z"
   },
   {
    "duration": 30,
    "start_time": "2025-06-26T09:02:38.251Z"
   },
   {
    "duration": 15,
    "start_time": "2025-06-26T09:02:38.283Z"
   },
   {
    "duration": 108,
    "start_time": "2025-06-26T09:02:38.300Z"
   },
   {
    "duration": 7,
    "start_time": "2025-06-26T09:02:38.410Z"
   },
   {
    "duration": 35,
    "start_time": "2025-06-26T09:02:38.418Z"
   },
   {
    "duration": 19,
    "start_time": "2025-06-26T09:04:35.211Z"
   },
   {
    "duration": 11,
    "start_time": "2025-06-26T09:04:36.951Z"
   },
   {
    "duration": 9,
    "start_time": "2025-06-26T09:04:37.670Z"
   },
   {
    "duration": 15,
    "start_time": "2025-06-26T09:11:33.555Z"
   },
   {
    "duration": 12,
    "start_time": "2025-06-26T09:20:08.404Z"
   },
   {
    "duration": 25,
    "start_time": "2025-06-26T09:20:33.347Z"
   },
   {
    "duration": 39,
    "start_time": "2025-06-26T09:20:47.717Z"
   },
   {
    "duration": 103,
    "start_time": "2025-06-26T09:21:55.124Z"
   },
   {
    "duration": 31,
    "start_time": "2025-06-26T09:22:03.553Z"
   },
   {
    "duration": 6,
    "start_time": "2025-06-26T09:22:39.673Z"
   },
   {
    "duration": 25,
    "start_time": "2025-06-26T09:22:53.805Z"
   },
   {
    "duration": 23,
    "start_time": "2025-06-26T09:23:01.464Z"
   },
   {
    "duration": 18,
    "start_time": "2025-06-26T09:24:10.113Z"
   },
   {
    "duration": 15,
    "start_time": "2025-06-26T09:24:23.167Z"
   },
   {
    "duration": 18,
    "start_time": "2025-06-26T09:25:17.706Z"
   },
   {
    "duration": 14,
    "start_time": "2025-06-26T09:26:36.201Z"
   },
   {
    "duration": 18,
    "start_time": "2025-06-26T09:27:09.507Z"
   },
   {
    "duration": 16,
    "start_time": "2025-06-26T09:27:16.568Z"
   },
   {
    "duration": 18,
    "start_time": "2025-06-26T09:28:00.448Z"
   },
   {
    "duration": 17,
    "start_time": "2025-06-26T09:28:15.677Z"
   },
   {
    "duration": 16,
    "start_time": "2025-06-26T09:28:26.106Z"
   },
   {
    "duration": 3,
    "start_time": "2025-06-26T09:30:25.228Z"
   },
   {
    "duration": 6,
    "start_time": "2025-06-26T09:30:30.267Z"
   },
   {
    "duration": 6,
    "start_time": "2025-06-26T09:30:49.564Z"
   },
   {
    "duration": 4,
    "start_time": "2025-06-26T09:31:40.880Z"
   },
   {
    "duration": 5,
    "start_time": "2025-06-26T09:32:14.318Z"
   },
   {
    "duration": 4,
    "start_time": "2025-06-26T09:33:01.802Z"
   },
   {
    "duration": 4,
    "start_time": "2025-06-26T09:34:16.686Z"
   },
   {
    "duration": 3,
    "start_time": "2025-06-26T09:34:46.049Z"
   },
   {
    "duration": 3,
    "start_time": "2025-06-26T09:35:37.887Z"
   },
   {
    "duration": 4,
    "start_time": "2025-06-26T09:37:31.787Z"
   },
   {
    "duration": 6,
    "start_time": "2025-06-26T09:38:41.152Z"
   },
   {
    "duration": 56,
    "start_time": "2025-06-26T09:38:52.226Z"
   },
   {
    "duration": 6,
    "start_time": "2025-06-26T09:40:07.787Z"
   },
   {
    "duration": 4,
    "start_time": "2025-06-26T09:43:08.606Z"
   },
   {
    "duration": 4,
    "start_time": "2025-06-26T09:44:22.099Z"
   },
   {
    "duration": 4,
    "start_time": "2025-06-26T09:44:30.371Z"
   },
   {
    "duration": 4,
    "start_time": "2025-06-26T09:46:25.635Z"
   },
   {
    "duration": 4,
    "start_time": "2025-06-26T09:46:49.915Z"
   },
   {
    "duration": 5,
    "start_time": "2025-06-26T09:47:36.804Z"
   },
   {
    "duration": 4,
    "start_time": "2025-06-26T09:47:37.884Z"
   },
   {
    "duration": 2831,
    "start_time": "2025-06-26T10:00:05.933Z"
   },
   {
    "duration": 65,
    "start_time": "2025-06-26T10:00:58.620Z"
   },
   {
    "duration": 0,
    "start_time": "2025-06-26T10:00:58.688Z"
   },
   {
    "duration": 0,
    "start_time": "2025-06-26T10:00:58.689Z"
   },
   {
    "duration": 0,
    "start_time": "2025-06-26T10:00:58.690Z"
   },
   {
    "duration": 0,
    "start_time": "2025-06-26T10:00:58.691Z"
   },
   {
    "duration": 0,
    "start_time": "2025-06-26T10:00:58.692Z"
   },
   {
    "duration": 0,
    "start_time": "2025-06-26T10:00:58.693Z"
   },
   {
    "duration": 0,
    "start_time": "2025-06-26T10:00:58.694Z"
   },
   {
    "duration": 0,
    "start_time": "2025-06-26T10:00:58.695Z"
   },
   {
    "duration": 0,
    "start_time": "2025-06-26T10:00:58.696Z"
   },
   {
    "duration": 0,
    "start_time": "2025-06-26T10:00:58.697Z"
   },
   {
    "duration": 0,
    "start_time": "2025-06-26T10:00:58.698Z"
   },
   {
    "duration": 0,
    "start_time": "2025-06-26T10:00:58.699Z"
   },
   {
    "duration": 0,
    "start_time": "2025-06-26T10:00:58.700Z"
   },
   {
    "duration": 0,
    "start_time": "2025-06-26T10:00:58.701Z"
   },
   {
    "duration": 0,
    "start_time": "2025-06-26T10:00:58.702Z"
   },
   {
    "duration": 0,
    "start_time": "2025-06-26T10:00:58.703Z"
   },
   {
    "duration": 0,
    "start_time": "2025-06-26T10:00:58.704Z"
   },
   {
    "duration": 0,
    "start_time": "2025-06-26T10:00:58.705Z"
   },
   {
    "duration": 0,
    "start_time": "2025-06-26T10:00:58.706Z"
   },
   {
    "duration": 0,
    "start_time": "2025-06-26T10:00:58.707Z"
   },
   {
    "duration": 0,
    "start_time": "2025-06-26T10:00:58.708Z"
   },
   {
    "duration": 0,
    "start_time": "2025-06-26T10:00:58.709Z"
   },
   {
    "duration": 0,
    "start_time": "2025-06-26T10:00:58.710Z"
   },
   {
    "duration": 0,
    "start_time": "2025-06-26T10:00:58.711Z"
   },
   {
    "duration": 0,
    "start_time": "2025-06-26T10:00:58.712Z"
   },
   {
    "duration": 0,
    "start_time": "2025-06-26T10:00:58.713Z"
   },
   {
    "duration": 0,
    "start_time": "2025-06-26T10:00:58.714Z"
   },
   {
    "duration": 0,
    "start_time": "2025-06-26T10:00:58.716Z"
   },
   {
    "duration": 0,
    "start_time": "2025-06-26T10:00:58.717Z"
   },
   {
    "duration": 0,
    "start_time": "2025-06-26T10:00:58.718Z"
   },
   {
    "duration": 0,
    "start_time": "2025-06-26T10:00:58.735Z"
   },
   {
    "duration": 0,
    "start_time": "2025-06-26T10:00:58.736Z"
   },
   {
    "duration": 0,
    "start_time": "2025-06-26T10:00:58.740Z"
   },
   {
    "duration": 0,
    "start_time": "2025-06-26T10:00:58.745Z"
   },
   {
    "duration": 1,
    "start_time": "2025-06-26T10:00:58.746Z"
   },
   {
    "duration": 0,
    "start_time": "2025-06-26T10:00:58.749Z"
   },
   {
    "duration": 0,
    "start_time": "2025-06-26T10:00:58.751Z"
   },
   {
    "duration": 0,
    "start_time": "2025-06-26T10:00:58.752Z"
   },
   {
    "duration": 0,
    "start_time": "2025-06-26T10:00:58.754Z"
   },
   {
    "duration": 0,
    "start_time": "2025-06-26T10:00:58.756Z"
   },
   {
    "duration": 0,
    "start_time": "2025-06-26T10:00:58.758Z"
   },
   {
    "duration": 0,
    "start_time": "2025-06-26T10:00:58.761Z"
   },
   {
    "duration": 12,
    "start_time": "2025-06-26T10:00:58.767Z"
   },
   {
    "duration": 6,
    "start_time": "2025-06-26T10:00:58.781Z"
   },
   {
    "duration": 62,
    "start_time": "2025-06-26T10:00:58.789Z"
   },
   {
    "duration": 18,
    "start_time": "2025-06-26T10:00:58.859Z"
   },
   {
    "duration": 85,
    "start_time": "2025-06-26T10:00:58.880Z"
   },
   {
    "duration": 15,
    "start_time": "2025-06-26T10:00:58.973Z"
   },
   {
    "duration": 10,
    "start_time": "2025-06-26T10:00:58.990Z"
   },
   {
    "duration": 16,
    "start_time": "2025-06-26T10:00:59.002Z"
   },
   {
    "duration": 54,
    "start_time": "2025-06-26T10:00:59.020Z"
   },
   {
    "duration": 23,
    "start_time": "2025-06-26T10:00:59.080Z"
   },
   {
    "duration": 5,
    "start_time": "2025-06-26T10:00:59.105Z"
   },
   {
    "duration": 98,
    "start_time": "2025-06-26T10:00:59.112Z"
   },
   {
    "duration": 7,
    "start_time": "2025-06-26T10:00:59.212Z"
   },
   {
    "duration": 4,
    "start_time": "2025-06-26T10:00:59.220Z"
   },
   {
    "duration": 8,
    "start_time": "2025-06-26T10:00:59.226Z"
   },
   {
    "duration": 13,
    "start_time": "2025-06-26T10:00:59.242Z"
   },
   {
    "duration": 55,
    "start_time": "2025-06-26T10:01:04.980Z"
   },
   {
    "duration": 0,
    "start_time": "2025-06-26T10:01:05.039Z"
   },
   {
    "duration": 0,
    "start_time": "2025-06-26T10:01:05.040Z"
   },
   {
    "duration": 0,
    "start_time": "2025-06-26T10:01:05.042Z"
   },
   {
    "duration": 0,
    "start_time": "2025-06-26T10:01:05.043Z"
   },
   {
    "duration": 0,
    "start_time": "2025-06-26T10:01:05.044Z"
   },
   {
    "duration": 0,
    "start_time": "2025-06-26T10:01:05.045Z"
   },
   {
    "duration": 0,
    "start_time": "2025-06-26T10:01:05.051Z"
   },
   {
    "duration": 0,
    "start_time": "2025-06-26T10:01:05.052Z"
   },
   {
    "duration": 0,
    "start_time": "2025-06-26T10:01:05.056Z"
   },
   {
    "duration": 0,
    "start_time": "2025-06-26T10:01:05.058Z"
   },
   {
    "duration": 0,
    "start_time": "2025-06-26T10:01:05.062Z"
   },
   {
    "duration": 0,
    "start_time": "2025-06-26T10:01:05.063Z"
   },
   {
    "duration": 0,
    "start_time": "2025-06-26T10:01:05.066Z"
   },
   {
    "duration": 0,
    "start_time": "2025-06-26T10:01:05.068Z"
   },
   {
    "duration": 0,
    "start_time": "2025-06-26T10:01:05.070Z"
   },
   {
    "duration": 0,
    "start_time": "2025-06-26T10:01:05.071Z"
   },
   {
    "duration": 0,
    "start_time": "2025-06-26T10:01:05.072Z"
   },
   {
    "duration": 0,
    "start_time": "2025-06-26T10:01:05.073Z"
   },
   {
    "duration": 0,
    "start_time": "2025-06-26T10:01:05.074Z"
   },
   {
    "duration": 0,
    "start_time": "2025-06-26T10:01:05.077Z"
   },
   {
    "duration": 0,
    "start_time": "2025-06-26T10:01:05.078Z"
   },
   {
    "duration": 0,
    "start_time": "2025-06-26T10:01:05.080Z"
   },
   {
    "duration": 0,
    "start_time": "2025-06-26T10:01:05.081Z"
   },
   {
    "duration": 0,
    "start_time": "2025-06-26T10:01:05.082Z"
   },
   {
    "duration": 0,
    "start_time": "2025-06-26T10:01:05.084Z"
   },
   {
    "duration": 0,
    "start_time": "2025-06-26T10:01:05.085Z"
   },
   {
    "duration": 0,
    "start_time": "2025-06-26T10:01:05.086Z"
   },
   {
    "duration": 0,
    "start_time": "2025-06-26T10:01:05.087Z"
   },
   {
    "duration": 0,
    "start_time": "2025-06-26T10:01:05.088Z"
   },
   {
    "duration": 0,
    "start_time": "2025-06-26T10:01:05.089Z"
   },
   {
    "duration": 0,
    "start_time": "2025-06-26T10:01:05.135Z"
   },
   {
    "duration": 0,
    "start_time": "2025-06-26T10:01:05.136Z"
   },
   {
    "duration": 0,
    "start_time": "2025-06-26T10:01:05.137Z"
   },
   {
    "duration": 0,
    "start_time": "2025-06-26T10:01:05.138Z"
   },
   {
    "duration": 0,
    "start_time": "2025-06-26T10:01:05.142Z"
   },
   {
    "duration": 0,
    "start_time": "2025-06-26T10:01:05.143Z"
   },
   {
    "duration": 0,
    "start_time": "2025-06-26T10:01:05.144Z"
   },
   {
    "duration": 0,
    "start_time": "2025-06-26T10:01:05.145Z"
   },
   {
    "duration": 0,
    "start_time": "2025-06-26T10:01:05.146Z"
   },
   {
    "duration": 0,
    "start_time": "2025-06-26T10:01:05.148Z"
   },
   {
    "duration": 0,
    "start_time": "2025-06-26T10:01:05.149Z"
   },
   {
    "duration": 0,
    "start_time": "2025-06-26T10:01:05.150Z"
   },
   {
    "duration": 8,
    "start_time": "2025-06-26T10:01:05.154Z"
   },
   {
    "duration": 106,
    "start_time": "2025-06-26T10:01:05.164Z"
   },
   {
    "duration": 39,
    "start_time": "2025-06-26T10:01:05.272Z"
   },
   {
    "duration": 7,
    "start_time": "2025-06-26T10:01:05.312Z"
   },
   {
    "duration": 76,
    "start_time": "2025-06-26T10:01:05.321Z"
   },
   {
    "duration": 16,
    "start_time": "2025-06-26T10:01:05.399Z"
   },
   {
    "duration": 16,
    "start_time": "2025-06-26T10:01:05.416Z"
   },
   {
    "duration": 42,
    "start_time": "2025-06-26T10:01:05.434Z"
   },
   {
    "duration": 19,
    "start_time": "2025-06-26T10:01:05.479Z"
   },
   {
    "duration": 157,
    "start_time": "2025-06-26T10:01:05.499Z"
   },
   {
    "duration": 10,
    "start_time": "2025-06-26T10:01:05.660Z"
   },
   {
    "duration": 26,
    "start_time": "2025-06-26T10:01:05.671Z"
   },
   {
    "duration": 231,
    "start_time": "2025-06-26T10:01:05.699Z"
   },
   {
    "duration": 50,
    "start_time": "2025-06-26T10:01:05.933Z"
   },
   {
    "duration": 70,
    "start_time": "2025-06-26T10:01:05.988Z"
   },
   {
    "duration": 11,
    "start_time": "2025-06-26T10:01:06.061Z"
   },
   {
    "duration": 2777,
    "start_time": "2025-06-26T10:02:10.940Z"
   },
   {
    "duration": 2801,
    "start_time": "2025-06-26T10:02:14.101Z"
   },
   {
    "duration": 258,
    "start_time": "2025-06-26T10:02:16.905Z"
   },
   {
    "duration": 13,
    "start_time": "2025-06-26T10:02:17.168Z"
   },
   {
    "duration": 67,
    "start_time": "2025-06-26T10:02:17.183Z"
   },
   {
    "duration": 12,
    "start_time": "2025-06-26T10:02:17.252Z"
   },
   {
    "duration": 10,
    "start_time": "2025-06-26T10:02:17.265Z"
   },
   {
    "duration": 119,
    "start_time": "2025-06-26T10:02:17.277Z"
   },
   {
    "duration": 5,
    "start_time": "2025-06-26T10:02:17.399Z"
   },
   {
    "duration": 20,
    "start_time": "2025-06-26T10:02:17.407Z"
   },
   {
    "duration": 27,
    "start_time": "2025-06-26T10:02:17.430Z"
   },
   {
    "duration": 155,
    "start_time": "2025-06-26T10:02:17.460Z"
   },
   {
    "duration": 395,
    "start_time": "2025-06-26T10:02:17.616Z"
   },
   {
    "duration": 26,
    "start_time": "2025-06-26T10:02:18.013Z"
   },
   {
    "duration": 376,
    "start_time": "2025-06-26T10:02:18.043Z"
   },
   {
    "duration": 20,
    "start_time": "2025-06-26T10:02:18.421Z"
   },
   {
    "duration": 14,
    "start_time": "2025-06-26T10:02:18.443Z"
   },
   {
    "duration": 358,
    "start_time": "2025-06-26T10:02:18.467Z"
   },
   {
    "duration": 41,
    "start_time": "2025-06-26T10:02:18.826Z"
   },
   {
    "duration": 31,
    "start_time": "2025-06-26T10:02:18.869Z"
   },
   {
    "duration": 13,
    "start_time": "2025-06-26T10:02:18.901Z"
   },
   {
    "duration": 38,
    "start_time": "2025-06-26T10:02:18.916Z"
   },
   {
    "duration": 9,
    "start_time": "2025-06-26T10:02:18.960Z"
   },
   {
    "duration": 14,
    "start_time": "2025-06-26T10:02:18.971Z"
   },
   {
    "duration": 11,
    "start_time": "2025-06-26T10:02:18.987Z"
   },
   {
    "duration": 2017,
    "start_time": "2025-06-26T10:02:18.999Z"
   },
   {
    "duration": 12,
    "start_time": "2025-06-26T10:02:21.018Z"
   },
   {
    "duration": 34,
    "start_time": "2025-06-26T10:02:21.038Z"
   },
   {
    "duration": 142,
    "start_time": "2025-06-26T10:02:21.074Z"
   },
   {
    "duration": 21,
    "start_time": "2025-06-26T10:02:21.218Z"
   },
   {
    "duration": 3801,
    "start_time": "2025-06-26T10:02:21.241Z"
   },
   {
    "duration": 72,
    "start_time": "2025-06-26T10:02:25.045Z"
   },
   {
    "duration": 6,
    "start_time": "2025-06-26T10:02:25.119Z"
   },
   {
    "duration": 129,
    "start_time": "2025-06-26T10:02:25.126Z"
   },
   {
    "duration": 72,
    "start_time": "2025-06-26T10:02:25.264Z"
   },
   {
    "duration": 20,
    "start_time": "2025-06-26T10:02:25.346Z"
   },
   {
    "duration": 27,
    "start_time": "2025-06-26T10:02:25.370Z"
   },
   {
    "duration": 26,
    "start_time": "2025-06-26T10:02:25.400Z"
   },
   {
    "duration": 19,
    "start_time": "2025-06-26T10:02:25.428Z"
   },
   {
    "duration": 112,
    "start_time": "2025-06-26T10:02:25.450Z"
   },
   {
    "duration": 31,
    "start_time": "2025-06-26T10:02:25.567Z"
   },
   {
    "duration": 14,
    "start_time": "2025-06-26T10:02:25.603Z"
   },
   {
    "duration": 9,
    "start_time": "2025-06-26T10:02:25.619Z"
   },
   {
    "duration": 64,
    "start_time": "2025-06-26T10:02:25.639Z"
   },
   {
    "duration": 6,
    "start_time": "2025-06-26T10:02:25.705Z"
   },
   {
    "duration": 10,
    "start_time": "2025-06-26T10:02:25.712Z"
   },
   {
    "duration": 27,
    "start_time": "2025-06-26T10:02:25.724Z"
   },
   {
    "duration": 11,
    "start_time": "2025-06-26T10:02:25.759Z"
   },
   {
    "duration": 50,
    "start_time": "2025-06-26T10:02:25.772Z"
   },
   {
    "duration": 26,
    "start_time": "2025-06-26T10:02:25.823Z"
   },
   {
    "duration": 201,
    "start_time": "2025-06-26T10:02:25.857Z"
   },
   {
    "duration": 30,
    "start_time": "2025-06-26T10:02:26.063Z"
   },
   {
    "duration": 37,
    "start_time": "2025-06-26T10:02:26.095Z"
   },
   {
    "duration": 148,
    "start_time": "2025-06-26T10:02:26.134Z"
   },
   {
    "duration": 6,
    "start_time": "2025-06-26T10:02:26.283Z"
   },
   {
    "duration": 8,
    "start_time": "2025-06-26T10:02:26.291Z"
   },
   {
    "duration": 4,
    "start_time": "2025-06-26T10:02:26.300Z"
   },
   {
    "duration": 38,
    "start_time": "2025-06-26T10:02:26.306Z"
   },
   {
    "duration": 78,
    "start_time": "2025-06-26T10:02:26.354Z"
   },
   {
    "duration": 12,
    "start_time": "2025-06-26T10:02:26.434Z"
   },
   {
    "duration": 364,
    "start_time": "2025-06-26T10:05:35.990Z"
   },
   {
    "duration": 2785,
    "start_time": "2025-06-26T10:05:39.804Z"
   },
   {
    "duration": 77,
    "start_time": "2025-06-26T10:05:42.592Z"
   },
   {
    "duration": 14,
    "start_time": "2025-06-26T10:05:42.673Z"
   },
   {
    "duration": 33,
    "start_time": "2025-06-26T10:05:42.689Z"
   },
   {
    "duration": 22,
    "start_time": "2025-06-26T10:05:42.725Z"
   },
   {
    "duration": 13,
    "start_time": "2025-06-26T10:05:42.755Z"
   },
   {
    "duration": 130,
    "start_time": "2025-06-26T10:05:42.771Z"
   },
   {
    "duration": 4,
    "start_time": "2025-06-26T10:05:42.904Z"
   },
   {
    "duration": 78,
    "start_time": "2025-06-26T10:05:42.911Z"
   },
   {
    "duration": 18,
    "start_time": "2025-06-26T10:05:42.991Z"
   },
   {
    "duration": 152,
    "start_time": "2025-06-26T10:05:43.011Z"
   },
   {
    "duration": 431,
    "start_time": "2025-06-26T10:05:43.164Z"
   },
   {
    "duration": 6,
    "start_time": "2025-06-26T10:05:43.597Z"
   },
   {
    "duration": 398,
    "start_time": "2025-06-26T10:05:43.606Z"
   },
   {
    "duration": 8,
    "start_time": "2025-06-26T10:05:44.006Z"
   },
   {
    "duration": 37,
    "start_time": "2025-06-26T10:05:44.016Z"
   },
   {
    "duration": 402,
    "start_time": "2025-06-26T10:05:44.054Z"
   },
   {
    "duration": 19,
    "start_time": "2025-06-26T10:05:44.457Z"
   },
   {
    "duration": 28,
    "start_time": "2025-06-26T10:05:44.477Z"
   },
   {
    "duration": 72,
    "start_time": "2025-06-26T10:05:44.507Z"
   },
   {
    "duration": 38,
    "start_time": "2025-06-26T10:05:44.581Z"
   },
   {
    "duration": 23,
    "start_time": "2025-06-26T10:05:44.622Z"
   },
   {
    "duration": 13,
    "start_time": "2025-06-26T10:05:44.646Z"
   },
   {
    "duration": 6,
    "start_time": "2025-06-26T10:05:44.661Z"
   },
   {
    "duration": 2034,
    "start_time": "2025-06-26T10:05:44.668Z"
   },
   {
    "duration": 13,
    "start_time": "2025-06-26T10:05:46.704Z"
   },
   {
    "duration": 36,
    "start_time": "2025-06-26T10:05:46.719Z"
   },
   {
    "duration": 149,
    "start_time": "2025-06-26T10:05:46.757Z"
   },
   {
    "duration": 9,
    "start_time": "2025-06-26T10:05:46.907Z"
   },
   {
    "duration": 3654,
    "start_time": "2025-06-26T10:05:46.917Z"
   },
   {
    "duration": 47,
    "start_time": "2025-06-26T10:05:50.573Z"
   },
   {
    "duration": 23,
    "start_time": "2025-06-26T10:05:50.637Z"
   },
   {
    "duration": 15,
    "start_time": "2025-06-26T10:05:50.661Z"
   },
   {
    "duration": 116,
    "start_time": "2025-06-26T10:05:50.679Z"
   },
   {
    "duration": 9,
    "start_time": "2025-06-26T10:05:50.798Z"
   },
   {
    "duration": 68,
    "start_time": "2025-06-26T10:05:50.809Z"
   },
   {
    "duration": 19,
    "start_time": "2025-06-26T10:05:50.879Z"
   },
   {
    "duration": 40,
    "start_time": "2025-06-26T10:05:50.900Z"
   },
   {
    "duration": 113,
    "start_time": "2025-06-26T10:05:50.943Z"
   },
   {
    "duration": 21,
    "start_time": "2025-06-26T10:05:51.058Z"
   },
   {
    "duration": 11,
    "start_time": "2025-06-26T10:05:51.083Z"
   },
   {
    "duration": 9,
    "start_time": "2025-06-26T10:05:51.096Z"
   },
   {
    "duration": 77,
    "start_time": "2025-06-26T10:05:51.107Z"
   },
   {
    "duration": 5,
    "start_time": "2025-06-26T10:05:51.185Z"
   },
   {
    "duration": 83,
    "start_time": "2025-06-26T10:05:51.192Z"
   },
   {
    "duration": 14,
    "start_time": "2025-06-26T10:05:51.277Z"
   },
   {
    "duration": 65,
    "start_time": "2025-06-26T10:05:51.292Z"
   },
   {
    "duration": 50,
    "start_time": "2025-06-26T10:05:51.358Z"
   },
   {
    "duration": 48,
    "start_time": "2025-06-26T10:05:51.410Z"
   },
   {
    "duration": 18,
    "start_time": "2025-06-26T10:05:51.459Z"
   },
   {
    "duration": 96,
    "start_time": "2025-06-26T10:05:51.479Z"
   },
   {
    "duration": 36,
    "start_time": "2025-06-26T10:05:51.577Z"
   },
   {
    "duration": 35,
    "start_time": "2025-06-26T10:05:51.615Z"
   },
   {
    "duration": 5,
    "start_time": "2025-06-26T10:05:51.653Z"
   },
   {
    "duration": 45,
    "start_time": "2025-06-26T10:05:51.660Z"
   },
   {
    "duration": 6,
    "start_time": "2025-06-26T10:05:51.707Z"
   },
   {
    "duration": 5,
    "start_time": "2025-06-26T10:05:51.715Z"
   },
   {
    "duration": 33,
    "start_time": "2025-06-26T10:05:51.722Z"
   },
   {
    "duration": 9,
    "start_time": "2025-06-26T10:05:51.757Z"
   },
   {
    "duration": 11338,
    "start_time": "2025-06-26T19:35:43.425Z"
   },
   {
    "duration": 104,
    "start_time": "2025-06-26T19:35:54.771Z"
   },
   {
    "duration": 17,
    "start_time": "2025-06-26T19:35:54.879Z"
   },
   {
    "duration": 17,
    "start_time": "2025-06-26T19:35:54.899Z"
   },
   {
    "duration": 9,
    "start_time": "2025-06-26T19:35:54.918Z"
   },
   {
    "duration": 41,
    "start_time": "2025-06-26T19:35:54.929Z"
   },
   {
    "duration": 116,
    "start_time": "2025-06-26T19:35:54.972Z"
   },
   {
    "duration": 4,
    "start_time": "2025-06-26T19:35:55.090Z"
   },
   {
    "duration": 10,
    "start_time": "2025-06-26T19:35:55.096Z"
   },
   {
    "duration": 8,
    "start_time": "2025-06-26T19:35:55.109Z"
   },
   {
    "duration": 163,
    "start_time": "2025-06-26T19:35:55.119Z"
   },
   {
    "duration": 390,
    "start_time": "2025-06-26T19:35:55.284Z"
   },
   {
    "duration": 9,
    "start_time": "2025-06-26T19:35:55.675Z"
   },
   {
    "duration": 432,
    "start_time": "2025-06-26T19:35:55.685Z"
   },
   {
    "duration": 8,
    "start_time": "2025-06-26T19:35:56.119Z"
   },
   {
    "duration": 18,
    "start_time": "2025-06-26T19:35:56.151Z"
   },
   {
    "duration": 388,
    "start_time": "2025-06-26T19:35:56.171Z"
   },
   {
    "duration": 22,
    "start_time": "2025-06-26T19:35:56.566Z"
   },
   {
    "duration": 111,
    "start_time": "2025-06-26T19:35:56.590Z"
   },
   {
    "duration": 4,
    "start_time": "2025-06-26T19:35:56.704Z"
   },
   {
    "duration": 15,
    "start_time": "2025-06-26T19:35:56.710Z"
   },
   {
    "duration": 21,
    "start_time": "2025-06-26T19:35:56.727Z"
   },
   {
    "duration": 7,
    "start_time": "2025-06-26T19:35:56.751Z"
   },
   {
    "duration": 16,
    "start_time": "2025-06-26T19:35:56.760Z"
   },
   {
    "duration": 1810,
    "start_time": "2025-06-26T19:35:56.777Z"
   },
   {
    "duration": 12,
    "start_time": "2025-06-26T19:35:58.589Z"
   },
   {
    "duration": 9,
    "start_time": "2025-06-26T19:35:58.603Z"
   },
   {
    "duration": 173,
    "start_time": "2025-06-26T19:35:58.616Z"
   },
   {
    "duration": 9,
    "start_time": "2025-06-26T19:35:58.791Z"
   },
   {
    "duration": 3806,
    "start_time": "2025-06-26T19:35:58.801Z"
   },
   {
    "duration": 55,
    "start_time": "2025-06-26T19:36:02.609Z"
   },
   {
    "duration": 8,
    "start_time": "2025-06-26T19:36:02.666Z"
   },
   {
    "duration": 27,
    "start_time": "2025-06-26T19:36:02.676Z"
   },
   {
    "duration": 104,
    "start_time": "2025-06-26T19:36:02.706Z"
   },
   {
    "duration": 8,
    "start_time": "2025-06-26T19:36:02.812Z"
   },
   {
    "duration": 45,
    "start_time": "2025-06-26T19:36:02.822Z"
   },
   {
    "duration": 13,
    "start_time": "2025-06-26T19:36:02.869Z"
   },
   {
    "duration": 25,
    "start_time": "2025-06-26T19:36:02.884Z"
   },
   {
    "duration": 139,
    "start_time": "2025-06-26T19:36:02.911Z"
   },
   {
    "duration": 31,
    "start_time": "2025-06-26T19:36:03.052Z"
   },
   {
    "duration": 11,
    "start_time": "2025-06-26T19:36:03.084Z"
   },
   {
    "duration": 13,
    "start_time": "2025-06-26T19:36:03.097Z"
   },
   {
    "duration": 165,
    "start_time": "2025-06-26T19:36:03.112Z"
   },
   {
    "duration": 5,
    "start_time": "2025-06-26T19:36:03.279Z"
   },
   {
    "duration": 47,
    "start_time": "2025-06-26T19:36:03.286Z"
   },
   {
    "duration": 23,
    "start_time": "2025-06-26T19:36:03.335Z"
   },
   {
    "duration": 11,
    "start_time": "2025-06-26T19:36:03.359Z"
   },
   {
    "duration": 43,
    "start_time": "2025-06-26T19:36:03.375Z"
   },
   {
    "duration": 14,
    "start_time": "2025-06-26T19:36:03.419Z"
   },
   {
    "duration": 43,
    "start_time": "2025-06-26T19:36:03.435Z"
   },
   {
    "duration": 132,
    "start_time": "2025-06-26T19:36:03.480Z"
   },
   {
    "duration": 23,
    "start_time": "2025-06-26T19:36:03.614Z"
   },
   {
    "duration": 34,
    "start_time": "2025-06-26T19:36:03.650Z"
   },
   {
    "duration": 10,
    "start_time": "2025-06-26T19:36:03.686Z"
   },
   {
    "duration": 11,
    "start_time": "2025-06-26T19:36:03.698Z"
   },
   {
    "duration": 18,
    "start_time": "2025-06-26T19:36:03.711Z"
   },
   {
    "duration": 7,
    "start_time": "2025-06-26T19:36:03.731Z"
   },
   {
    "duration": 13,
    "start_time": "2025-06-26T19:36:03.743Z"
   },
   {
    "duration": 5,
    "start_time": "2025-06-26T19:36:03.773Z"
   },
   {
    "duration": 69,
    "start_time": "2025-07-01T12:38:14.398Z"
   },
   {
    "duration": 109,
    "start_time": "2025-07-01T12:38:21.487Z"
   },
   {
    "duration": 0,
    "start_time": "2025-07-01T12:38:21.598Z"
   },
   {
    "duration": 0,
    "start_time": "2025-07-01T12:38:21.599Z"
   },
   {
    "duration": 0,
    "start_time": "2025-07-01T12:38:21.601Z"
   },
   {
    "duration": 0,
    "start_time": "2025-07-01T12:38:21.601Z"
   },
   {
    "duration": 0,
    "start_time": "2025-07-01T12:38:21.602Z"
   },
   {
    "duration": 0,
    "start_time": "2025-07-01T12:38:21.604Z"
   },
   {
    "duration": 0,
    "start_time": "2025-07-01T12:38:21.605Z"
   },
   {
    "duration": 44,
    "start_time": "2025-07-01T12:38:21.722Z"
   },
   {
    "duration": 0,
    "start_time": "2025-07-01T12:38:21.767Z"
   },
   {
    "duration": 0,
    "start_time": "2025-07-01T12:38:21.768Z"
   },
   {
    "duration": 6,
    "start_time": "2025-07-01T12:38:21.778Z"
   },
   {
    "duration": 0,
    "start_time": "2025-07-01T12:38:21.785Z"
   },
   {
    "duration": 1,
    "start_time": "2025-07-01T12:38:21.786Z"
   },
   {
    "duration": 0,
    "start_time": "2025-07-01T12:38:21.788Z"
   },
   {
    "duration": 0,
    "start_time": "2025-07-01T12:38:21.789Z"
   },
   {
    "duration": 0,
    "start_time": "2025-07-01T12:38:21.790Z"
   },
   {
    "duration": 0,
    "start_time": "2025-07-01T12:38:21.791Z"
   },
   {
    "duration": 0,
    "start_time": "2025-07-01T12:38:21.792Z"
   },
   {
    "duration": 0,
    "start_time": "2025-07-01T12:38:21.793Z"
   },
   {
    "duration": 0,
    "start_time": "2025-07-01T12:38:21.794Z"
   },
   {
    "duration": 0,
    "start_time": "2025-07-01T12:38:21.795Z"
   },
   {
    "duration": 0,
    "start_time": "2025-07-01T12:38:21.796Z"
   },
   {
    "duration": 0,
    "start_time": "2025-07-01T12:38:21.797Z"
   },
   {
    "duration": 0,
    "start_time": "2025-07-01T12:38:21.798Z"
   },
   {
    "duration": 0,
    "start_time": "2025-07-01T12:38:21.836Z"
   },
   {
    "duration": 0,
    "start_time": "2025-07-01T12:38:21.837Z"
   },
   {
    "duration": 0,
    "start_time": "2025-07-01T12:38:21.838Z"
   },
   {
    "duration": 0,
    "start_time": "2025-07-01T12:38:21.839Z"
   },
   {
    "duration": 0,
    "start_time": "2025-07-01T12:38:21.841Z"
   },
   {
    "duration": 0,
    "start_time": "2025-07-01T12:38:21.841Z"
   },
   {
    "duration": 0,
    "start_time": "2025-07-01T12:38:21.842Z"
   },
   {
    "duration": 7,
    "start_time": "2025-07-01T12:38:21.844Z"
   },
   {
    "duration": 0,
    "start_time": "2025-07-01T12:38:21.852Z"
   },
   {
    "duration": 0,
    "start_time": "2025-07-01T12:38:21.853Z"
   },
   {
    "duration": 0,
    "start_time": "2025-07-01T12:38:21.854Z"
   },
   {
    "duration": 0,
    "start_time": "2025-07-01T12:38:21.855Z"
   },
   {
    "duration": 0,
    "start_time": "2025-07-01T12:38:21.856Z"
   },
   {
    "duration": 6,
    "start_time": "2025-07-01T12:38:21.909Z"
   },
   {
    "duration": 1,
    "start_time": "2025-07-01T12:38:21.916Z"
   },
   {
    "duration": 6,
    "start_time": "2025-07-01T12:38:21.936Z"
   },
   {
    "duration": 0,
    "start_time": "2025-07-01T12:38:21.944Z"
   },
   {
    "duration": 0,
    "start_time": "2025-07-01T12:38:21.945Z"
   },
   {
    "duration": 0,
    "start_time": "2025-07-01T12:38:21.946Z"
   },
   {
    "duration": 1,
    "start_time": "2025-07-01T12:38:21.946Z"
   },
   {
    "duration": 10,
    "start_time": "2025-07-01T12:38:21.952Z"
   },
   {
    "duration": 0,
    "start_time": "2025-07-01T12:38:21.963Z"
   },
   {
    "duration": 0,
    "start_time": "2025-07-01T12:38:21.964Z"
   },
   {
    "duration": 0,
    "start_time": "2025-07-01T12:38:21.965Z"
   },
   {
    "duration": 0,
    "start_time": "2025-07-01T12:38:21.966Z"
   },
   {
    "duration": 0,
    "start_time": "2025-07-01T12:38:21.968Z"
   },
   {
    "duration": 0,
    "start_time": "2025-07-01T12:38:21.968Z"
   },
   {
    "duration": 0,
    "start_time": "2025-07-01T12:38:21.969Z"
   },
   {
    "duration": 5,
    "start_time": "2025-07-01T12:38:21.978Z"
   },
   {
    "duration": 0,
    "start_time": "2025-07-01T12:38:21.985Z"
   },
   {
    "duration": 0,
    "start_time": "2025-07-01T12:38:21.986Z"
   },
   {
    "duration": 0,
    "start_time": "2025-07-01T12:38:21.987Z"
   },
   {
    "duration": 0,
    "start_time": "2025-07-01T12:38:21.988Z"
   },
   {
    "duration": 0,
    "start_time": "2025-07-01T12:38:21.988Z"
   },
   {
    "duration": 6,
    "start_time": "2025-07-01T12:38:22.040Z"
   },
   {
    "duration": 10106,
    "start_time": "2025-07-01T12:41:00.879Z"
   },
   {
    "duration": 96,
    "start_time": "2025-07-01T12:41:10.988Z"
   },
   {
    "duration": 16,
    "start_time": "2025-07-01T12:41:11.086Z"
   },
   {
    "duration": 22,
    "start_time": "2025-07-01T12:41:11.104Z"
   },
   {
    "duration": 16,
    "start_time": "2025-07-01T12:41:11.128Z"
   },
   {
    "duration": 22,
    "start_time": "2025-07-01T12:41:11.145Z"
   },
   {
    "duration": 137,
    "start_time": "2025-07-01T12:41:11.168Z"
   },
   {
    "duration": 4,
    "start_time": "2025-07-01T12:41:11.307Z"
   },
   {
    "duration": 24,
    "start_time": "2025-07-01T12:41:11.313Z"
   },
   {
    "duration": 25,
    "start_time": "2025-07-01T12:41:11.339Z"
   },
   {
    "duration": 146,
    "start_time": "2025-07-01T12:41:11.366Z"
   },
   {
    "duration": 332,
    "start_time": "2025-07-01T12:41:11.514Z"
   },
   {
    "duration": 7,
    "start_time": "2025-07-01T12:41:11.848Z"
   },
   {
    "duration": 337,
    "start_time": "2025-07-01T12:41:11.858Z"
   },
   {
    "duration": 7,
    "start_time": "2025-07-01T12:41:12.197Z"
   },
   {
    "duration": 24,
    "start_time": "2025-07-01T12:41:12.205Z"
   },
   {
    "duration": 342,
    "start_time": "2025-07-01T12:41:12.230Z"
   },
   {
    "duration": 17,
    "start_time": "2025-07-01T12:41:12.573Z"
   },
   {
    "duration": 56,
    "start_time": "2025-07-01T12:41:12.591Z"
   },
   {
    "duration": 8,
    "start_time": "2025-07-01T12:41:12.648Z"
   },
   {
    "duration": 129,
    "start_time": "2025-07-01T12:41:12.657Z"
   },
   {
    "duration": 12,
    "start_time": "2025-07-01T12:41:12.787Z"
   },
   {
    "duration": 9,
    "start_time": "2025-07-01T12:41:12.801Z"
   },
   {
    "duration": 8,
    "start_time": "2025-07-01T12:41:12.811Z"
   },
   {
    "duration": 1557,
    "start_time": "2025-07-01T12:41:12.822Z"
   },
   {
    "duration": 20,
    "start_time": "2025-07-01T12:41:14.381Z"
   },
   {
    "duration": 13,
    "start_time": "2025-07-01T12:41:14.404Z"
   },
   {
    "duration": 131,
    "start_time": "2025-07-01T12:41:14.438Z"
   },
   {
    "duration": 69,
    "start_time": "2025-07-01T12:41:14.571Z"
   },
   {
    "duration": 3201,
    "start_time": "2025-07-01T12:41:14.641Z"
   },
   {
    "duration": 47,
    "start_time": "2025-07-01T12:41:17.844Z"
   },
   {
    "duration": 59,
    "start_time": "2025-07-01T12:41:17.892Z"
   },
   {
    "duration": 6,
    "start_time": "2025-07-01T12:41:17.953Z"
   },
   {
    "duration": 70,
    "start_time": "2025-07-01T12:41:17.960Z"
   },
   {
    "duration": 10,
    "start_time": "2025-07-01T12:41:18.035Z"
   },
   {
    "duration": 14,
    "start_time": "2025-07-01T12:41:18.046Z"
   },
   {
    "duration": 10,
    "start_time": "2025-07-01T12:41:18.061Z"
   },
   {
    "duration": 3,
    "start_time": "2025-07-01T12:41:18.073Z"
   },
   {
    "duration": 108,
    "start_time": "2025-07-01T12:41:18.077Z"
   },
   {
    "duration": 22,
    "start_time": "2025-07-01T12:41:18.187Z"
   },
   {
    "duration": 9,
    "start_time": "2025-07-01T12:41:18.213Z"
   },
   {
    "duration": 22,
    "start_time": "2025-07-01T12:41:18.223Z"
   },
   {
    "duration": 40,
    "start_time": "2025-07-01T12:41:18.246Z"
   },
   {
    "duration": 5,
    "start_time": "2025-07-01T12:41:18.288Z"
   },
   {
    "duration": 19,
    "start_time": "2025-07-01T12:41:18.294Z"
   },
   {
    "duration": 69,
    "start_time": "2025-07-01T12:41:18.314Z"
   },
   {
    "duration": 21,
    "start_time": "2025-07-01T12:41:18.385Z"
   },
   {
    "duration": 36,
    "start_time": "2025-07-01T12:41:18.408Z"
   },
   {
    "duration": 14,
    "start_time": "2025-07-01T12:41:18.446Z"
   },
   {
    "duration": 21,
    "start_time": "2025-07-01T12:41:18.462Z"
   },
   {
    "duration": 18,
    "start_time": "2025-07-01T12:41:18.485Z"
   },
   {
    "duration": 24,
    "start_time": "2025-07-01T12:41:18.504Z"
   },
   {
    "duration": 281,
    "start_time": "2025-07-01T12:41:18.537Z"
   },
   {
    "duration": 6,
    "start_time": "2025-07-01T12:41:18.820Z"
   },
   {
    "duration": 25,
    "start_time": "2025-07-01T12:41:18.827Z"
   },
   {
    "duration": 10,
    "start_time": "2025-07-01T12:41:18.853Z"
   },
   {
    "duration": 9,
    "start_time": "2025-07-01T12:41:18.865Z"
   },
   {
    "duration": 5,
    "start_time": "2025-07-01T12:41:18.876Z"
   },
   {
    "duration": 4,
    "start_time": "2025-07-01T12:41:18.883Z"
   },
   {
    "duration": 383,
    "start_time": "2025-07-01T13:29:15.103Z"
   },
   {
    "duration": 74,
    "start_time": "2025-07-01T13:35:15.654Z"
   },
   {
    "duration": 2629,
    "start_time": "2025-07-01T13:35:33.316Z"
   },
   {
    "duration": 21,
    "start_time": "2025-07-01T13:35:39.938Z"
   },
   {
    "duration": 6,
    "start_time": "2025-07-01T13:36:07.557Z"
   },
   {
    "duration": 9,
    "start_time": "2025-07-01T13:36:38.457Z"
   },
   {
    "duration": 7,
    "start_time": "2025-07-01T13:36:49.337Z"
   },
   {
    "duration": 5,
    "start_time": "2025-07-01T13:46:03.275Z"
   },
   {
    "duration": 298,
    "start_time": "2025-07-01T13:50:48.225Z"
   },
   {
    "duration": 15,
    "start_time": "2025-07-01T13:51:10.313Z"
   },
   {
    "duration": 298,
    "start_time": "2025-07-01T13:54:56.882Z"
   },
   {
    "duration": 279,
    "start_time": "2025-07-01T13:56:32.903Z"
   },
   {
    "duration": 298,
    "start_time": "2025-07-01T13:59:14.617Z"
   },
   {
    "duration": 21,
    "start_time": "2025-07-01T14:16:14.462Z"
   },
   {
    "duration": 14,
    "start_time": "2025-07-01T14:16:27.240Z"
   },
   {
    "duration": 7,
    "start_time": "2025-07-01T14:16:36.920Z"
   },
   {
    "duration": 6,
    "start_time": "2025-07-01T14:30:56.280Z"
   },
   {
    "duration": 2573,
    "start_time": "2025-07-01T14:31:23.801Z"
   },
   {
    "duration": 89,
    "start_time": "2025-07-01T14:31:26.376Z"
   },
   {
    "duration": 11,
    "start_time": "2025-07-01T14:31:26.467Z"
   },
   {
    "duration": 22,
    "start_time": "2025-07-01T14:31:26.480Z"
   },
   {
    "duration": 9,
    "start_time": "2025-07-01T14:31:26.504Z"
   },
   {
    "duration": 14,
    "start_time": "2025-07-01T14:31:26.515Z"
   },
   {
    "duration": 112,
    "start_time": "2025-07-01T14:31:26.530Z"
   },
   {
    "duration": 4,
    "start_time": "2025-07-01T14:31:26.644Z"
   },
   {
    "duration": 8,
    "start_time": "2025-07-01T14:31:26.649Z"
   },
   {
    "duration": 19,
    "start_time": "2025-07-01T14:31:26.659Z"
   },
   {
    "duration": 137,
    "start_time": "2025-07-01T14:31:26.680Z"
   },
   {
    "duration": 341,
    "start_time": "2025-07-01T14:31:26.819Z"
   },
   {
    "duration": 7,
    "start_time": "2025-07-01T14:31:27.162Z"
   },
   {
    "duration": 427,
    "start_time": "2025-07-01T14:31:27.173Z"
   },
   {
    "duration": 12,
    "start_time": "2025-07-01T14:31:27.602Z"
   },
   {
    "duration": 21,
    "start_time": "2025-07-01T14:31:27.616Z"
   },
   {
    "duration": 360,
    "start_time": "2025-07-01T14:31:27.639Z"
   },
   {
    "duration": 18,
    "start_time": "2025-07-01T14:31:28.000Z"
   },
   {
    "duration": 25,
    "start_time": "2025-07-01T14:31:28.020Z"
   },
   {
    "duration": 32,
    "start_time": "2025-07-01T14:31:28.047Z"
   },
   {
    "duration": 23,
    "start_time": "2025-07-01T14:31:28.080Z"
   },
   {
    "duration": 23,
    "start_time": "2025-07-01T14:31:28.104Z"
   },
   {
    "duration": 277,
    "start_time": "2025-07-01T14:31:28.129Z"
   },
   {
    "duration": 227,
    "start_time": "2025-07-01T14:31:28.409Z"
   },
   {
    "duration": 6,
    "start_time": "2025-07-01T14:31:28.639Z"
   },
   {
    "duration": 4,
    "start_time": "2025-07-01T14:31:28.647Z"
   },
   {
    "duration": 4,
    "start_time": "2025-07-01T14:31:28.653Z"
   },
   {
    "duration": 6,
    "start_time": "2025-07-01T14:31:28.659Z"
   },
   {
    "duration": 1727,
    "start_time": "2025-07-01T14:31:28.666Z"
   },
   {
    "duration": 14,
    "start_time": "2025-07-01T14:31:30.395Z"
   },
   {
    "duration": 36,
    "start_time": "2025-07-01T14:31:30.410Z"
   },
   {
    "duration": 146,
    "start_time": "2025-07-01T14:31:30.448Z"
   },
   {
    "duration": 9,
    "start_time": "2025-07-01T14:31:30.596Z"
   },
   {
    "duration": 3302,
    "start_time": "2025-07-01T14:31:30.606Z"
   },
   {
    "duration": 52,
    "start_time": "2025-07-01T14:31:33.910Z"
   },
   {
    "duration": 5,
    "start_time": "2025-07-01T14:31:33.963Z"
   },
   {
    "duration": 19,
    "start_time": "2025-07-01T14:31:33.970Z"
   },
   {
    "duration": 85,
    "start_time": "2025-07-01T14:31:33.990Z"
   },
   {
    "duration": 11,
    "start_time": "2025-07-01T14:31:34.077Z"
   },
   {
    "duration": 22,
    "start_time": "2025-07-01T14:31:34.089Z"
   },
   {
    "duration": 21,
    "start_time": "2025-07-01T14:31:34.116Z"
   },
   {
    "duration": 13,
    "start_time": "2025-07-01T14:31:34.139Z"
   },
   {
    "duration": 105,
    "start_time": "2025-07-01T14:31:34.153Z"
   },
   {
    "duration": 104,
    "start_time": "2025-07-01T14:31:34.260Z"
   },
   {
    "duration": 11,
    "start_time": "2025-07-01T14:31:34.366Z"
   },
   {
    "duration": 15,
    "start_time": "2025-07-01T14:31:34.379Z"
   },
   {
    "duration": 81,
    "start_time": "2025-07-01T14:31:34.396Z"
   },
   {
    "duration": 5,
    "start_time": "2025-07-01T14:31:34.479Z"
   },
   {
    "duration": 20,
    "start_time": "2025-07-01T14:31:34.485Z"
   },
   {
    "duration": 21,
    "start_time": "2025-07-01T14:31:34.507Z"
   },
   {
    "duration": 8,
    "start_time": "2025-07-01T14:31:34.529Z"
   },
   {
    "duration": 39,
    "start_time": "2025-07-01T14:31:34.538Z"
   },
   {
    "duration": 14,
    "start_time": "2025-07-01T14:31:34.578Z"
   },
   {
    "duration": 26,
    "start_time": "2025-07-01T14:31:34.593Z"
   },
   {
    "duration": 22,
    "start_time": "2025-07-01T14:31:34.620Z"
   },
   {
    "duration": 26,
    "start_time": "2025-07-01T14:31:34.643Z"
   },
   {
    "duration": 20,
    "start_time": "2025-07-01T14:31:34.671Z"
   },
   {
    "duration": 6,
    "start_time": "2025-07-01T14:31:34.692Z"
   },
   {
    "duration": 10,
    "start_time": "2025-07-01T14:31:34.700Z"
   },
   {
    "duration": 16,
    "start_time": "2025-07-01T14:31:34.712Z"
   },
   {
    "duration": 44,
    "start_time": "2025-07-01T14:31:34.729Z"
   },
   {
    "duration": 28,
    "start_time": "2025-07-01T14:31:34.775Z"
   },
   {
    "duration": 37,
    "start_time": "2025-07-01T14:31:34.804Z"
   },
   {
    "duration": 268,
    "start_time": "2025-07-01T14:34:11.560Z"
   },
   {
    "duration": 326,
    "start_time": "2025-07-01T14:34:13.620Z"
   },
   {
    "duration": 2579,
    "start_time": "2025-07-01T14:34:20.481Z"
   },
   {
    "duration": 56,
    "start_time": "2025-07-01T14:34:23.062Z"
   },
   {
    "duration": 9,
    "start_time": "2025-07-01T14:34:23.120Z"
   },
   {
    "duration": 28,
    "start_time": "2025-07-01T14:34:23.131Z"
   },
   {
    "duration": 112,
    "start_time": "2025-07-01T14:34:23.161Z"
   },
   {
    "duration": 46,
    "start_time": "2025-07-01T14:34:23.275Z"
   },
   {
    "duration": 94,
    "start_time": "2025-07-01T14:34:23.323Z"
   },
   {
    "duration": 6,
    "start_time": "2025-07-01T14:34:23.418Z"
   },
   {
    "duration": 22,
    "start_time": "2025-07-01T14:34:23.436Z"
   },
   {
    "duration": 26,
    "start_time": "2025-07-01T14:34:23.460Z"
   },
   {
    "duration": 265,
    "start_time": "2025-07-01T14:34:23.488Z"
   },
   {
    "duration": 345,
    "start_time": "2025-07-01T14:34:23.755Z"
   },
   {
    "duration": 7,
    "start_time": "2025-07-01T14:34:24.102Z"
   },
   {
    "duration": 367,
    "start_time": "2025-07-01T14:34:24.114Z"
   },
   {
    "duration": 9,
    "start_time": "2025-07-01T14:34:24.483Z"
   },
   {
    "duration": 16,
    "start_time": "2025-07-01T14:34:24.494Z"
   },
   {
    "duration": 332,
    "start_time": "2025-07-01T14:34:24.512Z"
   },
   {
    "duration": 18,
    "start_time": "2025-07-01T14:34:24.846Z"
   },
   {
    "duration": 8,
    "start_time": "2025-07-01T14:34:24.866Z"
   },
   {
    "duration": 3,
    "start_time": "2025-07-01T14:34:24.875Z"
   },
   {
    "duration": 26,
    "start_time": "2025-07-01T14:34:24.879Z"
   },
   {
    "duration": 21,
    "start_time": "2025-07-01T14:34:24.907Z"
   },
   {
    "duration": 271,
    "start_time": "2025-07-01T14:34:24.930Z"
   },
   {
    "duration": 274,
    "start_time": "2025-07-01T14:34:25.202Z"
   },
   {
    "duration": 7,
    "start_time": "2025-07-01T14:34:25.478Z"
   },
   {
    "duration": 12,
    "start_time": "2025-07-01T14:34:25.486Z"
   },
   {
    "duration": 9,
    "start_time": "2025-07-01T14:34:25.500Z"
   },
   {
    "duration": 29,
    "start_time": "2025-07-01T14:34:25.510Z"
   },
   {
    "duration": 1574,
    "start_time": "2025-07-01T14:34:25.541Z"
   },
   {
    "duration": 22,
    "start_time": "2025-07-01T14:34:27.117Z"
   },
   {
    "duration": 15,
    "start_time": "2025-07-01T14:34:27.141Z"
   },
   {
    "duration": 244,
    "start_time": "2025-07-01T14:34:27.158Z"
   },
   {
    "duration": 8,
    "start_time": "2025-07-01T14:34:27.404Z"
   },
   {
    "duration": 3265,
    "start_time": "2025-07-01T14:34:27.413Z"
   },
   {
    "duration": 57,
    "start_time": "2025-07-01T14:34:30.680Z"
   },
   {
    "duration": 5,
    "start_time": "2025-07-01T14:34:30.739Z"
   },
   {
    "duration": 41,
    "start_time": "2025-07-01T14:34:30.745Z"
   },
   {
    "duration": 86,
    "start_time": "2025-07-01T14:34:30.787Z"
   },
   {
    "duration": 47,
    "start_time": "2025-07-01T14:34:30.875Z"
   },
   {
    "duration": 13,
    "start_time": "2025-07-01T14:34:30.924Z"
   },
   {
    "duration": 32,
    "start_time": "2025-07-01T14:34:30.942Z"
   },
   {
    "duration": 141,
    "start_time": "2025-07-01T14:34:30.975Z"
   },
   {
    "duration": 95,
    "start_time": "2025-07-01T14:34:31.118Z"
   },
   {
    "duration": 124,
    "start_time": "2025-07-01T14:34:31.215Z"
   },
   {
    "duration": 13,
    "start_time": "2025-07-01T14:34:31.341Z"
   },
   {
    "duration": 14,
    "start_time": "2025-07-01T14:34:31.355Z"
   },
   {
    "duration": 72,
    "start_time": "2025-07-01T14:34:31.370Z"
   },
   {
    "duration": 5,
    "start_time": "2025-07-01T14:34:31.445Z"
   },
   {
    "duration": 13,
    "start_time": "2025-07-01T14:34:31.452Z"
   },
   {
    "duration": 22,
    "start_time": "2025-07-01T14:34:31.466Z"
   },
   {
    "duration": 7,
    "start_time": "2025-07-01T14:34:31.490Z"
   },
   {
    "duration": 53,
    "start_time": "2025-07-01T14:34:31.499Z"
   },
   {
    "duration": 13,
    "start_time": "2025-07-01T14:34:31.554Z"
   },
   {
    "duration": 25,
    "start_time": "2025-07-01T14:34:31.569Z"
   },
   {
    "duration": 31,
    "start_time": "2025-07-01T14:34:31.596Z"
   },
   {
    "duration": 36,
    "start_time": "2025-07-01T14:34:31.629Z"
   },
   {
    "duration": 26,
    "start_time": "2025-07-01T14:34:31.667Z"
   },
   {
    "duration": 9,
    "start_time": "2025-07-01T14:34:31.695Z"
   },
   {
    "duration": 28,
    "start_time": "2025-07-01T14:34:31.706Z"
   },
   {
    "duration": 21,
    "start_time": "2025-07-01T14:34:31.736Z"
   },
   {
    "duration": 18,
    "start_time": "2025-07-01T14:34:31.758Z"
   },
   {
    "duration": 17,
    "start_time": "2025-07-01T14:34:31.778Z"
   },
   {
    "duration": 33,
    "start_time": "2025-07-01T14:34:31.797Z"
   },
   {
    "duration": 249,
    "start_time": "2025-07-01T14:37:54.801Z"
   },
   {
    "duration": 303,
    "start_time": "2025-07-01T14:37:58.140Z"
   },
   {
    "duration": 248,
    "start_time": "2025-07-01T14:38:00.441Z"
   },
   {
    "duration": 2544,
    "start_time": "2025-07-01T14:40:22.371Z"
   },
   {
    "duration": 51,
    "start_time": "2025-07-01T14:40:24.918Z"
   },
   {
    "duration": 9,
    "start_time": "2025-07-01T14:40:24.971Z"
   },
   {
    "duration": 13,
    "start_time": "2025-07-01T14:40:24.982Z"
   },
   {
    "duration": 10,
    "start_time": "2025-07-01T14:40:24.998Z"
   },
   {
    "duration": 29,
    "start_time": "2025-07-01T14:40:25.010Z"
   },
   {
    "duration": 106,
    "start_time": "2025-07-01T14:40:25.041Z"
   },
   {
    "duration": 4,
    "start_time": "2025-07-01T14:40:25.149Z"
   },
   {
    "duration": 15,
    "start_time": "2025-07-01T14:40:25.154Z"
   },
   {
    "duration": 10,
    "start_time": "2025-07-01T14:40:25.171Z"
   },
   {
    "duration": 130,
    "start_time": "2025-07-01T14:40:25.182Z"
   },
   {
    "duration": 327,
    "start_time": "2025-07-01T14:40:25.314Z"
   },
   {
    "duration": 440,
    "start_time": "2025-07-01T14:40:25.643Z"
   },
   {
    "duration": 8,
    "start_time": "2025-07-01T14:40:26.087Z"
   },
   {
    "duration": 8,
    "start_time": "2025-07-01T14:40:26.096Z"
   },
   {
    "duration": 354,
    "start_time": "2025-07-01T14:40:26.106Z"
   },
   {
    "duration": 18,
    "start_time": "2025-07-01T14:40:26.463Z"
   },
   {
    "duration": 8,
    "start_time": "2025-07-01T14:40:26.483Z"
   },
   {
    "duration": 16,
    "start_time": "2025-07-01T14:40:26.493Z"
   },
   {
    "duration": 7,
    "start_time": "2025-07-01T14:40:26.510Z"
   },
   {
    "duration": 28,
    "start_time": "2025-07-01T14:40:26.518Z"
   },
   {
    "duration": 280,
    "start_time": "2025-07-01T14:40:26.548Z"
   },
   {
    "duration": 223,
    "start_time": "2025-07-01T14:40:26.829Z"
   },
   {
    "duration": 4,
    "start_time": "2025-07-01T14:40:27.054Z"
   },
   {
    "duration": 68,
    "start_time": "2025-07-01T14:40:27.060Z"
   },
   {
    "duration": 15,
    "start_time": "2025-07-01T14:40:27.130Z"
   },
   {
    "duration": 20,
    "start_time": "2025-07-01T14:40:27.147Z"
   },
   {
    "duration": 1627,
    "start_time": "2025-07-01T14:40:27.169Z"
   },
   {
    "duration": 15,
    "start_time": "2025-07-01T14:40:28.797Z"
   },
   {
    "duration": 47,
    "start_time": "2025-07-01T14:40:28.814Z"
   },
   {
    "duration": 136,
    "start_time": "2025-07-01T14:40:28.863Z"
   },
   {
    "duration": 12,
    "start_time": "2025-07-01T14:40:29.001Z"
   },
   {
    "duration": 3418,
    "start_time": "2025-07-01T14:40:29.015Z"
   },
   {
    "duration": 54,
    "start_time": "2025-07-01T14:40:32.437Z"
   },
   {
    "duration": 6,
    "start_time": "2025-07-01T14:40:32.492Z"
   },
   {
    "duration": 37,
    "start_time": "2025-07-01T14:40:32.500Z"
   },
   {
    "duration": 72,
    "start_time": "2025-07-01T14:40:32.539Z"
   },
   {
    "duration": 27,
    "start_time": "2025-07-01T14:40:32.612Z"
   },
   {
    "duration": 25,
    "start_time": "2025-07-01T14:40:32.641Z"
   },
   {
    "duration": 24,
    "start_time": "2025-07-01T14:40:32.668Z"
   },
   {
    "duration": 28,
    "start_time": "2025-07-01T14:40:32.696Z"
   },
   {
    "duration": 124,
    "start_time": "2025-07-01T14:40:32.726Z"
   },
   {
    "duration": 20,
    "start_time": "2025-07-01T14:40:32.852Z"
   },
   {
    "duration": 62,
    "start_time": "2025-07-01T14:40:32.874Z"
   },
   {
    "duration": 26,
    "start_time": "2025-07-01T14:40:32.937Z"
   },
   {
    "duration": 46,
    "start_time": "2025-07-01T14:40:32.965Z"
   },
   {
    "duration": 5,
    "start_time": "2025-07-01T14:40:33.013Z"
   },
   {
    "duration": 131,
    "start_time": "2025-07-01T14:40:33.020Z"
   },
   {
    "duration": 21,
    "start_time": "2025-07-01T14:40:33.153Z"
   },
   {
    "duration": 27,
    "start_time": "2025-07-01T14:40:33.175Z"
   },
   {
    "duration": 221,
    "start_time": "2025-07-01T14:40:33.204Z"
   },
   {
    "duration": 15,
    "start_time": "2025-07-01T14:40:33.427Z"
   },
   {
    "duration": 21,
    "start_time": "2025-07-01T14:40:33.444Z"
   },
   {
    "duration": 55,
    "start_time": "2025-07-01T14:40:33.467Z"
   },
   {
    "duration": 38,
    "start_time": "2025-07-01T14:40:33.524Z"
   },
   {
    "duration": 21,
    "start_time": "2025-07-01T14:40:33.563Z"
   },
   {
    "duration": 19,
    "start_time": "2025-07-01T14:40:33.586Z"
   },
   {
    "duration": 5,
    "start_time": "2025-07-01T14:40:33.607Z"
   },
   {
    "duration": 41,
    "start_time": "2025-07-01T14:40:33.614Z"
   },
   {
    "duration": 19,
    "start_time": "2025-07-01T14:40:33.658Z"
   },
   {
    "duration": 27,
    "start_time": "2025-07-01T14:40:33.679Z"
   },
   {
    "duration": 21,
    "start_time": "2025-07-01T14:40:33.708Z"
   },
   {
    "duration": 5,
    "start_time": "2025-07-01T14:42:28.851Z"
   },
   {
    "duration": 356,
    "start_time": "2025-07-01T14:42:36.791Z"
   },
   {
    "duration": 9,
    "start_time": "2025-07-01T14:42:50.430Z"
   },
   {
    "duration": 4,
    "start_time": "2025-07-01T14:42:51.842Z"
   },
   {
    "duration": 343,
    "start_time": "2025-07-01T14:42:59.431Z"
   },
   {
    "duration": 336,
    "start_time": "2025-07-01T14:43:17.251Z"
   },
   {
    "duration": 18,
    "start_time": "2025-07-01T14:43:29.402Z"
   },
   {
    "duration": 9,
    "start_time": "2025-07-01T14:43:43.373Z"
   },
   {
    "duration": 7,
    "start_time": "2025-07-01T14:44:00.306Z"
   },
   {
    "duration": 6,
    "start_time": "2025-07-01T14:44:02.194Z"
   },
   {
    "duration": 275,
    "start_time": "2025-07-01T14:44:05.570Z"
   },
   {
    "duration": 205,
    "start_time": "2025-07-01T14:44:06.942Z"
   },
   {
    "duration": 349,
    "start_time": "2025-07-01T14:44:16.390Z"
   },
   {
    "duration": 296,
    "start_time": "2025-07-01T14:44:17.983Z"
   },
   {
    "duration": 6,
    "start_time": "2025-07-01T14:44:27.870Z"
   },
   {
    "duration": 5,
    "start_time": "2025-07-01T14:44:52.211Z"
   },
   {
    "duration": 7,
    "start_time": "2025-07-01T14:45:25.670Z"
   },
   {
    "duration": 2660,
    "start_time": "2025-07-01T14:45:53.451Z"
   },
   {
    "duration": 45,
    "start_time": "2025-07-01T14:45:56.113Z"
   },
   {
    "duration": 11,
    "start_time": "2025-07-01T14:45:56.159Z"
   },
   {
    "duration": 15,
    "start_time": "2025-07-01T14:45:56.172Z"
   },
   {
    "duration": 8,
    "start_time": "2025-07-01T14:45:56.189Z"
   },
   {
    "duration": 7,
    "start_time": "2025-07-01T14:45:56.199Z"
   },
   {
    "duration": 113,
    "start_time": "2025-07-01T14:45:56.207Z"
   },
   {
    "duration": 4,
    "start_time": "2025-07-01T14:45:56.322Z"
   },
   {
    "duration": 26,
    "start_time": "2025-07-01T14:45:56.336Z"
   },
   {
    "duration": 27,
    "start_time": "2025-07-01T14:45:56.364Z"
   },
   {
    "duration": 130,
    "start_time": "2025-07-01T14:45:56.394Z"
   },
   {
    "duration": 434,
    "start_time": "2025-07-01T14:45:56.526Z"
   },
   {
    "duration": 6,
    "start_time": "2025-07-01T14:45:56.963Z"
   },
   {
    "duration": 335,
    "start_time": "2025-07-01T14:45:56.973Z"
   },
   {
    "duration": 7,
    "start_time": "2025-07-01T14:45:57.309Z"
   },
   {
    "duration": 65,
    "start_time": "2025-07-01T14:45:57.317Z"
   },
   {
    "duration": 340,
    "start_time": "2025-07-01T14:45:57.383Z"
   },
   {
    "duration": 25,
    "start_time": "2025-07-01T14:45:57.725Z"
   },
   {
    "duration": 11,
    "start_time": "2025-07-01T14:45:57.751Z"
   },
   {
    "duration": 11,
    "start_time": "2025-07-01T14:45:57.763Z"
   },
   {
    "duration": 8,
    "start_time": "2025-07-01T14:45:57.776Z"
   },
   {
    "duration": 6,
    "start_time": "2025-07-01T14:45:57.786Z"
   },
   {
    "duration": 311,
    "start_time": "2025-07-01T14:45:57.794Z"
   },
   {
    "duration": 254,
    "start_time": "2025-07-01T14:45:58.106Z"
   },
   {
    "duration": 5,
    "start_time": "2025-07-01T14:45:58.362Z"
   },
   {
    "duration": 15,
    "start_time": "2025-07-01T14:45:58.369Z"
   },
   {
    "duration": 14,
    "start_time": "2025-07-01T14:45:58.386Z"
   },
   {
    "duration": 9,
    "start_time": "2025-07-01T14:45:58.402Z"
   },
   {
    "duration": 1625,
    "start_time": "2025-07-01T14:45:58.413Z"
   },
   {
    "duration": 14,
    "start_time": "2025-07-01T14:46:00.040Z"
   },
   {
    "duration": 99,
    "start_time": "2025-07-01T14:46:00.056Z"
   },
   {
    "duration": 146,
    "start_time": "2025-07-01T14:46:00.157Z"
   },
   {
    "duration": 41,
    "start_time": "2025-07-01T14:46:00.305Z"
   },
   {
    "duration": 3307,
    "start_time": "2025-07-01T14:46:00.348Z"
   },
   {
    "duration": 50,
    "start_time": "2025-07-01T14:46:03.656Z"
   },
   {
    "duration": 5,
    "start_time": "2025-07-01T14:46:03.708Z"
   },
   {
    "duration": 28,
    "start_time": "2025-07-01T14:46:03.715Z"
   },
   {
    "duration": 74,
    "start_time": "2025-07-01T14:46:03.745Z"
   },
   {
    "duration": 19,
    "start_time": "2025-07-01T14:46:03.821Z"
   },
   {
    "duration": 7,
    "start_time": "2025-07-01T14:46:03.841Z"
   },
   {
    "duration": 9,
    "start_time": "2025-07-01T14:46:03.852Z"
   },
   {
    "duration": 9,
    "start_time": "2025-07-01T14:46:03.862Z"
   },
   {
    "duration": 113,
    "start_time": "2025-07-01T14:46:03.873Z"
   },
   {
    "duration": 60,
    "start_time": "2025-07-01T14:46:03.988Z"
   },
   {
    "duration": 33,
    "start_time": "2025-07-01T14:46:04.049Z"
   },
   {
    "duration": 25,
    "start_time": "2025-07-01T14:46:04.084Z"
   },
   {
    "duration": 47,
    "start_time": "2025-07-01T14:46:04.111Z"
   },
   {
    "duration": 5,
    "start_time": "2025-07-01T14:46:04.159Z"
   },
   {
    "duration": 76,
    "start_time": "2025-07-01T14:46:04.165Z"
   },
   {
    "duration": 29,
    "start_time": "2025-07-01T14:46:04.242Z"
   },
   {
    "duration": 16,
    "start_time": "2025-07-01T14:46:04.273Z"
   },
   {
    "duration": 145,
    "start_time": "2025-07-01T14:46:04.291Z"
   },
   {
    "duration": 19,
    "start_time": "2025-07-01T14:46:04.439Z"
   },
   {
    "duration": 18,
    "start_time": "2025-07-01T14:46:04.460Z"
   },
   {
    "duration": 35,
    "start_time": "2025-07-01T14:46:04.479Z"
   },
   {
    "duration": 26,
    "start_time": "2025-07-01T14:46:04.515Z"
   },
   {
    "duration": 18,
    "start_time": "2025-07-01T14:46:04.543Z"
   },
   {
    "duration": 16,
    "start_time": "2025-07-01T14:46:04.563Z"
   },
   {
    "duration": 26,
    "start_time": "2025-07-01T14:46:04.581Z"
   },
   {
    "duration": 22,
    "start_time": "2025-07-01T14:46:04.608Z"
   },
   {
    "duration": 25,
    "start_time": "2025-07-01T14:46:04.632Z"
   },
   {
    "duration": 4,
    "start_time": "2025-07-01T14:46:04.658Z"
   },
   {
    "duration": 21,
    "start_time": "2025-07-01T14:46:04.664Z"
   },
   {
    "duration": 281,
    "start_time": "2025-07-01T14:47:36.516Z"
   },
   {
    "duration": 259,
    "start_time": "2025-07-01T14:47:41.396Z"
   },
   {
    "duration": 7,
    "start_time": "2025-07-01T14:51:30.947Z"
   },
   {
    "duration": 7,
    "start_time": "2025-07-01T14:52:00.987Z"
   },
   {
    "duration": 7,
    "start_time": "2025-07-01T14:52:02.187Z"
   },
   {
    "duration": 271,
    "start_time": "2025-07-01T14:52:29.355Z"
   },
   {
    "duration": 222,
    "start_time": "2025-07-01T14:52:30.075Z"
   },
   {
    "duration": 2524,
    "start_time": "2025-07-01T14:52:40.075Z"
   },
   {
    "duration": 51,
    "start_time": "2025-07-01T14:52:42.602Z"
   },
   {
    "duration": 10,
    "start_time": "2025-07-01T14:52:42.655Z"
   },
   {
    "duration": 11,
    "start_time": "2025-07-01T14:52:42.666Z"
   },
   {
    "duration": 8,
    "start_time": "2025-07-01T14:52:42.679Z"
   },
   {
    "duration": 6,
    "start_time": "2025-07-01T14:52:42.689Z"
   },
   {
    "duration": 113,
    "start_time": "2025-07-01T14:52:42.697Z"
   },
   {
    "duration": 4,
    "start_time": "2025-07-01T14:52:42.812Z"
   },
   {
    "duration": 5,
    "start_time": "2025-07-01T14:52:42.817Z"
   },
   {
    "duration": 16,
    "start_time": "2025-07-01T14:52:42.836Z"
   },
   {
    "duration": 134,
    "start_time": "2025-07-01T14:52:42.853Z"
   },
   {
    "duration": 332,
    "start_time": "2025-07-01T14:52:42.989Z"
   },
   {
    "duration": 13,
    "start_time": "2025-07-01T14:52:43.323Z"
   },
   {
    "duration": 387,
    "start_time": "2025-07-01T14:52:43.340Z"
   },
   {
    "duration": 9,
    "start_time": "2025-07-01T14:52:43.728Z"
   },
   {
    "duration": 5,
    "start_time": "2025-07-01T14:52:43.739Z"
   },
   {
    "duration": 461,
    "start_time": "2025-07-01T14:52:43.745Z"
   },
   {
    "duration": 19,
    "start_time": "2025-07-01T14:52:44.208Z"
   },
   {
    "duration": 38,
    "start_time": "2025-07-01T14:52:44.237Z"
   },
   {
    "duration": 4,
    "start_time": "2025-07-01T14:52:44.277Z"
   },
   {
    "duration": 8,
    "start_time": "2025-07-01T14:52:44.283Z"
   },
   {
    "duration": 6,
    "start_time": "2025-07-01T14:52:44.293Z"
   },
   {
    "duration": 7,
    "start_time": "2025-07-01T14:52:44.301Z"
   },
   {
    "duration": 382,
    "start_time": "2025-07-01T14:52:44.310Z"
   },
   {
    "duration": 236,
    "start_time": "2025-07-01T14:52:44.695Z"
   },
   {
    "duration": 5,
    "start_time": "2025-07-01T14:52:44.936Z"
   },
   {
    "duration": 10,
    "start_time": "2025-07-01T14:52:44.943Z"
   },
   {
    "duration": 7,
    "start_time": "2025-07-01T14:52:44.955Z"
   },
   {
    "duration": 4,
    "start_time": "2025-07-01T14:52:44.963Z"
   },
   {
    "duration": 1619,
    "start_time": "2025-07-01T14:52:44.969Z"
   },
   {
    "duration": 14,
    "start_time": "2025-07-01T14:52:46.590Z"
   },
   {
    "duration": 29,
    "start_time": "2025-07-01T14:52:46.606Z"
   },
   {
    "duration": 126,
    "start_time": "2025-07-01T14:52:46.636Z"
   },
   {
    "duration": 9,
    "start_time": "2025-07-01T14:52:46.764Z"
   },
   {
    "duration": 3285,
    "start_time": "2025-07-01T14:52:46.775Z"
   },
   {
    "duration": 47,
    "start_time": "2025-07-01T14:52:50.062Z"
   },
   {
    "duration": 23,
    "start_time": "2025-07-01T14:52:50.111Z"
   },
   {
    "duration": 26,
    "start_time": "2025-07-01T14:52:50.137Z"
   },
   {
    "duration": 101,
    "start_time": "2025-07-01T14:52:50.165Z"
   },
   {
    "duration": 10,
    "start_time": "2025-07-01T14:52:50.268Z"
   },
   {
    "duration": 14,
    "start_time": "2025-07-01T14:52:50.282Z"
   },
   {
    "duration": 11,
    "start_time": "2025-07-01T14:52:50.298Z"
   },
   {
    "duration": 78,
    "start_time": "2025-07-01T14:52:50.311Z"
   },
   {
    "duration": 90,
    "start_time": "2025-07-01T14:52:50.391Z"
   },
   {
    "duration": 23,
    "start_time": "2025-07-01T14:52:50.483Z"
   },
   {
    "duration": 26,
    "start_time": "2025-07-01T14:52:50.507Z"
   },
   {
    "duration": 18,
    "start_time": "2025-07-01T14:52:50.535Z"
   },
   {
    "duration": 57,
    "start_time": "2025-07-01T14:52:50.554Z"
   },
   {
    "duration": 5,
    "start_time": "2025-07-01T14:52:50.613Z"
   },
   {
    "duration": 12,
    "start_time": "2025-07-01T14:52:50.620Z"
   },
   {
    "duration": 20,
    "start_time": "2025-07-01T14:52:50.633Z"
   },
   {
    "duration": 13,
    "start_time": "2025-07-01T14:52:50.655Z"
   },
   {
    "duration": 37,
    "start_time": "2025-07-01T14:52:50.669Z"
   },
   {
    "duration": 14,
    "start_time": "2025-07-01T14:52:50.708Z"
   },
   {
    "duration": 44,
    "start_time": "2025-07-01T14:52:50.723Z"
   },
   {
    "duration": 46,
    "start_time": "2025-07-01T14:52:50.769Z"
   },
   {
    "duration": 56,
    "start_time": "2025-07-01T14:52:50.817Z"
   },
   {
    "duration": 20,
    "start_time": "2025-07-01T14:52:50.875Z"
   },
   {
    "duration": 5,
    "start_time": "2025-07-01T14:52:50.897Z"
   },
   {
    "duration": 36,
    "start_time": "2025-07-01T14:52:50.904Z"
   },
   {
    "duration": 10,
    "start_time": "2025-07-01T14:52:50.942Z"
   },
   {
    "duration": 7,
    "start_time": "2025-07-01T14:52:50.953Z"
   },
   {
    "duration": 6,
    "start_time": "2025-07-01T14:52:50.961Z"
   },
   {
    "duration": 25,
    "start_time": "2025-07-01T14:52:50.969Z"
   },
   {
    "duration": 340,
    "start_time": "2025-07-01T14:53:16.355Z"
   },
   {
    "duration": 271,
    "start_time": "2025-07-01T14:53:23.755Z"
   },
   {
    "duration": 286,
    "start_time": "2025-07-01T14:53:38.035Z"
   },
   {
    "duration": 275,
    "start_time": "2025-07-01T14:53:44.675Z"
   },
   {
    "duration": 267,
    "start_time": "2025-07-01T14:54:18.415Z"
   },
   {
    "duration": 222,
    "start_time": "2025-07-01T14:54:19.654Z"
   },
   {
    "duration": 5,
    "start_time": "2025-07-01T14:54:20.715Z"
   },
   {
    "duration": 2658,
    "start_time": "2025-07-01T14:54:29.355Z"
   },
   {
    "duration": 46,
    "start_time": "2025-07-01T14:54:32.016Z"
   },
   {
    "duration": 11,
    "start_time": "2025-07-01T14:54:32.063Z"
   },
   {
    "duration": 36,
    "start_time": "2025-07-01T14:54:32.076Z"
   },
   {
    "duration": 11,
    "start_time": "2025-07-01T14:54:32.115Z"
   },
   {
    "duration": 14,
    "start_time": "2025-07-01T14:54:32.128Z"
   },
   {
    "duration": 103,
    "start_time": "2025-07-01T14:54:32.143Z"
   },
   {
    "duration": 4,
    "start_time": "2025-07-01T14:54:32.247Z"
   },
   {
    "duration": 42,
    "start_time": "2025-07-01T14:54:32.252Z"
   },
   {
    "duration": 48,
    "start_time": "2025-07-01T14:54:32.296Z"
   },
   {
    "duration": 166,
    "start_time": "2025-07-01T14:54:32.346Z"
   },
   {
    "duration": 325,
    "start_time": "2025-07-01T14:54:32.514Z"
   },
   {
    "duration": 7,
    "start_time": "2025-07-01T14:54:32.841Z"
   },
   {
    "duration": 337,
    "start_time": "2025-07-01T14:54:32.852Z"
   },
   {
    "duration": 9,
    "start_time": "2025-07-01T14:54:33.192Z"
   },
   {
    "duration": 36,
    "start_time": "2025-07-01T14:54:33.202Z"
   },
   {
    "duration": 322,
    "start_time": "2025-07-01T14:54:33.239Z"
   },
   {
    "duration": 18,
    "start_time": "2025-07-01T14:54:33.562Z"
   },
   {
    "duration": 9,
    "start_time": "2025-07-01T14:54:33.581Z"
   },
   {
    "duration": 46,
    "start_time": "2025-07-01T14:54:33.592Z"
   },
   {
    "duration": 27,
    "start_time": "2025-07-01T14:54:33.640Z"
   },
   {
    "duration": 23,
    "start_time": "2025-07-01T14:54:33.668Z"
   },
   {
    "duration": 21,
    "start_time": "2025-07-01T14:54:33.692Z"
   },
   {
    "duration": 271,
    "start_time": "2025-07-01T14:54:33.714Z"
   },
   {
    "duration": 264,
    "start_time": "2025-07-01T14:54:33.987Z"
   },
   {
    "duration": 5,
    "start_time": "2025-07-01T14:54:34.253Z"
   },
   {
    "duration": 148,
    "start_time": "2025-07-01T14:54:34.260Z"
   },
   {
    "duration": 5,
    "start_time": "2025-07-01T14:54:34.410Z"
   },
   {
    "duration": 14,
    "start_time": "2025-07-01T14:54:34.418Z"
   },
   {
    "duration": 1586,
    "start_time": "2025-07-01T14:54:34.435Z"
   },
   {
    "duration": 18,
    "start_time": "2025-07-01T14:54:36.023Z"
   },
   {
    "duration": 21,
    "start_time": "2025-07-01T14:54:36.042Z"
   },
   {
    "duration": 149,
    "start_time": "2025-07-01T14:54:36.065Z"
   },
   {
    "duration": 8,
    "start_time": "2025-07-01T14:54:36.216Z"
   },
   {
    "duration": 3262,
    "start_time": "2025-07-01T14:54:36.226Z"
   },
   {
    "duration": 57,
    "start_time": "2025-07-01T14:54:39.489Z"
   },
   {
    "duration": 31,
    "start_time": "2025-07-01T14:54:39.548Z"
   },
   {
    "duration": 12,
    "start_time": "2025-07-01T14:54:39.581Z"
   },
   {
    "duration": 70,
    "start_time": "2025-07-01T14:54:39.595Z"
   },
   {
    "duration": 10,
    "start_time": "2025-07-01T14:54:39.667Z"
   },
   {
    "duration": 6,
    "start_time": "2025-07-01T14:54:39.682Z"
   },
   {
    "duration": 18,
    "start_time": "2025-07-01T14:54:39.690Z"
   },
   {
    "duration": 10,
    "start_time": "2025-07-01T14:54:39.710Z"
   },
   {
    "duration": 90,
    "start_time": "2025-07-01T14:54:39.736Z"
   },
   {
    "duration": 22,
    "start_time": "2025-07-01T14:54:39.836Z"
   },
   {
    "duration": 10,
    "start_time": "2025-07-01T14:54:39.860Z"
   },
   {
    "duration": 8,
    "start_time": "2025-07-01T14:54:39.872Z"
   },
   {
    "duration": 68,
    "start_time": "2025-07-01T14:54:39.882Z"
   },
   {
    "duration": 5,
    "start_time": "2025-07-01T14:54:39.951Z"
   },
   {
    "duration": 6,
    "start_time": "2025-07-01T14:54:39.958Z"
   },
   {
    "duration": 29,
    "start_time": "2025-07-01T14:54:39.965Z"
   },
   {
    "duration": 10,
    "start_time": "2025-07-01T14:54:39.996Z"
   },
   {
    "duration": 43,
    "start_time": "2025-07-01T14:54:40.007Z"
   },
   {
    "duration": 16,
    "start_time": "2025-07-01T14:54:40.051Z"
   },
   {
    "duration": 19,
    "start_time": "2025-07-01T14:54:40.068Z"
   },
   {
    "duration": 22,
    "start_time": "2025-07-01T14:54:40.088Z"
   },
   {
    "duration": 30,
    "start_time": "2025-07-01T14:54:40.111Z"
   },
   {
    "duration": 23,
    "start_time": "2025-07-01T14:54:40.143Z"
   },
   {
    "duration": 18,
    "start_time": "2025-07-01T14:54:40.168Z"
   },
   {
    "duration": 7,
    "start_time": "2025-07-01T14:54:40.187Z"
   },
   {
    "duration": 25,
    "start_time": "2025-07-01T14:54:40.196Z"
   },
   {
    "duration": 5,
    "start_time": "2025-07-01T14:54:40.223Z"
   },
   {
    "duration": 5,
    "start_time": "2025-07-01T14:54:40.229Z"
   },
   {
    "duration": 4,
    "start_time": "2025-07-01T14:54:40.235Z"
   },
   {
    "duration": 285,
    "start_time": "2025-07-01T14:55:16.020Z"
   },
   {
    "duration": 15,
    "start_time": "2025-07-01T14:55:30.252Z"
   },
   {
    "duration": 15,
    "start_time": "2025-07-01T14:55:38.780Z"
   },
   {
    "duration": 2549,
    "start_time": "2025-07-01T14:59:58.252Z"
   },
   {
    "duration": 12,
    "start_time": "2025-07-01T15:09:58.425Z"
   },
   {
    "duration": 14,
    "start_time": "2025-07-01T15:13:25.646Z"
   },
   {
    "duration": 10,
    "start_time": "2025-07-01T15:13:29.125Z"
   },
   {
    "duration": 4,
    "start_time": "2025-07-01T15:13:40.521Z"
   },
   {
    "duration": 142,
    "start_time": "2025-07-01T15:17:06.725Z"
   },
   {
    "duration": 129,
    "start_time": "2025-07-01T15:17:10.045Z"
   },
   {
    "duration": 209,
    "start_time": "2025-07-01T15:17:20.956Z"
   },
   {
    "duration": 275,
    "start_time": "2025-07-01T15:17:23.084Z"
   },
   {
    "duration": 52,
    "start_time": "2025-07-02T09:06:11.097Z"
   },
   {
    "duration": 8,
    "start_time": "2025-07-02T09:06:19.901Z"
   },
   {
    "duration": 11269,
    "start_time": "2025-07-02T09:06:39.643Z"
   },
   {
    "duration": 63,
    "start_time": "2025-07-02T09:06:50.916Z"
   },
   {
    "duration": 19,
    "start_time": "2025-07-02T09:06:50.981Z"
   },
   {
    "duration": 18,
    "start_time": "2025-07-02T09:06:51.002Z"
   },
   {
    "duration": 38,
    "start_time": "2025-07-02T09:06:51.023Z"
   },
   {
    "duration": 56,
    "start_time": "2025-07-02T09:06:51.063Z"
   },
   {
    "duration": 181,
    "start_time": "2025-07-02T09:06:51.121Z"
   },
   {
    "duration": 5,
    "start_time": "2025-07-02T09:06:51.304Z"
   },
   {
    "duration": 4,
    "start_time": "2025-07-02T09:06:51.312Z"
   },
   {
    "duration": 20,
    "start_time": "2025-07-02T09:06:51.318Z"
   },
   {
    "duration": 175,
    "start_time": "2025-07-02T09:06:51.340Z"
   },
   {
    "duration": 376,
    "start_time": "2025-07-02T09:06:51.517Z"
   },
   {
    "duration": 8,
    "start_time": "2025-07-02T09:06:51.895Z"
   },
   {
    "duration": 418,
    "start_time": "2025-07-02T09:06:51.906Z"
   },
   {
    "duration": 7,
    "start_time": "2025-07-02T09:06:52.326Z"
   },
   {
    "duration": 230,
    "start_time": "2025-07-02T09:06:52.335Z"
   },
   {
    "duration": 401,
    "start_time": "2025-07-02T09:06:52.568Z"
   },
   {
    "duration": 19,
    "start_time": "2025-07-02T09:06:52.971Z"
   },
   {
    "duration": 13,
    "start_time": "2025-07-02T09:06:52.992Z"
   },
   {
    "duration": 21,
    "start_time": "2025-07-02T09:06:53.006Z"
   },
   {
    "duration": 42,
    "start_time": "2025-07-02T09:06:53.029Z"
   },
   {
    "duration": 139,
    "start_time": "2025-07-02T09:06:53.073Z"
   },
   {
    "duration": 21,
    "start_time": "2025-07-02T09:06:53.214Z"
   },
   {
    "duration": 307,
    "start_time": "2025-07-02T09:06:53.237Z"
   },
   {
    "duration": 244,
    "start_time": "2025-07-02T09:06:53.546Z"
   },
   {
    "duration": 6,
    "start_time": "2025-07-02T09:06:53.792Z"
   },
   {
    "duration": 6,
    "start_time": "2025-07-02T09:06:53.800Z"
   },
   {
    "duration": 9,
    "start_time": "2025-07-02T09:06:53.808Z"
   },
   {
    "duration": 4,
    "start_time": "2025-07-02T09:06:53.819Z"
   },
   {
    "duration": 52,
    "start_time": "2025-07-02T09:06:53.824Z"
   },
   {
    "duration": 4,
    "start_time": "2025-07-02T09:06:53.878Z"
   },
   {
    "duration": 1694,
    "start_time": "2025-07-02T09:06:53.884Z"
   },
   {
    "duration": 19,
    "start_time": "2025-07-02T09:06:55.581Z"
   },
   {
    "duration": 20,
    "start_time": "2025-07-02T09:06:55.602Z"
   },
   {
    "duration": 150,
    "start_time": "2025-07-02T09:06:55.623Z"
   },
   {
    "duration": 13,
    "start_time": "2025-07-02T09:06:55.775Z"
   },
   {
    "duration": 3811,
    "start_time": "2025-07-02T09:06:55.790Z"
   },
   {
    "duration": 74,
    "start_time": "2025-07-02T09:06:59.603Z"
   },
   {
    "duration": 9,
    "start_time": "2025-07-02T09:06:59.679Z"
   },
   {
    "duration": 9,
    "start_time": "2025-07-02T09:06:59.690Z"
   },
   {
    "duration": 98,
    "start_time": "2025-07-02T09:06:59.705Z"
   },
   {
    "duration": 11,
    "start_time": "2025-07-02T09:06:59.805Z"
   },
   {
    "duration": 7,
    "start_time": "2025-07-02T09:06:59.818Z"
   },
   {
    "duration": 14,
    "start_time": "2025-07-02T09:06:59.827Z"
   },
   {
    "duration": 39,
    "start_time": "2025-07-02T09:06:59.843Z"
   },
   {
    "duration": 104,
    "start_time": "2025-07-02T09:06:59.885Z"
   },
   {
    "duration": 20,
    "start_time": "2025-07-02T09:06:59.991Z"
   },
   {
    "duration": 26,
    "start_time": "2025-07-02T09:07:00.013Z"
   },
   {
    "duration": 60,
    "start_time": "2025-07-02T09:07:00.041Z"
   },
   {
    "duration": 176,
    "start_time": "2025-07-02T09:07:00.103Z"
   },
   {
    "duration": 8,
    "start_time": "2025-07-02T09:07:00.282Z"
   },
   {
    "duration": 157,
    "start_time": "2025-07-02T09:07:00.293Z"
   },
   {
    "duration": 164,
    "start_time": "2025-07-02T09:07:00.453Z"
   },
   {
    "duration": 9,
    "start_time": "2025-07-02T09:07:00.619Z"
   },
   {
    "duration": 64,
    "start_time": "2025-07-02T09:07:00.630Z"
   },
   {
    "duration": 22,
    "start_time": "2025-07-02T09:07:00.697Z"
   },
   {
    "duration": 20,
    "start_time": "2025-07-02T09:07:00.721Z"
   },
   {
    "duration": 130,
    "start_time": "2025-07-02T09:07:00.744Z"
   },
   {
    "duration": 48,
    "start_time": "2025-07-02T09:07:00.876Z"
   },
   {
    "duration": 78,
    "start_time": "2025-07-02T09:07:00.926Z"
   },
   {
    "duration": 23,
    "start_time": "2025-07-02T09:07:01.006Z"
   },
   {
    "duration": 52,
    "start_time": "2025-07-02T09:07:01.031Z"
   },
   {
    "duration": 118,
    "start_time": "2025-07-02T09:07:01.085Z"
   },
   {
    "duration": 12,
    "start_time": "2025-07-02T09:07:01.205Z"
   },
   {
    "duration": 52,
    "start_time": "2025-07-02T09:07:01.219Z"
   },
   {
    "duration": 17,
    "start_time": "2025-07-02T09:07:01.273Z"
   },
   {
    "duration": 381,
    "start_time": "2025-07-02T09:07:35.461Z"
   },
   {
    "duration": 363,
    "start_time": "2025-07-02T09:08:02.509Z"
   },
   {
    "duration": 16,
    "start_time": "2025-07-02T09:08:39.601Z"
   },
   {
    "duration": 9,
    "start_time": "2025-07-02T09:08:44.820Z"
   },
   {
    "duration": 9,
    "start_time": "2025-07-02T09:08:55.233Z"
   },
   {
    "duration": 25,
    "start_time": "2025-07-02T09:09:20.541Z"
   },
   {
    "duration": 9,
    "start_time": "2025-07-02T09:09:23.701Z"
   },
   {
    "duration": 12,
    "start_time": "2025-07-02T09:09:31.482Z"
   },
   {
    "duration": 7,
    "start_time": "2025-07-02T09:09:46.680Z"
   },
   {
    "duration": 5,
    "start_time": "2025-07-02T09:09:48.522Z"
   },
   {
    "duration": 8,
    "start_time": "2025-07-02T09:11:22.002Z"
   },
   {
    "duration": 5,
    "start_time": "2025-07-02T09:11:36.141Z"
   },
   {
    "duration": 6,
    "start_time": "2025-07-02T09:12:14.329Z"
   },
   {
    "duration": 2719,
    "start_time": "2025-07-02T09:12:17.671Z"
   },
   {
    "duration": 55,
    "start_time": "2025-07-02T09:12:20.393Z"
   },
   {
    "duration": 181,
    "start_time": "2025-07-02T09:12:20.450Z"
   },
   {
    "duration": 79,
    "start_time": "2025-07-02T09:12:20.633Z"
   },
   {
    "duration": 27,
    "start_time": "2025-07-02T09:12:20.715Z"
   },
   {
    "duration": 18,
    "start_time": "2025-07-02T09:12:20.744Z"
   },
   {
    "duration": 233,
    "start_time": "2025-07-02T09:12:20.764Z"
   },
   {
    "duration": 5,
    "start_time": "2025-07-02T09:12:20.999Z"
   },
   {
    "duration": 39,
    "start_time": "2025-07-02T09:12:21.006Z"
   },
   {
    "duration": 17,
    "start_time": "2025-07-02T09:12:21.047Z"
   },
   {
    "duration": 151,
    "start_time": "2025-07-02T09:12:21.066Z"
   },
   {
    "duration": 360,
    "start_time": "2025-07-02T09:12:21.219Z"
   },
   {
    "duration": 6,
    "start_time": "2025-07-02T09:12:21.581Z"
   },
   {
    "duration": 373,
    "start_time": "2025-07-02T09:12:21.590Z"
   },
   {
    "duration": 12,
    "start_time": "2025-07-02T09:12:21.965Z"
   },
   {
    "duration": 91,
    "start_time": "2025-07-02T09:12:21.979Z"
   },
   {
    "duration": 431,
    "start_time": "2025-07-02T09:12:22.073Z"
   },
   {
    "duration": 18,
    "start_time": "2025-07-02T09:12:22.506Z"
   },
   {
    "duration": 86,
    "start_time": "2025-07-02T09:12:22.526Z"
   },
   {
    "duration": 11,
    "start_time": "2025-07-02T09:12:22.614Z"
   },
   {
    "duration": 24,
    "start_time": "2025-07-02T09:12:22.627Z"
   },
   {
    "duration": 56,
    "start_time": "2025-07-02T09:12:22.653Z"
   },
   {
    "duration": 24,
    "start_time": "2025-07-02T09:12:22.711Z"
   },
   {
    "duration": 31,
    "start_time": "2025-07-02T09:12:22.737Z"
   },
   {
    "duration": 439,
    "start_time": "2025-07-02T09:12:22.770Z"
   },
   {
    "duration": 264,
    "start_time": "2025-07-02T09:12:23.212Z"
   },
   {
    "duration": 6,
    "start_time": "2025-07-02T09:12:23.479Z"
   },
   {
    "duration": 108,
    "start_time": "2025-07-02T09:12:23.487Z"
   },
   {
    "duration": 75,
    "start_time": "2025-07-02T09:12:23.597Z"
   },
   {
    "duration": 17,
    "start_time": "2025-07-02T09:12:23.674Z"
   },
   {
    "duration": 24,
    "start_time": "2025-07-02T09:12:23.693Z"
   },
   {
    "duration": 5,
    "start_time": "2025-07-02T09:12:23.719Z"
   },
   {
    "duration": 1655,
    "start_time": "2025-07-02T09:12:23.726Z"
   },
   {
    "duration": 14,
    "start_time": "2025-07-02T09:12:25.383Z"
   },
   {
    "duration": 31,
    "start_time": "2025-07-02T09:12:25.399Z"
   },
   {
    "duration": 147,
    "start_time": "2025-07-02T09:12:25.432Z"
   },
   {
    "duration": 10,
    "start_time": "2025-07-02T09:12:25.581Z"
   },
   {
    "duration": 3566,
    "start_time": "2025-07-02T09:12:25.593Z"
   },
   {
    "duration": 50,
    "start_time": "2025-07-02T09:12:29.161Z"
   },
   {
    "duration": 47,
    "start_time": "2025-07-02T09:12:29.213Z"
   },
   {
    "duration": 25,
    "start_time": "2025-07-02T09:12:29.265Z"
   },
   {
    "duration": 87,
    "start_time": "2025-07-02T09:12:29.291Z"
   },
   {
    "duration": 9,
    "start_time": "2025-07-02T09:12:29.380Z"
   },
   {
    "duration": 40,
    "start_time": "2025-07-02T09:12:29.391Z"
   },
   {
    "duration": 29,
    "start_time": "2025-07-02T09:12:29.432Z"
   },
   {
    "duration": 43,
    "start_time": "2025-07-02T09:12:29.462Z"
   },
   {
    "duration": 105,
    "start_time": "2025-07-02T09:12:29.506Z"
   },
   {
    "duration": 21,
    "start_time": "2025-07-02T09:12:29.613Z"
   },
   {
    "duration": 14,
    "start_time": "2025-07-02T09:12:29.636Z"
   },
   {
    "duration": 8,
    "start_time": "2025-07-02T09:12:29.652Z"
   },
   {
    "duration": 206,
    "start_time": "2025-07-02T09:12:29.677Z"
   },
   {
    "duration": 5,
    "start_time": "2025-07-02T09:12:29.885Z"
   },
   {
    "duration": 15,
    "start_time": "2025-07-02T09:12:29.892Z"
   },
   {
    "duration": 62,
    "start_time": "2025-07-02T09:12:29.909Z"
   },
   {
    "duration": 11,
    "start_time": "2025-07-02T09:12:29.972Z"
   },
   {
    "duration": 48,
    "start_time": "2025-07-02T09:12:29.984Z"
   },
   {
    "duration": 67,
    "start_time": "2025-07-02T09:12:30.034Z"
   },
   {
    "duration": 37,
    "start_time": "2025-07-02T09:12:30.103Z"
   },
   {
    "duration": 59,
    "start_time": "2025-07-02T09:12:30.142Z"
   },
   {
    "duration": 40,
    "start_time": "2025-07-02T09:12:30.203Z"
   },
   {
    "duration": 78,
    "start_time": "2025-07-02T09:12:30.245Z"
   },
   {
    "duration": 176,
    "start_time": "2025-07-02T09:12:30.325Z"
   },
   {
    "duration": 197,
    "start_time": "2025-07-02T09:12:30.503Z"
   },
   {
    "duration": 54,
    "start_time": "2025-07-02T09:12:30.702Z"
   },
   {
    "duration": 123,
    "start_time": "2025-07-02T09:12:30.758Z"
   },
   {
    "duration": 23,
    "start_time": "2025-07-02T09:12:30.884Z"
   },
   {
    "duration": 14,
    "start_time": "2025-07-02T09:12:30.909Z"
   },
   {
    "duration": 323,
    "start_time": "2025-07-02T09:13:30.400Z"
   },
   {
    "duration": 230,
    "start_time": "2025-07-02T09:13:33.201Z"
   },
   {
    "duration": 2633,
    "start_time": "2025-07-02T09:13:40.941Z"
   },
   {
    "duration": 49,
    "start_time": "2025-07-02T09:13:43.576Z"
   },
   {
    "duration": 10,
    "start_time": "2025-07-02T09:13:43.626Z"
   },
   {
    "duration": 23,
    "start_time": "2025-07-02T09:13:43.638Z"
   },
   {
    "duration": 16,
    "start_time": "2025-07-02T09:13:43.663Z"
   },
   {
    "duration": 18,
    "start_time": "2025-07-02T09:13:43.680Z"
   },
   {
    "duration": 105,
    "start_time": "2025-07-02T09:13:43.700Z"
   },
   {
    "duration": 5,
    "start_time": "2025-07-02T09:13:43.807Z"
   },
   {
    "duration": 30,
    "start_time": "2025-07-02T09:13:43.814Z"
   },
   {
    "duration": 13,
    "start_time": "2025-07-02T09:13:43.846Z"
   },
   {
    "duration": 245,
    "start_time": "2025-07-02T09:13:43.861Z"
   },
   {
    "duration": 359,
    "start_time": "2025-07-02T09:13:44.109Z"
   },
   {
    "duration": 8,
    "start_time": "2025-07-02T09:13:44.476Z"
   },
   {
    "duration": 478,
    "start_time": "2025-07-02T09:13:44.489Z"
   },
   {
    "duration": 14,
    "start_time": "2025-07-02T09:13:44.969Z"
   },
   {
    "duration": 32,
    "start_time": "2025-07-02T09:13:44.985Z"
   },
   {
    "duration": 410,
    "start_time": "2025-07-02T09:13:45.019Z"
   },
   {
    "duration": 19,
    "start_time": "2025-07-02T09:13:45.431Z"
   },
   {
    "duration": 25,
    "start_time": "2025-07-02T09:13:45.451Z"
   },
   {
    "duration": 22,
    "start_time": "2025-07-02T09:13:45.478Z"
   },
   {
    "duration": 30,
    "start_time": "2025-07-02T09:13:45.501Z"
   },
   {
    "duration": 56,
    "start_time": "2025-07-02T09:13:45.533Z"
   },
   {
    "duration": 31,
    "start_time": "2025-07-02T09:13:45.591Z"
   },
   {
    "duration": 11,
    "start_time": "2025-07-02T09:13:45.624Z"
   },
   {
    "duration": 328,
    "start_time": "2025-07-02T09:13:45.637Z"
   },
   {
    "duration": 250,
    "start_time": "2025-07-02T09:13:45.967Z"
   },
   {
    "duration": 5,
    "start_time": "2025-07-02T09:13:46.219Z"
   },
   {
    "duration": 24,
    "start_time": "2025-07-02T09:13:46.226Z"
   },
   {
    "duration": 17,
    "start_time": "2025-07-02T09:13:46.252Z"
   },
   {
    "duration": 9,
    "start_time": "2025-07-02T09:13:46.271Z"
   },
   {
    "duration": 20,
    "start_time": "2025-07-02T09:13:46.281Z"
   },
   {
    "duration": 92,
    "start_time": "2025-07-02T09:13:46.302Z"
   },
   {
    "duration": 1641,
    "start_time": "2025-07-02T09:13:46.396Z"
   },
   {
    "duration": 13,
    "start_time": "2025-07-02T09:13:48.039Z"
   },
   {
    "duration": 65,
    "start_time": "2025-07-02T09:13:48.054Z"
   },
   {
    "duration": 183,
    "start_time": "2025-07-02T09:13:48.121Z"
   },
   {
    "duration": 9,
    "start_time": "2025-07-02T09:13:48.306Z"
   },
   {
    "duration": 3672,
    "start_time": "2025-07-02T09:13:48.317Z"
   },
   {
    "duration": 71,
    "start_time": "2025-07-02T09:13:51.992Z"
   },
   {
    "duration": 7,
    "start_time": "2025-07-02T09:13:52.078Z"
   },
   {
    "duration": 40,
    "start_time": "2025-07-02T09:13:52.089Z"
   },
   {
    "duration": 107,
    "start_time": "2025-07-02T09:13:52.131Z"
   },
   {
    "duration": 59,
    "start_time": "2025-07-02T09:13:52.240Z"
   },
   {
    "duration": 124,
    "start_time": "2025-07-02T09:13:52.301Z"
   },
   {
    "duration": 193,
    "start_time": "2025-07-02T09:13:52.427Z"
   },
   {
    "duration": 35,
    "start_time": "2025-07-02T09:13:52.622Z"
   },
   {
    "duration": 103,
    "start_time": "2025-07-02T09:13:52.659Z"
   },
   {
    "duration": 102,
    "start_time": "2025-07-02T09:13:52.764Z"
   },
   {
    "duration": 24,
    "start_time": "2025-07-02T09:13:52.868Z"
   },
   {
    "duration": 23,
    "start_time": "2025-07-02T09:13:52.894Z"
   },
   {
    "duration": 66,
    "start_time": "2025-07-02T09:13:52.919Z"
   },
   {
    "duration": 5,
    "start_time": "2025-07-02T09:13:52.987Z"
   },
   {
    "duration": 18,
    "start_time": "2025-07-02T09:13:52.993Z"
   },
   {
    "duration": 31,
    "start_time": "2025-07-02T09:13:53.013Z"
   },
   {
    "duration": 6,
    "start_time": "2025-07-02T09:13:53.046Z"
   },
   {
    "duration": 57,
    "start_time": "2025-07-02T09:13:53.053Z"
   },
   {
    "duration": 109,
    "start_time": "2025-07-02T09:13:53.112Z"
   },
   {
    "duration": 19,
    "start_time": "2025-07-02T09:13:53.222Z"
   },
   {
    "duration": 26,
    "start_time": "2025-07-02T09:13:53.243Z"
   },
   {
    "duration": 60,
    "start_time": "2025-07-02T09:13:53.271Z"
   },
   {
    "duration": 46,
    "start_time": "2025-07-02T09:13:53.333Z"
   },
   {
    "duration": 41,
    "start_time": "2025-07-02T09:13:53.381Z"
   },
   {
    "duration": 13,
    "start_time": "2025-07-02T09:13:53.424Z"
   },
   {
    "duration": 25,
    "start_time": "2025-07-02T09:13:53.439Z"
   },
   {
    "duration": 17,
    "start_time": "2025-07-02T09:13:53.466Z"
   },
   {
    "duration": 41,
    "start_time": "2025-07-02T09:13:53.485Z"
   },
   {
    "duration": 15,
    "start_time": "2025-07-02T09:13:53.528Z"
   },
   {
    "duration": 11,
    "start_time": "2025-07-02T09:18:20.921Z"
   },
   {
    "duration": 332,
    "start_time": "2025-07-02T09:46:07.926Z"
   },
   {
    "duration": 378,
    "start_time": "2025-07-02T09:46:20.669Z"
   },
   {
    "duration": 342,
    "start_time": "2025-07-02T09:50:57.943Z"
   },
   {
    "duration": 2734,
    "start_time": "2025-07-02T09:51:04.184Z"
   },
   {
    "duration": 75,
    "start_time": "2025-07-02T09:51:06.921Z"
   },
   {
    "duration": 12,
    "start_time": "2025-07-02T09:51:06.997Z"
   },
   {
    "duration": 19,
    "start_time": "2025-07-02T09:51:07.012Z"
   },
   {
    "duration": 25,
    "start_time": "2025-07-02T09:51:07.033Z"
   },
   {
    "duration": 28,
    "start_time": "2025-07-02T09:51:07.060Z"
   },
   {
    "duration": 106,
    "start_time": "2025-07-02T09:51:07.091Z"
   },
   {
    "duration": 5,
    "start_time": "2025-07-02T09:51:07.199Z"
   },
   {
    "duration": 76,
    "start_time": "2025-07-02T09:51:07.206Z"
   },
   {
    "duration": 131,
    "start_time": "2025-07-02T09:51:07.284Z"
   },
   {
    "duration": 181,
    "start_time": "2025-07-02T09:51:07.417Z"
   },
   {
    "duration": 364,
    "start_time": "2025-07-02T09:51:07.600Z"
   },
   {
    "duration": 10,
    "start_time": "2025-07-02T09:51:07.966Z"
   },
   {
    "duration": 463,
    "start_time": "2025-07-02T09:51:07.978Z"
   },
   {
    "duration": 8,
    "start_time": "2025-07-02T09:51:08.443Z"
   },
   {
    "duration": 86,
    "start_time": "2025-07-02T09:51:08.453Z"
   },
   {
    "duration": 447,
    "start_time": "2025-07-02T09:51:08.541Z"
   },
   {
    "duration": 17,
    "start_time": "2025-07-02T09:51:08.990Z"
   },
   {
    "duration": 76,
    "start_time": "2025-07-02T09:51:09.009Z"
   },
   {
    "duration": 36,
    "start_time": "2025-07-02T09:51:09.087Z"
   },
   {
    "duration": 37,
    "start_time": "2025-07-02T09:51:09.125Z"
   },
   {
    "duration": 17,
    "start_time": "2025-07-02T09:51:09.163Z"
   },
   {
    "duration": 7,
    "start_time": "2025-07-02T09:51:09.182Z"
   },
   {
    "duration": 11,
    "start_time": "2025-07-02T09:51:09.190Z"
   },
   {
    "duration": 343,
    "start_time": "2025-07-02T09:51:09.203Z"
   },
   {
    "duration": 314,
    "start_time": "2025-07-02T09:51:09.548Z"
   },
   {
    "duration": 319,
    "start_time": "2025-07-02T09:51:09.864Z"
   },
   {
    "duration": 5,
    "start_time": "2025-07-02T09:51:10.188Z"
   },
   {
    "duration": 56,
    "start_time": "2025-07-02T09:51:10.195Z"
   },
   {
    "duration": 50,
    "start_time": "2025-07-02T09:51:10.253Z"
   },
   {
    "duration": 26,
    "start_time": "2025-07-02T09:51:10.305Z"
   },
   {
    "duration": 54,
    "start_time": "2025-07-02T09:51:10.333Z"
   },
   {
    "duration": 29,
    "start_time": "2025-07-02T09:51:10.389Z"
   },
   {
    "duration": 1686,
    "start_time": "2025-07-02T09:51:10.420Z"
   },
   {
    "duration": 14,
    "start_time": "2025-07-02T09:51:12.108Z"
   },
   {
    "duration": 27,
    "start_time": "2025-07-02T09:51:12.123Z"
   },
   {
    "duration": 176,
    "start_time": "2025-07-02T09:51:12.152Z"
   },
   {
    "duration": 9,
    "start_time": "2025-07-02T09:51:12.331Z"
   },
   {
    "duration": 3580,
    "start_time": "2025-07-02T09:51:12.342Z"
   },
   {
    "duration": 59,
    "start_time": "2025-07-02T09:51:15.925Z"
   },
   {
    "duration": 24,
    "start_time": "2025-07-02T09:51:15.986Z"
   },
   {
    "duration": 45,
    "start_time": "2025-07-02T09:51:16.012Z"
   },
   {
    "duration": 102,
    "start_time": "2025-07-02T09:51:16.059Z"
   },
   {
    "duration": 53,
    "start_time": "2025-07-02T09:51:16.163Z"
   },
   {
    "duration": 52,
    "start_time": "2025-07-02T09:51:16.218Z"
   },
   {
    "duration": 60,
    "start_time": "2025-07-02T09:51:16.272Z"
   },
   {
    "duration": 49,
    "start_time": "2025-07-02T09:51:16.334Z"
   },
   {
    "duration": 117,
    "start_time": "2025-07-02T09:51:16.385Z"
   },
   {
    "duration": 55,
    "start_time": "2025-07-02T09:51:16.504Z"
   },
   {
    "duration": 185,
    "start_time": "2025-07-02T09:51:16.561Z"
   },
   {
    "duration": 77,
    "start_time": "2025-07-02T09:51:16.748Z"
   },
   {
    "duration": 89,
    "start_time": "2025-07-02T09:51:16.826Z"
   },
   {
    "duration": 4,
    "start_time": "2025-07-02T09:51:16.917Z"
   },
   {
    "duration": 134,
    "start_time": "2025-07-02T09:51:16.923Z"
   },
   {
    "duration": 65,
    "start_time": "2025-07-02T09:51:17.059Z"
   },
   {
    "duration": 99,
    "start_time": "2025-07-02T09:51:17.126Z"
   },
   {
    "duration": 61,
    "start_time": "2025-07-02T09:51:17.227Z"
   },
   {
    "duration": 160,
    "start_time": "2025-07-02T09:51:17.290Z"
   },
   {
    "duration": 38,
    "start_time": "2025-07-02T09:51:17.452Z"
   },
   {
    "duration": 53,
    "start_time": "2025-07-02T09:51:17.492Z"
   },
   {
    "duration": 33,
    "start_time": "2025-07-02T09:51:17.547Z"
   },
   {
    "duration": 64,
    "start_time": "2025-07-02T09:51:17.583Z"
   },
   {
    "duration": 43,
    "start_time": "2025-07-02T09:51:17.649Z"
   },
   {
    "duration": 44,
    "start_time": "2025-07-02T09:51:17.695Z"
   },
   {
    "duration": 25,
    "start_time": "2025-07-02T09:51:17.740Z"
   },
   {
    "duration": 74,
    "start_time": "2025-07-02T09:51:17.767Z"
   },
   {
    "duration": 25,
    "start_time": "2025-07-02T09:51:17.843Z"
   },
   {
    "duration": 27,
    "start_time": "2025-07-02T09:51:17.871Z"
   },
   {
    "duration": 6,
    "start_time": "2025-07-02T09:52:17.660Z"
   },
   {
    "duration": 330,
    "start_time": "2025-07-02T09:52:18.360Z"
   },
   {
    "duration": 8,
    "start_time": "2025-07-02T09:52:34.060Z"
   },
   {
    "duration": 4,
    "start_time": "2025-07-02T09:52:34.680Z"
   },
   {
    "duration": 316,
    "start_time": "2025-07-02T09:52:40.260Z"
   },
   {
    "duration": 20,
    "start_time": "2025-07-02T09:52:46.480Z"
   },
   {
    "duration": 10,
    "start_time": "2025-07-02T09:52:49.819Z"
   },
   {
    "duration": 6,
    "start_time": "2025-07-02T09:53:07.232Z"
   },
   {
    "duration": 322,
    "start_time": "2025-07-02T09:53:07.961Z"
   },
   {
    "duration": 6,
    "start_time": "2025-07-02T09:53:13.920Z"
   },
   {
    "duration": 352,
    "start_time": "2025-07-02T09:53:14.500Z"
   },
   {
    "duration": 8,
    "start_time": "2025-07-02T09:53:20.479Z"
   },
   {
    "duration": 5,
    "start_time": "2025-07-02T09:53:21.077Z"
   },
   {
    "duration": 395,
    "start_time": "2025-07-02T09:53:23.700Z"
   },
   {
    "duration": 18,
    "start_time": "2025-07-02T09:53:31.500Z"
   },
   {
    "duration": 9,
    "start_time": "2025-07-02T09:53:32.800Z"
   },
   {
    "duration": 7,
    "start_time": "2025-07-02T09:53:56.130Z"
   },
   {
    "duration": 2663,
    "start_time": "2025-07-02T09:53:58.636Z"
   },
   {
    "duration": 45,
    "start_time": "2025-07-02T09:54:01.302Z"
   },
   {
    "duration": 23,
    "start_time": "2025-07-02T09:54:01.349Z"
   },
   {
    "duration": 51,
    "start_time": "2025-07-02T09:54:01.374Z"
   },
   {
    "duration": 38,
    "start_time": "2025-07-02T09:54:01.427Z"
   },
   {
    "duration": 155,
    "start_time": "2025-07-02T09:54:01.467Z"
   },
   {
    "duration": 156,
    "start_time": "2025-07-02T09:54:01.624Z"
   },
   {
    "duration": 5,
    "start_time": "2025-07-02T09:54:01.782Z"
   },
   {
    "duration": 10,
    "start_time": "2025-07-02T09:54:01.789Z"
   },
   {
    "duration": 13,
    "start_time": "2025-07-02T09:54:01.801Z"
   },
   {
    "duration": 179,
    "start_time": "2025-07-02T09:54:01.816Z"
   },
   {
    "duration": 388,
    "start_time": "2025-07-02T09:54:01.999Z"
   },
   {
    "duration": 6,
    "start_time": "2025-07-02T09:54:02.389Z"
   },
   {
    "duration": 524,
    "start_time": "2025-07-02T09:54:02.398Z"
   },
   {
    "duration": 11,
    "start_time": "2025-07-02T09:54:02.924Z"
   },
   {
    "duration": 123,
    "start_time": "2025-07-02T09:54:02.937Z"
   },
   {
    "duration": 401,
    "start_time": "2025-07-02T09:54:03.062Z"
   },
   {
    "duration": 24,
    "start_time": "2025-07-02T09:54:03.465Z"
   },
   {
    "duration": 23,
    "start_time": "2025-07-02T09:54:03.491Z"
   },
   {
    "duration": 35,
    "start_time": "2025-07-02T09:54:03.516Z"
   },
   {
    "duration": 68,
    "start_time": "2025-07-02T09:54:03.553Z"
   },
   {
    "duration": 67,
    "start_time": "2025-07-02T09:54:03.623Z"
   },
   {
    "duration": 47,
    "start_time": "2025-07-02T09:54:03.692Z"
   },
   {
    "duration": 27,
    "start_time": "2025-07-02T09:54:03.740Z"
   },
   {
    "duration": 389,
    "start_time": "2025-07-02T09:54:03.768Z"
   },
   {
    "duration": 306,
    "start_time": "2025-07-02T09:54:04.159Z"
   },
   {
    "duration": 239,
    "start_time": "2025-07-02T09:54:04.467Z"
   },
   {
    "duration": 7,
    "start_time": "2025-07-02T09:54:04.708Z"
   },
   {
    "duration": 84,
    "start_time": "2025-07-02T09:54:04.717Z"
   },
   {
    "duration": 114,
    "start_time": "2025-07-02T09:54:04.803Z"
   },
   {
    "duration": 144,
    "start_time": "2025-07-02T09:54:04.919Z"
   },
   {
    "duration": 75,
    "start_time": "2025-07-02T09:54:05.065Z"
   },
   {
    "duration": 53,
    "start_time": "2025-07-02T09:54:05.142Z"
   },
   {
    "duration": 1519,
    "start_time": "2025-07-02T09:54:05.196Z"
   },
   {
    "duration": 13,
    "start_time": "2025-07-02T09:54:06.717Z"
   },
   {
    "duration": 70,
    "start_time": "2025-07-02T09:54:06.732Z"
   },
   {
    "duration": 195,
    "start_time": "2025-07-02T09:54:06.804Z"
   },
   {
    "duration": 9,
    "start_time": "2025-07-02T09:54:07.001Z"
   },
   {
    "duration": 3626,
    "start_time": "2025-07-02T09:54:07.012Z"
   },
   {
    "duration": 55,
    "start_time": "2025-07-02T09:54:10.640Z"
   },
   {
    "duration": 171,
    "start_time": "2025-07-02T09:54:10.700Z"
   },
   {
    "duration": 42,
    "start_time": "2025-07-02T09:54:10.873Z"
   },
   {
    "duration": 216,
    "start_time": "2025-07-02T09:54:10.917Z"
   },
   {
    "duration": 54,
    "start_time": "2025-07-02T09:54:11.135Z"
   },
   {
    "duration": 55,
    "start_time": "2025-07-02T09:54:11.191Z"
   },
   {
    "duration": 40,
    "start_time": "2025-07-02T09:54:11.247Z"
   },
   {
    "duration": 110,
    "start_time": "2025-07-02T09:54:11.289Z"
   },
   {
    "duration": 132,
    "start_time": "2025-07-02T09:54:11.401Z"
   },
   {
    "duration": 67,
    "start_time": "2025-07-02T09:54:11.535Z"
   },
   {
    "duration": 12,
    "start_time": "2025-07-02T09:54:11.604Z"
   },
   {
    "duration": 17,
    "start_time": "2025-07-02T09:54:11.618Z"
   },
   {
    "duration": 124,
    "start_time": "2025-07-02T09:54:11.637Z"
   },
   {
    "duration": 59,
    "start_time": "2025-07-02T09:54:11.763Z"
   },
   {
    "duration": 11,
    "start_time": "2025-07-02T09:54:11.823Z"
   },
   {
    "duration": 30,
    "start_time": "2025-07-02T09:54:11.835Z"
   },
   {
    "duration": 22,
    "start_time": "2025-07-02T09:54:11.867Z"
   },
   {
    "duration": 118,
    "start_time": "2025-07-02T09:54:11.890Z"
   },
   {
    "duration": 28,
    "start_time": "2025-07-02T09:54:12.011Z"
   },
   {
    "duration": 84,
    "start_time": "2025-07-02T09:54:12.041Z"
   },
   {
    "duration": 83,
    "start_time": "2025-07-02T09:54:12.127Z"
   },
   {
    "duration": 119,
    "start_time": "2025-07-02T09:54:12.211Z"
   },
   {
    "duration": 230,
    "start_time": "2025-07-02T09:54:12.331Z"
   },
   {
    "duration": 101,
    "start_time": "2025-07-02T09:54:12.563Z"
   },
   {
    "duration": 113,
    "start_time": "2025-07-02T09:54:12.666Z"
   },
   {
    "duration": 40,
    "start_time": "2025-07-02T09:54:12.781Z"
   },
   {
    "duration": 58,
    "start_time": "2025-07-02T09:54:12.823Z"
   },
   {
    "duration": 174,
    "start_time": "2025-07-02T09:54:12.882Z"
   },
   {
    "duration": 91,
    "start_time": "2025-07-02T09:54:13.058Z"
   },
   {
    "duration": 7,
    "start_time": "2025-07-02T09:54:32.169Z"
   },
   {
    "duration": 335,
    "start_time": "2025-07-02T09:54:32.929Z"
   },
   {
    "duration": 5,
    "start_time": "2025-07-02T09:54:40.958Z"
   },
   {
    "duration": 476,
    "start_time": "2025-07-02T09:54:41.769Z"
   },
   {
    "duration": 2741,
    "start_time": "2025-07-02T09:54:47.392Z"
   },
   {
    "duration": 53,
    "start_time": "2025-07-02T09:54:50.136Z"
   },
   {
    "duration": 11,
    "start_time": "2025-07-02T09:54:50.190Z"
   },
   {
    "duration": 34,
    "start_time": "2025-07-02T09:54:50.204Z"
   },
   {
    "duration": 16,
    "start_time": "2025-07-02T09:54:50.242Z"
   },
   {
    "duration": 50,
    "start_time": "2025-07-02T09:54:50.260Z"
   },
   {
    "duration": 119,
    "start_time": "2025-07-02T09:54:50.312Z"
   },
   {
    "duration": 5,
    "start_time": "2025-07-02T09:54:50.434Z"
   },
   {
    "duration": 100,
    "start_time": "2025-07-02T09:54:50.440Z"
   },
   {
    "duration": 42,
    "start_time": "2025-07-02T09:54:50.542Z"
   },
   {
    "duration": 427,
    "start_time": "2025-07-02T09:54:50.586Z"
   },
   {
    "duration": 378,
    "start_time": "2025-07-02T09:54:51.015Z"
   },
   {
    "duration": 6,
    "start_time": "2025-07-02T09:54:51.395Z"
   },
   {
    "duration": 336,
    "start_time": "2025-07-02T09:54:51.405Z"
   },
   {
    "duration": 8,
    "start_time": "2025-07-02T09:54:51.743Z"
   },
   {
    "duration": 64,
    "start_time": "2025-07-02T09:54:51.753Z"
   },
   {
    "duration": 333,
    "start_time": "2025-07-02T09:54:51.819Z"
   },
   {
    "duration": 31,
    "start_time": "2025-07-02T09:54:52.154Z"
   },
   {
    "duration": 8,
    "start_time": "2025-07-02T09:54:52.188Z"
   },
   {
    "duration": 15,
    "start_time": "2025-07-02T09:54:52.198Z"
   },
   {
    "duration": 26,
    "start_time": "2025-07-02T09:54:52.215Z"
   },
   {
    "duration": 7,
    "start_time": "2025-07-02T09:54:52.243Z"
   },
   {
    "duration": 39,
    "start_time": "2025-07-02T09:54:52.252Z"
   },
   {
    "duration": 11,
    "start_time": "2025-07-02T09:54:52.293Z"
   },
   {
    "duration": 350,
    "start_time": "2025-07-02T09:54:52.306Z"
   },
   {
    "duration": 310,
    "start_time": "2025-07-02T09:54:52.657Z"
   },
   {
    "duration": 263,
    "start_time": "2025-07-02T09:54:52.977Z"
   },
   {
    "duration": 7,
    "start_time": "2025-07-02T09:54:53.242Z"
   },
   {
    "duration": 15,
    "start_time": "2025-07-02T09:54:53.251Z"
   },
   {
    "duration": 121,
    "start_time": "2025-07-02T09:54:53.276Z"
   },
   {
    "duration": 25,
    "start_time": "2025-07-02T09:54:53.399Z"
   },
   {
    "duration": 35,
    "start_time": "2025-07-02T09:54:53.426Z"
   },
   {
    "duration": 34,
    "start_time": "2025-07-02T09:54:53.463Z"
   },
   {
    "duration": 1734,
    "start_time": "2025-07-02T09:54:53.498Z"
   },
   {
    "duration": 14,
    "start_time": "2025-07-02T09:54:55.233Z"
   },
   {
    "duration": 34,
    "start_time": "2025-07-02T09:54:55.249Z"
   },
   {
    "duration": 282,
    "start_time": "2025-07-02T09:54:55.285Z"
   },
   {
    "duration": 11,
    "start_time": "2025-07-02T09:54:55.569Z"
   },
   {
    "duration": 3529,
    "start_time": "2025-07-02T09:54:55.581Z"
   },
   {
    "duration": 51,
    "start_time": "2025-07-02T09:54:59.112Z"
   },
   {
    "duration": 5,
    "start_time": "2025-07-02T09:54:59.179Z"
   },
   {
    "duration": 15,
    "start_time": "2025-07-02T09:54:59.186Z"
   },
   {
    "duration": 91,
    "start_time": "2025-07-02T09:54:59.203Z"
   },
   {
    "duration": 9,
    "start_time": "2025-07-02T09:54:59.296Z"
   },
   {
    "duration": 134,
    "start_time": "2025-07-02T09:54:59.307Z"
   },
   {
    "duration": 44,
    "start_time": "2025-07-02T09:54:59.443Z"
   },
   {
    "duration": 22,
    "start_time": "2025-07-02T09:54:59.488Z"
   },
   {
    "duration": 118,
    "start_time": "2025-07-02T09:54:59.512Z"
   },
   {
    "duration": 22,
    "start_time": "2025-07-02T09:54:59.632Z"
   },
   {
    "duration": 61,
    "start_time": "2025-07-02T09:54:59.656Z"
   },
   {
    "duration": 20,
    "start_time": "2025-07-02T09:54:59.719Z"
   },
   {
    "duration": 60,
    "start_time": "2025-07-02T09:54:59.741Z"
   },
   {
    "duration": 25,
    "start_time": "2025-07-02T09:54:59.803Z"
   },
   {
    "duration": 42,
    "start_time": "2025-07-02T09:54:59.830Z"
   },
   {
    "duration": 173,
    "start_time": "2025-07-02T09:54:59.874Z"
   },
   {
    "duration": 25,
    "start_time": "2025-07-02T09:55:00.049Z"
   },
   {
    "duration": 76,
    "start_time": "2025-07-02T09:55:00.076Z"
   },
   {
    "duration": 60,
    "start_time": "2025-07-02T09:55:00.154Z"
   },
   {
    "duration": 78,
    "start_time": "2025-07-02T09:55:00.216Z"
   },
   {
    "duration": 45,
    "start_time": "2025-07-02T09:55:00.296Z"
   },
   {
    "duration": 70,
    "start_time": "2025-07-02T09:55:00.343Z"
   },
   {
    "duration": 147,
    "start_time": "2025-07-02T09:55:00.415Z"
   },
   {
    "duration": 232,
    "start_time": "2025-07-02T09:55:00.564Z"
   },
   {
    "duration": 119,
    "start_time": "2025-07-02T09:55:00.797Z"
   },
   {
    "duration": 85,
    "start_time": "2025-07-02T09:55:00.918Z"
   },
   {
    "duration": 110,
    "start_time": "2025-07-02T09:55:01.004Z"
   },
   {
    "duration": 58,
    "start_time": "2025-07-02T09:55:01.116Z"
   },
   {
    "duration": 12,
    "start_time": "2025-07-02T09:55:01.176Z"
   },
   {
    "duration": 7,
    "start_time": "2025-07-02T09:56:04.769Z"
   },
   {
    "duration": 2715,
    "start_time": "2025-07-02T09:56:09.932Z"
   },
   {
    "duration": 40,
    "start_time": "2025-07-02T09:56:12.651Z"
   },
   {
    "duration": 94,
    "start_time": "2025-07-02T09:56:12.693Z"
   },
   {
    "duration": 36,
    "start_time": "2025-07-02T09:56:12.788Z"
   },
   {
    "duration": 20,
    "start_time": "2025-07-02T09:56:12.826Z"
   },
   {
    "duration": 55,
    "start_time": "2025-07-02T09:56:12.848Z"
   },
   {
    "duration": 167,
    "start_time": "2025-07-02T09:56:12.905Z"
   },
   {
    "duration": 4,
    "start_time": "2025-07-02T09:56:13.074Z"
   },
   {
    "duration": 17,
    "start_time": "2025-07-02T09:56:13.080Z"
   },
   {
    "duration": 42,
    "start_time": "2025-07-02T09:56:13.100Z"
   },
   {
    "duration": 266,
    "start_time": "2025-07-02T09:56:13.144Z"
   },
   {
    "duration": 365,
    "start_time": "2025-07-02T09:56:13.412Z"
   },
   {
    "duration": 5,
    "start_time": "2025-07-02T09:56:13.780Z"
   },
   {
    "duration": 403,
    "start_time": "2025-07-02T09:56:13.789Z"
   },
   {
    "duration": 9,
    "start_time": "2025-07-02T09:56:14.194Z"
   },
   {
    "duration": 60,
    "start_time": "2025-07-02T09:56:14.205Z"
   },
   {
    "duration": 373,
    "start_time": "2025-07-02T09:56:14.267Z"
   },
   {
    "duration": 19,
    "start_time": "2025-07-02T09:56:14.642Z"
   },
   {
    "duration": 108,
    "start_time": "2025-07-02T09:56:14.663Z"
   },
   {
    "duration": 28,
    "start_time": "2025-07-02T09:56:14.774Z"
   },
   {
    "duration": 19,
    "start_time": "2025-07-02T09:56:14.803Z"
   },
   {
    "duration": 25,
    "start_time": "2025-07-02T09:56:14.824Z"
   },
   {
    "duration": 179,
    "start_time": "2025-07-02T09:56:14.851Z"
   },
   {
    "duration": 96,
    "start_time": "2025-07-02T09:56:15.032Z"
   },
   {
    "duration": 412,
    "start_time": "2025-07-02T09:56:15.130Z"
   },
   {
    "duration": 339,
    "start_time": "2025-07-02T09:56:15.544Z"
   },
   {
    "duration": 258,
    "start_time": "2025-07-02T09:56:15.886Z"
   },
   {
    "duration": 5,
    "start_time": "2025-07-02T09:56:16.146Z"
   },
   {
    "duration": 17,
    "start_time": "2025-07-02T09:56:16.153Z"
   },
   {
    "duration": 81,
    "start_time": "2025-07-02T09:56:16.175Z"
   },
   {
    "duration": 30,
    "start_time": "2025-07-02T09:56:16.257Z"
   },
   {
    "duration": 40,
    "start_time": "2025-07-02T09:56:16.289Z"
   },
   {
    "duration": 7,
    "start_time": "2025-07-02T09:56:16.330Z"
   },
   {
    "duration": 2340,
    "start_time": "2025-07-02T09:56:16.339Z"
   },
   {
    "duration": 13,
    "start_time": "2025-07-02T09:56:18.682Z"
   },
   {
    "duration": 86,
    "start_time": "2025-07-02T09:56:18.697Z"
   },
   {
    "duration": 138,
    "start_time": "2025-07-02T09:56:18.785Z"
   },
   {
    "duration": 10,
    "start_time": "2025-07-02T09:56:18.925Z"
   },
   {
    "duration": 3713,
    "start_time": "2025-07-02T09:56:18.937Z"
   },
   {
    "duration": 53,
    "start_time": "2025-07-02T09:56:22.652Z"
   },
   {
    "duration": 73,
    "start_time": "2025-07-02T09:56:22.710Z"
   },
   {
    "duration": 22,
    "start_time": "2025-07-02T09:56:22.784Z"
   },
   {
    "duration": 90,
    "start_time": "2025-07-02T09:56:22.808Z"
   },
   {
    "duration": 9,
    "start_time": "2025-07-02T09:56:22.900Z"
   },
   {
    "duration": 174,
    "start_time": "2025-07-02T09:56:22.911Z"
   },
   {
    "duration": 39,
    "start_time": "2025-07-02T09:56:23.087Z"
   },
   {
    "duration": 72,
    "start_time": "2025-07-02T09:56:23.128Z"
   },
   {
    "duration": 144,
    "start_time": "2025-07-02T09:56:23.202Z"
   },
   {
    "duration": 131,
    "start_time": "2025-07-02T09:56:23.348Z"
   },
   {
    "duration": 13,
    "start_time": "2025-07-02T09:56:23.481Z"
   },
   {
    "duration": 16,
    "start_time": "2025-07-02T09:56:23.496Z"
   },
   {
    "duration": 85,
    "start_time": "2025-07-02T09:56:23.514Z"
   },
   {
    "duration": 4,
    "start_time": "2025-07-02T09:56:23.601Z"
   },
   {
    "duration": 69,
    "start_time": "2025-07-02T09:56:23.607Z"
   },
   {
    "duration": 78,
    "start_time": "2025-07-02T09:56:23.677Z"
   },
   {
    "duration": 26,
    "start_time": "2025-07-02T09:56:23.757Z"
   },
   {
    "duration": 77,
    "start_time": "2025-07-02T09:56:23.785Z"
   },
   {
    "duration": 16,
    "start_time": "2025-07-02T09:56:23.864Z"
   },
   {
    "duration": 30,
    "start_time": "2025-07-02T09:56:23.882Z"
   },
   {
    "duration": 80,
    "start_time": "2025-07-02T09:56:23.914Z"
   },
   {
    "duration": 27,
    "start_time": "2025-07-02T09:56:23.996Z"
   },
   {
    "duration": 31,
    "start_time": "2025-07-02T09:56:24.025Z"
   },
   {
    "duration": 6,
    "start_time": "2025-07-02T09:56:24.058Z"
   },
   {
    "duration": 29,
    "start_time": "2025-07-02T09:56:24.066Z"
   },
   {
    "duration": 26,
    "start_time": "2025-07-02T09:56:24.097Z"
   },
   {
    "duration": 17,
    "start_time": "2025-07-02T09:56:24.124Z"
   },
   {
    "duration": 12,
    "start_time": "2025-07-02T09:56:24.142Z"
   },
   {
    "duration": 8,
    "start_time": "2025-07-02T09:56:24.155Z"
   },
   {
    "duration": 6,
    "start_time": "2025-07-02T09:57:56.733Z"
   },
   {
    "duration": 10,
    "start_time": "2025-07-02T10:03:32.930Z"
   },
   {
    "duration": 2691,
    "start_time": "2025-07-02T10:03:58.163Z"
   },
   {
    "duration": 48,
    "start_time": "2025-07-02T10:04:00.857Z"
   },
   {
    "duration": 70,
    "start_time": "2025-07-02T10:04:00.907Z"
   },
   {
    "duration": 172,
    "start_time": "2025-07-02T10:04:00.978Z"
   },
   {
    "duration": 49,
    "start_time": "2025-07-02T10:04:01.153Z"
   },
   {
    "duration": 33,
    "start_time": "2025-07-02T10:04:01.204Z"
   },
   {
    "duration": 148,
    "start_time": "2025-07-02T10:04:01.239Z"
   },
   {
    "duration": 45,
    "start_time": "2025-07-02T10:04:01.389Z"
   },
   {
    "duration": 67,
    "start_time": "2025-07-02T10:04:01.436Z"
   },
   {
    "duration": 88,
    "start_time": "2025-07-02T10:04:01.505Z"
   },
   {
    "duration": 206,
    "start_time": "2025-07-02T10:04:01.595Z"
   },
   {
    "duration": 406,
    "start_time": "2025-07-02T10:04:01.803Z"
   },
   {
    "duration": 6,
    "start_time": "2025-07-02T10:04:02.210Z"
   },
   {
    "duration": 570,
    "start_time": "2025-07-02T10:04:02.220Z"
   },
   {
    "duration": 10,
    "start_time": "2025-07-02T10:04:02.792Z"
   },
   {
    "duration": 34,
    "start_time": "2025-07-02T10:04:02.804Z"
   },
   {
    "duration": 377,
    "start_time": "2025-07-02T10:04:02.840Z"
   },
   {
    "duration": 18,
    "start_time": "2025-07-02T10:04:03.219Z"
   },
   {
    "duration": 82,
    "start_time": "2025-07-02T10:04:03.239Z"
   },
   {
    "duration": 158,
    "start_time": "2025-07-02T10:04:03.323Z"
   },
   {
    "duration": 52,
    "start_time": "2025-07-02T10:04:03.482Z"
   },
   {
    "duration": 88,
    "start_time": "2025-07-02T10:04:03.535Z"
   },
   {
    "duration": 81,
    "start_time": "2025-07-02T10:04:03.625Z"
   },
   {
    "duration": 55,
    "start_time": "2025-07-02T10:04:03.707Z"
   },
   {
    "duration": 312,
    "start_time": "2025-07-02T10:04:03.764Z"
   },
   {
    "duration": 260,
    "start_time": "2025-07-02T10:04:04.079Z"
   },
   {
    "duration": 6,
    "start_time": "2025-07-02T10:04:04.341Z"
   },
   {
    "duration": 163,
    "start_time": "2025-07-02T10:04:04.349Z"
   },
   {
    "duration": 170,
    "start_time": "2025-07-02T10:04:04.514Z"
   },
   {
    "duration": 150,
    "start_time": "2025-07-02T10:04:04.686Z"
   },
   {
    "duration": 108,
    "start_time": "2025-07-02T10:04:04.838Z"
   },
   {
    "duration": 167,
    "start_time": "2025-07-02T10:04:04.948Z"
   },
   {
    "duration": 1672,
    "start_time": "2025-07-02T10:04:05.117Z"
   },
   {
    "duration": 14,
    "start_time": "2025-07-02T10:04:06.791Z"
   },
   {
    "duration": 84,
    "start_time": "2025-07-02T10:04:06.807Z"
   },
   {
    "duration": 343,
    "start_time": "2025-07-02T10:04:06.893Z"
   },
   {
    "duration": 19,
    "start_time": "2025-07-02T10:04:07.238Z"
   },
   {
    "duration": 3471,
    "start_time": "2025-07-02T10:04:07.259Z"
   },
   {
    "duration": 58,
    "start_time": "2025-07-02T10:04:10.732Z"
   },
   {
    "duration": 154,
    "start_time": "2025-07-02T10:04:10.792Z"
   },
   {
    "duration": 22,
    "start_time": "2025-07-02T10:04:10.951Z"
   },
   {
    "duration": 227,
    "start_time": "2025-07-02T10:04:10.974Z"
   },
   {
    "duration": 26,
    "start_time": "2025-07-02T10:04:11.203Z"
   },
   {
    "duration": 82,
    "start_time": "2025-07-02T10:04:11.231Z"
   },
   {
    "duration": 86,
    "start_time": "2025-07-02T10:04:11.315Z"
   },
   {
    "duration": 181,
    "start_time": "2025-07-02T10:04:11.403Z"
   },
   {
    "duration": 129,
    "start_time": "2025-07-02T10:04:11.586Z"
   },
   {
    "duration": 61,
    "start_time": "2025-07-02T10:04:11.717Z"
   },
   {
    "duration": 108,
    "start_time": "2025-07-02T10:04:11.779Z"
   },
   {
    "duration": 49,
    "start_time": "2025-07-02T10:04:11.889Z"
   },
   {
    "duration": 84,
    "start_time": "2025-07-02T10:04:11.939Z"
   },
   {
    "duration": 50,
    "start_time": "2025-07-02T10:04:12.026Z"
   },
   {
    "duration": 87,
    "start_time": "2025-07-02T10:04:12.079Z"
   },
   {
    "duration": 159,
    "start_time": "2025-07-02T10:04:12.168Z"
   },
   {
    "duration": 133,
    "start_time": "2025-07-02T10:04:12.329Z"
   },
   {
    "duration": 97,
    "start_time": "2025-07-02T10:04:12.464Z"
   },
   {
    "duration": 90,
    "start_time": "2025-07-02T10:04:12.563Z"
   },
   {
    "duration": 171,
    "start_time": "2025-07-02T10:04:12.655Z"
   },
   {
    "duration": 151,
    "start_time": "2025-07-02T10:04:12.828Z"
   },
   {
    "duration": 169,
    "start_time": "2025-07-02T10:04:12.981Z"
   },
   {
    "duration": 127,
    "start_time": "2025-07-02T10:04:13.152Z"
   },
   {
    "duration": 30,
    "start_time": "2025-07-02T10:04:13.281Z"
   },
   {
    "duration": 142,
    "start_time": "2025-07-02T10:04:13.314Z"
   },
   {
    "duration": 61,
    "start_time": "2025-07-02T10:04:13.458Z"
   },
   {
    "duration": 173,
    "start_time": "2025-07-02T10:04:13.521Z"
   },
   {
    "duration": 109,
    "start_time": "2025-07-02T10:04:13.696Z"
   },
   {
    "duration": 144,
    "start_time": "2025-07-02T10:04:13.807Z"
   },
   {
    "duration": 7,
    "start_time": "2025-07-02T10:07:19.090Z"
   },
   {
    "duration": 7,
    "start_time": "2025-07-02T10:07:21.314Z"
   },
   {
    "duration": 324,
    "start_time": "2025-07-02T10:07:25.593Z"
   },
   {
    "duration": 252,
    "start_time": "2025-07-02T10:07:30.930Z"
   },
   {
    "duration": 2647,
    "start_time": "2025-07-02T10:07:38.859Z"
   },
   {
    "duration": 65,
    "start_time": "2025-07-02T10:07:41.510Z"
   },
   {
    "duration": 20,
    "start_time": "2025-07-02T10:07:41.577Z"
   },
   {
    "duration": 62,
    "start_time": "2025-07-02T10:07:41.599Z"
   },
   {
    "duration": 9,
    "start_time": "2025-07-02T10:07:41.663Z"
   },
   {
    "duration": 19,
    "start_time": "2025-07-02T10:07:41.674Z"
   },
   {
    "duration": 105,
    "start_time": "2025-07-02T10:07:41.694Z"
   },
   {
    "duration": 4,
    "start_time": "2025-07-02T10:07:41.801Z"
   },
   {
    "duration": 75,
    "start_time": "2025-07-02T10:07:41.806Z"
   },
   {
    "duration": 56,
    "start_time": "2025-07-02T10:07:41.883Z"
   },
   {
    "duration": 197,
    "start_time": "2025-07-02T10:07:41.941Z"
   },
   {
    "duration": 361,
    "start_time": "2025-07-02T10:07:42.141Z"
   },
   {
    "duration": 6,
    "start_time": "2025-07-02T10:07:42.504Z"
   },
   {
    "duration": 436,
    "start_time": "2025-07-02T10:07:42.513Z"
   },
   {
    "duration": 9,
    "start_time": "2025-07-02T10:07:42.951Z"
   },
   {
    "duration": 23,
    "start_time": "2025-07-02T10:07:42.962Z"
   },
   {
    "duration": 522,
    "start_time": "2025-07-02T10:07:42.986Z"
   },
   {
    "duration": 18,
    "start_time": "2025-07-02T10:07:43.510Z"
   },
   {
    "duration": 23,
    "start_time": "2025-07-02T10:07:43.530Z"
   },
   {
    "duration": 9,
    "start_time": "2025-07-02T10:07:43.555Z"
   },
   {
    "duration": 34,
    "start_time": "2025-07-02T10:07:43.566Z"
   },
   {
    "duration": 36,
    "start_time": "2025-07-02T10:07:43.601Z"
   },
   {
    "duration": 22,
    "start_time": "2025-07-02T10:07:43.639Z"
   },
   {
    "duration": 42,
    "start_time": "2025-07-02T10:07:43.663Z"
   },
   {
    "duration": 311,
    "start_time": "2025-07-02T10:07:43.707Z"
   },
   {
    "duration": 240,
    "start_time": "2025-07-02T10:07:44.020Z"
   },
   {
    "duration": 6,
    "start_time": "2025-07-02T10:09:12.970Z"
   },
   {
    "duration": 4,
    "start_time": "2025-07-02T10:09:29.918Z"
   },
   {
    "duration": 4,
    "start_time": "2025-07-02T10:09:32.130Z"
   },
   {
    "duration": 4,
    "start_time": "2025-07-02T10:09:33.438Z"
   },
   {
    "duration": 11,
    "start_time": "2025-07-02T10:09:50.834Z"
   },
   {
    "duration": 4,
    "start_time": "2025-07-02T10:09:51.331Z"
   },
   {
    "duration": 2607,
    "start_time": "2025-07-02T10:09:57.236Z"
   },
   {
    "duration": 41,
    "start_time": "2025-07-02T10:09:59.846Z"
   },
   {
    "duration": 10,
    "start_time": "2025-07-02T10:09:59.889Z"
   },
   {
    "duration": 23,
    "start_time": "2025-07-02T10:09:59.901Z"
   },
   {
    "duration": 22,
    "start_time": "2025-07-02T10:09:59.927Z"
   },
   {
    "duration": 112,
    "start_time": "2025-07-02T10:09:59.951Z"
   },
   {
    "duration": 381,
    "start_time": "2025-07-02T10:10:00.065Z"
   },
   {
    "duration": 4,
    "start_time": "2025-07-02T10:10:00.448Z"
   },
   {
    "duration": 273,
    "start_time": "2025-07-02T10:10:00.454Z"
   },
   {
    "duration": 244,
    "start_time": "2025-07-02T10:10:00.729Z"
   },
   {
    "duration": 149,
    "start_time": "2025-07-02T10:10:00.975Z"
   },
   {
    "duration": 388,
    "start_time": "2025-07-02T10:10:01.126Z"
   },
   {
    "duration": 7,
    "start_time": "2025-07-02T10:10:01.515Z"
   },
   {
    "duration": 453,
    "start_time": "2025-07-02T10:10:01.526Z"
   },
   {
    "duration": 8,
    "start_time": "2025-07-02T10:10:01.981Z"
   },
   {
    "duration": 291,
    "start_time": "2025-07-02T10:10:01.991Z"
   },
   {
    "duration": 378,
    "start_time": "2025-07-02T10:10:02.284Z"
   },
   {
    "duration": 25,
    "start_time": "2025-07-02T10:10:02.664Z"
   },
   {
    "duration": 136,
    "start_time": "2025-07-02T10:10:02.691Z"
   },
   {
    "duration": 58,
    "start_time": "2025-07-02T10:10:02.829Z"
   },
   {
    "duration": 66,
    "start_time": "2025-07-02T10:10:02.889Z"
   },
   {
    "duration": 171,
    "start_time": "2025-07-02T10:10:02.957Z"
   },
   {
    "duration": 47,
    "start_time": "2025-07-02T10:10:03.130Z"
   },
   {
    "duration": 55,
    "start_time": "2025-07-02T10:10:03.178Z"
   },
   {
    "duration": 328,
    "start_time": "2025-07-02T10:10:03.234Z"
   },
   {
    "duration": 246,
    "start_time": "2025-07-02T10:10:03.564Z"
   },
   {
    "duration": 7,
    "start_time": "2025-07-02T10:10:03.812Z"
   },
   {
    "duration": 29,
    "start_time": "2025-07-02T10:10:03.821Z"
   },
   {
    "duration": 74,
    "start_time": "2025-07-02T10:10:03.852Z"
   },
   {
    "duration": 35,
    "start_time": "2025-07-02T10:10:03.928Z"
   },
   {
    "duration": 19,
    "start_time": "2025-07-02T10:10:03.965Z"
   },
   {
    "duration": 5,
    "start_time": "2025-07-02T10:10:03.986Z"
   },
   {
    "duration": 1733,
    "start_time": "2025-07-02T10:10:03.993Z"
   },
   {
    "duration": 14,
    "start_time": "2025-07-02T10:10:05.728Z"
   },
   {
    "duration": 48,
    "start_time": "2025-07-02T10:10:05.744Z"
   },
   {
    "duration": 172,
    "start_time": "2025-07-02T10:10:05.793Z"
   },
   {
    "duration": 15,
    "start_time": "2025-07-02T10:10:05.966Z"
   },
   {
    "duration": 3410,
    "start_time": "2025-07-02T10:10:05.982Z"
   },
   {
    "duration": 50,
    "start_time": "2025-07-02T10:10:09.393Z"
   },
   {
    "duration": 41,
    "start_time": "2025-07-02T10:10:09.445Z"
   },
   {
    "duration": 7,
    "start_time": "2025-07-02T10:10:09.490Z"
   },
   {
    "duration": 87,
    "start_time": "2025-07-02T10:10:09.499Z"
   },
   {
    "duration": 9,
    "start_time": "2025-07-02T10:10:09.588Z"
   },
   {
    "duration": 24,
    "start_time": "2025-07-02T10:10:09.598Z"
   },
   {
    "duration": 22,
    "start_time": "2025-07-02T10:10:09.624Z"
   },
   {
    "duration": 13,
    "start_time": "2025-07-02T10:10:09.648Z"
   },
   {
    "duration": 89,
    "start_time": "2025-07-02T10:10:09.663Z"
   },
   {
    "duration": 52,
    "start_time": "2025-07-02T10:10:09.754Z"
   },
   {
    "duration": 10,
    "start_time": "2025-07-02T10:10:09.808Z"
   },
   {
    "duration": 58,
    "start_time": "2025-07-02T10:10:09.820Z"
   },
   {
    "duration": 46,
    "start_time": "2025-07-02T10:10:09.879Z"
   },
   {
    "duration": 5,
    "start_time": "2025-07-02T10:10:09.926Z"
   },
   {
    "duration": 27,
    "start_time": "2025-07-02T10:10:09.933Z"
   },
   {
    "duration": 104,
    "start_time": "2025-07-02T10:10:09.961Z"
   },
   {
    "duration": 51,
    "start_time": "2025-07-02T10:10:10.067Z"
   },
   {
    "duration": 33,
    "start_time": "2025-07-02T10:10:10.119Z"
   },
   {
    "duration": 15,
    "start_time": "2025-07-02T10:10:10.154Z"
   },
   {
    "duration": 73,
    "start_time": "2025-07-02T10:10:10.171Z"
   },
   {
    "duration": 44,
    "start_time": "2025-07-02T10:10:10.246Z"
   },
   {
    "duration": 41,
    "start_time": "2025-07-02T10:10:10.292Z"
   },
   {
    "duration": 26,
    "start_time": "2025-07-02T10:10:10.335Z"
   },
   {
    "duration": 16,
    "start_time": "2025-07-02T10:10:10.362Z"
   },
   {
    "duration": 10,
    "start_time": "2025-07-02T10:10:10.379Z"
   },
   {
    "duration": 70,
    "start_time": "2025-07-02T10:10:10.391Z"
   },
   {
    "duration": 23,
    "start_time": "2025-07-02T10:10:10.463Z"
   },
   {
    "duration": 102,
    "start_time": "2025-07-02T10:10:10.488Z"
   },
   {
    "duration": 191,
    "start_time": "2025-07-02T10:10:10.592Z"
   },
   {
    "duration": 150,
    "start_time": "2025-07-02T10:11:19.011Z"
   },
   {
    "duration": 120,
    "start_time": "2025-07-02T10:11:21.090Z"
   },
   {
    "duration": 234,
    "start_time": "2025-07-02T10:11:33.810Z"
   },
   {
    "duration": 288,
    "start_time": "2025-07-02T10:11:34.910Z"
   },
   {
    "duration": 17,
    "start_time": "2025-07-02T10:21:00.434Z"
   },
   {
    "duration": 18,
    "start_time": "2025-07-02T10:21:04.595Z"
   },
   {
    "duration": 4,
    "start_time": "2025-07-02T10:25:02.509Z"
   },
   {
    "duration": 5,
    "start_time": "2025-07-02T10:25:29.676Z"
   },
   {
    "duration": 7,
    "start_time": "2025-07-02T10:26:00.694Z"
   },
   {
    "duration": 4,
    "start_time": "2025-07-02T10:26:04.095Z"
   },
   {
    "duration": 6,
    "start_time": "2025-07-02T10:27:00.155Z"
   },
   {
    "duration": 4,
    "start_time": "2025-07-02T10:27:01.717Z"
   },
   {
    "duration": 100,
    "start_time": "2025-07-02T10:28:21.999Z"
   },
   {
    "duration": 73,
    "start_time": "2025-07-02T10:30:54.715Z"
   },
   {
    "duration": 90,
    "start_time": "2025-07-02T10:32:32.111Z"
   },
   {
    "duration": 3,
    "start_time": "2025-07-02T10:33:53.976Z"
   },
   {
    "duration": 5,
    "start_time": "2025-07-02T10:34:02.805Z"
   },
   {
    "duration": 3,
    "start_time": "2025-07-02T10:34:19.615Z"
   },
   {
    "duration": 1432,
    "start_time": "2025-07-02T10:35:15.376Z"
   },
   {
    "duration": 10,
    "start_time": "2025-07-02T10:35:17.096Z"
   },
   {
    "duration": 6,
    "start_time": "2025-07-02T10:35:36.324Z"
   },
   {
    "duration": 10,
    "start_time": "2025-07-02T10:35:37.968Z"
   },
   {
    "duration": 7,
    "start_time": "2025-07-02T10:35:38.785Z"
   },
   {
    "duration": 10,
    "start_time": "2025-07-02T10:35:40.284Z"
   },
   {
    "duration": 4,
    "start_time": "2025-07-02T10:36:01.144Z"
   },
   {
    "duration": 103,
    "start_time": "2025-07-02T10:36:02.005Z"
   },
   {
    "duration": 19,
    "start_time": "2025-07-02T10:36:05.785Z"
   },
   {
    "duration": 10,
    "start_time": "2025-07-02T10:36:09.186Z"
   },
   {
    "duration": 8,
    "start_time": "2025-07-02T10:36:09.965Z"
   },
   {
    "duration": 42,
    "start_time": "2025-07-02T10:36:13.225Z"
   },
   {
    "duration": 5,
    "start_time": "2025-07-02T10:36:18.257Z"
   },
   {
    "duration": 6,
    "start_time": "2025-07-02T10:36:19.025Z"
   },
   {
    "duration": 14,
    "start_time": "2025-07-02T10:36:19.884Z"
   },
   {
    "duration": 5,
    "start_time": "2025-07-02T10:36:20.465Z"
   },
   {
    "duration": 31,
    "start_time": "2025-07-02T10:36:22.545Z"
   },
   {
    "duration": 14,
    "start_time": "2025-07-02T10:36:23.516Z"
   },
   {
    "duration": 8,
    "start_time": "2025-07-02T10:36:26.226Z"
   },
   {
    "duration": 17,
    "start_time": "2025-07-02T10:36:28.365Z"
   },
   {
    "duration": 19,
    "start_time": "2025-07-02T10:36:36.065Z"
   },
   {
    "duration": 20,
    "start_time": "2025-07-02T10:36:38.605Z"
   },
   {
    "duration": 104,
    "start_time": "2025-07-02T10:36:40.085Z"
   },
   {
    "duration": 4,
    "start_time": "2025-07-02T10:36:43.524Z"
   },
   {
    "duration": 5,
    "start_time": "2025-07-02T10:40:03.004Z"
   },
   {
    "duration": 4,
    "start_time": "2025-07-02T10:40:14.004Z"
   },
   {
    "duration": 6,
    "start_time": "2025-07-02T10:43:23.925Z"
   },
   {
    "duration": 4,
    "start_time": "2025-07-02T10:43:53.953Z"
   },
   {
    "duration": 4,
    "start_time": "2025-07-02T10:44:11.585Z"
   },
   {
    "duration": 6,
    "start_time": "2025-07-02T10:44:15.884Z"
   },
   {
    "duration": 5,
    "start_time": "2025-07-02T10:44:19.844Z"
   },
   {
    "duration": 4,
    "start_time": "2025-07-02T10:44:21.524Z"
   },
   {
    "duration": 2645,
    "start_time": "2025-07-02T10:46:30.033Z"
   },
   {
    "duration": 50,
    "start_time": "2025-07-02T10:46:32.680Z"
   },
   {
    "duration": 10,
    "start_time": "2025-07-02T10:46:32.732Z"
   },
   {
    "duration": 92,
    "start_time": "2025-07-02T10:46:32.744Z"
   },
   {
    "duration": 41,
    "start_time": "2025-07-02T10:46:32.839Z"
   },
   {
    "duration": 108,
    "start_time": "2025-07-02T10:46:32.882Z"
   },
   {
    "duration": 116,
    "start_time": "2025-07-02T10:46:32.992Z"
   },
   {
    "duration": 4,
    "start_time": "2025-07-02T10:46:33.110Z"
   },
   {
    "duration": 15,
    "start_time": "2025-07-02T10:46:33.116Z"
   },
   {
    "duration": 36,
    "start_time": "2025-07-02T10:46:33.133Z"
   },
   {
    "duration": 137,
    "start_time": "2025-07-02T10:46:33.171Z"
   },
   {
    "duration": 358,
    "start_time": "2025-07-02T10:46:33.310Z"
   },
   {
    "duration": 10,
    "start_time": "2025-07-02T10:46:33.670Z"
   },
   {
    "duration": 341,
    "start_time": "2025-07-02T10:46:33.683Z"
   },
   {
    "duration": 8,
    "start_time": "2025-07-02T10:46:34.026Z"
   },
   {
    "duration": 41,
    "start_time": "2025-07-02T10:46:34.036Z"
   },
   {
    "duration": 338,
    "start_time": "2025-07-02T10:46:34.078Z"
   },
   {
    "duration": 17,
    "start_time": "2025-07-02T10:46:34.417Z"
   },
   {
    "duration": 31,
    "start_time": "2025-07-02T10:46:34.436Z"
   },
   {
    "duration": 24,
    "start_time": "2025-07-02T10:46:34.469Z"
   },
   {
    "duration": 23,
    "start_time": "2025-07-02T10:46:34.495Z"
   },
   {
    "duration": 117,
    "start_time": "2025-07-02T10:46:34.519Z"
   },
   {
    "duration": 174,
    "start_time": "2025-07-02T10:46:34.638Z"
   },
   {
    "duration": 15,
    "start_time": "2025-07-02T10:46:34.814Z"
   },
   {
    "duration": 368,
    "start_time": "2025-07-02T10:46:34.830Z"
   },
   {
    "duration": 251,
    "start_time": "2025-07-02T10:46:35.200Z"
   },
   {
    "duration": 5,
    "start_time": "2025-07-02T10:46:35.453Z"
   },
   {
    "duration": 173,
    "start_time": "2025-07-02T10:46:35.476Z"
   },
   {
    "duration": 30,
    "start_time": "2025-07-02T10:46:35.651Z"
   },
   {
    "duration": 12,
    "start_time": "2025-07-02T10:46:35.683Z"
   },
   {
    "duration": 70,
    "start_time": "2025-07-02T10:46:35.697Z"
   },
   {
    "duration": 14,
    "start_time": "2025-07-02T10:46:35.769Z"
   },
   {
    "duration": 1611,
    "start_time": "2025-07-02T10:46:35.785Z"
   },
   {
    "duration": 13,
    "start_time": "2025-07-02T10:46:37.398Z"
   },
   {
    "duration": 33,
    "start_time": "2025-07-02T10:46:37.412Z"
   },
   {
    "duration": 141,
    "start_time": "2025-07-02T10:46:37.447Z"
   },
   {
    "duration": 10,
    "start_time": "2025-07-02T10:46:37.590Z"
   },
   {
    "duration": 3593,
    "start_time": "2025-07-02T10:46:37.601Z"
   },
   {
    "duration": 54,
    "start_time": "2025-07-02T10:46:41.196Z"
   },
   {
    "duration": 56,
    "start_time": "2025-07-02T10:46:41.252Z"
   },
   {
    "duration": 8,
    "start_time": "2025-07-02T10:46:41.313Z"
   },
   {
    "duration": 125,
    "start_time": "2025-07-02T10:46:41.323Z"
   },
   {
    "duration": 103,
    "start_time": "2025-07-02T10:46:41.450Z"
   },
   {
    "duration": 4,
    "start_time": "2025-07-02T10:46:41.554Z"
   },
   {
    "duration": 56,
    "start_time": "2025-07-02T10:46:41.560Z"
   },
   {
    "duration": 16,
    "start_time": "2025-07-02T10:46:41.618Z"
   },
   {
    "duration": 15,
    "start_time": "2025-07-02T10:46:41.636Z"
   },
   {
    "duration": 18,
    "start_time": "2025-07-02T10:46:41.653Z"
   },
   {
    "duration": 40,
    "start_time": "2025-07-02T10:46:41.672Z"
   },
   {
    "duration": 134,
    "start_time": "2025-07-02T10:46:41.713Z"
   },
   {
    "duration": 27,
    "start_time": "2025-07-02T10:46:41.849Z"
   },
   {
    "duration": 71,
    "start_time": "2025-07-02T10:46:41.878Z"
   },
   {
    "duration": 8,
    "start_time": "2025-07-02T10:46:41.951Z"
   },
   {
    "duration": 53,
    "start_time": "2025-07-02T10:46:41.961Z"
   },
   {
    "duration": 6,
    "start_time": "2025-07-02T10:46:42.016Z"
   },
   {
    "duration": 16,
    "start_time": "2025-07-02T10:46:42.024Z"
   },
   {
    "duration": 35,
    "start_time": "2025-07-02T10:46:42.043Z"
   },
   {
    "duration": 7,
    "start_time": "2025-07-02T10:46:42.081Z"
   },
   {
    "duration": 35,
    "start_time": "2025-07-02T10:46:42.090Z"
   },
   {
    "duration": 14,
    "start_time": "2025-07-02T10:46:42.127Z"
   },
   {
    "duration": 43,
    "start_time": "2025-07-02T10:46:42.143Z"
   },
   {
    "duration": 15,
    "start_time": "2025-07-02T10:46:42.187Z"
   },
   {
    "duration": 51,
    "start_time": "2025-07-02T10:46:42.204Z"
   },
   {
    "duration": 31,
    "start_time": "2025-07-02T10:46:42.258Z"
   },
   {
    "duration": 6,
    "start_time": "2025-07-02T10:46:42.291Z"
   },
   {
    "duration": 25,
    "start_time": "2025-07-02T10:46:42.298Z"
   },
   {
    "duration": 8,
    "start_time": "2025-07-02T10:46:42.325Z"
   },
   {
    "duration": 13,
    "start_time": "2025-07-02T10:46:42.334Z"
   },
   {
    "duration": 15,
    "start_time": "2025-07-02T10:46:42.348Z"
   },
   {
    "duration": 7,
    "start_time": "2025-07-02T10:46:42.364Z"
   },
   {
    "duration": 2819,
    "start_time": "2025-07-02T10:51:13.648Z"
   },
   {
    "duration": 63,
    "start_time": "2025-07-02T10:51:16.470Z"
   },
   {
    "duration": 11,
    "start_time": "2025-07-02T10:51:16.535Z"
   },
   {
    "duration": 39,
    "start_time": "2025-07-02T10:51:16.548Z"
   },
   {
    "duration": 15,
    "start_time": "2025-07-02T10:51:16.590Z"
   },
   {
    "duration": 13,
    "start_time": "2025-07-02T10:51:16.608Z"
   },
   {
    "duration": 195,
    "start_time": "2025-07-02T10:51:16.622Z"
   },
   {
    "duration": 5,
    "start_time": "2025-07-02T10:51:16.819Z"
   },
   {
    "duration": 16,
    "start_time": "2025-07-02T10:51:16.826Z"
   },
   {
    "duration": 19,
    "start_time": "2025-07-02T10:51:16.844Z"
   },
   {
    "duration": 145,
    "start_time": "2025-07-02T10:51:16.865Z"
   },
   {
    "duration": 497,
    "start_time": "2025-07-02T10:51:17.012Z"
   },
   {
    "duration": 6,
    "start_time": "2025-07-02T10:51:17.511Z"
   },
   {
    "duration": 469,
    "start_time": "2025-07-02T10:51:17.520Z"
   },
   {
    "duration": 9,
    "start_time": "2025-07-02T10:51:17.991Z"
   },
   {
    "duration": 110,
    "start_time": "2025-07-02T10:51:18.001Z"
   },
   {
    "duration": 361,
    "start_time": "2025-07-02T10:51:18.112Z"
   },
   {
    "duration": 25,
    "start_time": "2025-07-02T10:51:18.477Z"
   },
   {
    "duration": 41,
    "start_time": "2025-07-02T10:51:18.504Z"
   },
   {
    "duration": 38,
    "start_time": "2025-07-02T10:51:18.548Z"
   },
   {
    "duration": 17,
    "start_time": "2025-07-02T10:51:18.588Z"
   },
   {
    "duration": 12,
    "start_time": "2025-07-02T10:51:18.607Z"
   },
   {
    "duration": 89,
    "start_time": "2025-07-02T10:51:18.621Z"
   },
   {
    "duration": 6,
    "start_time": "2025-07-02T10:51:18.712Z"
   },
   {
    "duration": 414,
    "start_time": "2025-07-02T10:51:18.720Z"
   },
   {
    "duration": 266,
    "start_time": "2025-07-02T10:51:19.136Z"
   },
   {
    "duration": 6,
    "start_time": "2025-07-02T10:51:19.405Z"
   },
   {
    "duration": 92,
    "start_time": "2025-07-02T10:51:19.413Z"
   },
   {
    "duration": 135,
    "start_time": "2025-07-02T10:51:19.507Z"
   },
   {
    "duration": 29,
    "start_time": "2025-07-02T10:51:19.644Z"
   },
   {
    "duration": 49,
    "start_time": "2025-07-02T10:51:19.675Z"
   },
   {
    "duration": 39,
    "start_time": "2025-07-02T10:51:19.726Z"
   },
   {
    "duration": 1691,
    "start_time": "2025-07-02T10:51:19.766Z"
   },
   {
    "duration": 31,
    "start_time": "2025-07-02T10:51:21.459Z"
   },
   {
    "duration": 117,
    "start_time": "2025-07-02T10:51:21.493Z"
   },
   {
    "duration": 192,
    "start_time": "2025-07-02T10:51:21.612Z"
   },
   {
    "duration": 8,
    "start_time": "2025-07-02T10:51:21.806Z"
   },
   {
    "duration": 3744,
    "start_time": "2025-07-02T10:51:21.816Z"
   },
   {
    "duration": 80,
    "start_time": "2025-07-02T10:51:25.562Z"
   },
   {
    "duration": 8,
    "start_time": "2025-07-02T10:51:25.644Z"
   },
   {
    "duration": 23,
    "start_time": "2025-07-02T10:51:25.657Z"
   },
   {
    "duration": 86,
    "start_time": "2025-07-02T10:51:25.684Z"
   },
   {
    "duration": 133,
    "start_time": "2025-07-02T10:51:25.780Z"
   },
   {
    "duration": 4,
    "start_time": "2025-07-02T10:51:25.915Z"
   },
   {
    "duration": 21,
    "start_time": "2025-07-02T10:51:25.921Z"
   },
   {
    "duration": 19,
    "start_time": "2025-07-02T10:51:25.944Z"
   },
   {
    "duration": 13,
    "start_time": "2025-07-02T10:51:25.965Z"
   },
   {
    "duration": 19,
    "start_time": "2025-07-02T10:51:25.980Z"
   },
   {
    "duration": 10,
    "start_time": "2025-07-02T10:51:26.001Z"
   },
   {
    "duration": 115,
    "start_time": "2025-07-02T10:51:26.013Z"
   },
   {
    "duration": 20,
    "start_time": "2025-07-02T10:51:26.130Z"
   },
   {
    "duration": 54,
    "start_time": "2025-07-02T10:51:26.152Z"
   },
   {
    "duration": 19,
    "start_time": "2025-07-02T10:51:26.208Z"
   },
   {
    "duration": 102,
    "start_time": "2025-07-02T10:51:26.229Z"
   },
   {
    "duration": 6,
    "start_time": "2025-07-02T10:51:26.332Z"
   },
   {
    "duration": 31,
    "start_time": "2025-07-02T10:51:26.339Z"
   },
   {
    "duration": 27,
    "start_time": "2025-07-02T10:51:26.372Z"
   },
   {
    "duration": 6,
    "start_time": "2025-07-02T10:51:26.401Z"
   },
   {
    "duration": 50,
    "start_time": "2025-07-02T10:51:26.409Z"
   },
   {
    "duration": 14,
    "start_time": "2025-07-02T10:51:26.461Z"
   },
   {
    "duration": 30,
    "start_time": "2025-07-02T10:51:26.477Z"
   },
   {
    "duration": 37,
    "start_time": "2025-07-02T10:51:26.509Z"
   },
   {
    "duration": 32,
    "start_time": "2025-07-02T10:51:26.549Z"
   },
   {
    "duration": 38,
    "start_time": "2025-07-02T10:51:26.585Z"
   },
   {
    "duration": 8,
    "start_time": "2025-07-02T10:51:26.625Z"
   },
   {
    "duration": 83,
    "start_time": "2025-07-02T10:51:26.635Z"
   },
   {
    "duration": 128,
    "start_time": "2025-07-02T10:51:26.720Z"
   },
   {
    "duration": 45,
    "start_time": "2025-07-02T10:51:26.850Z"
   },
   {
    "duration": 120,
    "start_time": "2025-07-02T10:51:26.897Z"
   },
   {
    "duration": 16,
    "start_time": "2025-07-02T10:51:27.019Z"
   },
   {
    "duration": 17,
    "start_time": "2025-07-02T13:10:37.815Z"
   },
   {
    "duration": 99,
    "start_time": "2025-07-02T13:37:02.513Z"
   },
   {
    "duration": 2603,
    "start_time": "2025-07-02T13:37:06.586Z"
   },
   {
    "duration": 90,
    "start_time": "2025-07-02T13:37:09.192Z"
   },
   {
    "duration": 87,
    "start_time": "2025-07-02T13:37:09.284Z"
   },
   {
    "duration": 32,
    "start_time": "2025-07-02T13:37:09.373Z"
   },
   {
    "duration": 22,
    "start_time": "2025-07-02T13:37:09.407Z"
   },
   {
    "duration": 19,
    "start_time": "2025-07-02T13:37:09.431Z"
   },
   {
    "duration": 131,
    "start_time": "2025-07-02T13:37:09.452Z"
   },
   {
    "duration": 4,
    "start_time": "2025-07-02T13:37:09.585Z"
   },
   {
    "duration": 121,
    "start_time": "2025-07-02T13:37:09.591Z"
   },
   {
    "duration": 41,
    "start_time": "2025-07-02T13:37:09.713Z"
   },
   {
    "duration": 195,
    "start_time": "2025-07-02T13:37:09.756Z"
   },
   {
    "duration": 482,
    "start_time": "2025-07-02T13:37:09.954Z"
   },
   {
    "duration": 7,
    "start_time": "2025-07-02T13:37:10.439Z"
   },
   {
    "duration": 360,
    "start_time": "2025-07-02T13:37:10.450Z"
   },
   {
    "duration": 8,
    "start_time": "2025-07-02T13:37:10.812Z"
   },
   {
    "duration": 98,
    "start_time": "2025-07-02T13:37:10.822Z"
   },
   {
    "duration": 401,
    "start_time": "2025-07-02T13:37:10.922Z"
   },
   {
    "duration": 17,
    "start_time": "2025-07-02T13:37:11.325Z"
   },
   {
    "duration": 58,
    "start_time": "2025-07-02T13:37:11.344Z"
   },
   {
    "duration": 31,
    "start_time": "2025-07-02T13:37:11.404Z"
   },
   {
    "duration": 14,
    "start_time": "2025-07-02T13:37:11.437Z"
   },
   {
    "duration": 70,
    "start_time": "2025-07-02T13:37:11.453Z"
   },
   {
    "duration": 15,
    "start_time": "2025-07-02T13:37:11.525Z"
   },
   {
    "duration": 70,
    "start_time": "2025-07-02T13:37:11.542Z"
   },
   {
    "duration": 379,
    "start_time": "2025-07-02T13:37:11.614Z"
   },
   {
    "duration": 264,
    "start_time": "2025-07-02T13:37:11.995Z"
   },
   {
    "duration": 15,
    "start_time": "2025-07-02T13:37:12.261Z"
   },
   {
    "duration": 4,
    "start_time": "2025-07-02T13:37:12.278Z"
   },
   {
    "duration": 125,
    "start_time": "2025-07-02T13:37:12.284Z"
   },
   {
    "duration": 31,
    "start_time": "2025-07-02T13:37:12.411Z"
   },
   {
    "duration": 31,
    "start_time": "2025-07-02T13:37:12.444Z"
   },
   {
    "duration": 57,
    "start_time": "2025-07-02T13:37:12.476Z"
   },
   {
    "duration": 1642,
    "start_time": "2025-07-02T13:37:12.534Z"
   },
   {
    "duration": 14,
    "start_time": "2025-07-02T13:37:14.178Z"
   },
   {
    "duration": 93,
    "start_time": "2025-07-02T13:37:14.194Z"
   },
   {
    "duration": 244,
    "start_time": "2025-07-02T13:37:14.289Z"
   },
   {
    "duration": 8,
    "start_time": "2025-07-02T13:37:14.535Z"
   },
   {
    "duration": 3521,
    "start_time": "2025-07-02T13:37:14.544Z"
   },
   {
    "duration": 49,
    "start_time": "2025-07-02T13:37:18.066Z"
   },
   {
    "duration": 134,
    "start_time": "2025-07-02T13:37:18.117Z"
   },
   {
    "duration": 27,
    "start_time": "2025-07-02T13:37:18.256Z"
   },
   {
    "duration": 187,
    "start_time": "2025-07-02T13:37:18.285Z"
   },
   {
    "duration": 94,
    "start_time": "2025-07-02T13:37:18.474Z"
   },
   {
    "duration": 7,
    "start_time": "2025-07-02T13:37:18.570Z"
   },
   {
    "duration": 76,
    "start_time": "2025-07-02T13:37:18.579Z"
   },
   {
    "duration": 84,
    "start_time": "2025-07-02T13:37:18.657Z"
   },
   {
    "duration": 23,
    "start_time": "2025-07-02T13:37:18.743Z"
   },
   {
    "duration": 70,
    "start_time": "2025-07-02T13:37:18.768Z"
   },
   {
    "duration": 44,
    "start_time": "2025-07-02T13:37:18.840Z"
   },
   {
    "duration": 117,
    "start_time": "2025-07-02T13:37:18.887Z"
   },
   {
    "duration": 35,
    "start_time": "2025-07-02T13:37:19.006Z"
   },
   {
    "duration": 13,
    "start_time": "2025-07-02T13:37:19.043Z"
   },
   {
    "duration": 26,
    "start_time": "2025-07-02T13:37:19.058Z"
   },
   {
    "duration": 159,
    "start_time": "2025-07-02T13:37:19.086Z"
   },
   {
    "duration": 92,
    "start_time": "2025-07-02T13:37:19.247Z"
   },
   {
    "duration": 38,
    "start_time": "2025-07-02T13:37:19.341Z"
   },
   {
    "duration": 43,
    "start_time": "2025-07-02T13:37:19.381Z"
   },
   {
    "duration": 22,
    "start_time": "2025-07-02T13:37:19.426Z"
   },
   {
    "duration": 63,
    "start_time": "2025-07-02T13:37:19.450Z"
   },
   {
    "duration": 48,
    "start_time": "2025-07-02T13:37:19.515Z"
   },
   {
    "duration": 123,
    "start_time": "2025-07-02T13:37:19.566Z"
   },
   {
    "duration": 24,
    "start_time": "2025-07-02T13:37:19.691Z"
   },
   {
    "duration": 44,
    "start_time": "2025-07-02T13:37:19.717Z"
   },
   {
    "duration": 32,
    "start_time": "2025-07-02T13:37:19.763Z"
   },
   {
    "duration": 13,
    "start_time": "2025-07-02T13:37:19.797Z"
   },
   {
    "duration": 22,
    "start_time": "2025-07-02T13:37:19.812Z"
   },
   {
    "duration": 21,
    "start_time": "2025-07-02T13:37:19.836Z"
   },
   {
    "duration": 44,
    "start_time": "2025-07-02T13:37:19.859Z"
   },
   {
    "duration": 34,
    "start_time": "2025-07-02T13:37:19.905Z"
   },
   {
    "duration": 65,
    "start_time": "2025-07-02T13:37:19.941Z"
   },
   {
    "duration": 2946,
    "start_time": "2025-07-02T13:39:41.753Z"
   },
   {
    "duration": 56,
    "start_time": "2025-07-02T13:39:44.702Z"
   },
   {
    "duration": 10,
    "start_time": "2025-07-02T13:39:44.760Z"
   },
   {
    "duration": 20,
    "start_time": "2025-07-02T13:39:44.772Z"
   },
   {
    "duration": 11,
    "start_time": "2025-07-02T13:39:44.795Z"
   },
   {
    "duration": 9,
    "start_time": "2025-07-02T13:39:44.808Z"
   },
   {
    "duration": 200,
    "start_time": "2025-07-02T13:39:44.819Z"
   },
   {
    "duration": 5,
    "start_time": "2025-07-02T13:39:45.022Z"
   },
   {
    "duration": 57,
    "start_time": "2025-07-02T13:39:45.029Z"
   },
   {
    "duration": 42,
    "start_time": "2025-07-02T13:39:45.088Z"
   },
   {
    "duration": 287,
    "start_time": "2025-07-02T13:39:45.132Z"
   },
   {
    "duration": 351,
    "start_time": "2025-07-02T13:39:45.421Z"
   },
   {
    "duration": 6,
    "start_time": "2025-07-02T13:39:45.777Z"
   },
   {
    "duration": 501,
    "start_time": "2025-07-02T13:39:45.788Z"
   },
   {
    "duration": 8,
    "start_time": "2025-07-02T13:39:46.291Z"
   },
   {
    "duration": 17,
    "start_time": "2025-07-02T13:39:46.301Z"
   },
   {
    "duration": 465,
    "start_time": "2025-07-02T13:39:46.320Z"
   },
   {
    "duration": 18,
    "start_time": "2025-07-02T13:39:46.787Z"
   },
   {
    "duration": 8,
    "start_time": "2025-07-02T13:39:46.807Z"
   },
   {
    "duration": 83,
    "start_time": "2025-07-02T13:39:46.817Z"
   },
   {
    "duration": 37,
    "start_time": "2025-07-02T13:39:46.903Z"
   },
   {
    "duration": 43,
    "start_time": "2025-07-02T13:39:46.942Z"
   },
   {
    "duration": 33,
    "start_time": "2025-07-02T13:39:46.987Z"
   },
   {
    "duration": 17,
    "start_time": "2025-07-02T13:39:47.021Z"
   },
   {
    "duration": 330,
    "start_time": "2025-07-02T13:39:47.039Z"
   },
   {
    "duration": 234,
    "start_time": "2025-07-02T13:39:47.370Z"
   },
   {
    "duration": 6,
    "start_time": "2025-07-02T13:39:47.606Z"
   },
   {
    "duration": 105,
    "start_time": "2025-07-02T13:39:47.614Z"
   },
   {
    "duration": 28,
    "start_time": "2025-07-02T13:39:47.721Z"
   },
   {
    "duration": 18,
    "start_time": "2025-07-02T13:39:47.751Z"
   },
   {
    "duration": 37,
    "start_time": "2025-07-02T13:39:47.770Z"
   },
   {
    "duration": 4,
    "start_time": "2025-07-02T13:39:47.809Z"
   },
   {
    "duration": 1609,
    "start_time": "2025-07-02T13:39:47.815Z"
   },
   {
    "duration": 15,
    "start_time": "2025-07-02T13:39:49.426Z"
   },
   {
    "duration": 81,
    "start_time": "2025-07-02T13:39:49.442Z"
   },
   {
    "duration": 174,
    "start_time": "2025-07-02T13:39:49.524Z"
   },
   {
    "duration": 10,
    "start_time": "2025-07-02T13:39:49.700Z"
   },
   {
    "duration": 3583,
    "start_time": "2025-07-02T13:39:49.712Z"
   },
   {
    "duration": 49,
    "start_time": "2025-07-02T13:39:53.297Z"
   },
   {
    "duration": 43,
    "start_time": "2025-07-02T13:39:53.348Z"
   },
   {
    "duration": 56,
    "start_time": "2025-07-02T13:39:53.395Z"
   },
   {
    "duration": 204,
    "start_time": "2025-07-02T13:39:53.453Z"
   },
   {
    "duration": 179,
    "start_time": "2025-07-02T13:39:53.658Z"
   },
   {
    "duration": 3,
    "start_time": "2025-07-02T13:39:53.839Z"
   },
   {
    "duration": 28,
    "start_time": "2025-07-02T13:39:53.844Z"
   },
   {
    "duration": 23,
    "start_time": "2025-07-02T13:39:53.875Z"
   },
   {
    "duration": 56,
    "start_time": "2025-07-02T13:39:53.901Z"
   },
   {
    "duration": 98,
    "start_time": "2025-07-02T13:39:53.960Z"
   },
   {
    "duration": 163,
    "start_time": "2025-07-02T13:39:54.061Z"
   },
   {
    "duration": 300,
    "start_time": "2025-07-02T13:39:54.227Z"
   },
   {
    "duration": 31,
    "start_time": "2025-07-02T13:39:54.529Z"
   },
   {
    "duration": 24,
    "start_time": "2025-07-02T13:39:54.562Z"
   },
   {
    "duration": 43,
    "start_time": "2025-07-02T13:39:54.588Z"
   },
   {
    "duration": 84,
    "start_time": "2025-07-02T13:39:54.632Z"
   },
   {
    "duration": 5,
    "start_time": "2025-07-02T13:39:54.718Z"
   },
   {
    "duration": 38,
    "start_time": "2025-07-02T13:39:54.725Z"
   },
   {
    "duration": 116,
    "start_time": "2025-07-02T13:39:54.765Z"
   },
   {
    "duration": 42,
    "start_time": "2025-07-02T13:39:54.882Z"
   },
   {
    "duration": 121,
    "start_time": "2025-07-02T13:39:54.926Z"
   },
   {
    "duration": 14,
    "start_time": "2025-07-02T13:39:55.049Z"
   },
   {
    "duration": 160,
    "start_time": "2025-07-02T13:39:55.064Z"
   },
   {
    "duration": 101,
    "start_time": "2025-07-02T13:39:55.225Z"
   },
   {
    "duration": 68,
    "start_time": "2025-07-02T13:39:55.327Z"
   },
   {
    "duration": 22,
    "start_time": "2025-07-02T13:39:55.397Z"
   },
   {
    "duration": 6,
    "start_time": "2025-07-02T13:39:55.420Z"
   },
   {
    "duration": 151,
    "start_time": "2025-07-02T13:39:55.428Z"
   },
   {
    "duration": 135,
    "start_time": "2025-07-02T13:39:55.581Z"
   },
   {
    "duration": 61,
    "start_time": "2025-07-02T13:39:55.718Z"
   },
   {
    "duration": 29,
    "start_time": "2025-07-02T13:39:55.781Z"
   },
   {
    "duration": 21,
    "start_time": "2025-07-02T13:39:55.812Z"
   },
   {
    "duration": 2833,
    "start_time": "2025-07-02T13:41:21.575Z"
   },
   {
    "duration": 47,
    "start_time": "2025-07-02T13:41:24.411Z"
   },
   {
    "duration": 30,
    "start_time": "2025-07-02T13:41:24.460Z"
   },
   {
    "duration": 68,
    "start_time": "2025-07-02T13:41:24.492Z"
   },
   {
    "duration": 141,
    "start_time": "2025-07-02T13:41:24.563Z"
   },
   {
    "duration": 72,
    "start_time": "2025-07-02T13:41:24.706Z"
   },
   {
    "duration": 182,
    "start_time": "2025-07-02T13:41:24.780Z"
   },
   {
    "duration": 5,
    "start_time": "2025-07-02T13:41:24.964Z"
   },
   {
    "duration": 107,
    "start_time": "2025-07-02T13:41:24.970Z"
   },
   {
    "duration": 121,
    "start_time": "2025-07-02T13:41:25.078Z"
   },
   {
    "duration": 253,
    "start_time": "2025-07-02T13:41:25.201Z"
   },
   {
    "duration": 331,
    "start_time": "2025-07-02T13:41:25.456Z"
   },
   {
    "duration": 6,
    "start_time": "2025-07-02T13:41:25.789Z"
   },
   {
    "duration": 400,
    "start_time": "2025-07-02T13:41:25.798Z"
   },
   {
    "duration": 8,
    "start_time": "2025-07-02T13:41:26.200Z"
   },
   {
    "duration": 235,
    "start_time": "2025-07-02T13:41:26.210Z"
   },
   {
    "duration": 383,
    "start_time": "2025-07-02T13:41:26.447Z"
   },
   {
    "duration": 17,
    "start_time": "2025-07-02T13:41:26.832Z"
   },
   {
    "duration": 34,
    "start_time": "2025-07-02T13:41:26.851Z"
   },
   {
    "duration": 34,
    "start_time": "2025-07-02T13:41:26.887Z"
   },
   {
    "duration": 36,
    "start_time": "2025-07-02T13:41:26.923Z"
   },
   {
    "duration": 104,
    "start_time": "2025-07-02T13:41:26.961Z"
   },
   {
    "duration": 12,
    "start_time": "2025-07-02T13:41:27.067Z"
   },
   {
    "duration": 17,
    "start_time": "2025-07-02T13:41:27.081Z"
   },
   {
    "duration": 445,
    "start_time": "2025-07-02T13:41:27.100Z"
   },
   {
    "duration": 280,
    "start_time": "2025-07-02T13:41:27.546Z"
   },
   {
    "duration": 6,
    "start_time": "2025-07-02T13:41:27.828Z"
   },
   {
    "duration": 50,
    "start_time": "2025-07-02T13:41:27.836Z"
   },
   {
    "duration": 11,
    "start_time": "2025-07-02T13:41:27.888Z"
   },
   {
    "duration": 45,
    "start_time": "2025-07-02T13:41:27.901Z"
   },
   {
    "duration": 57,
    "start_time": "2025-07-02T13:41:27.948Z"
   },
   {
    "duration": 19,
    "start_time": "2025-07-02T13:41:28.007Z"
   },
   {
    "duration": 1748,
    "start_time": "2025-07-02T13:41:28.028Z"
   },
   {
    "duration": 13,
    "start_time": "2025-07-02T13:41:29.778Z"
   },
   {
    "duration": 51,
    "start_time": "2025-07-02T13:41:29.792Z"
   },
   {
    "duration": 142,
    "start_time": "2025-07-02T13:41:29.845Z"
   },
   {
    "duration": 9,
    "start_time": "2025-07-02T13:41:29.988Z"
   },
   {
    "duration": 3487,
    "start_time": "2025-07-02T13:41:29.998Z"
   },
   {
    "duration": 47,
    "start_time": "2025-07-02T13:41:33.486Z"
   },
   {
    "duration": 187,
    "start_time": "2025-07-02T13:41:33.534Z"
   },
   {
    "duration": 155,
    "start_time": "2025-07-02T13:41:33.725Z"
   },
   {
    "duration": 199,
    "start_time": "2025-07-02T13:41:33.881Z"
   },
   {
    "duration": 97,
    "start_time": "2025-07-02T13:41:34.082Z"
   },
   {
    "duration": 3,
    "start_time": "2025-07-02T13:41:34.181Z"
   },
   {
    "duration": 246,
    "start_time": "2025-07-02T13:41:34.186Z"
   },
   {
    "duration": 132,
    "start_time": "2025-07-02T13:41:34.433Z"
   },
   {
    "duration": 44,
    "start_time": "2025-07-02T13:41:34.567Z"
   },
   {
    "duration": 167,
    "start_time": "2025-07-02T13:41:34.613Z"
   },
   {
    "duration": 222,
    "start_time": "2025-07-02T13:41:34.781Z"
   },
   {
    "duration": 161,
    "start_time": "2025-07-02T13:41:35.005Z"
   },
   {
    "duration": 232,
    "start_time": "2025-07-02T13:41:35.168Z"
   },
   {
    "duration": 68,
    "start_time": "2025-07-02T13:41:35.401Z"
   },
   {
    "duration": 310,
    "start_time": "2025-07-02T13:41:35.470Z"
   },
   {
    "duration": 85,
    "start_time": "2025-07-02T13:41:35.781Z"
   },
   {
    "duration": 33,
    "start_time": "2025-07-02T13:41:35.869Z"
   },
   {
    "duration": 90,
    "start_time": "2025-07-02T13:41:35.904Z"
   },
   {
    "duration": 159,
    "start_time": "2025-07-02T13:41:35.996Z"
   },
   {
    "duration": 173,
    "start_time": "2025-07-02T13:41:36.157Z"
   },
   {
    "duration": 297,
    "start_time": "2025-07-02T13:41:36.331Z"
   },
   {
    "duration": 51,
    "start_time": "2025-07-02T13:41:36.630Z"
   },
   {
    "duration": 87,
    "start_time": "2025-07-02T13:41:36.683Z"
   },
   {
    "duration": 42,
    "start_time": "2025-07-02T13:41:36.771Z"
   },
   {
    "duration": 88,
    "start_time": "2025-07-02T13:41:36.815Z"
   },
   {
    "duration": 134,
    "start_time": "2025-07-02T13:41:36.904Z"
   },
   {
    "duration": 52,
    "start_time": "2025-07-02T13:41:37.040Z"
   },
   {
    "duration": 202,
    "start_time": "2025-07-02T13:41:37.094Z"
   },
   {
    "duration": 66,
    "start_time": "2025-07-02T13:41:37.298Z"
   },
   {
    "duration": 35,
    "start_time": "2025-07-02T13:41:37.366Z"
   },
   {
    "duration": 28,
    "start_time": "2025-07-02T13:41:37.403Z"
   },
   {
    "duration": 116,
    "start_time": "2025-07-02T13:41:37.433Z"
   },
   {
    "duration": 10,
    "start_time": "2025-07-02T13:43:24.774Z"
   },
   {
    "duration": 2751,
    "start_time": "2025-07-02T13:43:35.804Z"
   },
   {
    "duration": 45,
    "start_time": "2025-07-02T13:43:38.559Z"
   },
   {
    "duration": 12,
    "start_time": "2025-07-02T13:43:38.606Z"
   },
   {
    "duration": 62,
    "start_time": "2025-07-02T13:43:38.620Z"
   },
   {
    "duration": 60,
    "start_time": "2025-07-02T13:43:38.685Z"
   },
   {
    "duration": 87,
    "start_time": "2025-07-02T13:43:38.747Z"
   },
   {
    "duration": 115,
    "start_time": "2025-07-02T13:43:38.835Z"
   },
   {
    "duration": 4,
    "start_time": "2025-07-02T13:43:38.952Z"
   },
   {
    "duration": 50,
    "start_time": "2025-07-02T13:43:38.957Z"
   },
   {
    "duration": 111,
    "start_time": "2025-07-02T13:43:39.009Z"
   },
   {
    "duration": 356,
    "start_time": "2025-07-02T13:43:39.122Z"
   },
   {
    "duration": 343,
    "start_time": "2025-07-02T13:43:39.480Z"
   },
   {
    "duration": 6,
    "start_time": "2025-07-02T13:43:39.825Z"
   },
   {
    "duration": 397,
    "start_time": "2025-07-02T13:43:39.836Z"
   },
   {
    "duration": 10,
    "start_time": "2025-07-02T13:43:40.235Z"
   },
   {
    "duration": 116,
    "start_time": "2025-07-02T13:43:40.247Z"
   },
   {
    "duration": 444,
    "start_time": "2025-07-02T13:43:40.365Z"
   },
   {
    "duration": 20,
    "start_time": "2025-07-02T13:43:40.811Z"
   },
   {
    "duration": 57,
    "start_time": "2025-07-02T13:43:40.833Z"
   },
   {
    "duration": 6,
    "start_time": "2025-07-02T13:43:40.892Z"
   },
   {
    "duration": 22,
    "start_time": "2025-07-02T13:43:40.900Z"
   },
   {
    "duration": 87,
    "start_time": "2025-07-02T13:43:40.923Z"
   },
   {
    "duration": 69,
    "start_time": "2025-07-02T13:43:41.011Z"
   },
   {
    "duration": 17,
    "start_time": "2025-07-02T13:43:41.082Z"
   },
   {
    "duration": 331,
    "start_time": "2025-07-02T13:43:41.101Z"
   },
   {
    "duration": 353,
    "start_time": "2025-07-02T13:43:41.434Z"
   },
   {
    "duration": 5,
    "start_time": "2025-07-02T13:43:41.789Z"
   },
   {
    "duration": 105,
    "start_time": "2025-07-02T13:43:41.795Z"
   },
   {
    "duration": 198,
    "start_time": "2025-07-02T13:43:41.901Z"
   },
   {
    "duration": 200,
    "start_time": "2025-07-02T13:43:42.101Z"
   },
   {
    "duration": 177,
    "start_time": "2025-07-02T13:43:42.303Z"
   },
   {
    "duration": 39,
    "start_time": "2025-07-02T13:43:42.482Z"
   },
   {
    "duration": 1535,
    "start_time": "2025-07-02T13:43:42.522Z"
   },
   {
    "duration": 20,
    "start_time": "2025-07-02T13:43:44.059Z"
   },
   {
    "duration": 98,
    "start_time": "2025-07-02T13:43:44.081Z"
   },
   {
    "duration": 227,
    "start_time": "2025-07-02T13:43:44.181Z"
   },
   {
    "duration": 9,
    "start_time": "2025-07-02T13:43:44.409Z"
   },
   {
    "duration": 3461,
    "start_time": "2025-07-02T13:43:44.419Z"
   },
   {
    "duration": 47,
    "start_time": "2025-07-02T13:43:47.882Z"
   },
   {
    "duration": 16,
    "start_time": "2025-07-02T13:43:47.930Z"
   },
   {
    "duration": 31,
    "start_time": "2025-07-02T13:43:47.950Z"
   },
   {
    "duration": 127,
    "start_time": "2025-07-02T13:43:47.983Z"
   },
   {
    "duration": 97,
    "start_time": "2025-07-02T13:43:48.112Z"
   },
   {
    "duration": 3,
    "start_time": "2025-07-02T13:43:48.211Z"
   },
   {
    "duration": 147,
    "start_time": "2025-07-02T13:43:48.215Z"
   },
   {
    "duration": 148,
    "start_time": "2025-07-02T13:43:48.364Z"
   },
   {
    "duration": 61,
    "start_time": "2025-07-02T13:43:48.513Z"
   },
   {
    "duration": 55,
    "start_time": "2025-07-02T13:43:48.576Z"
   },
   {
    "duration": 82,
    "start_time": "2025-07-02T13:43:48.633Z"
   },
   {
    "duration": 124,
    "start_time": "2025-07-02T13:43:48.716Z"
   },
   {
    "duration": 30,
    "start_time": "2025-07-02T13:43:48.842Z"
   },
   {
    "duration": 11,
    "start_time": "2025-07-02T13:43:48.874Z"
   },
   {
    "duration": 32,
    "start_time": "2025-07-02T13:43:48.887Z"
   },
   {
    "duration": 71,
    "start_time": "2025-07-02T13:43:48.921Z"
   },
   {
    "duration": 4,
    "start_time": "2025-07-02T13:43:48.993Z"
   },
   {
    "duration": 67,
    "start_time": "2025-07-02T13:43:48.999Z"
   },
   {
    "duration": 190,
    "start_time": "2025-07-02T13:43:49.068Z"
   },
   {
    "duration": 128,
    "start_time": "2025-07-02T13:43:49.260Z"
   },
   {
    "duration": 159,
    "start_time": "2025-07-02T13:43:49.390Z"
   },
   {
    "duration": 14,
    "start_time": "2025-07-02T13:43:49.550Z"
   },
   {
    "duration": 141,
    "start_time": "2025-07-02T13:43:49.577Z"
   },
   {
    "duration": 105,
    "start_time": "2025-07-02T13:43:49.720Z"
   },
   {
    "duration": 63,
    "start_time": "2025-07-02T13:43:49.827Z"
   },
   {
    "duration": 23,
    "start_time": "2025-07-02T13:43:49.892Z"
   },
   {
    "duration": 26,
    "start_time": "2025-07-02T13:43:49.916Z"
   },
   {
    "duration": 47,
    "start_time": "2025-07-02T13:43:49.944Z"
   },
   {
    "duration": 94,
    "start_time": "2025-07-02T13:43:49.993Z"
   },
   {
    "duration": 50,
    "start_time": "2025-07-02T13:43:50.090Z"
   },
   {
    "duration": 13,
    "start_time": "2025-07-02T13:43:50.141Z"
   },
   {
    "duration": 5,
    "start_time": "2025-07-02T13:43:50.156Z"
   },
   {
    "duration": 11,
    "start_time": "2025-07-02T13:45:32.974Z"
   },
   {
    "duration": 5,
    "start_time": "2025-07-02T13:45:33.845Z"
   },
   {
    "duration": 12,
    "start_time": "2025-07-02T13:45:53.494Z"
   },
   {
    "duration": 4,
    "start_time": "2025-07-02T13:45:54.855Z"
   },
   {
    "duration": 7499,
    "start_time": "2025-09-08T13:14:06.081Z"
   },
   {
    "duration": 405,
    "start_time": "2025-09-08T13:14:13.584Z"
   },
   {
    "duration": 85,
    "start_time": "2025-09-08T13:14:13.990Z"
   },
   {
    "duration": 18,
    "start_time": "2025-09-08T13:14:14.077Z"
   },
   {
    "duration": 183,
    "start_time": "2025-09-08T13:14:14.097Z"
   },
   {
    "duration": 11,
    "start_time": "2025-09-08T13:14:14.283Z"
   },
   {
    "duration": 594,
    "start_time": "2025-09-08T13:14:14.297Z"
   },
   {
    "duration": 78,
    "start_time": "2025-09-08T13:14:14.893Z"
   },
   {
    "duration": 4,
    "start_time": "2025-09-08T13:14:14.974Z"
   },
   {
    "duration": 15,
    "start_time": "2025-09-08T13:14:14.980Z"
   },
   {
    "duration": 794,
    "start_time": "2025-09-08T13:14:14.998Z"
   },
   {
    "duration": 1279,
    "start_time": "2025-09-08T13:14:15.795Z"
   },
   {
    "duration": 9,
    "start_time": "2025-09-08T13:14:17.076Z"
   },
   {
    "duration": 1788,
    "start_time": "2025-09-08T13:14:17.088Z"
   },
   {
    "duration": 11,
    "start_time": "2025-09-08T13:14:18.878Z"
   },
   {
    "duration": 82,
    "start_time": "2025-09-08T13:14:18.891Z"
   },
   {
    "duration": 1595,
    "start_time": "2025-09-08T13:14:18.976Z"
   },
   {
    "duration": 19,
    "start_time": "2025-09-08T13:14:20.573Z"
   },
   {
    "duration": 87,
    "start_time": "2025-09-08T13:14:20.594Z"
   },
   {
    "duration": 90,
    "start_time": "2025-09-08T13:14:20.683Z"
   },
   {
    "duration": 111,
    "start_time": "2025-09-08T13:14:20.776Z"
   },
   {
    "duration": 82,
    "start_time": "2025-09-08T13:14:20.889Z"
   },
   {
    "duration": 8,
    "start_time": "2025-09-08T13:14:20.974Z"
   },
   {
    "duration": 88,
    "start_time": "2025-09-08T13:14:20.984Z"
   },
   {
    "duration": 1597,
    "start_time": "2025-09-08T13:14:21.075Z"
   },
   {
    "duration": 996,
    "start_time": "2025-09-08T13:14:22.675Z"
   },
   {
    "duration": 7,
    "start_time": "2025-09-08T13:14:23.673Z"
   },
   {
    "duration": 91,
    "start_time": "2025-09-08T13:14:23.682Z"
   },
   {
    "duration": 9,
    "start_time": "2025-09-08T13:14:23.776Z"
   },
   {
    "duration": 85,
    "start_time": "2025-09-08T13:14:23.787Z"
   },
   {
    "duration": 11,
    "start_time": "2025-09-08T13:14:23.875Z"
   },
   {
    "duration": 5,
    "start_time": "2025-09-08T13:14:23.889Z"
   },
   {
    "duration": 5984,
    "start_time": "2025-09-08T13:14:23.896Z"
   },
   {
    "duration": 90,
    "start_time": "2025-09-08T13:14:29.882Z"
   },
   {
    "duration": 13,
    "start_time": "2025-09-08T13:14:29.974Z"
   },
   {
    "duration": 404,
    "start_time": "2025-09-08T13:14:29.989Z"
   },
   {
    "duration": 10,
    "start_time": "2025-09-08T13:14:30.395Z"
   },
   {
    "duration": 14067,
    "start_time": "2025-09-08T13:14:30.407Z"
   },
   {
    "duration": 122,
    "start_time": "2025-09-08T13:14:44.476Z"
   },
   {
    "duration": 6,
    "start_time": "2025-09-08T13:14:44.673Z"
   },
   {
    "duration": 7,
    "start_time": "2025-09-08T13:14:44.685Z"
   },
   {
    "duration": 376,
    "start_time": "2025-09-08T13:14:44.695Z"
   },
   {
    "duration": 723,
    "start_time": "2025-09-08T13:14:45.074Z"
   },
   {
    "duration": 74,
    "start_time": "2025-09-08T13:14:45.799Z"
   },
   {
    "duration": 13,
    "start_time": "2025-09-08T13:14:45.875Z"
   },
   {
    "duration": 103,
    "start_time": "2025-09-08T13:14:45.890Z"
   },
   {
    "duration": 91,
    "start_time": "2025-09-08T13:14:45.994Z"
   },
   {
    "duration": 196,
    "start_time": "2025-09-08T13:14:46.087Z"
   },
   {
    "duration": 6,
    "start_time": "2025-09-08T13:14:46.285Z"
   },
   {
    "duration": 507,
    "start_time": "2025-09-08T13:14:46.293Z"
   },
   {
    "duration": 102,
    "start_time": "2025-09-08T13:14:46.873Z"
   },
   {
    "duration": 17,
    "start_time": "2025-09-08T13:14:46.978Z"
   },
   {
    "duration": 84,
    "start_time": "2025-09-08T13:14:46.997Z"
   },
   {
    "duration": 288,
    "start_time": "2025-09-08T13:14:47.083Z"
   },
   {
    "duration": 8,
    "start_time": "2025-09-08T13:14:47.374Z"
   },
   {
    "duration": 8,
    "start_time": "2025-09-08T13:14:47.385Z"
   },
   {
    "duration": 26,
    "start_time": "2025-09-08T13:14:47.471Z"
   },
   {
    "duration": 8,
    "start_time": "2025-09-08T13:14:47.572Z"
   },
   {
    "duration": 188,
    "start_time": "2025-09-08T13:14:47.583Z"
   },
   {
    "duration": 21,
    "start_time": "2025-09-08T13:14:47.774Z"
   },
   {
    "duration": 12,
    "start_time": "2025-09-08T13:14:47.872Z"
   },
   {
    "duration": 93,
    "start_time": "2025-09-08T13:14:47.887Z"
   },
   {
    "duration": 102,
    "start_time": "2025-09-08T13:14:47.983Z"
   },
   {
    "duration": 109,
    "start_time": "2025-09-08T13:14:48.087Z"
   },
   {
    "duration": 78,
    "start_time": "2025-09-08T13:14:48.198Z"
   },
   {
    "duration": 8,
    "start_time": "2025-09-08T13:14:48.278Z"
   },
   {
    "duration": 83,
    "start_time": "2025-09-08T13:14:48.288Z"
   },
   {
    "duration": 13,
    "start_time": "2025-09-08T13:14:48.374Z"
   },
   {
    "duration": 8,
    "start_time": "2025-09-08T13:14:48.389Z"
   },
   {
    "duration": 75,
    "start_time": "2025-09-08T13:14:48.399Z"
   },
   {
    "duration": 3812,
    "start_time": "2025-09-10T08:30:00.200Z"
   },
   {
    "duration": 98,
    "start_time": "2025-09-10T08:30:04.015Z"
   },
   {
    "duration": 49,
    "start_time": "2025-09-10T08:30:04.114Z"
   },
   {
    "duration": 56,
    "start_time": "2025-09-10T08:30:04.164Z"
   },
   {
    "duration": 52,
    "start_time": "2025-09-10T08:30:04.223Z"
   },
   {
    "duration": 27,
    "start_time": "2025-09-10T08:30:04.277Z"
   },
   {
    "duration": 137,
    "start_time": "2025-09-10T08:30:04.306Z"
   },
   {
    "duration": 4,
    "start_time": "2025-09-10T08:30:04.445Z"
   },
   {
    "duration": 46,
    "start_time": "2025-09-10T08:30:04.450Z"
   },
   {
    "duration": 11,
    "start_time": "2025-09-10T08:30:04.498Z"
   },
   {
    "duration": 213,
    "start_time": "2025-09-10T08:30:04.510Z"
   },
   {
    "duration": 325,
    "start_time": "2025-09-10T08:30:04.725Z"
   },
   {
    "duration": 7,
    "start_time": "2025-09-10T08:30:05.051Z"
   },
   {
    "duration": 333,
    "start_time": "2025-09-10T08:30:05.061Z"
   },
   {
    "duration": 6,
    "start_time": "2025-09-10T08:30:05.403Z"
   },
   {
    "duration": 51,
    "start_time": "2025-09-10T08:30:05.411Z"
   },
   {
    "duration": 355,
    "start_time": "2025-09-10T08:30:05.464Z"
   },
   {
    "duration": 19,
    "start_time": "2025-09-10T08:30:05.821Z"
   },
   {
    "duration": 49,
    "start_time": "2025-09-10T08:30:05.842Z"
   },
   {
    "duration": 46,
    "start_time": "2025-09-10T08:30:05.893Z"
   },
   {
    "duration": 29,
    "start_time": "2025-09-10T08:30:05.941Z"
   },
   {
    "duration": 33,
    "start_time": "2025-09-10T08:30:05.972Z"
   },
   {
    "duration": 103,
    "start_time": "2025-09-10T08:30:06.007Z"
   },
   {
    "duration": 7,
    "start_time": "2025-09-10T08:30:06.112Z"
   },
   {
    "duration": 331,
    "start_time": "2025-09-10T08:30:06.120Z"
   },
   {
    "duration": 255,
    "start_time": "2025-09-10T08:30:06.453Z"
   },
   {
    "duration": 6,
    "start_time": "2025-09-10T08:30:06.709Z"
   },
   {
    "duration": 50,
    "start_time": "2025-09-10T08:30:06.716Z"
   },
   {
    "duration": 4,
    "start_time": "2025-09-10T08:30:06.767Z"
   },
   {
    "duration": 13,
    "start_time": "2025-09-10T08:30:06.773Z"
   },
   {
    "duration": 15,
    "start_time": "2025-09-10T08:30:06.788Z"
   },
   {
    "duration": 4,
    "start_time": "2025-09-10T08:30:06.804Z"
   },
   {
    "duration": 1633,
    "start_time": "2025-09-10T08:30:06.809Z"
   },
   {
    "duration": 13,
    "start_time": "2025-09-10T08:30:08.443Z"
   },
   {
    "duration": 16,
    "start_time": "2025-09-10T08:30:08.457Z"
   },
   {
    "duration": 140,
    "start_time": "2025-09-10T08:30:08.474Z"
   },
   {
    "duration": 8,
    "start_time": "2025-09-10T08:30:08.616Z"
   },
   {
    "duration": 3368,
    "start_time": "2025-09-10T08:30:08.626Z"
   },
   {
    "duration": 54,
    "start_time": "2025-09-10T08:30:11.996Z"
   },
   {
    "duration": 32,
    "start_time": "2025-09-10T08:30:12.051Z"
   },
   {
    "duration": 16,
    "start_time": "2025-09-10T08:30:12.087Z"
   },
   {
    "duration": 79,
    "start_time": "2025-09-10T08:30:12.104Z"
   },
   {
    "duration": 169,
    "start_time": "2025-09-10T08:30:12.184Z"
   },
   {
    "duration": 2,
    "start_time": "2025-09-10T08:30:12.355Z"
   },
   {
    "duration": 8,
    "start_time": "2025-09-10T08:30:12.359Z"
   },
   {
    "duration": 9,
    "start_time": "2025-09-10T08:30:12.368Z"
   },
   {
    "duration": 26,
    "start_time": "2025-09-10T08:30:12.379Z"
   },
   {
    "duration": 9,
    "start_time": "2025-09-10T08:30:12.406Z"
   },
   {
    "duration": 5,
    "start_time": "2025-09-10T08:30:12.416Z"
   },
   {
    "duration": 104,
    "start_time": "2025-09-10T08:30:12.423Z"
   },
   {
    "duration": 16,
    "start_time": "2025-09-10T08:30:12.529Z"
   },
   {
    "duration": 9,
    "start_time": "2025-09-10T08:30:12.547Z"
   },
   {
    "duration": 147,
    "start_time": "2025-09-10T08:30:12.557Z"
   },
   {
    "duration": 42,
    "start_time": "2025-09-10T08:30:12.706Z"
   },
   {
    "duration": 4,
    "start_time": "2025-09-10T08:30:12.750Z"
   },
   {
    "duration": 11,
    "start_time": "2025-09-10T08:30:12.756Z"
   },
   {
    "duration": 36,
    "start_time": "2025-09-10T08:30:12.769Z"
   },
   {
    "duration": 5,
    "start_time": "2025-09-10T08:30:12.807Z"
   },
   {
    "duration": 31,
    "start_time": "2025-09-10T08:30:12.813Z"
   },
   {
    "duration": 13,
    "start_time": "2025-09-10T08:30:12.845Z"
   },
   {
    "duration": 9,
    "start_time": "2025-09-10T08:30:12.860Z"
   },
   {
    "duration": 40,
    "start_time": "2025-09-10T08:30:12.871Z"
   },
   {
    "duration": 19,
    "start_time": "2025-09-10T08:30:12.912Z"
   },
   {
    "duration": 30,
    "start_time": "2025-09-10T08:30:12.933Z"
   },
   {
    "duration": 6,
    "start_time": "2025-09-10T08:30:12.965Z"
   },
   {
    "duration": 4,
    "start_time": "2025-09-10T08:30:12.973Z"
   },
   {
    "duration": 29,
    "start_time": "2025-09-10T08:30:12.978Z"
   },
   {
    "duration": 4,
    "start_time": "2025-09-10T08:30:13.008Z"
   },
   {
    "duration": 6,
    "start_time": "2025-09-10T08:30:13.013Z"
   },
   {
    "duration": 4,
    "start_time": "2025-09-10T08:30:13.021Z"
   },
   {
    "duration": 6,
    "start_time": "2025-09-10T08:37:37.797Z"
   },
   {
    "duration": 5,
    "start_time": "2025-09-10T08:38:01.876Z"
   },
   {
    "duration": 292,
    "start_time": "2025-09-10T08:41:24.516Z"
   },
   {
    "duration": 244,
    "start_time": "2025-09-10T08:41:47.916Z"
   },
   {
    "duration": 5,
    "start_time": "2025-09-10T08:44:50.796Z"
   },
   {
    "duration": 5,
    "start_time": "2025-09-10T08:45:44.796Z"
   },
   {
    "duration": 2720,
    "start_time": "2025-09-10T08:45:47.758Z"
   },
   {
    "duration": 50,
    "start_time": "2025-09-10T08:45:50.480Z"
   },
   {
    "duration": 9,
    "start_time": "2025-09-10T08:45:50.532Z"
   },
   {
    "duration": 13,
    "start_time": "2025-09-10T08:45:50.542Z"
   },
   {
    "duration": 21,
    "start_time": "2025-09-10T08:45:50.557Z"
   },
   {
    "duration": 7,
    "start_time": "2025-09-10T08:45:50.579Z"
   },
   {
    "duration": 94,
    "start_time": "2025-09-10T08:45:50.588Z"
   },
   {
    "duration": 4,
    "start_time": "2025-09-10T08:45:50.684Z"
   },
   {
    "duration": 82,
    "start_time": "2025-09-10T08:45:50.689Z"
   },
   {
    "duration": 5,
    "start_time": "2025-09-10T08:45:50.773Z"
   },
   {
    "duration": 125,
    "start_time": "2025-09-10T08:45:50.780Z"
   },
   {
    "duration": 325,
    "start_time": "2025-09-10T08:45:50.906Z"
   },
   {
    "duration": 6,
    "start_time": "2025-09-10T08:45:51.233Z"
   },
   {
    "duration": 333,
    "start_time": "2025-09-10T08:45:51.242Z"
   },
   {
    "duration": 7,
    "start_time": "2025-09-10T08:45:51.577Z"
   },
   {
    "duration": 31,
    "start_time": "2025-09-10T08:45:51.586Z"
   },
   {
    "duration": 328,
    "start_time": "2025-09-10T08:45:51.619Z"
   },
   {
    "duration": 16,
    "start_time": "2025-09-10T08:45:51.949Z"
   },
   {
    "duration": 34,
    "start_time": "2025-09-10T08:45:51.967Z"
   },
   {
    "duration": 31,
    "start_time": "2025-09-10T08:45:52.003Z"
   },
   {
    "duration": 14,
    "start_time": "2025-09-10T08:45:52.036Z"
   },
   {
    "duration": 7,
    "start_time": "2025-09-10T08:45:52.052Z"
   },
   {
    "duration": 16,
    "start_time": "2025-09-10T08:45:52.060Z"
   },
   {
    "duration": 24,
    "start_time": "2025-09-10T08:45:52.077Z"
   },
   {
    "duration": 325,
    "start_time": "2025-09-10T08:45:52.103Z"
   },
   {
    "duration": 228,
    "start_time": "2025-09-10T08:45:52.430Z"
   },
   {
    "duration": 5,
    "start_time": "2025-09-10T08:45:52.659Z"
   },
   {
    "duration": 103,
    "start_time": "2025-09-10T08:45:52.666Z"
   },
   {
    "duration": 8,
    "start_time": "2025-09-10T08:45:52.771Z"
   },
   {
    "duration": 9,
    "start_time": "2025-09-10T08:45:52.781Z"
   },
   {
    "duration": 17,
    "start_time": "2025-09-10T08:45:52.792Z"
   },
   {
    "duration": 3,
    "start_time": "2025-09-10T08:45:52.811Z"
   },
   {
    "duration": 1577,
    "start_time": "2025-09-10T08:45:52.815Z"
   },
   {
    "duration": 16,
    "start_time": "2025-09-10T08:45:54.393Z"
   },
   {
    "duration": 30,
    "start_time": "2025-09-10T08:45:54.411Z"
   },
   {
    "duration": 116,
    "start_time": "2025-09-10T08:45:54.442Z"
   },
   {
    "duration": 8,
    "start_time": "2025-09-10T08:45:54.560Z"
   },
   {
    "duration": 3200,
    "start_time": "2025-09-10T08:45:54.570Z"
   },
   {
    "duration": 51,
    "start_time": "2025-09-10T08:45:57.772Z"
   },
   {
    "duration": 29,
    "start_time": "2025-09-10T08:45:57.824Z"
   },
   {
    "duration": 12,
    "start_time": "2025-09-10T08:45:57.857Z"
   },
   {
    "duration": 79,
    "start_time": "2025-09-10T08:45:57.871Z"
   },
   {
    "duration": 89,
    "start_time": "2025-09-10T08:45:57.952Z"
   },
   {
    "duration": 3,
    "start_time": "2025-09-10T08:45:58.043Z"
   },
   {
    "duration": 28,
    "start_time": "2025-09-10T08:45:58.047Z"
   },
   {
    "duration": 10,
    "start_time": "2025-09-10T08:45:58.076Z"
   },
   {
    "duration": 8,
    "start_time": "2025-09-10T08:45:58.087Z"
   },
   {
    "duration": 15,
    "start_time": "2025-09-10T08:45:58.097Z"
   },
   {
    "duration": 77,
    "start_time": "2025-09-10T08:45:58.113Z"
   },
   {
    "duration": 129,
    "start_time": "2025-09-10T08:45:58.192Z"
   },
   {
    "duration": 19,
    "start_time": "2025-09-10T08:45:58.323Z"
   },
   {
    "duration": 9,
    "start_time": "2025-09-10T08:45:58.344Z"
   },
   {
    "duration": 7,
    "start_time": "2025-09-10T08:45:58.355Z"
   },
   {
    "duration": 59,
    "start_time": "2025-09-10T08:45:58.363Z"
   },
   {
    "duration": 5,
    "start_time": "2025-09-10T08:45:58.424Z"
   },
   {
    "duration": 10,
    "start_time": "2025-09-10T08:45:58.430Z"
   },
   {
    "duration": 14,
    "start_time": "2025-09-10T08:45:58.442Z"
   },
   {
    "duration": 5,
    "start_time": "2025-09-10T08:45:58.457Z"
   },
   {
    "duration": 63,
    "start_time": "2025-09-10T08:45:58.463Z"
   },
   {
    "duration": 13,
    "start_time": "2025-09-10T08:45:58.528Z"
   },
   {
    "duration": 15,
    "start_time": "2025-09-10T08:45:58.542Z"
   },
   {
    "duration": 14,
    "start_time": "2025-09-10T08:45:58.559Z"
   },
   {
    "duration": 34,
    "start_time": "2025-09-10T08:45:58.575Z"
   },
   {
    "duration": 19,
    "start_time": "2025-09-10T08:45:58.610Z"
   },
   {
    "duration": 108,
    "start_time": "2025-09-10T08:45:58.630Z"
   },
   {
    "duration": 49,
    "start_time": "2025-09-10T08:45:58.740Z"
   },
   {
    "duration": 37,
    "start_time": "2025-09-10T08:45:58.791Z"
   },
   {
    "duration": 7,
    "start_time": "2025-09-10T08:45:58.830Z"
   },
   {
    "duration": 9,
    "start_time": "2025-09-10T08:45:58.838Z"
   },
   {
    "duration": 8,
    "start_time": "2025-09-10T08:45:58.848Z"
   },
   {
    "duration": 60,
    "start_time": "2025-09-10T08:56:12.053Z"
   },
   {
    "duration": 6,
    "start_time": "2025-09-10T08:56:21.233Z"
   },
   {
    "duration": 2705,
    "start_time": "2025-09-10T08:56:29.392Z"
   },
   {
    "duration": 46,
    "start_time": "2025-09-10T08:56:32.100Z"
   },
   {
    "duration": 13,
    "start_time": "2025-09-10T08:56:32.148Z"
   },
   {
    "duration": 16,
    "start_time": "2025-09-10T08:56:32.163Z"
   },
   {
    "duration": 7,
    "start_time": "2025-09-10T08:56:32.181Z"
   },
   {
    "duration": 52,
    "start_time": "2025-09-10T08:56:32.189Z"
   },
   {
    "duration": 89,
    "start_time": "2025-09-10T08:56:32.242Z"
   },
   {
    "duration": 3,
    "start_time": "2025-09-10T08:56:32.333Z"
   },
   {
    "duration": 10,
    "start_time": "2025-09-10T08:56:32.338Z"
   },
   {
    "duration": 9,
    "start_time": "2025-09-10T08:56:32.350Z"
   },
   {
    "duration": 233,
    "start_time": "2025-09-10T08:56:32.361Z"
   },
   {
    "duration": 327,
    "start_time": "2025-09-10T08:56:32.596Z"
   },
   {
    "duration": 5,
    "start_time": "2025-09-10T08:56:32.925Z"
   },
   {
    "duration": 332,
    "start_time": "2025-09-10T08:56:32.933Z"
   },
   {
    "duration": 8,
    "start_time": "2025-09-10T08:56:33.266Z"
   },
   {
    "duration": 10,
    "start_time": "2025-09-10T08:56:33.275Z"
   },
   {
    "duration": 359,
    "start_time": "2025-09-10T08:56:33.287Z"
   },
   {
    "duration": 18,
    "start_time": "2025-09-10T08:56:33.648Z"
   },
   {
    "duration": 10,
    "start_time": "2025-09-10T08:56:33.667Z"
   },
   {
    "duration": 26,
    "start_time": "2025-09-10T08:56:33.678Z"
   },
   {
    "duration": 33,
    "start_time": "2025-09-10T08:56:33.706Z"
   },
   {
    "duration": 7,
    "start_time": "2025-09-10T08:56:33.741Z"
   },
   {
    "duration": 5,
    "start_time": "2025-09-10T08:56:33.750Z"
   },
   {
    "duration": 4,
    "start_time": "2025-09-10T08:56:33.757Z"
   },
   {
    "duration": 273,
    "start_time": "2025-09-10T08:56:33.763Z"
   },
   {
    "duration": 274,
    "start_time": "2025-09-10T08:56:34.037Z"
   },
   {
    "duration": 5,
    "start_time": "2025-09-10T08:56:34.313Z"
   },
   {
    "duration": 58,
    "start_time": "2025-09-10T08:56:34.320Z"
   },
   {
    "duration": 10,
    "start_time": "2025-09-10T08:56:34.379Z"
   },
   {
    "duration": 18,
    "start_time": "2025-09-10T08:56:34.390Z"
   },
   {
    "duration": 21,
    "start_time": "2025-09-10T08:56:34.410Z"
   },
   {
    "duration": 5,
    "start_time": "2025-09-10T08:56:34.432Z"
   },
   {
    "duration": 1530,
    "start_time": "2025-09-10T08:56:34.439Z"
   },
   {
    "duration": 13,
    "start_time": "2025-09-10T08:56:35.971Z"
   },
   {
    "duration": 23,
    "start_time": "2025-09-10T08:56:35.986Z"
   },
   {
    "duration": 147,
    "start_time": "2025-09-10T08:56:36.011Z"
   },
   {
    "duration": 9,
    "start_time": "2025-09-10T08:56:36.160Z"
   },
   {
    "duration": 3264,
    "start_time": "2025-09-10T08:56:36.171Z"
   },
   {
    "duration": 48,
    "start_time": "2025-09-10T08:56:39.436Z"
   },
   {
    "duration": 20,
    "start_time": "2025-09-10T08:56:39.485Z"
   },
   {
    "duration": 6,
    "start_time": "2025-09-10T08:56:39.509Z"
   },
   {
    "duration": 72,
    "start_time": "2025-09-10T08:56:39.517Z"
   },
   {
    "duration": 92,
    "start_time": "2025-09-10T08:56:39.591Z"
   },
   {
    "duration": 3,
    "start_time": "2025-09-10T08:56:39.684Z"
   },
   {
    "duration": 18,
    "start_time": "2025-09-10T08:56:39.688Z"
   },
   {
    "duration": 9,
    "start_time": "2025-09-10T08:56:39.707Z"
   },
   {
    "duration": 19,
    "start_time": "2025-09-10T08:56:39.717Z"
   },
   {
    "duration": 9,
    "start_time": "2025-09-10T08:56:39.737Z"
   },
   {
    "duration": 3,
    "start_time": "2025-09-10T08:56:39.749Z"
   },
   {
    "duration": 101,
    "start_time": "2025-09-10T08:56:39.753Z"
   },
   {
    "duration": 64,
    "start_time": "2025-09-10T08:56:39.856Z"
   },
   {
    "duration": 10,
    "start_time": "2025-09-10T08:56:39.922Z"
   },
   {
    "duration": 7,
    "start_time": "2025-09-10T08:56:39.934Z"
   },
   {
    "duration": 38,
    "start_time": "2025-09-10T08:56:39.942Z"
   },
   {
    "duration": 6,
    "start_time": "2025-09-10T08:56:40.003Z"
   },
   {
    "duration": 6,
    "start_time": "2025-09-10T08:56:40.010Z"
   },
   {
    "duration": 28,
    "start_time": "2025-09-10T08:56:40.018Z"
   },
   {
    "duration": 5,
    "start_time": "2025-09-10T08:56:40.048Z"
   },
   {
    "duration": 30,
    "start_time": "2025-09-10T08:56:40.054Z"
   },
   {
    "duration": 21,
    "start_time": "2025-09-10T08:56:40.086Z"
   },
   {
    "duration": 20,
    "start_time": "2025-09-10T08:56:40.109Z"
   },
   {
    "duration": 14,
    "start_time": "2025-09-10T08:56:40.131Z"
   },
   {
    "duration": 21,
    "start_time": "2025-09-10T08:56:40.147Z"
   },
   {
    "duration": 18,
    "start_time": "2025-09-10T08:56:40.169Z"
   },
   {
    "duration": 48,
    "start_time": "2025-09-10T08:56:40.204Z"
   },
   {
    "duration": 8,
    "start_time": "2025-09-10T08:56:40.254Z"
   },
   {
    "duration": 4,
    "start_time": "2025-09-10T08:56:40.263Z"
   },
   {
    "duration": 5,
    "start_time": "2025-09-10T08:56:40.268Z"
   },
   {
    "duration": 4,
    "start_time": "2025-09-10T08:56:40.275Z"
   },
   {
    "duration": 10,
    "start_time": "2025-09-10T08:56:40.280Z"
   },
   {
    "duration": 3342,
    "start_time": "2025-09-13T13:57:22.296Z"
   },
   {
    "duration": 45,
    "start_time": "2025-09-13T13:57:25.641Z"
   },
   {
    "duration": 12,
    "start_time": "2025-09-13T13:57:25.688Z"
   },
   {
    "duration": 15,
    "start_time": "2025-09-13T13:57:25.702Z"
   },
   {
    "duration": 6,
    "start_time": "2025-09-13T13:57:25.719Z"
   },
   {
    "duration": 8,
    "start_time": "2025-09-13T13:57:25.738Z"
   },
   {
    "duration": 114,
    "start_time": "2025-09-13T13:57:25.747Z"
   },
   {
    "duration": 4,
    "start_time": "2025-09-13T13:57:25.862Z"
   },
   {
    "duration": 9,
    "start_time": "2025-09-13T13:57:25.868Z"
   },
   {
    "duration": 5,
    "start_time": "2025-09-13T13:57:25.879Z"
   },
   {
    "duration": 156,
    "start_time": "2025-09-13T13:57:25.885Z"
   },
   {
    "duration": 338,
    "start_time": "2025-09-13T13:57:26.043Z"
   },
   {
    "duration": 6,
    "start_time": "2025-09-13T13:57:26.383Z"
   },
   {
    "duration": 325,
    "start_time": "2025-09-13T13:57:26.391Z"
   },
   {
    "duration": 6,
    "start_time": "2025-09-13T13:57:26.718Z"
   },
   {
    "duration": 82,
    "start_time": "2025-09-13T13:57:26.726Z"
   },
   {
    "duration": 310,
    "start_time": "2025-09-13T13:57:26.810Z"
   },
   {
    "duration": 25,
    "start_time": "2025-09-13T13:57:27.122Z"
   },
   {
    "duration": 8,
    "start_time": "2025-09-13T13:57:27.148Z"
   },
   {
    "duration": 2,
    "start_time": "2025-09-13T13:57:27.158Z"
   },
   {
    "duration": 5,
    "start_time": "2025-09-13T13:57:27.162Z"
   },
   {
    "duration": 5,
    "start_time": "2025-09-13T13:57:27.169Z"
   },
   {
    "duration": 5,
    "start_time": "2025-09-13T13:57:27.175Z"
   },
   {
    "duration": 34,
    "start_time": "2025-09-13T13:57:27.181Z"
   },
   {
    "duration": 272,
    "start_time": "2025-09-13T13:57:27.217Z"
   },
   {
    "duration": 263,
    "start_time": "2025-09-13T13:57:27.491Z"
   },
   {
    "duration": 6,
    "start_time": "2025-09-13T13:57:27.755Z"
   },
   {
    "duration": 124,
    "start_time": "2025-09-13T13:57:27.764Z"
   },
   {
    "duration": 0,
    "start_time": "2025-09-13T13:57:27.889Z"
   },
   {
    "duration": 0,
    "start_time": "2025-09-13T13:57:27.891Z"
   },
   {
    "duration": 2280,
    "start_time": "2025-09-13T13:58:21.289Z"
   },
   {
    "duration": 45,
    "start_time": "2025-09-13T13:58:23.572Z"
   },
   {
    "duration": 9,
    "start_time": "2025-09-13T13:58:23.619Z"
   },
   {
    "duration": 11,
    "start_time": "2025-09-13T13:58:23.630Z"
   },
   {
    "duration": 7,
    "start_time": "2025-09-13T13:58:23.643Z"
   },
   {
    "duration": 8,
    "start_time": "2025-09-13T13:58:23.652Z"
   },
   {
    "duration": 112,
    "start_time": "2025-09-13T13:58:23.662Z"
   },
   {
    "duration": 4,
    "start_time": "2025-09-13T13:58:23.776Z"
   },
   {
    "duration": 7,
    "start_time": "2025-09-13T13:58:23.781Z"
   },
   {
    "duration": 12,
    "start_time": "2025-09-13T13:58:23.790Z"
   },
   {
    "duration": 227,
    "start_time": "2025-09-13T13:58:23.803Z"
   },
   {
    "duration": 312,
    "start_time": "2025-09-13T13:58:24.032Z"
   },
   {
    "duration": 6,
    "start_time": "2025-09-13T13:58:24.346Z"
   },
   {
    "duration": 326,
    "start_time": "2025-09-13T13:58:24.353Z"
   },
   {
    "duration": 7,
    "start_time": "2025-09-13T13:58:24.680Z"
   },
   {
    "duration": 6,
    "start_time": "2025-09-13T13:58:24.689Z"
   },
   {
    "duration": 324,
    "start_time": "2025-09-13T13:58:24.697Z"
   },
   {
    "duration": 25,
    "start_time": "2025-09-13T13:58:25.022Z"
   },
   {
    "duration": 8,
    "start_time": "2025-09-13T13:58:25.048Z"
   },
   {
    "duration": 6,
    "start_time": "2025-09-13T13:58:25.058Z"
   },
   {
    "duration": 6,
    "start_time": "2025-09-13T13:58:25.065Z"
   },
   {
    "duration": 5,
    "start_time": "2025-09-13T13:58:25.072Z"
   },
   {
    "duration": 4,
    "start_time": "2025-09-13T13:58:25.079Z"
   },
   {
    "duration": 20,
    "start_time": "2025-09-13T13:58:25.085Z"
   },
   {
    "duration": 286,
    "start_time": "2025-09-13T13:58:25.107Z"
   },
   {
    "duration": 231,
    "start_time": "2025-09-13T13:58:25.395Z"
   },
   {
    "duration": 13,
    "start_time": "2025-09-13T13:58:25.628Z"
   },
   {
    "duration": 11,
    "start_time": "2025-09-13T13:58:25.644Z"
   },
   {
    "duration": 6,
    "start_time": "2025-09-13T13:58:25.656Z"
   },
   {
    "duration": 2334,
    "start_time": "2025-09-13T13:59:11.552Z"
   },
   {
    "duration": 72,
    "start_time": "2025-09-13T13:59:13.889Z"
   },
   {
    "duration": 9,
    "start_time": "2025-09-13T13:59:13.963Z"
   },
   {
    "duration": 12,
    "start_time": "2025-09-13T13:59:13.973Z"
   },
   {
    "duration": 7,
    "start_time": "2025-09-13T13:59:13.987Z"
   },
   {
    "duration": 7,
    "start_time": "2025-09-13T13:59:13.995Z"
   },
   {
    "duration": 107,
    "start_time": "2025-09-13T13:59:14.003Z"
   },
   {
    "duration": 3,
    "start_time": "2025-09-13T13:59:14.112Z"
   },
   {
    "duration": 22,
    "start_time": "2025-09-13T13:59:14.117Z"
   },
   {
    "duration": 11,
    "start_time": "2025-09-13T13:59:14.141Z"
   },
   {
    "duration": 129,
    "start_time": "2025-09-13T13:59:14.153Z"
   },
   {
    "duration": 308,
    "start_time": "2025-09-13T13:59:14.283Z"
   },
   {
    "duration": 6,
    "start_time": "2025-09-13T13:59:14.592Z"
   },
   {
    "duration": 415,
    "start_time": "2025-09-13T13:59:14.600Z"
   },
   {
    "duration": 7,
    "start_time": "2025-09-13T13:59:15.017Z"
   },
   {
    "duration": 66,
    "start_time": "2025-09-13T13:59:15.025Z"
   },
   {
    "duration": 334,
    "start_time": "2025-09-13T13:59:15.093Z"
   },
   {
    "duration": 21,
    "start_time": "2025-09-13T13:59:15.428Z"
   },
   {
    "duration": 43,
    "start_time": "2025-09-13T13:59:15.451Z"
   },
   {
    "duration": 3,
    "start_time": "2025-09-13T13:59:15.496Z"
   },
   {
    "duration": 14,
    "start_time": "2025-09-13T13:59:15.500Z"
   },
   {
    "duration": 7,
    "start_time": "2025-09-13T13:59:15.516Z"
   },
   {
    "duration": 15,
    "start_time": "2025-09-13T13:59:15.525Z"
   },
   {
    "duration": 19,
    "start_time": "2025-09-13T13:59:15.542Z"
   },
   {
    "duration": 245,
    "start_time": "2025-09-13T13:59:15.563Z"
   },
   {
    "duration": 205,
    "start_time": "2025-09-13T13:59:15.809Z"
   },
   {
    "duration": 5,
    "start_time": "2025-09-13T13:59:16.016Z"
   },
   {
    "duration": 37,
    "start_time": "2025-09-13T13:59:16.022Z"
   },
   {
    "duration": 4,
    "start_time": "2025-09-13T13:59:16.060Z"
   },
   {
    "duration": 2273,
    "start_time": "2025-09-13T14:00:17.908Z"
   },
   {
    "duration": 47,
    "start_time": "2025-09-13T14:00:20.184Z"
   },
   {
    "duration": 9,
    "start_time": "2025-09-13T14:00:20.233Z"
   },
   {
    "duration": 13,
    "start_time": "2025-09-13T14:00:20.243Z"
   },
   {
    "duration": 6,
    "start_time": "2025-09-13T14:00:20.258Z"
   },
   {
    "duration": 6,
    "start_time": "2025-09-13T14:00:20.266Z"
   },
   {
    "duration": 108,
    "start_time": "2025-09-13T14:00:20.273Z"
   },
   {
    "duration": 4,
    "start_time": "2025-09-13T14:00:20.383Z"
   },
   {
    "duration": 18,
    "start_time": "2025-09-13T14:00:20.388Z"
   },
   {
    "duration": 24,
    "start_time": "2025-09-13T14:00:20.408Z"
   },
   {
    "duration": 120,
    "start_time": "2025-09-13T14:00:20.434Z"
   },
   {
    "duration": 305,
    "start_time": "2025-09-13T14:00:20.556Z"
   },
   {
    "duration": 5,
    "start_time": "2025-09-13T14:00:20.863Z"
   },
   {
    "duration": 344,
    "start_time": "2025-09-13T14:00:20.871Z"
   },
   {
    "duration": 7,
    "start_time": "2025-09-13T14:00:21.216Z"
   },
   {
    "duration": 17,
    "start_time": "2025-09-13T14:00:21.224Z"
   },
   {
    "duration": 305,
    "start_time": "2025-09-13T14:00:21.242Z"
   },
   {
    "duration": 16,
    "start_time": "2025-09-13T14:00:21.549Z"
   },
   {
    "duration": 8,
    "start_time": "2025-09-13T14:00:21.567Z"
   },
   {
    "duration": 6,
    "start_time": "2025-09-13T14:00:21.577Z"
   },
   {
    "duration": 19,
    "start_time": "2025-09-13T14:00:21.584Z"
   },
   {
    "duration": 13,
    "start_time": "2025-09-13T14:00:21.604Z"
   },
   {
    "duration": 26,
    "start_time": "2025-09-13T14:00:21.619Z"
   },
   {
    "duration": 30,
    "start_time": "2025-09-13T14:00:21.647Z"
   },
   {
    "duration": 258,
    "start_time": "2025-09-13T14:00:21.679Z"
   },
   {
    "duration": 221,
    "start_time": "2025-09-13T14:00:21.939Z"
   },
   {
    "duration": 7,
    "start_time": "2025-09-13T14:00:22.162Z"
   },
   {
    "duration": 11,
    "start_time": "2025-09-13T14:00:22.170Z"
   },
   {
    "duration": 4,
    "start_time": "2025-09-13T14:00:22.183Z"
   },
   {
    "duration": 2340,
    "start_time": "2025-09-13T14:01:09.572Z"
   },
   {
    "duration": 50,
    "start_time": "2025-09-13T14:01:11.914Z"
   },
   {
    "duration": 9,
    "start_time": "2025-09-13T14:01:11.965Z"
   },
   {
    "duration": 14,
    "start_time": "2025-09-13T14:01:11.976Z"
   },
   {
    "duration": 7,
    "start_time": "2025-09-13T14:01:11.993Z"
   },
   {
    "duration": 7,
    "start_time": "2025-09-13T14:01:12.002Z"
   },
   {
    "duration": 112,
    "start_time": "2025-09-13T14:01:12.011Z"
   },
   {
    "duration": 3,
    "start_time": "2025-09-13T14:01:12.125Z"
   },
   {
    "duration": 36,
    "start_time": "2025-09-13T14:01:12.130Z"
   },
   {
    "duration": 12,
    "start_time": "2025-09-13T14:01:12.168Z"
   },
   {
    "duration": 119,
    "start_time": "2025-09-13T14:01:12.182Z"
   },
   {
    "duration": 422,
    "start_time": "2025-09-13T14:01:12.303Z"
   },
   {
    "duration": 13,
    "start_time": "2025-09-13T14:01:12.727Z"
   },
   {
    "duration": 329,
    "start_time": "2025-09-13T14:01:12.742Z"
   },
   {
    "duration": 7,
    "start_time": "2025-09-13T14:01:13.072Z"
   },
   {
    "duration": 6,
    "start_time": "2025-09-13T14:01:13.080Z"
   },
   {
    "duration": 328,
    "start_time": "2025-09-13T14:01:13.087Z"
   },
   {
    "duration": 26,
    "start_time": "2025-09-13T14:01:13.417Z"
   },
   {
    "duration": 51,
    "start_time": "2025-09-13T14:01:13.444Z"
   },
   {
    "duration": 24,
    "start_time": "2025-09-13T14:01:13.497Z"
   },
   {
    "duration": 9,
    "start_time": "2025-09-13T14:01:13.523Z"
   },
   {
    "duration": 7,
    "start_time": "2025-09-13T14:01:13.534Z"
   },
   {
    "duration": 6,
    "start_time": "2025-09-13T14:01:13.543Z"
   },
   {
    "duration": 5,
    "start_time": "2025-09-13T14:01:13.551Z"
   },
   {
    "duration": 270,
    "start_time": "2025-09-13T14:01:13.558Z"
   },
   {
    "duration": 220,
    "start_time": "2025-09-13T14:01:13.830Z"
   },
   {
    "duration": 6,
    "start_time": "2025-09-13T14:01:14.051Z"
   },
   {
    "duration": 16,
    "start_time": "2025-09-13T14:01:14.058Z"
   },
   {
    "duration": 3,
    "start_time": "2025-09-13T14:01:14.076Z"
   }
  ],
  "colab": {
   "provenance": [],
   "toc_visible": true
  },
  "kernelspec": {
   "display_name": "Python 3 (ipykernel)",
   "language": "python",
   "name": "python3"
  },
  "language_info": {
   "codemirror_mode": {
    "name": "ipython",
    "version": 3
   },
   "file_extension": ".py",
   "mimetype": "text/x-python",
   "name": "python",
   "nbconvert_exporter": "python",
   "pygments_lexer": "ipython3",
   "version": "3.9.5"
  },
  "toc": {
   "base_numbering": 1,
   "nav_menu": {},
   "number_sections": true,
   "sideBar": true,
   "skip_h1_title": true,
   "title_cell": "Table of Contents",
   "title_sidebar": "Contents",
   "toc_cell": false,
   "toc_position": {},
   "toc_section_display": true,
   "toc_window_display": true
  }
 },
 "nbformat": 4,
 "nbformat_minor": 5
}
